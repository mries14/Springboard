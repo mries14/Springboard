{
 "cells": [
  {
   "cell_type": "code",
   "execution_count": 55,
   "metadata": {},
   "outputs": [],
   "source": [
    "import pandas as pd\n",
    "import numpy as np\n",
    "import matplotlib.pyplot as plt\n",
    "from sklearn.preprocessing import LabelEncoder\n",
    "import random\n",
    "from sklearn.metrics import mean_squared_error\n",
    "from sklearn.model_selection import train_test_split\n",
    "import statsmodels.formula.api as sm\n",
    "from sklearn.model_selection import KFold\n",
    "from sklearn.cross_validation import cross_val_score, cross_val_predict\n",
    "from sklearn import metrics\n",
    "import xgboost as xgb"
   ]
  },
  {
   "cell_type": "code",
   "execution_count": 56,
   "metadata": {
    "collapsed": true
   },
   "outputs": [],
   "source": [
    "%store -r awayMatchup\n",
    "%store -r homeMatchup\n",
    "%store -r gameTable"
   ]
  },
  {
   "cell_type": "code",
   "execution_count": 57,
   "metadata": {
    "collapsed": true
   },
   "outputs": [],
   "source": [
    "cols = list(awayMatchup.columns)\n",
    "cols\n",
    "cols.pop(21)\n",
    "cols.append('pf')"
   ]
  },
  {
   "cell_type": "code",
   "execution_count": 58,
   "metadata": {
    "collapsed": true
   },
   "outputs": [],
   "source": [
    "awayMatchup = awayMatchup[cols]\n",
    "homeMatchup = homeMatchup[cols]\n",
    "\n",
    "# Only use weeks > 3 since dvoa is inaccurate before week 3, typically\n",
    "awayMatchup = awayMatchup[awayMatchup['week'] >= 3]\n",
    "homeMatchup = homeMatchup[homeMatchup['week'] >= 3]"
   ]
  },
  {
   "cell_type": "code",
   "execution_count": 819,
   "metadata": {
    "collapsed": true
   },
   "outputs": [],
   "source": [
    "X_train_away, X_test_away, y_train_away, y_test_away = train_test_split(awayMatchup.iloc[:,:-1],awayMatchup.iloc[:,-1:], test_size=0.2,random_state=2790)"
   ]
  },
  {
   "cell_type": "code",
   "execution_count": 820,
   "metadata": {
    "collapsed": true
   },
   "outputs": [],
   "source": [
    "# Now we want to predict points for (pf) for the homeMatchup/awayMatchup tables\n",
    "# Setup table in way to do so:\n",
    "ID_col = ['gameId']\n",
    "target_col = ['pf']\n",
    "cat_cols = ['roof','surface']\n",
    "num_cols= ['ptsMatchup', 'offMatchup', 'ovrMatchup', 'passMatchup', 'pblkMatchup',\n",
    "           'runMatchup', 'totalDvoaMatchup', 'offDvoaMatchup','avgRecv','overUnder']\n",
    "other_col= ['date','season','week','stadium','team_x','team_y','homeAway','avgPf',\n",
    "            'avgOvr_x', 'avgOff', 'avgPass', 'avgPblk','avgRun', 'avgRblk',\n",
    "            'totalDvoa_x', 'offDvoa','pa', 'totalScore','avgPa', 'avgOvr_y',\n",
    "            'avgDef', 'avgRdef', 'avgPrsh', 'avgCov', 'totalDvoa_y', 'defDvoa']"
   ]
  },
  {
   "cell_type": "code",
   "execution_count": 821,
   "metadata": {
    "collapsed": true
   },
   "outputs": [],
   "source": [
    "# Create label encoders for categorical variables and split the data set\n",
    "# to train & test, further split the train data set to Train and Validate\n",
    "\n",
    "#create label encoders for categorical features\n",
    "for var in cat_cols:\n",
    "    number = LabelEncoder()\n",
    "    X_train_away[var] = number.fit_transform(X_train_away[var].astype('str'))\n",
    "\n",
    "for var in cat_cols:\n",
    "    number = LabelEncoder()\n",
    "    X_test_away[var] = number.fit_transform(X_test_away[var].astype('str'))\n",
    "    \n",
    "# Pass the imputed and dummy (missing values flags) variables into the\n",
    "# modeling process. Use random forest to predict the class\n",
    "features=list(set(list(X_train_away.columns))-set(ID_col)-set(target_col)-set(other_col))\n",
    "\n",
    "X_train_away = X_train_away[list(features)]\n",
    "X_test_away= X_test_away[list(features)]\n"
   ]
  },
  {
   "cell_type": "code",
   "execution_count": 822,
   "metadata": {
    "scrolled": true
   },
   "outputs": [
    {
     "data": {
      "text/html": [
       "<div>\n",
       "<style>\n",
       "    .dataframe thead tr:only-child th {\n",
       "        text-align: right;\n",
       "    }\n",
       "\n",
       "    .dataframe thead th {\n",
       "        text-align: left;\n",
       "    }\n",
       "\n",
       "    .dataframe tbody tr th {\n",
       "        vertical-align: top;\n",
       "    }\n",
       "</style>\n",
       "<table border=\"1\" class=\"dataframe\">\n",
       "  <thead>\n",
       "    <tr style=\"text-align: right;\">\n",
       "      <th></th>\n",
       "      <th>offMatchup</th>\n",
       "      <th>overUnder</th>\n",
       "      <th>runMatchup</th>\n",
       "      <th>pblkMatchup</th>\n",
       "      <th>offDvoaMatchup</th>\n",
       "      <th>roof</th>\n",
       "      <th>avgRecv</th>\n",
       "      <th>surface</th>\n",
       "      <th>passMatchup</th>\n",
       "      <th>ptsMatchup</th>\n",
       "      <th>ovrMatchup</th>\n",
       "      <th>totalDvoaMatchup</th>\n",
       "      <th>stDvoa</th>\n",
       "    </tr>\n",
       "  </thead>\n",
       "  <tbody>\n",
       "    <tr>\n",
       "      <th>897</th>\n",
       "      <td>3.085714</td>\n",
       "      <td>42.0</td>\n",
       "      <td>-7.828571</td>\n",
       "      <td>5.271429</td>\n",
       "      <td>-0.207</td>\n",
       "      <td>0</td>\n",
       "      <td>64.171429</td>\n",
       "      <td>1</td>\n",
       "      <td>9.142857</td>\n",
       "      <td>42.142857</td>\n",
       "      <td>3.328571</td>\n",
       "      <td>0.095</td>\n",
       "      <td>-0.039</td>\n",
       "    </tr>\n",
       "    <tr>\n",
       "      <th>2340</th>\n",
       "      <td>8.014286</td>\n",
       "      <td>45.0</td>\n",
       "      <td>2.071429</td>\n",
       "      <td>16.442857</td>\n",
       "      <td>-0.056</td>\n",
       "      <td>1</td>\n",
       "      <td>62.314286</td>\n",
       "      <td>1</td>\n",
       "      <td>-10.842857</td>\n",
       "      <td>38.428571</td>\n",
       "      <td>-2.600000</td>\n",
       "      <td>-0.385</td>\n",
       "      <td>0.012</td>\n",
       "    </tr>\n",
       "    <tr>\n",
       "      <th>2921</th>\n",
       "      <td>7.557143</td>\n",
       "      <td>42.5</td>\n",
       "      <td>5.385714</td>\n",
       "      <td>5.028571</td>\n",
       "      <td>-0.221</td>\n",
       "      <td>1</td>\n",
       "      <td>66.314286</td>\n",
       "      <td>0</td>\n",
       "      <td>3.785714</td>\n",
       "      <td>45.000000</td>\n",
       "      <td>0.442857</td>\n",
       "      <td>-0.218</td>\n",
       "      <td>-0.005</td>\n",
       "    </tr>\n",
       "    <tr>\n",
       "      <th>2217</th>\n",
       "      <td>11.057143</td>\n",
       "      <td>52.0</td>\n",
       "      <td>-5.414286</td>\n",
       "      <td>15.285714</td>\n",
       "      <td>0.002</td>\n",
       "      <td>0</td>\n",
       "      <td>64.371429</td>\n",
       "      <td>1</td>\n",
       "      <td>14.014286</td>\n",
       "      <td>49.857143</td>\n",
       "      <td>1.771429</td>\n",
       "      <td>-0.096</td>\n",
       "      <td>-0.036</td>\n",
       "    </tr>\n",
       "    <tr>\n",
       "      <th>1731</th>\n",
       "      <td>2.600000</td>\n",
       "      <td>45.5</td>\n",
       "      <td>-25.385714</td>\n",
       "      <td>6.728571</td>\n",
       "      <td>-0.055</td>\n",
       "      <td>1</td>\n",
       "      <td>72.085714</td>\n",
       "      <td>0</td>\n",
       "      <td>14.628571</td>\n",
       "      <td>44.571429</td>\n",
       "      <td>-3.442857</td>\n",
       "      <td>-0.214</td>\n",
       "      <td>0.071</td>\n",
       "    </tr>\n",
       "  </tbody>\n",
       "</table>\n",
       "</div>"
      ],
      "text/plain": [
       "      offMatchup  overUnder  runMatchup  pblkMatchup  offDvoaMatchup  roof  \\\n",
       "897     3.085714       42.0   -7.828571     5.271429          -0.207     0   \n",
       "2340    8.014286       45.0    2.071429    16.442857          -0.056     1   \n",
       "2921    7.557143       42.5    5.385714     5.028571          -0.221     1   \n",
       "2217   11.057143       52.0   -5.414286    15.285714           0.002     0   \n",
       "1731    2.600000       45.5  -25.385714     6.728571          -0.055     1   \n",
       "\n",
       "        avgRecv  surface  passMatchup  ptsMatchup  ovrMatchup  \\\n",
       "897   64.171429        1     9.142857   42.142857    3.328571   \n",
       "2340  62.314286        1   -10.842857   38.428571   -2.600000   \n",
       "2921  66.314286        0     3.785714   45.000000    0.442857   \n",
       "2217  64.371429        1    14.014286   49.857143    1.771429   \n",
       "1731  72.085714        0    14.628571   44.571429   -3.442857   \n",
       "\n",
       "      totalDvoaMatchup  stDvoa  \n",
       "897              0.095  -0.039  \n",
       "2340            -0.385   0.012  \n",
       "2921            -0.218  -0.005  \n",
       "2217            -0.096  -0.036  \n",
       "1731            -0.214   0.071  "
      ]
     },
     "execution_count": 822,
     "metadata": {},
     "output_type": "execute_result"
    }
   ],
   "source": [
    "X_train_away.head()"
   ]
  },
  {
   "cell_type": "code",
   "execution_count": 823,
   "metadata": {},
   "outputs": [
    {
     "name": "stdout",
     "output_type": "stream",
     "text": [
      "[13:18:47] WARNING: C:/Jenkins/workspace/xgboost-win64_release_0.90/src/objective/regression_obj.cu:152: reg:linear is now deprecated in favor of reg:squarederror.\n"
     ]
    },
    {
     "data": {
      "text/plain": [
       "XGBRegressor(base_score=0.5, booster='gbtree', colsample_bylevel=1,\n",
       "       colsample_bynode=1, colsample_bytree=1, gamma=0,\n",
       "       importance_type='gain', learning_rate=0.1, max_delta_step=0,\n",
       "       max_depth=3, min_child_weight=1, missing=None, n_estimators=100,\n",
       "       n_jobs=1, nthread=None, objective='reg:linear', random_state=0,\n",
       "       reg_alpha=0, reg_lambda=1, scale_pos_weight=1, seed=None,\n",
       "       silent=None, subsample=1, verbosity=1)"
      ]
     },
     "execution_count": 823,
     "metadata": {},
     "output_type": "execute_result"
    }
   ],
   "source": [
    "model = xgb.XGBRegressor()\n",
    "model.fit(X_train_away, y_train_away)"
   ]
  },
  {
   "cell_type": "code",
   "execution_count": 824,
   "metadata": {},
   "outputs": [
    {
     "name": "stdout",
     "output_type": "stream",
     "text": [
      "100.376642892\n"
     ]
    }
   ],
   "source": [
    "y_pred_away = model.predict(X_test_away)\n",
    "print(mean_squared_error(y_test_away, y_pred_away))"
   ]
  },
  {
   "cell_type": "code",
   "execution_count": 825,
   "metadata": {
    "collapsed": true
   },
   "outputs": [],
   "source": [
    "# Now repeat the process for homeMatchup table:\n",
    "X_train_home, X_test_home, y_train_home, y_test_home = train_test_split(homeMatchup.iloc[:,:-1],homeMatchup.iloc[:,-1:], test_size=0.2,random_state=2790)\n",
    "\n",
    "for var in cat_cols:\n",
    "    number = LabelEncoder()\n",
    "    X_train_home[var] = number.fit_transform(X_train_home[var].astype('str'))\n",
    "\n",
    "for var in cat_cols:\n",
    "    number = LabelEncoder()\n",
    "    X_test_home[var] = number.fit_transform(X_test_home[var].astype('str'))\n",
    "    \n",
    "features=list(set(list(X_train_home.columns))-set(ID_col)-set(target_col)-set(other_col))\n",
    "\n",
    "X_train_home = X_train_home[list(features)]\n",
    "X_test_home= X_test_home[list(features)]"
   ]
  },
  {
   "cell_type": "code",
   "execution_count": 826,
   "metadata": {},
   "outputs": [
    {
     "data": {
      "text/html": [
       "<div>\n",
       "<style>\n",
       "    .dataframe thead tr:only-child th {\n",
       "        text-align: right;\n",
       "    }\n",
       "\n",
       "    .dataframe thead th {\n",
       "        text-align: left;\n",
       "    }\n",
       "\n",
       "    .dataframe tbody tr th {\n",
       "        vertical-align: top;\n",
       "    }\n",
       "</style>\n",
       "<table border=\"1\" class=\"dataframe\">\n",
       "  <thead>\n",
       "    <tr style=\"text-align: right;\">\n",
       "      <th></th>\n",
       "      <th>offMatchup</th>\n",
       "      <th>overUnder</th>\n",
       "      <th>runMatchup</th>\n",
       "      <th>pblkMatchup</th>\n",
       "      <th>offDvoaMatchup</th>\n",
       "      <th>roof</th>\n",
       "      <th>avgRecv</th>\n",
       "      <th>surface</th>\n",
       "      <th>passMatchup</th>\n",
       "      <th>ptsMatchup</th>\n",
       "      <th>ovrMatchup</th>\n",
       "      <th>totalDvoaMatchup</th>\n",
       "      <th>stDvoa</th>\n",
       "    </tr>\n",
       "  </thead>\n",
       "  <tbody>\n",
       "    <tr>\n",
       "      <th>897</th>\n",
       "      <td>-1.242857</td>\n",
       "      <td>42.0</td>\n",
       "      <td>-11.757143</td>\n",
       "      <td>4.614286</td>\n",
       "      <td>-0.216</td>\n",
       "      <td>0</td>\n",
       "      <td>60.800000</td>\n",
       "      <td>1</td>\n",
       "      <td>2.885714</td>\n",
       "      <td>39.285714</td>\n",
       "      <td>-3.328571</td>\n",
       "      <td>-0.095</td>\n",
       "      <td>-0.065</td>\n",
       "    </tr>\n",
       "    <tr>\n",
       "      <th>2340</th>\n",
       "      <td>10.114286</td>\n",
       "      <td>45.0</td>\n",
       "      <td>-10.928571</td>\n",
       "      <td>11.914286</td>\n",
       "      <td>0.414</td>\n",
       "      <td>1</td>\n",
       "      <td>70.414286</td>\n",
       "      <td>1</td>\n",
       "      <td>6.957143</td>\n",
       "      <td>52.428571</td>\n",
       "      <td>2.600000</td>\n",
       "      <td>0.385</td>\n",
       "      <td>0.040</td>\n",
       "    </tr>\n",
       "    <tr>\n",
       "      <th>2921</th>\n",
       "      <td>8.442857</td>\n",
       "      <td>42.5</td>\n",
       "      <td>4.514286</td>\n",
       "      <td>3.514286</td>\n",
       "      <td>-0.055</td>\n",
       "      <td>1</td>\n",
       "      <td>65.900000</td>\n",
       "      <td>0</td>\n",
       "      <td>3.514286</td>\n",
       "      <td>46.428571</td>\n",
       "      <td>-0.442857</td>\n",
       "      <td>0.218</td>\n",
       "      <td>0.007</td>\n",
       "    </tr>\n",
       "    <tr>\n",
       "      <th>2217</th>\n",
       "      <td>9.657143</td>\n",
       "      <td>52.0</td>\n",
       "      <td>-2.600000</td>\n",
       "      <td>11.585714</td>\n",
       "      <td>-0.205</td>\n",
       "      <td>0</td>\n",
       "      <td>67.185714</td>\n",
       "      <td>1</td>\n",
       "      <td>3.242857</td>\n",
       "      <td>45.285714</td>\n",
       "      <td>-1.771429</td>\n",
       "      <td>0.096</td>\n",
       "      <td>0.013</td>\n",
       "    </tr>\n",
       "    <tr>\n",
       "      <th>1731</th>\n",
       "      <td>9.271429</td>\n",
       "      <td>45.5</td>\n",
       "      <td>4.142857</td>\n",
       "      <td>15.528571</td>\n",
       "      <td>-0.018</td>\n",
       "      <td>1</td>\n",
       "      <td>72.171429</td>\n",
       "      <td>0</td>\n",
       "      <td>3.542857</td>\n",
       "      <td>47.428571</td>\n",
       "      <td>3.442857</td>\n",
       "      <td>0.214</td>\n",
       "      <td>0.065</td>\n",
       "    </tr>\n",
       "  </tbody>\n",
       "</table>\n",
       "</div>"
      ],
      "text/plain": [
       "      offMatchup  overUnder  runMatchup  pblkMatchup  offDvoaMatchup  roof  \\\n",
       "897    -1.242857       42.0  -11.757143     4.614286          -0.216     0   \n",
       "2340   10.114286       45.0  -10.928571    11.914286           0.414     1   \n",
       "2921    8.442857       42.5    4.514286     3.514286          -0.055     1   \n",
       "2217    9.657143       52.0   -2.600000    11.585714          -0.205     0   \n",
       "1731    9.271429       45.5    4.142857    15.528571          -0.018     1   \n",
       "\n",
       "        avgRecv  surface  passMatchup  ptsMatchup  ovrMatchup  \\\n",
       "897   60.800000        1     2.885714   39.285714   -3.328571   \n",
       "2340  70.414286        1     6.957143   52.428571    2.600000   \n",
       "2921  65.900000        0     3.514286   46.428571   -0.442857   \n",
       "2217  67.185714        1     3.242857   45.285714   -1.771429   \n",
       "1731  72.171429        0     3.542857   47.428571    3.442857   \n",
       "\n",
       "      totalDvoaMatchup  stDvoa  \n",
       "897             -0.095  -0.065  \n",
       "2340             0.385   0.040  \n",
       "2921             0.218   0.007  \n",
       "2217             0.096   0.013  \n",
       "1731             0.214   0.065  "
      ]
     },
     "execution_count": 826,
     "metadata": {},
     "output_type": "execute_result"
    }
   ],
   "source": [
    "X_train_home.head()"
   ]
  },
  {
   "cell_type": "code",
   "execution_count": 827,
   "metadata": {},
   "outputs": [
    {
     "name": "stdout",
     "output_type": "stream",
     "text": [
      "[13:18:48] WARNING: C:/Jenkins/workspace/xgboost-win64_release_0.90/src/objective/regression_obj.cu:152: reg:linear is now deprecated in favor of reg:squarederror.\n"
     ]
    },
    {
     "data": {
      "text/plain": [
       "XGBRegressor(base_score=0.5, booster='gbtree', colsample_bylevel=1,\n",
       "       colsample_bynode=1, colsample_bytree=1, gamma=0,\n",
       "       importance_type='gain', learning_rate=0.1, max_delta_step=0,\n",
       "       max_depth=3, min_child_weight=1, missing=None, n_estimators=100,\n",
       "       n_jobs=1, nthread=None, objective='reg:linear', random_state=0,\n",
       "       reg_alpha=0, reg_lambda=1, scale_pos_weight=1, seed=None,\n",
       "       silent=None, subsample=1, verbosity=1)"
      ]
     },
     "execution_count": 827,
     "metadata": {},
     "output_type": "execute_result"
    }
   ],
   "source": [
    "model = xgb.XGBRegressor()\n",
    "model.fit(X_train_home, y_train_home)"
   ]
  },
  {
   "cell_type": "code",
   "execution_count": 828,
   "metadata": {},
   "outputs": [
    {
     "name": "stdout",
     "output_type": "stream",
     "text": [
      "100.275381529\n"
     ]
    }
   ],
   "source": [
    "y_pred_home = model.predict(X_test_home)\n",
    "print(mean_squared_error(y_test_home, y_pred_home))"
   ]
  },
  {
   "cell_type": "code",
   "execution_count": 829,
   "metadata": {
    "collapsed": true
   },
   "outputs": [],
   "source": [
    "testDf = pd.DataFrame(X_test_away)\n",
    "testDf['awayScore'] = y_test_away\n",
    "testDf['awayPrediction'] = y_pred_away\n",
    "testDf2 = pd.DataFrame(X_test_home)\n",
    "testDf2['homeScore'] = y_test_home\n",
    "testDf2['homePrediction'] = y_pred_home"
   ]
  },
  {
   "cell_type": "code",
   "execution_count": 830,
   "metadata": {},
   "outputs": [
    {
     "data": {
      "text/plain": [
       "'homeScore'"
      ]
     },
     "execution_count": 830,
     "metadata": {},
     "output_type": "execute_result"
    }
   ],
   "source": [
    "colsAway = list(testDf.columns)\n",
    "colsAway.pop(7)\n",
    "colsAway.pop(5)\n",
    "colsAway.pop(-1)\n",
    "colsAway.pop(-1)\n",
    "#colsAway\n",
    "colsHome = list(testDf2.columns)\n",
    "colsHome.pop(7)\n",
    "colsHome.pop(5)\n",
    "colsHome.pop(-1)\n",
    "colsHome.pop(-1)\n",
    "#colsHome"
   ]
  },
  {
   "cell_type": "code",
   "execution_count": 831,
   "metadata": {},
   "outputs": [
    {
     "data": {
      "text/html": [
       "<div>\n",
       "<style>\n",
       "    .dataframe thead tr:only-child th {\n",
       "        text-align: right;\n",
       "    }\n",
       "\n",
       "    .dataframe thead th {\n",
       "        text-align: left;\n",
       "    }\n",
       "\n",
       "    .dataframe tbody tr th {\n",
       "        vertical-align: top;\n",
       "    }\n",
       "</style>\n",
       "<table border=\"1\" class=\"dataframe\">\n",
       "  <thead>\n",
       "    <tr style=\"text-align: right;\">\n",
       "      <th></th>\n",
       "      <th>gameId</th>\n",
       "      <th>date</th>\n",
       "      <th>season</th>\n",
       "      <th>week</th>\n",
       "      <th>awayPrediction</th>\n",
       "      <th>homePrediction</th>\n",
       "    </tr>\n",
       "  </thead>\n",
       "  <tbody>\n",
       "    <tr>\n",
       "      <th>543</th>\n",
       "      <td>201112180nyg</td>\n",
       "      <td>2011-12-18</td>\n",
       "      <td>2011</td>\n",
       "      <td>15</td>\n",
       "      <td>21.424566</td>\n",
       "      <td>26.270615</td>\n",
       "    </tr>\n",
       "    <tr>\n",
       "      <th>544</th>\n",
       "      <td>201509240nyg</td>\n",
       "      <td>2015-09-24</td>\n",
       "      <td>2015</td>\n",
       "      <td>3</td>\n",
       "      <td>21.880686</td>\n",
       "      <td>24.056004</td>\n",
       "    </tr>\n",
       "    <tr>\n",
       "      <th>545</th>\n",
       "      <td>200801050sea</td>\n",
       "      <td>2008-01-05</td>\n",
       "      <td>2007</td>\n",
       "      <td>18</td>\n",
       "      <td>17.138498</td>\n",
       "      <td>22.728909</td>\n",
       "    </tr>\n",
       "    <tr>\n",
       "      <th>546</th>\n",
       "      <td>201512130chi</td>\n",
       "      <td>2015-12-13</td>\n",
       "      <td>2015</td>\n",
       "      <td>14</td>\n",
       "      <td>20.217297</td>\n",
       "      <td>19.908104</td>\n",
       "    </tr>\n",
       "    <tr>\n",
       "      <th>547</th>\n",
       "      <td>200711180dal</td>\n",
       "      <td>2007-11-18</td>\n",
       "      <td>2007</td>\n",
       "      <td>11</td>\n",
       "      <td>19.530952</td>\n",
       "      <td>29.287565</td>\n",
       "    </tr>\n",
       "  </tbody>\n",
       "</table>\n",
       "</div>"
      ],
      "text/plain": [
       "           gameId       date  season  week  awayPrediction  homePrediction\n",
       "543  201112180nyg 2011-12-18    2011    15       21.424566       26.270615\n",
       "544  201509240nyg 2015-09-24    2015     3       21.880686       24.056004\n",
       "545  200801050sea 2008-01-05    2007    18       17.138498       22.728909\n",
       "546  201512130chi 2015-12-13    2015    14       20.217297       19.908104\n",
       "547  200711180dal 2007-11-18    2007    11       19.530952       29.287565"
      ]
     },
     "execution_count": 831,
     "metadata": {},
     "output_type": "execute_result"
    }
   ],
   "source": [
    "awayPredDf = awayMatchup.merge(testDf, on=colsAway)\n",
    "homePredDf = homeMatchup.merge(testDf2, on=colsHome)\n",
    "\n",
    "awayHomeMerge = awayPredDf.merge(homePredDf, on=['gameId','date','season','week'])\n",
    "\n",
    "awayHomeMerge = awayHomeMerge[['gameId', 'date', 'season', 'week','awayPrediction', 'homePrediction']]\n",
    "awayHomeMerge.tail()"
   ]
  },
  {
   "cell_type": "code",
   "execution_count": 832,
   "metadata": {},
   "outputs": [],
   "source": [
    "finalDf = gameTable.merge(awayHomeMerge, on=['gameId', 'date'])\n",
    "finalDf['totalPrediction'] = finalDf['awayPrediction'] + finalDf['homePrediction']\n",
    "\n",
    "\n",
    "finalDf = finalDf[['gameId', 'date', 'season', 'week', 'awayTeam', 'awayPrediction', 'awayScore',\n",
    "                   'homeTeam','homePrediction', 'homeScore', 'overUnder', 'result', 'totalPrediction', 'totalScore']]"
   ]
  },
  {
   "cell_type": "code",
   "execution_count": 833,
   "metadata": {},
   "outputs": [
    {
     "data": {
      "text/plain": [
       "over     32\n",
       "under    30\n",
       "push      2\n",
       "Name: result, dtype: int64"
      ]
     },
     "execution_count": 833,
     "metadata": {},
     "output_type": "execute_result"
    }
   ],
   "source": [
    "undersDf = finalDf[(finalDf['totalPrediction'] <= finalDf['overUnder'] - 3) & (finalDf['totalPrediction'] >= finalDf['overUnder'] - 5)]\n",
    "undersDf['result'].value_counts()"
   ]
  },
  {
   "cell_type": "code",
   "execution_count": null,
   "metadata": {
    "collapsed": true
   },
   "outputs": [],
   "source": []
  },
  {
   "cell_type": "code",
   "execution_count": 834,
   "metadata": {},
   "outputs": [
    {
     "data": {
      "text/plain": [
       "over     14\n",
       "under     3\n",
       "Name: result, dtype: int64"
      ]
     },
     "execution_count": 834,
     "metadata": {},
     "output_type": "execute_result"
    }
   ],
   "source": [
    "undersDf = finalDf[finalDf['totalPrediction'] <= finalDf['overUnder'] - 5]\n",
    "undersDf['result'].value_counts()"
   ]
  },
  {
   "cell_type": "code",
   "execution_count": 786,
   "metadata": {},
   "outputs": [
    {
     "data": {
      "text/plain": [
       "under    33\n",
       "over     25\n",
       "Name: result, dtype: int64"
      ]
     },
     "execution_count": 786,
     "metadata": {},
     "output_type": "execute_result"
    }
   ],
   "source": [
    "undersDf = finalDf[finalDf['totalPrediction'] <= finalDf['overUnder'] - 3]\n",
    "undersDf['result'].value_counts()"
   ]
  },
  {
   "cell_type": "code",
   "execution_count": 558,
   "metadata": {},
   "outputs": [
    {
     "data": {
      "text/plain": [
       "under    94\n",
       "over     82\n",
       "push      1\n",
       "Name: result, dtype: int64"
      ]
     },
     "execution_count": 558,
     "metadata": {},
     "output_type": "execute_result"
    }
   ],
   "source": [
    "undersDf = finalDf[finalDf['totalPrediction'] <= finalDf['overUnder'] - 1]\n",
    "undersDf['result'].value_counts()"
   ]
  },
  {
   "cell_type": "code",
   "execution_count": 559,
   "metadata": {},
   "outputs": [
    {
     "data": {
      "text/plain": [
       "over     35\n",
       "under    27\n",
       "push      2\n",
       "Name: result, dtype: int64"
      ]
     },
     "execution_count": 559,
     "metadata": {},
     "output_type": "execute_result"
    }
   ],
   "source": [
    "oversDf = finalDf[finalDf['totalPrediction'] >= finalDf['overUnder'] + 5]\n",
    "oversDf['result'].value_counts()"
   ]
  },
  {
   "cell_type": "code",
   "execution_count": 560,
   "metadata": {},
   "outputs": [
    {
     "data": {
      "text/plain": [
       "over     58\n",
       "under    50\n",
       "push      3\n",
       "Name: result, dtype: int64"
      ]
     },
     "execution_count": 560,
     "metadata": {},
     "output_type": "execute_result"
    }
   ],
   "source": [
    "oversDf = finalDf[finalDf['totalPrediction'] >= finalDf['overUnder'] + 3]\n",
    "oversDf['result'].value_counts()"
   ]
  },
  {
   "cell_type": "code",
   "execution_count": 561,
   "metadata": {},
   "outputs": [
    {
     "data": {
      "text/plain": [
       "under    121\n",
       "over     117\n",
       "push       4\n",
       "Name: result, dtype: int64"
      ]
     },
     "execution_count": 561,
     "metadata": {},
     "output_type": "execute_result"
    }
   ],
   "source": [
    "oversDf = finalDf[finalDf['totalPrediction'] >= finalDf['overUnder'] + 1]\n",
    "oversDf['result'].value_counts()"
   ]
  },
  {
   "cell_type": "code",
   "execution_count": null,
   "metadata": {
    "collapsed": true
   },
   "outputs": [],
   "source": []
  }
 ],
 "metadata": {
  "kernelspec": {
   "display_name": "Python 3",
   "language": "python",
   "name": "python3"
  },
  "language_info": {
   "codemirror_mode": {
    "name": "ipython",
    "version": 3
   },
   "file_extension": ".py",
   "mimetype": "text/x-python",
   "name": "python",
   "nbconvert_exporter": "python",
   "pygments_lexer": "ipython3",
   "version": "3.4.0"
  }
 },
 "nbformat": 4,
 "nbformat_minor": 2
}
