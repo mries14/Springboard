{
 "cells": [
  {
   "cell_type": "code",
   "execution_count": 1,
   "metadata": {},
   "outputs": [
    {
     "name": "stderr",
     "output_type": "stream",
     "text": [
      "C:\\Python34\\lib\\site-packages\\sklearn\\cross_validation.py:41: DeprecationWarning: This module was deprecated in version 0.18 in favor of the model_selection module into which all the refactored classes and functions are moved. Also note that the interface of the new CV iterators are different from that of this module. This module will be removed in 0.20.\n",
      "  \"This module will be removed in 0.20.\", DeprecationWarning)\n"
     ]
    }
   ],
   "source": [
    "import pandas as pd\n",
    "import numpy as np\n",
    "import matplotlib.pyplot as plt\n",
    "from sklearn.preprocessing import LabelEncoder\n",
    "import random\n",
    "from sklearn.ensemble import RandomForestRegressor\n",
    "from sklearn.ensemble import GradientBoostingClassifier\n",
    "from sklearn.metrics import mean_squared_error\n",
    "import datetime\n",
    "from sklearn.model_selection import train_test_split\n",
    "from sklearn.cross_validation import cross_val_score, cross_val_predict\n",
    "from sklearn import metrics"
   ]
  },
  {
   "cell_type": "code",
   "execution_count": 2,
   "metadata": {
    "collapsed": true
   },
   "outputs": [],
   "source": [
    "%store -r awayMatchup\n",
    "%store -r homeMatchup\n",
    "%store -r gameTable"
   ]
  },
  {
   "cell_type": "code",
   "execution_count": 110,
   "metadata": {
    "collapsed": true
   },
   "outputs": [],
   "source": [
    "X_train_away, X_test_away, y_train_away, y_test_away = train_test_split(awayMatchup.iloc[:,:-1],awayMatchup.iloc[:,-1:], test_size=0.2,random_state=2107)"
   ]
  },
  {
   "cell_type": "code",
   "execution_count": 111,
   "metadata": {},
   "outputs": [
    {
     "data": {
      "text/plain": [
       "(2494, 40)"
      ]
     },
     "execution_count": 111,
     "metadata": {},
     "output_type": "execute_result"
    }
   ],
   "source": [
    "X_train_away.shape"
   ]
  },
  {
   "cell_type": "code",
   "execution_count": 112,
   "metadata": {
    "collapsed": true
   },
   "outputs": [],
   "source": [
    "# Now we want to predict points for (pf) for the homeMatchup/awayMatchup tables\n",
    "# Setup table in way to do so:\n",
    "ID_col = ['gameId']\n",
    "target_col = ['pf']\n",
    "cat_cols = ['roof','surface']\n",
    "num_cols= ['ptsMatchup', 'offMatchup', 'ovrMatchup', 'passMatchup', 'pblkMatchup',\n",
    "           'runMatchup', 'totalDvoaMatchup', 'offDvoaMatchup', 'avgRecv']\n",
    "other_col= ['date','season','week','stadium','team_x','team_y','homeAway','avgPf',\n",
    "            'avgOvr_x', 'avgOff', 'avgPass', 'avgPblk','avgRun', 'avgRblk',\n",
    "            'totalDvoa_x', 'offDvoa','pa', 'totalScore','avgPa', 'avgOvr_y',\n",
    "            'avgDef', 'avgRdef', 'avgPrsh', 'avgCov', 'totalDvoa_y', 'defDvoa','overUnder']"
   ]
  },
  {
   "cell_type": "code",
   "execution_count": 113,
   "metadata": {
    "collapsed": true
   },
   "outputs": [],
   "source": [
    "# Create label encoders for categorical variables and split the data set\n",
    "# to train & test, further split the train data set to Train and Validate\n",
    "\n",
    "#create label encoders for categorical features\n",
    "for var in cat_cols:\n",
    "    number = LabelEncoder()\n",
    "    X_train_away[var] = number.fit_transform(X_train_away[var].astype('str'))\n",
    "\n",
    "for var in cat_cols:\n",
    "    number = LabelEncoder()\n",
    "    X_test_away[var] = number.fit_transform(X_test_away[var].astype('str'))"
   ]
  },
  {
   "cell_type": "code",
   "execution_count": 114,
   "metadata": {
    "collapsed": true
   },
   "outputs": [],
   "source": [
    "# Pass the imputed and dummy (missing values flags) variables into the\n",
    "# modeling process. Use random forest to predict the class\n",
    "features=list(set(list(X_train_away.columns))-set(ID_col)-set(target_col)-set(other_col))"
   ]
  },
  {
   "cell_type": "code",
   "execution_count": 115,
   "metadata": {
    "collapsed": true
   },
   "outputs": [],
   "source": [
    "X_train_away = X_train_away[list(features)]\n",
    "X_test_away= X_test_away[list(features)]"
   ]
  },
  {
   "cell_type": "code",
   "execution_count": 116,
   "metadata": {
    "scrolled": true
   },
   "outputs": [
    {
     "data": {
      "text/html": [
       "<div>\n",
       "<style>\n",
       "    .dataframe thead tr:only-child th {\n",
       "        text-align: right;\n",
       "    }\n",
       "\n",
       "    .dataframe thead th {\n",
       "        text-align: left;\n",
       "    }\n",
       "\n",
       "    .dataframe tbody tr th {\n",
       "        vertical-align: top;\n",
       "    }\n",
       "</style>\n",
       "<table border=\"1\" class=\"dataframe\">\n",
       "  <thead>\n",
       "    <tr style=\"text-align: right;\">\n",
       "      <th></th>\n",
       "      <th>avgRecv</th>\n",
       "      <th>totalDvoaMatchup</th>\n",
       "      <th>offMatchup</th>\n",
       "      <th>roof</th>\n",
       "      <th>ovrMatchup</th>\n",
       "      <th>offDvoaMatchup</th>\n",
       "      <th>passMatchup</th>\n",
       "      <th>surface</th>\n",
       "      <th>ptsMatchup</th>\n",
       "      <th>stDvoa</th>\n",
       "      <th>pblkMatchup</th>\n",
       "      <th>runMatchup</th>\n",
       "    </tr>\n",
       "  </thead>\n",
       "  <tbody>\n",
       "    <tr>\n",
       "      <th>1788</th>\n",
       "      <td>71.714286</td>\n",
       "      <td>0.631</td>\n",
       "      <td>12.457143</td>\n",
       "      <td>1</td>\n",
       "      <td>10.657143</td>\n",
       "      <td>0.397</td>\n",
       "      <td>16.800000</td>\n",
       "      <td>0</td>\n",
       "      <td>49.428571</td>\n",
       "      <td>-0.062</td>\n",
       "      <td>7.742857</td>\n",
       "      <td>-2.957143</td>\n",
       "    </tr>\n",
       "    <tr>\n",
       "      <th>1490</th>\n",
       "      <td>60.814286</td>\n",
       "      <td>-0.223</td>\n",
       "      <td>0.028571</td>\n",
       "      <td>1</td>\n",
       "      <td>-3.357143</td>\n",
       "      <td>-0.038</td>\n",
       "      <td>-2.042857</td>\n",
       "      <td>0</td>\n",
       "      <td>44.428571</td>\n",
       "      <td>0.007</td>\n",
       "      <td>1.785714</td>\n",
       "      <td>-8.400000</td>\n",
       "    </tr>\n",
       "    <tr>\n",
       "      <th>2366</th>\n",
       "      <td>64.700000</td>\n",
       "      <td>0.329</td>\n",
       "      <td>1.328571</td>\n",
       "      <td>0</td>\n",
       "      <td>-2.485714</td>\n",
       "      <td>0.032</td>\n",
       "      <td>-4.800000</td>\n",
       "      <td>1</td>\n",
       "      <td>46.571429</td>\n",
       "      <td>-0.034</td>\n",
       "      <td>9.200000</td>\n",
       "      <td>-4.957143</td>\n",
       "    </tr>\n",
       "    <tr>\n",
       "      <th>2205</th>\n",
       "      <td>72.328571</td>\n",
       "      <td>0.374</td>\n",
       "      <td>16.542857</td>\n",
       "      <td>0</td>\n",
       "      <td>10.271429</td>\n",
       "      <td>0.350</td>\n",
       "      <td>21.142857</td>\n",
       "      <td>1</td>\n",
       "      <td>62.285714</td>\n",
       "      <td>-0.016</td>\n",
       "      <td>17.885714</td>\n",
       "      <td>-2.771429</td>\n",
       "    </tr>\n",
       "    <tr>\n",
       "      <th>2521</th>\n",
       "      <td>65.214286</td>\n",
       "      <td>0.172</td>\n",
       "      <td>2.328571</td>\n",
       "      <td>0</td>\n",
       "      <td>0.771429</td>\n",
       "      <td>-0.062</td>\n",
       "      <td>-1.828571</td>\n",
       "      <td>0</td>\n",
       "      <td>51.857143</td>\n",
       "      <td>0.101</td>\n",
       "      <td>7.257143</td>\n",
       "      <td>-9.371429</td>\n",
       "    </tr>\n",
       "  </tbody>\n",
       "</table>\n",
       "</div>"
      ],
      "text/plain": [
       "        avgRecv  totalDvoaMatchup  offMatchup  roof  ovrMatchup  \\\n",
       "1788  71.714286             0.631   12.457143     1   10.657143   \n",
       "1490  60.814286            -0.223    0.028571     1   -3.357143   \n",
       "2366  64.700000             0.329    1.328571     0   -2.485714   \n",
       "2205  72.328571             0.374   16.542857     0   10.271429   \n",
       "2521  65.214286             0.172    2.328571     0    0.771429   \n",
       "\n",
       "      offDvoaMatchup  passMatchup  surface  ptsMatchup  stDvoa  pblkMatchup  \\\n",
       "1788           0.397    16.800000        0   49.428571  -0.062     7.742857   \n",
       "1490          -0.038    -2.042857        0   44.428571   0.007     1.785714   \n",
       "2366           0.032    -4.800000        1   46.571429  -0.034     9.200000   \n",
       "2205           0.350    21.142857        1   62.285714  -0.016    17.885714   \n",
       "2521          -0.062    -1.828571        0   51.857143   0.101     7.257143   \n",
       "\n",
       "      runMatchup  \n",
       "1788   -2.957143  \n",
       "1490   -8.400000  \n",
       "2366   -4.957143  \n",
       "2205   -2.771429  \n",
       "2521   -9.371429  "
      ]
     },
     "execution_count": 116,
     "metadata": {},
     "output_type": "execute_result"
    }
   ],
   "source": [
    "X_train_away.head()"
   ]
  },
  {
   "cell_type": "code",
   "execution_count": 117,
   "metadata": {},
   "outputs": [
    {
     "name": "stderr",
     "output_type": "stream",
     "text": [
      "C:\\Python34\\lib\\site-packages\\ipykernel_launcher.py:2: DataConversionWarning: A column-vector y was passed when a 1d array was expected. Please change the shape of y to (n_samples,), for example using ravel().\n",
      "  \n"
     ]
    },
    {
     "name": "stdout",
     "output_type": "stream",
     "text": [
      "87.7576821829\n"
     ]
    }
   ],
   "source": [
    "rf = RandomForestRegressor(n_estimators=600, max_depth=6, min_impurity_decrease=0.6)\n",
    "rf.fit(X_train_away, y_train_away)\n",
    "y_pred_away = rf.predict(X_test_away)\n",
    "print(mean_squared_error(y_test_away, y_pred_away))"
   ]
  },
  {
   "cell_type": "code",
   "execution_count": 118,
   "metadata": {
    "collapsed": true
   },
   "outputs": [],
   "source": [
    "# Now repeat the process for homeMatchup table:\n",
    "X_train_home, X_test_home, y_train_home, y_test_home = train_test_split(homeMatchup.iloc[:,:-1],homeMatchup.iloc[:,-1:], test_size=0.2,random_state=2107)\n",
    "\n",
    "for var in cat_cols:\n",
    "    number = LabelEncoder()\n",
    "    X_train_home[var] = number.fit_transform(X_train_home[var].astype('str'))\n",
    "\n",
    "for var in cat_cols:\n",
    "    number = LabelEncoder()\n",
    "    X_test_home[var] = number.fit_transform(X_test_home[var].astype('str'))\n",
    "    \n",
    "features=list(set(list(X_train_home.columns))-set(ID_col)-set(target_col)-set(other_col))\n",
    "\n",
    "X_train_home = X_train_home[list(features)]\n",
    "X_test_home= X_test_home[list(features)]"
   ]
  },
  {
   "cell_type": "code",
   "execution_count": 119,
   "metadata": {
    "scrolled": true
   },
   "outputs": [
    {
     "data": {
      "text/html": [
       "<div>\n",
       "<style>\n",
       "    .dataframe thead tr:only-child th {\n",
       "        text-align: right;\n",
       "    }\n",
       "\n",
       "    .dataframe thead th {\n",
       "        text-align: left;\n",
       "    }\n",
       "\n",
       "    .dataframe tbody tr th {\n",
       "        vertical-align: top;\n",
       "    }\n",
       "</style>\n",
       "<table border=\"1\" class=\"dataframe\">\n",
       "  <thead>\n",
       "    <tr style=\"text-align: right;\">\n",
       "      <th></th>\n",
       "      <th>avgRecv</th>\n",
       "      <th>totalDvoaMatchup</th>\n",
       "      <th>offMatchup</th>\n",
       "      <th>roof</th>\n",
       "      <th>ovrMatchup</th>\n",
       "      <th>offDvoaMatchup</th>\n",
       "      <th>passMatchup</th>\n",
       "      <th>surface</th>\n",
       "      <th>ptsMatchup</th>\n",
       "      <th>stDvoa</th>\n",
       "      <th>pblkMatchup</th>\n",
       "      <th>runMatchup</th>\n",
       "    </tr>\n",
       "  </thead>\n",
       "  <tbody>\n",
       "    <tr>\n",
       "      <th>1788</th>\n",
       "      <td>64.400000</td>\n",
       "      <td>-0.631</td>\n",
       "      <td>-5.157143</td>\n",
       "      <td>1</td>\n",
       "      <td>-10.657143</td>\n",
       "      <td>-0.261</td>\n",
       "      <td>-13.471429</td>\n",
       "      <td>0</td>\n",
       "      <td>33.857143</td>\n",
       "      <td>-0.036</td>\n",
       "      <td>8.185714</td>\n",
       "      <td>-2.671429</td>\n",
       "    </tr>\n",
       "    <tr>\n",
       "      <th>1490</th>\n",
       "      <td>64.714286</td>\n",
       "      <td>0.223</td>\n",
       "      <td>4.228571</td>\n",
       "      <td>1</td>\n",
       "      <td>3.357143</td>\n",
       "      <td>0.179</td>\n",
       "      <td>3.271429</td>\n",
       "      <td>0</td>\n",
       "      <td>51.428571</td>\n",
       "      <td>0.012</td>\n",
       "      <td>6.357143</td>\n",
       "      <td>-5.871429</td>\n",
       "    </tr>\n",
       "    <tr>\n",
       "      <th>2366</th>\n",
       "      <td>64.885714</td>\n",
       "      <td>-0.329</td>\n",
       "      <td>4.914286</td>\n",
       "      <td>0</td>\n",
       "      <td>2.485714</td>\n",
       "      <td>-0.283</td>\n",
       "      <td>10.471429</td>\n",
       "      <td>1</td>\n",
       "      <td>44.857143</td>\n",
       "      <td>-0.048</td>\n",
       "      <td>9.342857</td>\n",
       "      <td>-8.057143</td>\n",
       "    </tr>\n",
       "    <tr>\n",
       "      <th>2205</th>\n",
       "      <td>66.242857</td>\n",
       "      <td>-0.374</td>\n",
       "      <td>3.371429</td>\n",
       "      <td>0</td>\n",
       "      <td>-10.271429</td>\n",
       "      <td>-0.027</td>\n",
       "      <td>-0.271429</td>\n",
       "      <td>1</td>\n",
       "      <td>41.142857</td>\n",
       "      <td>-0.012</td>\n",
       "      <td>12.128571</td>\n",
       "      <td>-3.028571</td>\n",
       "    </tr>\n",
       "    <tr>\n",
       "      <th>2521</th>\n",
       "      <td>66.528571</td>\n",
       "      <td>-0.172</td>\n",
       "      <td>3.328571</td>\n",
       "      <td>0</td>\n",
       "      <td>-0.771429</td>\n",
       "      <td>-0.085</td>\n",
       "      <td>7.085714</td>\n",
       "      <td>0</td>\n",
       "      <td>46.285714</td>\n",
       "      <td>-0.048</td>\n",
       "      <td>0.642857</td>\n",
       "      <td>-10.942857</td>\n",
       "    </tr>\n",
       "  </tbody>\n",
       "</table>\n",
       "</div>"
      ],
      "text/plain": [
       "        avgRecv  totalDvoaMatchup  offMatchup  roof  ovrMatchup  \\\n",
       "1788  64.400000            -0.631   -5.157143     1  -10.657143   \n",
       "1490  64.714286             0.223    4.228571     1    3.357143   \n",
       "2366  64.885714            -0.329    4.914286     0    2.485714   \n",
       "2205  66.242857            -0.374    3.371429     0  -10.271429   \n",
       "2521  66.528571            -0.172    3.328571     0   -0.771429   \n",
       "\n",
       "      offDvoaMatchup  passMatchup  surface  ptsMatchup  stDvoa  pblkMatchup  \\\n",
       "1788          -0.261   -13.471429        0   33.857143  -0.036     8.185714   \n",
       "1490           0.179     3.271429        0   51.428571   0.012     6.357143   \n",
       "2366          -0.283    10.471429        1   44.857143  -0.048     9.342857   \n",
       "2205          -0.027    -0.271429        1   41.142857  -0.012    12.128571   \n",
       "2521          -0.085     7.085714        0   46.285714  -0.048     0.642857   \n",
       "\n",
       "      runMatchup  \n",
       "1788   -2.671429  \n",
       "1490   -5.871429  \n",
       "2366   -8.057143  \n",
       "2205   -3.028571  \n",
       "2521  -10.942857  "
      ]
     },
     "execution_count": 119,
     "metadata": {},
     "output_type": "execute_result"
    }
   ],
   "source": [
    "X_train_home.head()"
   ]
  },
  {
   "cell_type": "code",
   "execution_count": 120,
   "metadata": {},
   "outputs": [
    {
     "name": "stderr",
     "output_type": "stream",
     "text": [
      "C:\\Python34\\lib\\site-packages\\ipykernel_launcher.py:2: DataConversionWarning: A column-vector y was passed when a 1d array was expected. Please change the shape of y to (n_samples,), for example using ravel().\n",
      "  \n"
     ]
    },
    {
     "name": "stdout",
     "output_type": "stream",
     "text": [
      "99.184282222\n"
     ]
    }
   ],
   "source": [
    "rf = RandomForestRegressor(n_estimators=600, max_depth=6, min_impurity_decrease=0.6)\n",
    "rf.fit(X_train_home, y_train_home)\n",
    "y_pred_home = rf.predict(X_test_home)\n",
    "print(mean_squared_error(y_test_home, y_pred_home))"
   ]
  },
  {
   "cell_type": "code",
   "execution_count": 121,
   "metadata": {
    "collapsed": true
   },
   "outputs": [],
   "source": [
    "testDf = pd.DataFrame(X_test_away)\n",
    "testDf['awayScore'] = y_test_away\n",
    "testDf['awayPrediction'] = y_pred_away\n",
    "testDf2 = pd.DataFrame(X_test_home)\n",
    "testDf2['homeScore'] = y_test_home\n",
    "testDf2['homePrediction'] = y_pred_home"
   ]
  },
  {
   "cell_type": "code",
   "execution_count": 122,
   "metadata": {},
   "outputs": [
    {
     "data": {
      "text/plain": [
       "'homeScore'"
      ]
     },
     "execution_count": 122,
     "metadata": {},
     "output_type": "execute_result"
    }
   ],
   "source": [
    "colsAway = list(testDf.columns)\n",
    "colsAway.pop(-7)\n",
    "colsAway.pop(3)\n",
    "colsAway.pop(-1)\n",
    "colsAway.pop(-1)\n",
    "#colsAway\n",
    "colsHome = list(testDf2.columns)\n",
    "colsHome.pop(-7)\n",
    "colsHome.pop(3)\n",
    "colsHome.pop(-1)\n",
    "colsHome.pop(-1)\n",
    "# colsHome"
   ]
  },
  {
   "cell_type": "code",
   "execution_count": 123,
   "metadata": {
    "collapsed": true
   },
   "outputs": [],
   "source": [
    "awayPredDf = awayMatchup.merge(testDf, on=colsAway)\n",
    "homePredDf = homeMatchup.merge(testDf2, on=colsHome)"
   ]
  },
  {
   "cell_type": "code",
   "execution_count": 124,
   "metadata": {
    "scrolled": true
   },
   "outputs": [],
   "source": [
    "awayHomeMerge = awayPredDf.merge(homePredDf, on=['gameId','date','season','week'])\n",
    "#awayHomeMerge.columns"
   ]
  },
  {
   "cell_type": "code",
   "execution_count": 125,
   "metadata": {},
   "outputs": [
    {
     "data": {
      "text/html": [
       "<div>\n",
       "<style>\n",
       "    .dataframe thead tr:only-child th {\n",
       "        text-align: right;\n",
       "    }\n",
       "\n",
       "    .dataframe thead th {\n",
       "        text-align: left;\n",
       "    }\n",
       "\n",
       "    .dataframe tbody tr th {\n",
       "        vertical-align: top;\n",
       "    }\n",
       "</style>\n",
       "<table border=\"1\" class=\"dataframe\">\n",
       "  <thead>\n",
       "    <tr style=\"text-align: right;\">\n",
       "      <th></th>\n",
       "      <th>gameId</th>\n",
       "      <th>date</th>\n",
       "      <th>season</th>\n",
       "      <th>week</th>\n",
       "      <th>awayPrediction</th>\n",
       "      <th>homePrediction</th>\n",
       "    </tr>\n",
       "  </thead>\n",
       "  <tbody>\n",
       "    <tr>\n",
       "      <th>0</th>\n",
       "      <td>201812300sea</td>\n",
       "      <td>2018-12-30</td>\n",
       "      <td>2018</td>\n",
       "      <td>17</td>\n",
       "      <td>15.800897</td>\n",
       "      <td>28.438475</td>\n",
       "    </tr>\n",
       "    <tr>\n",
       "      <th>1</th>\n",
       "      <td>201712170was</td>\n",
       "      <td>2017-12-17</td>\n",
       "      <td>2017</td>\n",
       "      <td>15</td>\n",
       "      <td>19.396151</td>\n",
       "      <td>21.874671</td>\n",
       "    </tr>\n",
       "    <tr>\n",
       "      <th>2</th>\n",
       "      <td>201709100det</td>\n",
       "      <td>2017-09-10</td>\n",
       "      <td>2017</td>\n",
       "      <td>1</td>\n",
       "      <td>21.380432</td>\n",
       "      <td>24.275178</td>\n",
       "    </tr>\n",
       "    <tr>\n",
       "      <th>3</th>\n",
       "      <td>201710080phi</td>\n",
       "      <td>2017-10-08</td>\n",
       "      <td>2017</td>\n",
       "      <td>5</td>\n",
       "      <td>19.855067</td>\n",
       "      <td>27.508813</td>\n",
       "    </tr>\n",
       "    <tr>\n",
       "      <th>4</th>\n",
       "      <td>201701010ram</td>\n",
       "      <td>2017-01-01</td>\n",
       "      <td>2016</td>\n",
       "      <td>17</td>\n",
       "      <td>21.580924</td>\n",
       "      <td>19.524006</td>\n",
       "    </tr>\n",
       "  </tbody>\n",
       "</table>\n",
       "</div>"
      ],
      "text/plain": [
       "         gameId       date  season  week  awayPrediction  homePrediction\n",
       "0  201812300sea 2018-12-30    2018    17       15.800897       28.438475\n",
       "1  201712170was 2017-12-17    2017    15       19.396151       21.874671\n",
       "2  201709100det 2017-09-10    2017     1       21.380432       24.275178\n",
       "3  201710080phi 2017-10-08    2017     5       19.855067       27.508813\n",
       "4  201701010ram 2017-01-01    2016    17       21.580924       19.524006"
      ]
     },
     "execution_count": 125,
     "metadata": {},
     "output_type": "execute_result"
    }
   ],
   "source": [
    "awayHomeMerge = awayHomeMerge[['gameId', 'date', 'season', 'week','awayPrediction', 'homePrediction']]\n",
    "awayHomeMerge.head()"
   ]
  },
  {
   "cell_type": "code",
   "execution_count": 126,
   "metadata": {
    "collapsed": true
   },
   "outputs": [],
   "source": [
    "finalDf = gameTable.merge(awayHomeMerge, on=['gameId', 'date'])\n",
    "finalDf['totalPrediction'] = finalDf['awayPrediction'] + finalDf['homePrediction']\n",
    "#finalDf.columns"
   ]
  },
  {
   "cell_type": "code",
   "execution_count": 127,
   "metadata": {
    "collapsed": true
   },
   "outputs": [],
   "source": [
    "finalDf = finalDf[['gameId', 'date', 'season', 'week', 'awayTeam', 'awayPrediction', 'awayScore',\n",
    "                   'homeTeam','homePrediction', 'homeScore', 'overUnder', 'result', 'totalPrediction', 'totalScore']]"
   ]
  },
  {
   "cell_type": "code",
   "execution_count": 128,
   "metadata": {},
   "outputs": [
    {
     "data": {
      "text/plain": [
       "under    13\n",
       "over     10\n",
       "push      1\n",
       "Name: result, dtype: int64"
      ]
     },
     "execution_count": 128,
     "metadata": {},
     "output_type": "execute_result"
    }
   ],
   "source": [
    "undersDf = finalDf[finalDf['totalPrediction'] <= finalDf['overUnder'] - 5]\n",
    "undersDf['result'].value_counts()"
   ]
  },
  {
   "cell_type": "code",
   "execution_count": 129,
   "metadata": {},
   "outputs": [
    {
     "data": {
      "text/plain": [
       "under    43\n",
       "over     37\n",
       "push      1\n",
       "Name: result, dtype: int64"
      ]
     },
     "execution_count": 129,
     "metadata": {},
     "output_type": "execute_result"
    }
   ],
   "source": [
    "undersDf = finalDf[finalDf['totalPrediction'] <= finalDf['overUnder'] - 3]\n",
    "undersDf['result'].value_counts()"
   ]
  },
  {
   "cell_type": "code",
   "execution_count": 130,
   "metadata": {},
   "outputs": [
    {
     "data": {
      "text/plain": [
       "over     100\n",
       "under     97\n",
       "push       2\n",
       "Name: result, dtype: int64"
      ]
     },
     "execution_count": 130,
     "metadata": {},
     "output_type": "execute_result"
    }
   ],
   "source": [
    "undersDf = finalDf[finalDf['totalPrediction'] <= finalDf['overUnder'] - 1]\n",
    "undersDf['result'].value_counts()"
   ]
  },
  {
   "cell_type": "code",
   "execution_count": 131,
   "metadata": {},
   "outputs": [
    {
     "data": {
      "text/plain": [
       "under    26\n",
       "over     24\n",
       "push      1\n",
       "Name: result, dtype: int64"
      ]
     },
     "execution_count": 131,
     "metadata": {},
     "output_type": "execute_result"
    }
   ],
   "source": [
    "oversDf = finalDf[finalDf['totalPrediction'] >= finalDf['overUnder'] + 5]\n",
    "oversDf['result'].value_counts()"
   ]
  },
  {
   "cell_type": "code",
   "execution_count": 132,
   "metadata": {},
   "outputs": [
    {
     "data": {
      "text/plain": [
       "under    63\n",
       "over     62\n",
       "push      5\n",
       "Name: result, dtype: int64"
      ]
     },
     "execution_count": 132,
     "metadata": {},
     "output_type": "execute_result"
    }
   ],
   "source": [
    "oversDf = finalDf[finalDf['totalPrediction'] >= finalDf['overUnder'] + 3]\n",
    "oversDf['result'].value_counts()"
   ]
  },
  {
   "cell_type": "code",
   "execution_count": 133,
   "metadata": {
    "scrolled": true
   },
   "outputs": [
    {
     "data": {
      "text/plain": [
       "over     133\n",
       "under    128\n",
       "push       9\n",
       "Name: result, dtype: int64"
      ]
     },
     "execution_count": 133,
     "metadata": {},
     "output_type": "execute_result"
    }
   ],
   "source": [
    "oversDf = finalDf[finalDf['totalPrediction'] >= finalDf['overUnder'] + 1]\n",
    "oversDf['result'].value_counts()"
   ]
  },
  {
   "cell_type": "code",
   "execution_count": null,
   "metadata": {
    "collapsed": true
   },
   "outputs": [],
   "source": []
  },
  {
   "cell_type": "code",
   "execution_count": null,
   "metadata": {
    "collapsed": true
   },
   "outputs": [],
   "source": []
  },
  {
   "cell_type": "code",
   "execution_count": null,
   "metadata": {
    "collapsed": true
   },
   "outputs": [],
   "source": []
  },
  {
   "cell_type": "code",
   "execution_count": null,
   "metadata": {
    "collapsed": true
   },
   "outputs": [],
   "source": []
  },
  {
   "cell_type": "code",
   "execution_count": null,
   "metadata": {
    "collapsed": true
   },
   "outputs": [],
   "source": []
  },
  {
   "cell_type": "code",
   "execution_count": null,
   "metadata": {
    "collapsed": true
   },
   "outputs": [],
   "source": []
  },
  {
   "cell_type": "code",
   "execution_count": null,
   "metadata": {
    "collapsed": true
   },
   "outputs": [],
   "source": []
  },
  {
   "cell_type": "code",
   "execution_count": null,
   "metadata": {
    "collapsed": true
   },
   "outputs": [],
   "source": []
  },
  {
   "cell_type": "code",
   "execution_count": null,
   "metadata": {
    "collapsed": true
   },
   "outputs": [],
   "source": []
  }
 ],
 "metadata": {
  "kernelspec": {
   "display_name": "Python 3",
   "language": "python",
   "name": "python3"
  },
  "language_info": {
   "codemirror_mode": {
    "name": "ipython",
    "version": 3
   },
   "file_extension": ".py",
   "mimetype": "text/x-python",
   "name": "python",
   "nbconvert_exporter": "python",
   "pygments_lexer": "ipython3",
   "version": "3.7.4"
  }
 },
 "nbformat": 4,
 "nbformat_minor": 2
}
