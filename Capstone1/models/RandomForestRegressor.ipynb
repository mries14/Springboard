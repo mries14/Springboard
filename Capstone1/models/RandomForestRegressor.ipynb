{
 "cells": [
  {
   "cell_type": "code",
   "execution_count": 2,
   "metadata": {},
   "outputs": [
    {
     "name": "stderr",
     "output_type": "stream",
     "text": [
      "C:\\Python34\\lib\\site-packages\\sklearn\\cross_validation.py:41: DeprecationWarning: This module was deprecated in version 0.18 in favor of the model_selection module into which all the refactored classes and functions are moved. Also note that the interface of the new CV iterators are different from that of this module. This module will be removed in 0.20.\n",
      "  \"This module will be removed in 0.20.\", DeprecationWarning)\n"
     ]
    }
   ],
   "source": [
    "import pandas as pd\n",
    "import numpy as np\n",
    "import matplotlib.pyplot as plt\n",
    "from sklearn.preprocessing import LabelEncoder\n",
    "import random\n",
    "from sklearn.ensemble import RandomForestRegressor\n",
    "from sklearn.ensemble import GradientBoostingClassifier\n",
    "from sklearn.metrics import mean_squared_error\n",
    "import datetime\n",
    "from sklearn.model_selection import train_test_split\n",
    "from sklearn.cross_validation import cross_val_score, cross_val_predict\n",
    "from sklearn import metrics"
   ]
  },
  {
   "cell_type": "code",
   "execution_count": 6,
   "metadata": {
    "collapsed": true
   },
   "outputs": [],
   "source": [
    "%store -r awayMatchup\n",
    "%store -r homeMatchup\n",
    "%store -r gameTable"
   ]
  },
  {
   "cell_type": "code",
   "execution_count": 61,
   "metadata": {},
   "outputs": [],
   "source": [
    "X_train_away, X_test_away, y_train_away, y_test_away = train_test_split(awayMatchup.iloc[:,:-1],awayMatchup.iloc[:,-1:], test_size=0.2,random_state=1020)"
   ]
  },
  {
   "cell_type": "code",
   "execution_count": 62,
   "metadata": {},
   "outputs": [
    {
     "data": {
      "text/plain": [
       "(2494, 40)"
      ]
     },
     "execution_count": 62,
     "metadata": {},
     "output_type": "execute_result"
    }
   ],
   "source": [
    "X_train_away.shape"
   ]
  },
  {
   "cell_type": "code",
   "execution_count": 63,
   "metadata": {
    "collapsed": true
   },
   "outputs": [],
   "source": [
    "# Now we want to predict points for (pf) for the homeMatchup/awayMatchup tables\n",
    "# Setup table in way to do so:\n",
    "ID_col = ['gameId']\n",
    "target_col = ['pf']\n",
    "cat_cols = ['roof','surface']\n",
    "num_cols= ['ptsMatchup', 'offMatchup', 'ovrMatchup', 'passMatchup', 'pblkMatchup',\n",
    "           'runMatchup', 'totalDvoaMatchup', 'offDvoaMatchup', 'avgRecv']\n",
    "other_col= ['date','season','week','stadium','team_x','team_y','homeAway','avgPf',\n",
    "            'avgOvr_x', 'avgOff', 'avgPass', 'avgPblk','avgRun', 'avgRblk',\n",
    "            'totalDvoa_x', 'offDvoa','pa', 'totalScore','avgPa', 'avgOvr_y',\n",
    "            'avgDef', 'avgRdef', 'avgPrsh', 'avgCov', 'totalDvoa_y', 'defDvoa','overUnder']"
   ]
  },
  {
   "cell_type": "code",
   "execution_count": 64,
   "metadata": {
    "collapsed": true
   },
   "outputs": [],
   "source": [
    "# Create label encoders for categorical variables and split the data set\n",
    "# to train & test, further split the train data set to Train and Validate\n",
    "\n",
    "#create label encoders for categorical features\n",
    "for var in cat_cols:\n",
    "    number = LabelEncoder()\n",
    "    X_train_away[var] = number.fit_transform(X_train_away[var].astype('str'))\n",
    "\n",
    "for var in cat_cols:\n",
    "    number = LabelEncoder()\n",
    "    X_test_away[var] = number.fit_transform(X_test_away[var].astype('str'))"
   ]
  },
  {
   "cell_type": "code",
   "execution_count": 65,
   "metadata": {
    "collapsed": true
   },
   "outputs": [],
   "source": [
    "# Pass the imputed and dummy (missing values flags) variables into the\n",
    "# modeling process. Use random forest to predict the class\n",
    "features=list(set(list(X_train_away.columns))-set(ID_col)-set(target_col)-set(other_col))"
   ]
  },
  {
   "cell_type": "code",
   "execution_count": 66,
   "metadata": {
    "collapsed": true
   },
   "outputs": [],
   "source": [
    "X_train_away = X_train_away[list(features)]\n",
    "X_test_away= X_test_away[list(features)]"
   ]
  },
  {
   "cell_type": "code",
   "execution_count": 67,
   "metadata": {
    "scrolled": true
   },
   "outputs": [
    {
     "data": {
      "text/html": [
       "<div>\n",
       "<style>\n",
       "    .dataframe thead tr:only-child th {\n",
       "        text-align: right;\n",
       "    }\n",
       "\n",
       "    .dataframe thead th {\n",
       "        text-align: left;\n",
       "    }\n",
       "\n",
       "    .dataframe tbody tr th {\n",
       "        vertical-align: top;\n",
       "    }\n",
       "</style>\n",
       "<table border=\"1\" class=\"dataframe\">\n",
       "  <thead>\n",
       "    <tr style=\"text-align: right;\">\n",
       "      <th></th>\n",
       "      <th>ovrMatchup</th>\n",
       "      <th>pblkMatchup</th>\n",
       "      <th>roof</th>\n",
       "      <th>totalDvoaMatchup</th>\n",
       "      <th>passMatchup</th>\n",
       "      <th>avgRecv</th>\n",
       "      <th>surface</th>\n",
       "      <th>offDvoaMatchup</th>\n",
       "      <th>ptsMatchup</th>\n",
       "      <th>stDvoa</th>\n",
       "      <th>runMatchup</th>\n",
       "      <th>offMatchup</th>\n",
       "    </tr>\n",
       "  </thead>\n",
       "  <tbody>\n",
       "    <tr>\n",
       "      <th>2587</th>\n",
       "      <td>10.228571</td>\n",
       "      <td>20.500000</td>\n",
       "      <td>1</td>\n",
       "      <td>0.312</td>\n",
       "      <td>20.571429</td>\n",
       "      <td>71.071429</td>\n",
       "      <td>1</td>\n",
       "      <td>0.175</td>\n",
       "      <td>59.857143</td>\n",
       "      <td>-0.003</td>\n",
       "      <td>-17.057143</td>\n",
       "      <td>8.614286</td>\n",
       "    </tr>\n",
       "    <tr>\n",
       "      <th>2807</th>\n",
       "      <td>2.985714</td>\n",
       "      <td>-3.114286</td>\n",
       "      <td>1</td>\n",
       "      <td>0.349</td>\n",
       "      <td>12.942857</td>\n",
       "      <td>72.342857</td>\n",
       "      <td>1</td>\n",
       "      <td>0.121</td>\n",
       "      <td>49.714286</td>\n",
       "      <td>0.035</td>\n",
       "      <td>-0.228571</td>\n",
       "      <td>8.357143</td>\n",
       "    </tr>\n",
       "    <tr>\n",
       "      <th>345</th>\n",
       "      <td>-3.342857</td>\n",
       "      <td>13.285714</td>\n",
       "      <td>0</td>\n",
       "      <td>-0.024</td>\n",
       "      <td>-5.571429</td>\n",
       "      <td>64.714286</td>\n",
       "      <td>1</td>\n",
       "      <td>-0.348</td>\n",
       "      <td>41.714286</td>\n",
       "      <td>-0.024</td>\n",
       "      <td>-2.014286</td>\n",
       "      <td>3.428571</td>\n",
       "    </tr>\n",
       "    <tr>\n",
       "      <th>1082</th>\n",
       "      <td>-4.300000</td>\n",
       "      <td>-0.942857</td>\n",
       "      <td>1</td>\n",
       "      <td>-0.092</td>\n",
       "      <td>-3.471429</td>\n",
       "      <td>63.500000</td>\n",
       "      <td>0</td>\n",
       "      <td>0.015</td>\n",
       "      <td>37.285714</td>\n",
       "      <td>0.062</td>\n",
       "      <td>-13.685714</td>\n",
       "      <td>-7.728571</td>\n",
       "    </tr>\n",
       "    <tr>\n",
       "      <th>317</th>\n",
       "      <td>-3.485714</td>\n",
       "      <td>0.557143</td>\n",
       "      <td>1</td>\n",
       "      <td>-0.411</td>\n",
       "      <td>5.314286</td>\n",
       "      <td>66.185714</td>\n",
       "      <td>1</td>\n",
       "      <td>-0.454</td>\n",
       "      <td>44.428571</td>\n",
       "      <td>-0.020</td>\n",
       "      <td>-11.714286</td>\n",
       "      <td>1.471429</td>\n",
       "    </tr>\n",
       "  </tbody>\n",
       "</table>\n",
       "</div>"
      ],
      "text/plain": [
       "      ovrMatchup  pblkMatchup  roof  totalDvoaMatchup  passMatchup    avgRecv  \\\n",
       "2587   10.228571    20.500000     1             0.312    20.571429  71.071429   \n",
       "2807    2.985714    -3.114286     1             0.349    12.942857  72.342857   \n",
       "345    -3.342857    13.285714     0            -0.024    -5.571429  64.714286   \n",
       "1082   -4.300000    -0.942857     1            -0.092    -3.471429  63.500000   \n",
       "317    -3.485714     0.557143     1            -0.411     5.314286  66.185714   \n",
       "\n",
       "      surface  offDvoaMatchup  ptsMatchup  stDvoa  runMatchup  offMatchup  \n",
       "2587        1           0.175   59.857143  -0.003  -17.057143    8.614286  \n",
       "2807        1           0.121   49.714286   0.035   -0.228571    8.357143  \n",
       "345         1          -0.348   41.714286  -0.024   -2.014286    3.428571  \n",
       "1082        0           0.015   37.285714   0.062  -13.685714   -7.728571  \n",
       "317         1          -0.454   44.428571  -0.020  -11.714286    1.471429  "
      ]
     },
     "execution_count": 67,
     "metadata": {},
     "output_type": "execute_result"
    }
   ],
   "source": [
    "X_train_away.head()"
   ]
  },
  {
   "cell_type": "code",
   "execution_count": 68,
   "metadata": {},
   "outputs": [
    {
     "name": "stderr",
     "output_type": "stream",
     "text": [
      "C:\\Python34\\lib\\site-packages\\ipykernel_launcher.py:2: DataConversionWarning: A column-vector y was passed when a 1d array was expected. Please change the shape of y to (n_samples,), for example using ravel().\n",
      "  \n"
     ]
    },
    {
     "name": "stdout",
     "output_type": "stream",
     "text": [
      "93.1285356564\n"
     ]
    }
   ],
   "source": [
    "rf = RandomForestRegressor(n_estimators=600, max_depth=6, min_impurity_decrease=0.6)\n",
    "rf.fit(X_train_away, y_train_away)\n",
    "y_pred_away = rf.predict(X_test_away)\n",
    "print(mean_squared_error(y_test_away, y_pred_away))"
   ]
  },
  {
   "cell_type": "code",
   "execution_count": 69,
   "metadata": {
    "collapsed": true
   },
   "outputs": [],
   "source": [
    "# Now repeat the process for homeMatchup table:\n",
    "X_train_home, X_test_home, y_train_home, y_test_home = train_test_split(homeMatchup.iloc[:,:-1],homeMatchup.iloc[:,-1:], test_size=0.2,random_state=1020)\n",
    "\n",
    "for var in cat_cols:\n",
    "    number = LabelEncoder()\n",
    "    X_train_home[var] = number.fit_transform(X_train_home[var].astype('str'))\n",
    "\n",
    "for var in cat_cols:\n",
    "    number = LabelEncoder()\n",
    "    X_test_home[var] = number.fit_transform(X_test_home[var].astype('str'))\n",
    "    \n",
    "features=list(set(list(X_train_home.columns))-set(ID_col)-set(target_col)-set(other_col))\n",
    "\n",
    "X_train_home = X_train_home[list(features)]\n",
    "X_test_home= X_test_home[list(features)]"
   ]
  },
  {
   "cell_type": "code",
   "execution_count": 70,
   "metadata": {
    "scrolled": true
   },
   "outputs": [
    {
     "data": {
      "text/html": [
       "<div>\n",
       "<style>\n",
       "    .dataframe thead tr:only-child th {\n",
       "        text-align: right;\n",
       "    }\n",
       "\n",
       "    .dataframe thead th {\n",
       "        text-align: left;\n",
       "    }\n",
       "\n",
       "    .dataframe tbody tr th {\n",
       "        vertical-align: top;\n",
       "    }\n",
       "</style>\n",
       "<table border=\"1\" class=\"dataframe\">\n",
       "  <thead>\n",
       "    <tr style=\"text-align: right;\">\n",
       "      <th></th>\n",
       "      <th>ovrMatchup</th>\n",
       "      <th>pblkMatchup</th>\n",
       "      <th>roof</th>\n",
       "      <th>totalDvoaMatchup</th>\n",
       "      <th>passMatchup</th>\n",
       "      <th>avgRecv</th>\n",
       "      <th>surface</th>\n",
       "      <th>offDvoaMatchup</th>\n",
       "      <th>ptsMatchup</th>\n",
       "      <th>stDvoa</th>\n",
       "      <th>runMatchup</th>\n",
       "      <th>offMatchup</th>\n",
       "    </tr>\n",
       "  </thead>\n",
       "  <tbody>\n",
       "    <tr>\n",
       "      <th>2587</th>\n",
       "      <td>-10.228571</td>\n",
       "      <td>10.871429</td>\n",
       "      <td>1</td>\n",
       "      <td>-0.312</td>\n",
       "      <td>-9.685714</td>\n",
       "      <td>57.642857</td>\n",
       "      <td>1</td>\n",
       "      <td>-0.241</td>\n",
       "      <td>39.571429</td>\n",
       "      <td>0.027</td>\n",
       "      <td>-7.500000</td>\n",
       "      <td>-4.585714</td>\n",
       "    </tr>\n",
       "    <tr>\n",
       "      <th>2807</th>\n",
       "      <td>-2.985714</td>\n",
       "      <td>7.485714</td>\n",
       "      <td>1</td>\n",
       "      <td>-0.349</td>\n",
       "      <td>-7.328571</td>\n",
       "      <td>73.114286</td>\n",
       "      <td>1</td>\n",
       "      <td>0.051</td>\n",
       "      <td>40.000000</td>\n",
       "      <td>0.064</td>\n",
       "      <td>-0.342857</td>\n",
       "      <td>2.685714</td>\n",
       "    </tr>\n",
       "    <tr>\n",
       "      <th>345</th>\n",
       "      <td>3.342857</td>\n",
       "      <td>9.400000</td>\n",
       "      <td>0</td>\n",
       "      <td>0.024</td>\n",
       "      <td>4.900000</td>\n",
       "      <td>67.671429</td>\n",
       "      <td>1</td>\n",
       "      <td>0.011</td>\n",
       "      <td>46.428571</td>\n",
       "      <td>0.050</td>\n",
       "      <td>-6.757143</td>\n",
       "      <td>3.828571</td>\n",
       "    </tr>\n",
       "    <tr>\n",
       "      <th>1082</th>\n",
       "      <td>4.300000</td>\n",
       "      <td>0.428571</td>\n",
       "      <td>1</td>\n",
       "      <td>0.092</td>\n",
       "      <td>0.900000</td>\n",
       "      <td>69.814286</td>\n",
       "      <td>0</td>\n",
       "      <td>0.187</td>\n",
       "      <td>48.000000</td>\n",
       "      <td>-0.046</td>\n",
       "      <td>-17.771429</td>\n",
       "      <td>-3.742857</td>\n",
       "    </tr>\n",
       "    <tr>\n",
       "      <th>317</th>\n",
       "      <td>3.485714</td>\n",
       "      <td>-11.900000</td>\n",
       "      <td>1</td>\n",
       "      <td>0.411</td>\n",
       "      <td>11.085714</td>\n",
       "      <td>68.714286</td>\n",
       "      <td>1</td>\n",
       "      <td>0.014</td>\n",
       "      <td>45.857143</td>\n",
       "      <td>-0.017</td>\n",
       "      <td>1.300000</td>\n",
       "      <td>5.014286</td>\n",
       "    </tr>\n",
       "  </tbody>\n",
       "</table>\n",
       "</div>"
      ],
      "text/plain": [
       "      ovrMatchup  pblkMatchup  roof  totalDvoaMatchup  passMatchup    avgRecv  \\\n",
       "2587  -10.228571    10.871429     1            -0.312    -9.685714  57.642857   \n",
       "2807   -2.985714     7.485714     1            -0.349    -7.328571  73.114286   \n",
       "345     3.342857     9.400000     0             0.024     4.900000  67.671429   \n",
       "1082    4.300000     0.428571     1             0.092     0.900000  69.814286   \n",
       "317     3.485714   -11.900000     1             0.411    11.085714  68.714286   \n",
       "\n",
       "      surface  offDvoaMatchup  ptsMatchup  stDvoa  runMatchup  offMatchup  \n",
       "2587        1          -0.241   39.571429   0.027   -7.500000   -4.585714  \n",
       "2807        1           0.051   40.000000   0.064   -0.342857    2.685714  \n",
       "345         1           0.011   46.428571   0.050   -6.757143    3.828571  \n",
       "1082        0           0.187   48.000000  -0.046  -17.771429   -3.742857  \n",
       "317         1           0.014   45.857143  -0.017    1.300000    5.014286  "
      ]
     },
     "execution_count": 70,
     "metadata": {},
     "output_type": "execute_result"
    }
   ],
   "source": [
    "X_train_home.head()"
   ]
  },
  {
   "cell_type": "code",
   "execution_count": 71,
   "metadata": {},
   "outputs": [
    {
     "name": "stderr",
     "output_type": "stream",
     "text": [
      "C:\\Python34\\lib\\site-packages\\ipykernel_launcher.py:2: DataConversionWarning: A column-vector y was passed when a 1d array was expected. Please change the shape of y to (n_samples,), for example using ravel().\n",
      "  \n"
     ]
    },
    {
     "name": "stdout",
     "output_type": "stream",
     "text": [
      "104.999120724\n"
     ]
    }
   ],
   "source": [
    "rf = RandomForestRegressor(n_estimators=600, max_depth=6, min_impurity_decrease=0.6)\n",
    "rf.fit(X_train_home, y_train_home)\n",
    "y_pred_home = rf.predict(X_test_home)\n",
    "print(mean_squared_error(y_test_home, y_pred_home))"
   ]
  },
  {
   "cell_type": "code",
   "execution_count": 72,
   "metadata": {
    "collapsed": true
   },
   "outputs": [],
   "source": [
    "testDf = pd.DataFrame(X_test_away)\n",
    "testDf['awayScore'] = y_test_away\n",
    "testDf['awayPrediction'] = y_pred_away\n",
    "testDf2 = pd.DataFrame(X_test_home)\n",
    "testDf2['homeScore'] = y_test_home\n",
    "testDf2['homePrediction'] = y_pred_home"
   ]
  },
  {
   "cell_type": "code",
   "execution_count": 73,
   "metadata": {},
   "outputs": [
    {
     "data": {
      "text/plain": [
       "'homeScore'"
      ]
     },
     "execution_count": 73,
     "metadata": {},
     "output_type": "execute_result"
    }
   ],
   "source": [
    "colsAway = list(testDf.columns)\n",
    "colsAway.pop(-8)\n",
    "colsAway.pop(2)\n",
    "colsAway.pop(-1)\n",
    "colsAway.pop(-1)\n",
    "# colsAway\n",
    "colsHome = list(testDf2.columns)\n",
    "colsHome.pop(-8)\n",
    "colsHome.pop(2)\n",
    "colsHome.pop(-1)\n",
    "colsHome.pop(-1)\n",
    "# colsHome"
   ]
  },
  {
   "cell_type": "code",
   "execution_count": 74,
   "metadata": {
    "collapsed": true
   },
   "outputs": [],
   "source": [
    "awayPredDf = awayMatchup.merge(testDf, on=colsAway)\n",
    "homePredDf = homeMatchup.merge(testDf2, on=colsHome)"
   ]
  },
  {
   "cell_type": "code",
   "execution_count": 75,
   "metadata": {
    "scrolled": true
   },
   "outputs": [],
   "source": [
    "awayHomeMerge = awayPredDf.merge(homePredDf, on=['gameId','date','season','week'])\n",
    "#awayHomeMerge.columns"
   ]
  },
  {
   "cell_type": "code",
   "execution_count": 76,
   "metadata": {},
   "outputs": [
    {
     "data": {
      "text/html": [
       "<div>\n",
       "<style>\n",
       "    .dataframe thead tr:only-child th {\n",
       "        text-align: right;\n",
       "    }\n",
       "\n",
       "    .dataframe thead th {\n",
       "        text-align: left;\n",
       "    }\n",
       "\n",
       "    .dataframe tbody tr th {\n",
       "        vertical-align: top;\n",
       "    }\n",
       "</style>\n",
       "<table border=\"1\" class=\"dataframe\">\n",
       "  <thead>\n",
       "    <tr style=\"text-align: right;\">\n",
       "      <th></th>\n",
       "      <th>gameId</th>\n",
       "      <th>date</th>\n",
       "      <th>season</th>\n",
       "      <th>week</th>\n",
       "      <th>awayPrediction</th>\n",
       "      <th>homePrediction</th>\n",
       "    </tr>\n",
       "  </thead>\n",
       "  <tbody>\n",
       "    <tr>\n",
       "      <th>0</th>\n",
       "      <td>201709100det</td>\n",
       "      <td>2017-09-10</td>\n",
       "      <td>2017</td>\n",
       "      <td>1</td>\n",
       "      <td>21.951066</td>\n",
       "      <td>24.391565</td>\n",
       "    </tr>\n",
       "    <tr>\n",
       "      <th>1</th>\n",
       "      <td>201709170clt</td>\n",
       "      <td>2017-09-17</td>\n",
       "      <td>2017</td>\n",
       "      <td>2</td>\n",
       "      <td>24.200141</td>\n",
       "      <td>24.746882</td>\n",
       "    </tr>\n",
       "    <tr>\n",
       "      <th>2</th>\n",
       "      <td>201812160atl</td>\n",
       "      <td>2018-12-16</td>\n",
       "      <td>2018</td>\n",
       "      <td>15</td>\n",
       "      <td>16.696198</td>\n",
       "      <td>27.297460</td>\n",
       "    </tr>\n",
       "    <tr>\n",
       "      <th>3</th>\n",
       "      <td>201801060ram</td>\n",
       "      <td>2018-01-06</td>\n",
       "      <td>2017</td>\n",
       "      <td>18</td>\n",
       "      <td>21.205552</td>\n",
       "      <td>23.925811</td>\n",
       "    </tr>\n",
       "    <tr>\n",
       "      <th>4</th>\n",
       "      <td>201609180rai</td>\n",
       "      <td>2016-09-18</td>\n",
       "      <td>2016</td>\n",
       "      <td>2</td>\n",
       "      <td>18.195464</td>\n",
       "      <td>26.582297</td>\n",
       "    </tr>\n",
       "  </tbody>\n",
       "</table>\n",
       "</div>"
      ],
      "text/plain": [
       "         gameId       date  season  week  awayPrediction  homePrediction\n",
       "0  201709100det 2017-09-10    2017     1       21.951066       24.391565\n",
       "1  201709170clt 2017-09-17    2017     2       24.200141       24.746882\n",
       "2  201812160atl 2018-12-16    2018    15       16.696198       27.297460\n",
       "3  201801060ram 2018-01-06    2017    18       21.205552       23.925811\n",
       "4  201609180rai 2016-09-18    2016     2       18.195464       26.582297"
      ]
     },
     "execution_count": 76,
     "metadata": {},
     "output_type": "execute_result"
    }
   ],
   "source": [
    "awayHomeMerge = awayHomeMerge[['gameId', 'date', 'season', 'week','awayPrediction', 'homePrediction']]\n",
    "awayHomeMerge.head()"
   ]
  },
  {
   "cell_type": "code",
   "execution_count": 77,
   "metadata": {
    "collapsed": true
   },
   "outputs": [],
   "source": [
    "finalDf = gameTable.merge(awayHomeMerge, on=['gameId', 'date'])\n",
    "finalDf['totalPrediction'] = finalDf['awayPrediction'] + finalDf['homePrediction']\n",
    "#finalDf.columns"
   ]
  },
  {
   "cell_type": "code",
   "execution_count": 78,
   "metadata": {
    "collapsed": true
   },
   "outputs": [],
   "source": [
    "finalDf = finalDf[['gameId', 'date', 'season', 'week', 'awayTeam', 'awayPrediction', 'awayScore',\n",
    "                   'homeTeam','homePrediction', 'homeScore', 'overUnder', 'result', 'totalPrediction', 'totalScore']]"
   ]
  },
  {
   "cell_type": "code",
   "execution_count": 79,
   "metadata": {},
   "outputs": [
    {
     "data": {
      "text/plain": [
       "under    20\n",
       "over     16\n",
       "push      1\n",
       "Name: result, dtype: int64"
      ]
     },
     "execution_count": 79,
     "metadata": {},
     "output_type": "execute_result"
    }
   ],
   "source": [
    "undersDf = finalDf[finalDf['totalPrediction'] <= finalDf['overUnder'] - 5]\n",
    "undersDf['result'].value_counts()"
   ]
  },
  {
   "cell_type": "code",
   "execution_count": 80,
   "metadata": {},
   "outputs": [
    {
     "data": {
      "text/plain": [
       "under    51\n",
       "over     39\n",
       "push      1\n",
       "Name: result, dtype: int64"
      ]
     },
     "execution_count": 80,
     "metadata": {},
     "output_type": "execute_result"
    }
   ],
   "source": [
    "undersDf = finalDf[finalDf['totalPrediction'] <= finalDf['overUnder'] - 3]\n",
    "undersDf['result'].value_counts()"
   ]
  },
  {
   "cell_type": "code",
   "execution_count": 81,
   "metadata": {},
   "outputs": [
    {
     "data": {
      "text/plain": [
       "under    113\n",
       "over      99\n",
       "push       2\n",
       "Name: result, dtype: int64"
      ]
     },
     "execution_count": 81,
     "metadata": {},
     "output_type": "execute_result"
    }
   ],
   "source": [
    "undersDf = finalDf[finalDf['totalPrediction'] <= finalDf['overUnder'] - 1]\n",
    "undersDf['result'].value_counts()"
   ]
  },
  {
   "cell_type": "code",
   "execution_count": 82,
   "metadata": {},
   "outputs": [
    {
     "data": {
      "text/plain": [
       "over     25\n",
       "under    18\n",
       "push      2\n",
       "Name: result, dtype: int64"
      ]
     },
     "execution_count": 82,
     "metadata": {},
     "output_type": "execute_result"
    }
   ],
   "source": [
    "oversDf = finalDf[finalDf['totalPrediction'] >= finalDf['overUnder'] + 5]\n",
    "oversDf['result'].value_counts()"
   ]
  },
  {
   "cell_type": "code",
   "execution_count": 83,
   "metadata": {},
   "outputs": [
    {
     "data": {
      "text/plain": [
       "over     68\n",
       "under    60\n",
       "push      2\n",
       "Name: result, dtype: int64"
      ]
     },
     "execution_count": 83,
     "metadata": {},
     "output_type": "execute_result"
    }
   ],
   "source": [
    "oversDf = finalDf[finalDf['totalPrediction'] >= finalDf['overUnder'] + 3]\n",
    "oversDf['result'].value_counts()"
   ]
  },
  {
   "cell_type": "code",
   "execution_count": 84,
   "metadata": {
    "scrolled": true
   },
   "outputs": [
    {
     "data": {
      "text/plain": [
       "over     144\n",
       "under    124\n",
       "push       4\n",
       "Name: result, dtype: int64"
      ]
     },
     "execution_count": 84,
     "metadata": {},
     "output_type": "execute_result"
    }
   ],
   "source": [
    "oversDf = finalDf[finalDf['totalPrediction'] >= finalDf['overUnder'] + 1]\n",
    "oversDf['result'].value_counts()"
   ]
  },
  {
   "cell_type": "code",
   "execution_count": null,
   "metadata": {
    "collapsed": true
   },
   "outputs": [],
   "source": []
  },
  {
   "cell_type": "code",
   "execution_count": null,
   "metadata": {
    "collapsed": true
   },
   "outputs": [],
   "source": []
  },
  {
   "cell_type": "code",
   "execution_count": null,
   "metadata": {
    "collapsed": true
   },
   "outputs": [],
   "source": []
  },
  {
   "cell_type": "code",
   "execution_count": null,
   "metadata": {
    "collapsed": true
   },
   "outputs": [],
   "source": []
  },
  {
   "cell_type": "code",
   "execution_count": null,
   "metadata": {
    "collapsed": true
   },
   "outputs": [],
   "source": []
  },
  {
   "cell_type": "code",
   "execution_count": null,
   "metadata": {
    "collapsed": true
   },
   "outputs": [],
   "source": []
  },
  {
   "cell_type": "code",
   "execution_count": null,
   "metadata": {
    "collapsed": true
   },
   "outputs": [],
   "source": []
  },
  {
   "cell_type": "code",
   "execution_count": null,
   "metadata": {
    "collapsed": true
   },
   "outputs": [],
   "source": []
  },
  {
   "cell_type": "code",
   "execution_count": null,
   "metadata": {
    "collapsed": true
   },
   "outputs": [],
   "source": []
  }
 ],
 "metadata": {
  "kernelspec": {
   "display_name": "Python 3",
   "language": "python",
   "name": "python3"
  },
  "language_info": {
   "codemirror_mode": {
    "name": "ipython",
    "version": 3
   },
   "file_extension": ".py",
   "mimetype": "text/x-python",
   "name": "python",
   "nbconvert_exporter": "python",
   "pygments_lexer": "ipython3",
   "version": "3.4.0"
  }
 },
 "nbformat": 4,
 "nbformat_minor": 2
}
