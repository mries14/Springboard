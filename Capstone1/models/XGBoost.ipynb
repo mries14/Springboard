{
 "cells": [
  {
   "cell_type": "code",
   "execution_count": 56,
   "metadata": {},
   "outputs": [],
   "source": [
    "import pandas as pd\n",
    "import numpy as np\n",
    "import matplotlib.pyplot as plt\n",
    "from sklearn.preprocessing import LabelEncoder\n",
    "import random\n",
    "from sklearn.metrics import mean_squared_error\n",
    "from sklearn.model_selection import train_test_split\n",
    "import statsmodels.formula.api as sm\n",
    "from sklearn.model_selection import KFold\n",
    "from sklearn.cross_validation import cross_val_score, cross_val_predict\n",
    "from sklearn import metrics\n",
    "import xgboost as xgb"
   ]
  },
  {
   "cell_type": "code",
   "execution_count": 57,
   "metadata": {
    "collapsed": true
   },
   "outputs": [],
   "source": [
    "%store -r awayMatchup\n",
    "%store -r homeMatchup\n",
    "%store -r gameTable"
   ]
  },
  {
   "cell_type": "code",
   "execution_count": 58,
   "metadata": {
    "collapsed": true
   },
   "outputs": [],
   "source": [
    "cols = list(awayMatchup.columns)\n",
    "cols\n",
    "cols.pop(21)\n",
    "cols.append('pf')"
   ]
  },
  {
   "cell_type": "code",
   "execution_count": 59,
   "metadata": {
    "collapsed": true
   },
   "outputs": [],
   "source": [
    "awayMatchup = awayMatchup[cols]\n",
    "homeMatchup = homeMatchup[cols]\n",
    "\n",
    "# Only use weeks > 3 since dvoa is inaccurate before week 3, typically\n",
    "awayMatchup = awayMatchup[awayMatchup['week'] >= 3]\n",
    "homeMatchup = homeMatchup[homeMatchup['week'] >= 3]"
   ]
  },
  {
   "cell_type": "code",
   "execution_count": 401,
   "metadata": {
    "collapsed": true
   },
   "outputs": [],
   "source": [
    "X_train_away, X_test_away, y_train_away, y_test_away = train_test_split(awayMatchup.iloc[:,:-1],awayMatchup.iloc[:,-1:], test_size=0.2,random_state=166)"
   ]
  },
  {
   "cell_type": "code",
   "execution_count": 402,
   "metadata": {
    "collapsed": true
   },
   "outputs": [],
   "source": [
    "# Now we want to predict points for (pf) for the homeMatchup/awayMatchup tables\n",
    "# Setup table in way to do so:\n",
    "ID_col = ['gameId']\n",
    "target_col = ['pf']\n",
    "cat_cols = ['roof','surface']\n",
    "num_cols= ['ptsMatchup', 'offMatchup', 'ovrMatchup', 'passMatchup', 'pblkMatchup',\n",
    "           'runMatchup', 'totalDvoaMatchup', 'offDvoaMatchup','avgRecv','overUnder']\n",
    "other_col= ['date','season','week','stadium','team_x','team_y','homeAway','avgPf',\n",
    "            'avgOvr_x', 'avgOff', 'avgPass', 'avgPblk','avgRun', 'avgRblk',\n",
    "            'totalDvoa_x', 'offDvoa','pa', 'totalScore','avgPa', 'avgOvr_y',\n",
    "            'avgDef', 'avgRdef', 'avgPrsh', 'avgCov', 'totalDvoa_y', 'defDvoa']"
   ]
  },
  {
   "cell_type": "code",
   "execution_count": 403,
   "metadata": {
    "collapsed": true
   },
   "outputs": [],
   "source": [
    "# Create label encoders for categorical variables and split the data set\n",
    "# to train & test, further split the train data set to Train and Validate\n",
    "\n",
    "#create label encoders for categorical features\n",
    "for var in cat_cols:\n",
    "    number = LabelEncoder()\n",
    "    X_train_away[var] = number.fit_transform(X_train_away[var].astype('str'))\n",
    "\n",
    "for var in cat_cols:\n",
    "    number = LabelEncoder()\n",
    "    X_test_away[var] = number.fit_transform(X_test_away[var].astype('str'))\n",
    "    \n",
    "# Pass the imputed and dummy (missing values flags) variables into the\n",
    "# modeling process. Use random forest to predict the class\n",
    "features=list(set(list(X_train_away.columns))-set(ID_col)-set(target_col)-set(other_col))\n",
    "\n",
    "X_train_away = X_train_away[list(features)]\n",
    "X_test_away= X_test_away[list(features)]\n"
   ]
  },
  {
   "cell_type": "code",
   "execution_count": 404,
   "metadata": {
    "scrolled": true
   },
   "outputs": [
    {
     "data": {
      "text/html": [
       "<div>\n",
       "<style>\n",
       "    .dataframe thead tr:only-child th {\n",
       "        text-align: right;\n",
       "    }\n",
       "\n",
       "    .dataframe thead th {\n",
       "        text-align: left;\n",
       "    }\n",
       "\n",
       "    .dataframe tbody tr th {\n",
       "        vertical-align: top;\n",
       "    }\n",
       "</style>\n",
       "<table border=\"1\" class=\"dataframe\">\n",
       "  <thead>\n",
       "    <tr style=\"text-align: right;\">\n",
       "      <th></th>\n",
       "      <th>ptsMatchup</th>\n",
       "      <th>stDvoa</th>\n",
       "      <th>pblkMatchup</th>\n",
       "      <th>passMatchup</th>\n",
       "      <th>roof</th>\n",
       "      <th>surface</th>\n",
       "      <th>overUnder</th>\n",
       "      <th>offMatchup</th>\n",
       "      <th>totalDvoaMatchup</th>\n",
       "      <th>ovrMatchup</th>\n",
       "      <th>runMatchup</th>\n",
       "      <th>avgRecv</th>\n",
       "      <th>offDvoaMatchup</th>\n",
       "    </tr>\n",
       "  </thead>\n",
       "  <tbody>\n",
       "    <tr>\n",
       "      <th>2325</th>\n",
       "      <td>44.571429</td>\n",
       "      <td>0.050</td>\n",
       "      <td>12.157143</td>\n",
       "      <td>6.971429</td>\n",
       "      <td>1</td>\n",
       "      <td>0</td>\n",
       "      <td>37.0</td>\n",
       "      <td>2.571429</td>\n",
       "      <td>0.023</td>\n",
       "      <td>1.542857</td>\n",
       "      <td>-15.014286</td>\n",
       "      <td>64.557143</td>\n",
       "      <td>0.031</td>\n",
       "    </tr>\n",
       "    <tr>\n",
       "      <th>1626</th>\n",
       "      <td>51.428571</td>\n",
       "      <td>0.012</td>\n",
       "      <td>12.571429</td>\n",
       "      <td>-0.328571</td>\n",
       "      <td>1</td>\n",
       "      <td>0</td>\n",
       "      <td>46.0</td>\n",
       "      <td>13.371429</td>\n",
       "      <td>0.229</td>\n",
       "      <td>3.528571</td>\n",
       "      <td>7.457143</td>\n",
       "      <td>63.542857</td>\n",
       "      <td>0.253</td>\n",
       "    </tr>\n",
       "    <tr>\n",
       "      <th>916</th>\n",
       "      <td>33.428571</td>\n",
       "      <td>0.001</td>\n",
       "      <td>12.900000</td>\n",
       "      <td>-3.414286</td>\n",
       "      <td>1</td>\n",
       "      <td>0</td>\n",
       "      <td>37.5</td>\n",
       "      <td>-2.685714</td>\n",
       "      <td>-0.439</td>\n",
       "      <td>-5.614286</td>\n",
       "      <td>-11.442857</td>\n",
       "      <td>62.785714</td>\n",
       "      <td>-0.218</td>\n",
       "    </tr>\n",
       "    <tr>\n",
       "      <th>1074</th>\n",
       "      <td>42.714286</td>\n",
       "      <td>0.076</td>\n",
       "      <td>11.457143</td>\n",
       "      <td>-13.728571</td>\n",
       "      <td>0</td>\n",
       "      <td>0</td>\n",
       "      <td>48.0</td>\n",
       "      <td>-4.257143</td>\n",
       "      <td>-0.418</td>\n",
       "      <td>-8.557143</td>\n",
       "      <td>-1.814286</td>\n",
       "      <td>64.028571</td>\n",
       "      <td>-0.261</td>\n",
       "    </tr>\n",
       "    <tr>\n",
       "      <th>1751</th>\n",
       "      <td>50.857143</td>\n",
       "      <td>0.004</td>\n",
       "      <td>15.885714</td>\n",
       "      <td>0.114286</td>\n",
       "      <td>1</td>\n",
       "      <td>0</td>\n",
       "      <td>46.0</td>\n",
       "      <td>10.657143</td>\n",
       "      <td>0.007</td>\n",
       "      <td>-1.471429</td>\n",
       "      <td>3.928571</td>\n",
       "      <td>64.900000</td>\n",
       "      <td>-0.044</td>\n",
       "    </tr>\n",
       "  </tbody>\n",
       "</table>\n",
       "</div>"
      ],
      "text/plain": [
       "      ptsMatchup  stDvoa  pblkMatchup  passMatchup  roof  surface  overUnder  \\\n",
       "2325   44.571429   0.050    12.157143     6.971429     1        0       37.0   \n",
       "1626   51.428571   0.012    12.571429    -0.328571     1        0       46.0   \n",
       "916    33.428571   0.001    12.900000    -3.414286     1        0       37.5   \n",
       "1074   42.714286   0.076    11.457143   -13.728571     0        0       48.0   \n",
       "1751   50.857143   0.004    15.885714     0.114286     1        0       46.0   \n",
       "\n",
       "      offMatchup  totalDvoaMatchup  ovrMatchup  runMatchup    avgRecv  \\\n",
       "2325    2.571429             0.023    1.542857  -15.014286  64.557143   \n",
       "1626   13.371429             0.229    3.528571    7.457143  63.542857   \n",
       "916    -2.685714            -0.439   -5.614286  -11.442857  62.785714   \n",
       "1074   -4.257143            -0.418   -8.557143   -1.814286  64.028571   \n",
       "1751   10.657143             0.007   -1.471429    3.928571  64.900000   \n",
       "\n",
       "      offDvoaMatchup  \n",
       "2325           0.031  \n",
       "1626           0.253  \n",
       "916           -0.218  \n",
       "1074          -0.261  \n",
       "1751          -0.044  "
      ]
     },
     "execution_count": 404,
     "metadata": {},
     "output_type": "execute_result"
    }
   ],
   "source": [
    "X_train_away.head()"
   ]
  },
  {
   "cell_type": "code",
   "execution_count": 405,
   "metadata": {},
   "outputs": [
    {
     "name": "stdout",
     "output_type": "stream",
     "text": [
      "[16:40:07] WARNING: C:/Jenkins/workspace/xgboost-win64_release_0.90/src/objective/regression_obj.cu:152: reg:linear is now deprecated in favor of reg:squarederror.\n"
     ]
    },
    {
     "data": {
      "text/plain": [
       "XGBRegressor(base_score=0.5, booster='gbtree', colsample_bylevel=1,\n",
       "       colsample_bynode=1, colsample_bytree=1, gamma=0,\n",
       "       importance_type='gain', learning_rate=0.1, max_delta_step=0,\n",
       "       max_depth=3, min_child_weight=1, missing=None, n_estimators=100,\n",
       "       n_jobs=1, nthread=None, objective='reg:linear', random_state=0,\n",
       "       reg_alpha=0, reg_lambda=1, scale_pos_weight=1, seed=None,\n",
       "       silent=None, subsample=1, verbosity=1)"
      ]
     },
     "execution_count": 405,
     "metadata": {},
     "output_type": "execute_result"
    }
   ],
   "source": [
    "model = xgb.XGBRegressor()\n",
    "model.fit(X_train_away, y_train_away)"
   ]
  },
  {
   "cell_type": "code",
   "execution_count": 406,
   "metadata": {},
   "outputs": [
    {
     "name": "stdout",
     "output_type": "stream",
     "text": [
      "97.1417619293\n"
     ]
    }
   ],
   "source": [
    "y_pred_away = model.predict(X_test_away)\n",
    "print(mean_squared_error(y_test_away, y_pred_away))"
   ]
  },
  {
   "cell_type": "code",
   "execution_count": 407,
   "metadata": {
    "collapsed": true
   },
   "outputs": [],
   "source": [
    "# Now repeat the process for homeMatchup table:\n",
    "X_train_home, X_test_home, y_train_home, y_test_home = train_test_split(homeMatchup.iloc[:,:-1],homeMatchup.iloc[:,-1:], test_size=0.2,random_state=166)\n",
    "\n",
    "for var in cat_cols:\n",
    "    number = LabelEncoder()\n",
    "    X_train_home[var] = number.fit_transform(X_train_home[var].astype('str'))\n",
    "\n",
    "for var in cat_cols:\n",
    "    number = LabelEncoder()\n",
    "    X_test_home[var] = number.fit_transform(X_test_home[var].astype('str'))\n",
    "    \n",
    "features=list(set(list(X_train_home.columns))-set(ID_col)-set(target_col)-set(other_col))\n",
    "\n",
    "X_train_home = X_train_home[list(features)]\n",
    "X_test_home= X_test_home[list(features)]"
   ]
  },
  {
   "cell_type": "code",
   "execution_count": 408,
   "metadata": {},
   "outputs": [
    {
     "data": {
      "text/html": [
       "<div>\n",
       "<style>\n",
       "    .dataframe thead tr:only-child th {\n",
       "        text-align: right;\n",
       "    }\n",
       "\n",
       "    .dataframe thead th {\n",
       "        text-align: left;\n",
       "    }\n",
       "\n",
       "    .dataframe tbody tr th {\n",
       "        vertical-align: top;\n",
       "    }\n",
       "</style>\n",
       "<table border=\"1\" class=\"dataframe\">\n",
       "  <thead>\n",
       "    <tr style=\"text-align: right;\">\n",
       "      <th></th>\n",
       "      <th>ptsMatchup</th>\n",
       "      <th>stDvoa</th>\n",
       "      <th>pblkMatchup</th>\n",
       "      <th>passMatchup</th>\n",
       "      <th>roof</th>\n",
       "      <th>surface</th>\n",
       "      <th>overUnder</th>\n",
       "      <th>offMatchup</th>\n",
       "      <th>totalDvoaMatchup</th>\n",
       "      <th>ovrMatchup</th>\n",
       "      <th>runMatchup</th>\n",
       "      <th>avgRecv</th>\n",
       "      <th>offDvoaMatchup</th>\n",
       "    </tr>\n",
       "  </thead>\n",
       "  <tbody>\n",
       "    <tr>\n",
       "      <th>2325</th>\n",
       "      <td>36.857143</td>\n",
       "      <td>0.044</td>\n",
       "      <td>6.328571</td>\n",
       "      <td>4.228571</td>\n",
       "      <td>1</td>\n",
       "      <td>0</td>\n",
       "      <td>37.0</td>\n",
       "      <td>0.114286</td>\n",
       "      <td>-0.023</td>\n",
       "      <td>-1.542857</td>\n",
       "      <td>-19.442857</td>\n",
       "      <td>66.928571</td>\n",
       "      <td>0.014</td>\n",
       "    </tr>\n",
       "    <tr>\n",
       "      <th>1626</th>\n",
       "      <td>43.000000</td>\n",
       "      <td>-0.001</td>\n",
       "      <td>2.757143</td>\n",
       "      <td>2.785714</td>\n",
       "      <td>1</td>\n",
       "      <td>0</td>\n",
       "      <td>46.0</td>\n",
       "      <td>8.128571</td>\n",
       "      <td>-0.229</td>\n",
       "      <td>-3.528571</td>\n",
       "      <td>6.114286</td>\n",
       "      <td>60.114286</td>\n",
       "      <td>0.037</td>\n",
       "    </tr>\n",
       "    <tr>\n",
       "      <th>916</th>\n",
       "      <td>46.000000</td>\n",
       "      <td>-0.026</td>\n",
       "      <td>13.771429</td>\n",
       "      <td>5.757143</td>\n",
       "      <td>1</td>\n",
       "      <td>0</td>\n",
       "      <td>37.5</td>\n",
       "      <td>5.314286</td>\n",
       "      <td>0.439</td>\n",
       "      <td>5.614286</td>\n",
       "      <td>-6.385714</td>\n",
       "      <td>64.971429</td>\n",
       "      <td>0.248</td>\n",
       "    </tr>\n",
       "    <tr>\n",
       "      <th>1074</th>\n",
       "      <td>63.285714</td>\n",
       "      <td>-0.096</td>\n",
       "      <td>3.228571</td>\n",
       "      <td>7.171429</td>\n",
       "      <td>0</td>\n",
       "      <td>0</td>\n",
       "      <td>48.0</td>\n",
       "      <td>9.528571</td>\n",
       "      <td>0.418</td>\n",
       "      <td>8.557143</td>\n",
       "      <td>5.028571</td>\n",
       "      <td>72.357143</td>\n",
       "      <td>0.329</td>\n",
       "    </tr>\n",
       "    <tr>\n",
       "      <th>1751</th>\n",
       "      <td>53.428571</td>\n",
       "      <td>-0.030</td>\n",
       "      <td>16.585714</td>\n",
       "      <td>6.971429</td>\n",
       "      <td>1</td>\n",
       "      <td>0</td>\n",
       "      <td>46.0</td>\n",
       "      <td>13.842857</td>\n",
       "      <td>-0.007</td>\n",
       "      <td>1.471429</td>\n",
       "      <td>1.014286</td>\n",
       "      <td>71.914286</td>\n",
       "      <td>-0.018</td>\n",
       "    </tr>\n",
       "  </tbody>\n",
       "</table>\n",
       "</div>"
      ],
      "text/plain": [
       "      ptsMatchup  stDvoa  pblkMatchup  passMatchup  roof  surface  overUnder  \\\n",
       "2325   36.857143   0.044     6.328571     4.228571     1        0       37.0   \n",
       "1626   43.000000  -0.001     2.757143     2.785714     1        0       46.0   \n",
       "916    46.000000  -0.026    13.771429     5.757143     1        0       37.5   \n",
       "1074   63.285714  -0.096     3.228571     7.171429     0        0       48.0   \n",
       "1751   53.428571  -0.030    16.585714     6.971429     1        0       46.0   \n",
       "\n",
       "      offMatchup  totalDvoaMatchup  ovrMatchup  runMatchup    avgRecv  \\\n",
       "2325    0.114286            -0.023   -1.542857  -19.442857  66.928571   \n",
       "1626    8.128571            -0.229   -3.528571    6.114286  60.114286   \n",
       "916     5.314286             0.439    5.614286   -6.385714  64.971429   \n",
       "1074    9.528571             0.418    8.557143    5.028571  72.357143   \n",
       "1751   13.842857            -0.007    1.471429    1.014286  71.914286   \n",
       "\n",
       "      offDvoaMatchup  \n",
       "2325           0.014  \n",
       "1626           0.037  \n",
       "916            0.248  \n",
       "1074           0.329  \n",
       "1751          -0.018  "
      ]
     },
     "execution_count": 408,
     "metadata": {},
     "output_type": "execute_result"
    }
   ],
   "source": [
    "X_train_home.head()"
   ]
  },
  {
   "cell_type": "code",
   "execution_count": 409,
   "metadata": {},
   "outputs": [
    {
     "name": "stdout",
     "output_type": "stream",
     "text": [
      "[16:40:08] WARNING: C:/Jenkins/workspace/xgboost-win64_release_0.90/src/objective/regression_obj.cu:152: reg:linear is now deprecated in favor of reg:squarederror.\n"
     ]
    },
    {
     "data": {
      "text/plain": [
       "XGBRegressor(base_score=0.5, booster='gbtree', colsample_bylevel=1,\n",
       "       colsample_bynode=1, colsample_bytree=1, gamma=0,\n",
       "       importance_type='gain', learning_rate=0.1, max_delta_step=0,\n",
       "       max_depth=3, min_child_weight=1, missing=None, n_estimators=100,\n",
       "       n_jobs=1, nthread=None, objective='reg:linear', random_state=0,\n",
       "       reg_alpha=0, reg_lambda=1, scale_pos_weight=1, seed=None,\n",
       "       silent=None, subsample=1, verbosity=1)"
      ]
     },
     "execution_count": 409,
     "metadata": {},
     "output_type": "execute_result"
    }
   ],
   "source": [
    "model = xgb.XGBRegressor()\n",
    "model.fit(X_train_home, y_train_home)"
   ]
  },
  {
   "cell_type": "code",
   "execution_count": 410,
   "metadata": {},
   "outputs": [
    {
     "name": "stdout",
     "output_type": "stream",
     "text": [
      "94.7145631656\n"
     ]
    }
   ],
   "source": [
    "y_pred_home = model.predict(X_test_home)\n",
    "print(mean_squared_error(y_test_home, y_pred_home))"
   ]
  },
  {
   "cell_type": "code",
   "execution_count": 411,
   "metadata": {
    "collapsed": true
   },
   "outputs": [],
   "source": [
    "testDf = pd.DataFrame(X_test_away)\n",
    "testDf['awayScore'] = y_test_away\n",
    "testDf['awayPrediction'] = y_pred_away\n",
    "testDf2 = pd.DataFrame(X_test_home)\n",
    "testDf2['homeScore'] = y_test_home\n",
    "testDf2['homePrediction'] = y_pred_home"
   ]
  },
  {
   "cell_type": "code",
   "execution_count": 412,
   "metadata": {},
   "outputs": [
    {
     "data": {
      "text/plain": [
       "'homeScore'"
      ]
     },
     "execution_count": 412,
     "metadata": {},
     "output_type": "execute_result"
    }
   ],
   "source": [
    "colsAway = list(testDf.columns)\n",
    "colsAway.pop(4)\n",
    "colsAway.pop(4)\n",
    "colsAway.pop(-1)\n",
    "colsAway.pop(-1)\n",
    "#colsAway\n",
    "colsHome = list(testDf2.columns)\n",
    "colsHome.pop(4)\n",
    "colsHome.pop(4)\n",
    "colsHome.pop(-1)\n",
    "colsHome.pop(-1)\n",
    "#colsHome"
   ]
  },
  {
   "cell_type": "code",
   "execution_count": 413,
   "metadata": {},
   "outputs": [
    {
     "data": {
      "text/html": [
       "<div>\n",
       "<style>\n",
       "    .dataframe thead tr:only-child th {\n",
       "        text-align: right;\n",
       "    }\n",
       "\n",
       "    .dataframe thead th {\n",
       "        text-align: left;\n",
       "    }\n",
       "\n",
       "    .dataframe tbody tr th {\n",
       "        vertical-align: top;\n",
       "    }\n",
       "</style>\n",
       "<table border=\"1\" class=\"dataframe\">\n",
       "  <thead>\n",
       "    <tr style=\"text-align: right;\">\n",
       "      <th></th>\n",
       "      <th>gameId</th>\n",
       "      <th>date</th>\n",
       "      <th>season</th>\n",
       "      <th>week</th>\n",
       "      <th>awayPrediction</th>\n",
       "      <th>homePrediction</th>\n",
       "    </tr>\n",
       "  </thead>\n",
       "  <tbody>\n",
       "    <tr>\n",
       "      <th>543</th>\n",
       "      <td>201309290rai</td>\n",
       "      <td>2013-09-29</td>\n",
       "      <td>2013</td>\n",
       "      <td>4</td>\n",
       "      <td>20.829750</td>\n",
       "      <td>22.904663</td>\n",
       "    </tr>\n",
       "    <tr>\n",
       "      <th>544</th>\n",
       "      <td>200912130rai</td>\n",
       "      <td>2009-12-13</td>\n",
       "      <td>2009</td>\n",
       "      <td>14</td>\n",
       "      <td>27.342749</td>\n",
       "      <td>18.437450</td>\n",
       "    </tr>\n",
       "    <tr>\n",
       "      <th>545</th>\n",
       "      <td>200811230sea</td>\n",
       "      <td>2008-11-23</td>\n",
       "      <td>2008</td>\n",
       "      <td>12</td>\n",
       "      <td>24.881224</td>\n",
       "      <td>13.832779</td>\n",
       "    </tr>\n",
       "    <tr>\n",
       "      <th>546</th>\n",
       "      <td>201310270den</td>\n",
       "      <td>2013-10-27</td>\n",
       "      <td>2013</td>\n",
       "      <td>8</td>\n",
       "      <td>24.137657</td>\n",
       "      <td>35.120605</td>\n",
       "    </tr>\n",
       "    <tr>\n",
       "      <th>547</th>\n",
       "      <td>201111130mia</td>\n",
       "      <td>2011-11-13</td>\n",
       "      <td>2011</td>\n",
       "      <td>10</td>\n",
       "      <td>20.546524</td>\n",
       "      <td>20.716974</td>\n",
       "    </tr>\n",
       "  </tbody>\n",
       "</table>\n",
       "</div>"
      ],
      "text/plain": [
       "           gameId       date  season  week  awayPrediction  homePrediction\n",
       "543  201309290rai 2013-09-29    2013     4       20.829750       22.904663\n",
       "544  200912130rai 2009-12-13    2009    14       27.342749       18.437450\n",
       "545  200811230sea 2008-11-23    2008    12       24.881224       13.832779\n",
       "546  201310270den 2013-10-27    2013     8       24.137657       35.120605\n",
       "547  201111130mia 2011-11-13    2011    10       20.546524       20.716974"
      ]
     },
     "execution_count": 413,
     "metadata": {},
     "output_type": "execute_result"
    }
   ],
   "source": [
    "awayPredDf = awayMatchup.merge(testDf, on=colsAway)\n",
    "homePredDf = homeMatchup.merge(testDf2, on=colsHome)\n",
    "\n",
    "awayHomeMerge = awayPredDf.merge(homePredDf, on=['gameId','date','season','week'])\n",
    "\n",
    "awayHomeMerge = awayHomeMerge[['gameId', 'date', 'season', 'week','awayPrediction', 'homePrediction']]\n",
    "awayHomeMerge.tail()"
   ]
  },
  {
   "cell_type": "code",
   "execution_count": 414,
   "metadata": {
    "collapsed": true
   },
   "outputs": [],
   "source": [
    "finalDf = gameTable.merge(awayHomeMerge, on=['gameId', 'date'])\n",
    "finalDf['totalPrediction'] = finalDf['awayPrediction'] + finalDf['homePrediction']\n",
    "\n",
    "\n",
    "finalDf = finalDf[['gameId', 'date', 'season', 'week', 'awayTeam', 'awayPrediction', 'awayScore',\n",
    "                   'homeTeam','homePrediction', 'homeScore', 'overUnder', 'result', 'totalPrediction', 'totalScore']]"
   ]
  },
  {
   "cell_type": "code",
   "execution_count": 415,
   "metadata": {},
   "outputs": [
    {
     "data": {
      "text/plain": [
       "under    9\n",
       "over     7\n",
       "Name: result, dtype: int64"
      ]
     },
     "execution_count": 415,
     "metadata": {},
     "output_type": "execute_result"
    }
   ],
   "source": [
    "undersDf = finalDf[finalDf['totalPrediction'] <= finalDf['overUnder'] - 5]\n",
    "undersDf['result'].value_counts()"
   ]
  },
  {
   "cell_type": "code",
   "execution_count": 416,
   "metadata": {},
   "outputs": [
    {
     "data": {
      "text/plain": [
       "under    27\n",
       "over     25\n",
       "Name: result, dtype: int64"
      ]
     },
     "execution_count": 416,
     "metadata": {},
     "output_type": "execute_result"
    }
   ],
   "source": [
    "undersDf = finalDf[finalDf['totalPrediction'] <= finalDf['overUnder'] - 3]\n",
    "undersDf['result'].value_counts()"
   ]
  },
  {
   "cell_type": "code",
   "execution_count": 417,
   "metadata": {},
   "outputs": [
    {
     "data": {
      "text/plain": [
       "under    90\n",
       "over     76\n",
       "push      2\n",
       "Name: result, dtype: int64"
      ]
     },
     "execution_count": 417,
     "metadata": {},
     "output_type": "execute_result"
    }
   ],
   "source": [
    "undersDf = finalDf[finalDf['totalPrediction'] <= finalDf['overUnder'] - 1]\n",
    "undersDf['result'].value_counts()"
   ]
  },
  {
   "cell_type": "code",
   "execution_count": 418,
   "metadata": {},
   "outputs": [
    {
     "data": {
      "text/plain": [
       "over     18\n",
       "under    18\n",
       "Name: result, dtype: int64"
      ]
     },
     "execution_count": 418,
     "metadata": {},
     "output_type": "execute_result"
    }
   ],
   "source": [
    "undersDf = finalDf[(finalDf['totalPrediction'] <= finalDf['overUnder'] - 3) & (finalDf['totalPrediction'] >= finalDf['overUnder'] - 5)]\n",
    "undersDf['result'].value_counts()"
   ]
  },
  {
   "cell_type": "code",
   "execution_count": 419,
   "metadata": {},
   "outputs": [
    {
     "data": {
      "text/plain": [
       "over     18\n",
       "under    17\n",
       "push      1\n",
       "Name: result, dtype: int64"
      ]
     },
     "execution_count": 419,
     "metadata": {},
     "output_type": "execute_result"
    }
   ],
   "source": [
    "oversDf = finalDf[finalDf['totalPrediction'] >= finalDf['overUnder'] + 5]\n",
    "oversDf['result'].value_counts()"
   ]
  },
  {
   "cell_type": "code",
   "execution_count": 420,
   "metadata": {},
   "outputs": [
    {
     "data": {
      "text/plain": [
       "over     53\n",
       "under    46\n",
       "push      1\n",
       "Name: result, dtype: int64"
      ]
     },
     "execution_count": 420,
     "metadata": {},
     "output_type": "execute_result"
    }
   ],
   "source": [
    "oversDf = finalDf[finalDf['totalPrediction'] >= finalDf['overUnder'] + 3]\n",
    "oversDf['result'].value_counts()"
   ]
  },
  {
   "cell_type": "code",
   "execution_count": 421,
   "metadata": {},
   "outputs": [
    {
     "data": {
      "text/plain": [
       "over     117\n",
       "under    107\n",
       "push       4\n",
       "Name: result, dtype: int64"
      ]
     },
     "execution_count": 421,
     "metadata": {},
     "output_type": "execute_result"
    }
   ],
   "source": [
    "oversDf = finalDf[finalDf['totalPrediction'] >= finalDf['overUnder'] + 1]\n",
    "oversDf['result'].value_counts()"
   ]
  },
  {
   "cell_type": "code",
   "execution_count": null,
   "metadata": {
    "collapsed": true
   },
   "outputs": [],
   "source": []
  },
  {
   "cell_type": "code",
   "execution_count": null,
   "metadata": {
    "collapsed": true
   },
   "outputs": [],
   "source": []
  }
 ],
 "metadata": {
  "kernelspec": {
   "display_name": "Python 3",
   "language": "python",
   "name": "python3"
  },
  "language_info": {
   "codemirror_mode": {
    "name": "ipython",
    "version": 3
   },
   "file_extension": ".py",
   "mimetype": "text/x-python",
   "name": "python",
   "nbconvert_exporter": "python",
   "pygments_lexer": "ipython3",
   "version": "3.4.0"
  }
 },
 "nbformat": 4,
 "nbformat_minor": 2
}
