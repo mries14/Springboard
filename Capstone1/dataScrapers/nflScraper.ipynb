{
 "cells": [
  {
   "cell_type": "code",
   "execution_count": 1,
   "metadata": {
    "collapsed": true
   },
   "outputs": [],
   "source": [
    "import pandas as pd\n",
    "import csv\n",
    "from urllib.request import urlopen\n",
    "from bs4 import BeautifulSoup, Comment\n",
    "import requests"
   ]
  },
  {
   "cell_type": "code",
   "execution_count": 2,
   "metadata": {},
   "outputs": [
    {
     "name": "stdout",
     "output_type": "stream",
     "text": [
      "{2016: [1, 2, 3, 4, 5, 6, 7, 8, 9, 10, 11, 12, 13, 14, 15, 16, 17, 18, 19, 20, 21], 2017: [1, 2, 3, 4, 5, 6, 7, 8, 9, 10, 11, 12, 13, 14, 15, 16, 17, 18, 19, 20, 21], 2018: [1, 2, 3, 4, 5, 6, 7, 8, 9, 10, 11, 12, 13, 14, 15, 16, 17, 18, 19, 20, 21], 2004: [1, 2, 3, 4, 5, 6, 7, 8, 9, 10, 11, 12, 13, 14, 15, 16, 17, 18, 19, 20, 21], 2005: [1, 2, 3, 4, 5, 6, 7, 8, 9, 10, 11, 12, 13, 14, 15, 16, 17, 18, 19, 20, 21], 2006: [1, 2, 3, 4, 5, 6, 7, 8, 9, 10, 11, 12, 13, 14, 15, 16, 17, 18, 19, 20, 21], 2007: [1, 2, 3, 4, 5, 6, 7, 8, 9, 10, 11, 12, 13, 14, 15, 16, 17, 18, 19, 20, 21], 2008: [1, 2, 3, 4, 5, 6, 7, 8, 9, 10, 11, 12, 13, 14, 15, 16, 17, 18, 19, 20, 21], 2009: [1, 2, 3, 4, 5, 6, 7, 8, 9, 10, 11, 12, 13, 14, 15, 16, 17, 18, 19, 20, 21], 2010: [1, 2, 3, 4, 5, 6, 7, 8, 9, 10, 11, 12, 13, 14, 15, 16, 17, 18, 19, 20, 21], 2011: [1, 2, 3, 4, 5, 6, 7, 8, 9, 10, 11, 12, 13, 14, 15, 16, 17, 18, 19, 20, 21], 2012: [1, 2, 3, 4, 5, 6, 7, 8, 9, 10, 11, 12, 13, 14, 15, 16, 17, 18, 19, 20, 21], 2013: [1, 2, 3, 4, 5, 6, 7, 8, 9, 10, 11, 12, 13, 14, 15, 16, 17, 18, 19, 20, 21], 2014: [1, 2, 3, 4, 5, 6, 7, 8, 9, 10, 11, 12, 13, 14, 15, 16, 17, 18, 19, 20, 21], 2015: [1, 2, 3, 4, 5, 6, 7, 8, 9, 10, 11, 12, 13, 14, 15, 16, 17, 18, 19, 20, 21]}\n"
     ]
    }
   ],
   "source": [
    "# Firstly we need to collect all links that we intend to scrape from\n",
    "# the data needed is in the format of:\n",
    "# https://www.pro-football-reference.com/years/2018/week_21.htm\n",
    "# We need to set up a dictionary containing all weeks and years: seasonDict\n",
    "\n",
    "# First setup years and weeks we are interested in. Note that the\n",
    "# postseason starts in week 18 and the superbowl is week 21\n",
    "# We will collect dating back to 2004\n",
    "yearNum = [year for year in range(2004,2019)]\n",
    "weekNum = [week for week in range(1,22)]\n",
    "seasonDict = {i : [j for j in weekNum] for i in yearNum}\n",
    "print(seasonDict)"
   ]
  },
  {
   "cell_type": "code",
   "execution_count": 3,
   "metadata": {},
   "outputs": [
    {
     "name": "stdout",
     "output_type": "stream",
     "text": [
      "['https://www.pro-football-reference.com/years/2016/week_1.htm', 'https://www.pro-football-reference.com/years/2016/week_2.htm', 'https://www.pro-football-reference.com/years/2016/week_3.htm', 'https://www.pro-football-reference.com/years/2016/week_4.htm', 'https://www.pro-football-reference.com/years/2016/week_5.htm', 'https://www.pro-football-reference.com/years/2016/week_6.htm', 'https://www.pro-football-reference.com/years/2016/week_7.htm', 'https://www.pro-football-reference.com/years/2016/week_8.htm', 'https://www.pro-football-reference.com/years/2016/week_9.htm', 'https://www.pro-football-reference.com/years/2016/week_10.htm', 'https://www.pro-football-reference.com/years/2016/week_11.htm', 'https://www.pro-football-reference.com/years/2016/week_12.htm', 'https://www.pro-football-reference.com/years/2016/week_13.htm', 'https://www.pro-football-reference.com/years/2016/week_14.htm', 'https://www.pro-football-reference.com/years/2016/week_15.htm', 'https://www.pro-football-reference.com/years/2016/week_16.htm', 'https://www.pro-football-reference.com/years/2016/week_17.htm', 'https://www.pro-football-reference.com/years/2016/week_18.htm', 'https://www.pro-football-reference.com/years/2016/week_19.htm', 'https://www.pro-football-reference.com/years/2016/week_20.htm', 'https://www.pro-football-reference.com/years/2016/week_21.htm', 'https://www.pro-football-reference.com/years/2017/week_1.htm', 'https://www.pro-football-reference.com/years/2017/week_2.htm', 'https://www.pro-football-reference.com/years/2017/week_3.htm', 'https://www.pro-football-reference.com/years/2017/week_4.htm', 'https://www.pro-football-reference.com/years/2017/week_5.htm', 'https://www.pro-football-reference.com/years/2017/week_6.htm', 'https://www.pro-football-reference.com/years/2017/week_7.htm', 'https://www.pro-football-reference.com/years/2017/week_8.htm', 'https://www.pro-football-reference.com/years/2017/week_9.htm', 'https://www.pro-football-reference.com/years/2017/week_10.htm', 'https://www.pro-football-reference.com/years/2017/week_11.htm', 'https://www.pro-football-reference.com/years/2017/week_12.htm', 'https://www.pro-football-reference.com/years/2017/week_13.htm', 'https://www.pro-football-reference.com/years/2017/week_14.htm', 'https://www.pro-football-reference.com/years/2017/week_15.htm', 'https://www.pro-football-reference.com/years/2017/week_16.htm', 'https://www.pro-football-reference.com/years/2017/week_17.htm', 'https://www.pro-football-reference.com/years/2017/week_18.htm', 'https://www.pro-football-reference.com/years/2017/week_19.htm', 'https://www.pro-football-reference.com/years/2017/week_20.htm', 'https://www.pro-football-reference.com/years/2017/week_21.htm', 'https://www.pro-football-reference.com/years/2018/week_1.htm', 'https://www.pro-football-reference.com/years/2018/week_2.htm', 'https://www.pro-football-reference.com/years/2018/week_3.htm', 'https://www.pro-football-reference.com/years/2018/week_4.htm', 'https://www.pro-football-reference.com/years/2018/week_5.htm', 'https://www.pro-football-reference.com/years/2018/week_6.htm', 'https://www.pro-football-reference.com/years/2018/week_7.htm', 'https://www.pro-football-reference.com/years/2018/week_8.htm', 'https://www.pro-football-reference.com/years/2018/week_9.htm', 'https://www.pro-football-reference.com/years/2018/week_10.htm', 'https://www.pro-football-reference.com/years/2018/week_11.htm', 'https://www.pro-football-reference.com/years/2018/week_12.htm', 'https://www.pro-football-reference.com/years/2018/week_13.htm', 'https://www.pro-football-reference.com/years/2018/week_14.htm', 'https://www.pro-football-reference.com/years/2018/week_15.htm', 'https://www.pro-football-reference.com/years/2018/week_16.htm', 'https://www.pro-football-reference.com/years/2018/week_17.htm', 'https://www.pro-football-reference.com/years/2018/week_18.htm', 'https://www.pro-football-reference.com/years/2018/week_19.htm', 'https://www.pro-football-reference.com/years/2018/week_20.htm', 'https://www.pro-football-reference.com/years/2018/week_21.htm', 'https://www.pro-football-reference.com/years/2004/week_1.htm', 'https://www.pro-football-reference.com/years/2004/week_2.htm', 'https://www.pro-football-reference.com/years/2004/week_3.htm', 'https://www.pro-football-reference.com/years/2004/week_4.htm', 'https://www.pro-football-reference.com/years/2004/week_5.htm', 'https://www.pro-football-reference.com/years/2004/week_6.htm', 'https://www.pro-football-reference.com/years/2004/week_7.htm', 'https://www.pro-football-reference.com/years/2004/week_8.htm', 'https://www.pro-football-reference.com/years/2004/week_9.htm', 'https://www.pro-football-reference.com/years/2004/week_10.htm', 'https://www.pro-football-reference.com/years/2004/week_11.htm', 'https://www.pro-football-reference.com/years/2004/week_12.htm', 'https://www.pro-football-reference.com/years/2004/week_13.htm', 'https://www.pro-football-reference.com/years/2004/week_14.htm', 'https://www.pro-football-reference.com/years/2004/week_15.htm', 'https://www.pro-football-reference.com/years/2004/week_16.htm', 'https://www.pro-football-reference.com/years/2004/week_17.htm', 'https://www.pro-football-reference.com/years/2004/week_18.htm', 'https://www.pro-football-reference.com/years/2004/week_19.htm', 'https://www.pro-football-reference.com/years/2004/week_20.htm', 'https://www.pro-football-reference.com/years/2004/week_21.htm', 'https://www.pro-football-reference.com/years/2005/week_1.htm', 'https://www.pro-football-reference.com/years/2005/week_2.htm', 'https://www.pro-football-reference.com/years/2005/week_3.htm', 'https://www.pro-football-reference.com/years/2005/week_4.htm', 'https://www.pro-football-reference.com/years/2005/week_5.htm', 'https://www.pro-football-reference.com/years/2005/week_6.htm', 'https://www.pro-football-reference.com/years/2005/week_7.htm', 'https://www.pro-football-reference.com/years/2005/week_8.htm', 'https://www.pro-football-reference.com/years/2005/week_9.htm', 'https://www.pro-football-reference.com/years/2005/week_10.htm', 'https://www.pro-football-reference.com/years/2005/week_11.htm', 'https://www.pro-football-reference.com/years/2005/week_12.htm', 'https://www.pro-football-reference.com/years/2005/week_13.htm', 'https://www.pro-football-reference.com/years/2005/week_14.htm', 'https://www.pro-football-reference.com/years/2005/week_15.htm', 'https://www.pro-football-reference.com/years/2005/week_16.htm', 'https://www.pro-football-reference.com/years/2005/week_17.htm', 'https://www.pro-football-reference.com/years/2005/week_18.htm', 'https://www.pro-football-reference.com/years/2005/week_19.htm', 'https://www.pro-football-reference.com/years/2005/week_20.htm', 'https://www.pro-football-reference.com/years/2005/week_21.htm', 'https://www.pro-football-reference.com/years/2006/week_1.htm', 'https://www.pro-football-reference.com/years/2006/week_2.htm', 'https://www.pro-football-reference.com/years/2006/week_3.htm', 'https://www.pro-football-reference.com/years/2006/week_4.htm', 'https://www.pro-football-reference.com/years/2006/week_5.htm', 'https://www.pro-football-reference.com/years/2006/week_6.htm', 'https://www.pro-football-reference.com/years/2006/week_7.htm', 'https://www.pro-football-reference.com/years/2006/week_8.htm', 'https://www.pro-football-reference.com/years/2006/week_9.htm', 'https://www.pro-football-reference.com/years/2006/week_10.htm', 'https://www.pro-football-reference.com/years/2006/week_11.htm', 'https://www.pro-football-reference.com/years/2006/week_12.htm', 'https://www.pro-football-reference.com/years/2006/week_13.htm', 'https://www.pro-football-reference.com/years/2006/week_14.htm', 'https://www.pro-football-reference.com/years/2006/week_15.htm', 'https://www.pro-football-reference.com/years/2006/week_16.htm', 'https://www.pro-football-reference.com/years/2006/week_17.htm', 'https://www.pro-football-reference.com/years/2006/week_18.htm', 'https://www.pro-football-reference.com/years/2006/week_19.htm', 'https://www.pro-football-reference.com/years/2006/week_20.htm', 'https://www.pro-football-reference.com/years/2006/week_21.htm', 'https://www.pro-football-reference.com/years/2007/week_1.htm', 'https://www.pro-football-reference.com/years/2007/week_2.htm', 'https://www.pro-football-reference.com/years/2007/week_3.htm', 'https://www.pro-football-reference.com/years/2007/week_4.htm', 'https://www.pro-football-reference.com/years/2007/week_5.htm', 'https://www.pro-football-reference.com/years/2007/week_6.htm', 'https://www.pro-football-reference.com/years/2007/week_7.htm', 'https://www.pro-football-reference.com/years/2007/week_8.htm', 'https://www.pro-football-reference.com/years/2007/week_9.htm', 'https://www.pro-football-reference.com/years/2007/week_10.htm', 'https://www.pro-football-reference.com/years/2007/week_11.htm', 'https://www.pro-football-reference.com/years/2007/week_12.htm', 'https://www.pro-football-reference.com/years/2007/week_13.htm', 'https://www.pro-football-reference.com/years/2007/week_14.htm', 'https://www.pro-football-reference.com/years/2007/week_15.htm', 'https://www.pro-football-reference.com/years/2007/week_16.htm', 'https://www.pro-football-reference.com/years/2007/week_17.htm', 'https://www.pro-football-reference.com/years/2007/week_18.htm', 'https://www.pro-football-reference.com/years/2007/week_19.htm', 'https://www.pro-football-reference.com/years/2007/week_20.htm', 'https://www.pro-football-reference.com/years/2007/week_21.htm', 'https://www.pro-football-reference.com/years/2008/week_1.htm', 'https://www.pro-football-reference.com/years/2008/week_2.htm', 'https://www.pro-football-reference.com/years/2008/week_3.htm', 'https://www.pro-football-reference.com/years/2008/week_4.htm', 'https://www.pro-football-reference.com/years/2008/week_5.htm', 'https://www.pro-football-reference.com/years/2008/week_6.htm', 'https://www.pro-football-reference.com/years/2008/week_7.htm', 'https://www.pro-football-reference.com/years/2008/week_8.htm', 'https://www.pro-football-reference.com/years/2008/week_9.htm', 'https://www.pro-football-reference.com/years/2008/week_10.htm', 'https://www.pro-football-reference.com/years/2008/week_11.htm', 'https://www.pro-football-reference.com/years/2008/week_12.htm', 'https://www.pro-football-reference.com/years/2008/week_13.htm', 'https://www.pro-football-reference.com/years/2008/week_14.htm', 'https://www.pro-football-reference.com/years/2008/week_15.htm', 'https://www.pro-football-reference.com/years/2008/week_16.htm', 'https://www.pro-football-reference.com/years/2008/week_17.htm', 'https://www.pro-football-reference.com/years/2008/week_18.htm', 'https://www.pro-football-reference.com/years/2008/week_19.htm', 'https://www.pro-football-reference.com/years/2008/week_20.htm', 'https://www.pro-football-reference.com/years/2008/week_21.htm', 'https://www.pro-football-reference.com/years/2009/week_1.htm', 'https://www.pro-football-reference.com/years/2009/week_2.htm', 'https://www.pro-football-reference.com/years/2009/week_3.htm', 'https://www.pro-football-reference.com/years/2009/week_4.htm', 'https://www.pro-football-reference.com/years/2009/week_5.htm', 'https://www.pro-football-reference.com/years/2009/week_6.htm', 'https://www.pro-football-reference.com/years/2009/week_7.htm', 'https://www.pro-football-reference.com/years/2009/week_8.htm', 'https://www.pro-football-reference.com/years/2009/week_9.htm', 'https://www.pro-football-reference.com/years/2009/week_10.htm', 'https://www.pro-football-reference.com/years/2009/week_11.htm', 'https://www.pro-football-reference.com/years/2009/week_12.htm', 'https://www.pro-football-reference.com/years/2009/week_13.htm', 'https://www.pro-football-reference.com/years/2009/week_14.htm', 'https://www.pro-football-reference.com/years/2009/week_15.htm', 'https://www.pro-football-reference.com/years/2009/week_16.htm', 'https://www.pro-football-reference.com/years/2009/week_17.htm', 'https://www.pro-football-reference.com/years/2009/week_18.htm', 'https://www.pro-football-reference.com/years/2009/week_19.htm', 'https://www.pro-football-reference.com/years/2009/week_20.htm', 'https://www.pro-football-reference.com/years/2009/week_21.htm', 'https://www.pro-football-reference.com/years/2010/week_1.htm', 'https://www.pro-football-reference.com/years/2010/week_2.htm', 'https://www.pro-football-reference.com/years/2010/week_3.htm', 'https://www.pro-football-reference.com/years/2010/week_4.htm', 'https://www.pro-football-reference.com/years/2010/week_5.htm', 'https://www.pro-football-reference.com/years/2010/week_6.htm', 'https://www.pro-football-reference.com/years/2010/week_7.htm', 'https://www.pro-football-reference.com/years/2010/week_8.htm', 'https://www.pro-football-reference.com/years/2010/week_9.htm', 'https://www.pro-football-reference.com/years/2010/week_10.htm', 'https://www.pro-football-reference.com/years/2010/week_11.htm', 'https://www.pro-football-reference.com/years/2010/week_12.htm', 'https://www.pro-football-reference.com/years/2010/week_13.htm', 'https://www.pro-football-reference.com/years/2010/week_14.htm', 'https://www.pro-football-reference.com/years/2010/week_15.htm', 'https://www.pro-football-reference.com/years/2010/week_16.htm', 'https://www.pro-football-reference.com/years/2010/week_17.htm', 'https://www.pro-football-reference.com/years/2010/week_18.htm', 'https://www.pro-football-reference.com/years/2010/week_19.htm', 'https://www.pro-football-reference.com/years/2010/week_20.htm', 'https://www.pro-football-reference.com/years/2010/week_21.htm', 'https://www.pro-football-reference.com/years/2011/week_1.htm', 'https://www.pro-football-reference.com/years/2011/week_2.htm', 'https://www.pro-football-reference.com/years/2011/week_3.htm', 'https://www.pro-football-reference.com/years/2011/week_4.htm', 'https://www.pro-football-reference.com/years/2011/week_5.htm', 'https://www.pro-football-reference.com/years/2011/week_6.htm', 'https://www.pro-football-reference.com/years/2011/week_7.htm', 'https://www.pro-football-reference.com/years/2011/week_8.htm', 'https://www.pro-football-reference.com/years/2011/week_9.htm', 'https://www.pro-football-reference.com/years/2011/week_10.htm', 'https://www.pro-football-reference.com/years/2011/week_11.htm', 'https://www.pro-football-reference.com/years/2011/week_12.htm', 'https://www.pro-football-reference.com/years/2011/week_13.htm', 'https://www.pro-football-reference.com/years/2011/week_14.htm', 'https://www.pro-football-reference.com/years/2011/week_15.htm', 'https://www.pro-football-reference.com/years/2011/week_16.htm', 'https://www.pro-football-reference.com/years/2011/week_17.htm', 'https://www.pro-football-reference.com/years/2011/week_18.htm', 'https://www.pro-football-reference.com/years/2011/week_19.htm', 'https://www.pro-football-reference.com/years/2011/week_20.htm', 'https://www.pro-football-reference.com/years/2011/week_21.htm', 'https://www.pro-football-reference.com/years/2012/week_1.htm', 'https://www.pro-football-reference.com/years/2012/week_2.htm', 'https://www.pro-football-reference.com/years/2012/week_3.htm', 'https://www.pro-football-reference.com/years/2012/week_4.htm', 'https://www.pro-football-reference.com/years/2012/week_5.htm', 'https://www.pro-football-reference.com/years/2012/week_6.htm', 'https://www.pro-football-reference.com/years/2012/week_7.htm', 'https://www.pro-football-reference.com/years/2012/week_8.htm', 'https://www.pro-football-reference.com/years/2012/week_9.htm', 'https://www.pro-football-reference.com/years/2012/week_10.htm', 'https://www.pro-football-reference.com/years/2012/week_11.htm', 'https://www.pro-football-reference.com/years/2012/week_12.htm', 'https://www.pro-football-reference.com/years/2012/week_13.htm', 'https://www.pro-football-reference.com/years/2012/week_14.htm', 'https://www.pro-football-reference.com/years/2012/week_15.htm', 'https://www.pro-football-reference.com/years/2012/week_16.htm', 'https://www.pro-football-reference.com/years/2012/week_17.htm', 'https://www.pro-football-reference.com/years/2012/week_18.htm', 'https://www.pro-football-reference.com/years/2012/week_19.htm', 'https://www.pro-football-reference.com/years/2012/week_20.htm', 'https://www.pro-football-reference.com/years/2012/week_21.htm', 'https://www.pro-football-reference.com/years/2013/week_1.htm', 'https://www.pro-football-reference.com/years/2013/week_2.htm', 'https://www.pro-football-reference.com/years/2013/week_3.htm', 'https://www.pro-football-reference.com/years/2013/week_4.htm', 'https://www.pro-football-reference.com/years/2013/week_5.htm', 'https://www.pro-football-reference.com/years/2013/week_6.htm', 'https://www.pro-football-reference.com/years/2013/week_7.htm', 'https://www.pro-football-reference.com/years/2013/week_8.htm', 'https://www.pro-football-reference.com/years/2013/week_9.htm', 'https://www.pro-football-reference.com/years/2013/week_10.htm', 'https://www.pro-football-reference.com/years/2013/week_11.htm', 'https://www.pro-football-reference.com/years/2013/week_12.htm', 'https://www.pro-football-reference.com/years/2013/week_13.htm', 'https://www.pro-football-reference.com/years/2013/week_14.htm', 'https://www.pro-football-reference.com/years/2013/week_15.htm', 'https://www.pro-football-reference.com/years/2013/week_16.htm', 'https://www.pro-football-reference.com/years/2013/week_17.htm', 'https://www.pro-football-reference.com/years/2013/week_18.htm', 'https://www.pro-football-reference.com/years/2013/week_19.htm', 'https://www.pro-football-reference.com/years/2013/week_20.htm', 'https://www.pro-football-reference.com/years/2013/week_21.htm', 'https://www.pro-football-reference.com/years/2014/week_1.htm', 'https://www.pro-football-reference.com/years/2014/week_2.htm', 'https://www.pro-football-reference.com/years/2014/week_3.htm', 'https://www.pro-football-reference.com/years/2014/week_4.htm', 'https://www.pro-football-reference.com/years/2014/week_5.htm', 'https://www.pro-football-reference.com/years/2014/week_6.htm', 'https://www.pro-football-reference.com/years/2014/week_7.htm', 'https://www.pro-football-reference.com/years/2014/week_8.htm', 'https://www.pro-football-reference.com/years/2014/week_9.htm', 'https://www.pro-football-reference.com/years/2014/week_10.htm', 'https://www.pro-football-reference.com/years/2014/week_11.htm', 'https://www.pro-football-reference.com/years/2014/week_12.htm', 'https://www.pro-football-reference.com/years/2014/week_13.htm', 'https://www.pro-football-reference.com/years/2014/week_14.htm', 'https://www.pro-football-reference.com/years/2014/week_15.htm', 'https://www.pro-football-reference.com/years/2014/week_16.htm', 'https://www.pro-football-reference.com/years/2014/week_17.htm', 'https://www.pro-football-reference.com/years/2014/week_18.htm', 'https://www.pro-football-reference.com/years/2014/week_19.htm', 'https://www.pro-football-reference.com/years/2014/week_20.htm', 'https://www.pro-football-reference.com/years/2014/week_21.htm', 'https://www.pro-football-reference.com/years/2015/week_1.htm', 'https://www.pro-football-reference.com/years/2015/week_2.htm', 'https://www.pro-football-reference.com/years/2015/week_3.htm', 'https://www.pro-football-reference.com/years/2015/week_4.htm', 'https://www.pro-football-reference.com/years/2015/week_5.htm', 'https://www.pro-football-reference.com/years/2015/week_6.htm', 'https://www.pro-football-reference.com/years/2015/week_7.htm', 'https://www.pro-football-reference.com/years/2015/week_8.htm', 'https://www.pro-football-reference.com/years/2015/week_9.htm', 'https://www.pro-football-reference.com/years/2015/week_10.htm', 'https://www.pro-football-reference.com/years/2015/week_11.htm', 'https://www.pro-football-reference.com/years/2015/week_12.htm', 'https://www.pro-football-reference.com/years/2015/week_13.htm', 'https://www.pro-football-reference.com/years/2015/week_14.htm', 'https://www.pro-football-reference.com/years/2015/week_15.htm', 'https://www.pro-football-reference.com/years/2015/week_16.htm', 'https://www.pro-football-reference.com/years/2015/week_17.htm', 'https://www.pro-football-reference.com/years/2015/week_18.htm', 'https://www.pro-football-reference.com/years/2015/week_19.htm', 'https://www.pro-football-reference.com/years/2015/week_20.htm', 'https://www.pro-football-reference.com/years/2015/week_21.htm']\n"
     ]
    }
   ],
   "source": [
    "# Now we can build the links we need, start with empty list: seasonLinks\n",
    "seasonLinks = []\n",
    "\n",
    "# Now iterate through seasonDict and put together all needed links\n",
    "# remeber the format of the links is: https://www.pro-football-reference.com/years/2018/week_21.htm\n",
    "for year in seasonDict.keys():\n",
    "    for week in seasonDict[year]:\n",
    "        seasonLinks.append('https://www.pro-football-reference.com/years/' + str(year) + '/week_' + str(week) + '.htm')\n",
    "\n",
    "print(seasonLinks)"
   ]
  },
  {
   "cell_type": "code",
   "execution_count": 4,
   "metadata": {},
   "outputs": [
    {
     "name": "stdout",
     "output_type": "stream",
     "text": [
      "3991\n"
     ]
    }
   ],
   "source": [
    "# Our next step is to collect the game ID's from each week from each season\n",
    "# each individual game comes in link form: https://www.pro-football-reference.com/boxscores/201712140clt.htm\n",
    "gameLinks = []\n",
    "\n",
    "for week in seasonLinks:\n",
    "    page = requests.get(week)\n",
    "    soup = BeautifulSoup(page.text, \"html.parser\")\n",
    "\n",
    "\n",
    "\n",
    "    links = soup.select(\"td.right.gamelink a\")\n",
    "    for a in links:\n",
    "        gameLinks.append('https://www.pro-football-reference.com'+ str(a[\"href\"]))\n",
    "    \n",
    "#in the above code, td.right.gamelink a is a CSS selector which matches\n",
    "#all a elements inside td elements with classes of right and gamelink.\n",
    "\n",
    "print(len(gameLinks))\n"
   ]
  },
  {
   "cell_type": "code",
   "execution_count": 5,
   "metadata": {},
   "outputs": [
    {
     "name": "stdout",
     "output_type": "stream",
     "text": [
      "['https://www.pro-football-reference.com/boxscores/201609080den.htm', 'https://www.pro-football-reference.com/boxscores/201609110jax.htm', 'https://www.pro-football-reference.com/boxscores/201609110rav.htm', 'https://www.pro-football-reference.com/boxscores/201609110kan.htm', 'https://www.pro-football-reference.com/boxscores/201609110htx.htm', 'https://www.pro-football-reference.com/boxscores/201609110atl.htm', 'https://www.pro-football-reference.com/boxscores/201609110phi.htm', 'https://www.pro-football-reference.com/boxscores/201609110oti.htm', 'https://www.pro-football-reference.com/boxscores/201609110nyj.htm', 'https://www.pro-football-reference.com/boxscores/201609110nor.htm', 'https://www.pro-football-reference.com/boxscores/201609110sea.htm', 'https://www.pro-football-reference.com/boxscores/201609110dal.htm', 'https://www.pro-football-reference.com/boxscores/201609110clt.htm', 'https://www.pro-football-reference.com/boxscores/201609110crd.htm', 'https://www.pro-football-reference.com/boxscores/201609120was.htm', 'https://www.pro-football-reference.com/boxscores/201609120sfo.htm', 'https://www.pro-football-reference.com/boxscores/201609150buf.htm', 'https://www.pro-football-reference.com/boxscores/201609180htx.htm', 'https://www.pro-football-reference.com/boxscores/201609180det.htm', 'https://www.pro-football-reference.com/boxscores/201609180cle.htm']\n"
     ]
    }
   ],
   "source": [
    "print(gameLinks[:20])"
   ]
  },
  {
   "cell_type": "code",
   "execution_count": 41,
   "metadata": {},
   "outputs": [
    {
     "data": {
      "text/plain": [
       "172"
      ]
     },
     "execution_count": 41,
     "metadata": {},
     "output_type": "execute_result"
    }
   ],
   "source": [
    "# We need to setup a csv file with column names to hold our data\n",
    "csvFile = open(\"./csvFiles/gameData.csv\", 'w+')\n",
    "writer = csv.writer(csvFile)\n",
    "writer.writerow(('gameId','date','awayTeam','awayScore','homeTeam','homeScore', 'totalScore','stadium','roof','surface','vegasLine','overUnder','referee','umpire','headLinesman','lineJudge','backJudge','sideJudge','fieldJudge'))\n"
   ]
  },
  {
   "cell_type": "code",
   "execution_count": 144,
   "metadata": {
    "collapsed": true
   },
   "outputs": [],
   "source": [
    "# Now that we have all the links needed to scrape game data, we will aim to\n",
    "# collect the following variables from each page: homeTeam, awayTeam, stadium,\n",
    "# homeScore, awayScore, roof, surface, vegasLine, overUnder, referee, upmire,\n",
    "# headLinesman lineJudge, backJudge, sideJudge, fieldJudge\n",
    "\n",
    "url = 'https://www.pro-football-reference.com/boxscores/201609120was.htm'\n",
    "page = requests.get(url)\n",
    "soup = BeautifulSoup(page.text, \"html.parser\")\n",
    "\n",
    "#slice the game_id from url\n",
    "gameId = url[-16:-4]\n",
    "\n",
    "# First let's grab the stadium and date\n",
    "date = soup.select(\"div.scorebox_meta div\")[0].text\n",
    "stadium = soup.select(\"div.scorebox_meta a\")[0].text\n",
    "\n",
    "\n",
    "# Now grab a list of tags from the scorebox\n",
    "teamTags = soup.select(\"table.linescore tbody td\")\n",
    "\n",
    "# Index 1: away team, index 8: home team,\n",
    "# index 6: away team score, index 13: home team score\n",
    "awayTeam = teamTags[1].text\n",
    "awayScore = teamTags[6].text\n",
    "homeTeam = teamTags[8].text\n",
    "homeScore = teamTags[13].text\n",
    "totalScore = int(awayScore) + int(homeScore)\n",
    "\n",
    "# print(gameId)\n",
    "# print(date)\n",
    "# print(stadium)\n",
    "# print(awayTeam)\n",
    "# print(awayScore)\n",
    "# print(homeTeam)\n",
    "# print(homeScore)\n",
    "# print(totalScore)\n",
    "\n",
    "\n",
    "# Our next step is to grab data from the 'Game Info' table. We will collect the\n",
    "#following variables: roof, surface, weather, vegasLine, overUnder\n",
    "#may need to consider using regex to clean the string data after collecting it...\n"
   ]
  },
  {
   "cell_type": "code",
   "execution_count": 145,
   "metadata": {
    "collapsed": true
   },
   "outputs": [],
   "source": [
    "# Our next step is to grab data from the 'Game Info' table. We will collect the\n",
    "#following variables: roof, surface, weather, vegasLine, overUnder\n",
    "\n",
    "#may need to consider using regex to clean the string data after collecting it...\n",
    "\n",
    "html = urlopen('https://www.pro-football-reference.com/boxscores/201609120was.htm')\n",
    "soup = BeautifulSoup(html, 'html.parser')\n",
    "gameDataComment = soup.find('div',{'id':'all_game_info'}).find(string=lambda text: isinstance(text, Comment))\n",
    "\n",
    "gameDataComment = BeautifulSoup(gameDataComment, \"html5lib\")\n",
    "roof = gameDataComment.select('tr td')[2].text\n",
    "surface = gameDataComment.select('tr td')[3].text\n",
    "weather = gameDataComment.select('tr td')[4].text\n",
    "vegasLine = gameDataComment.select('tr td')[5].text\n",
    "overUnder = gameDataComment.select('tr td')[6].text\n",
    "\n",
    "# l1 = [roof,surface,weather,vegasLine,overUnder]\n",
    "# for i in l1:\n",
    "#     print(i)"
   ]
  },
  {
   "cell_type": "code",
   "execution_count": 146,
   "metadata": {},
   "outputs": [
    {
     "data": {
      "text/plain": [
       "301"
      ]
     },
     "execution_count": 146,
     "metadata": {},
     "output_type": "execute_result"
    }
   ],
   "source": [
    "# Now we will use a similar process for extracting referee data\n",
    "\n",
    "refereeDataComment = soup.find('div',{'id':'all_officials'}).find(string=lambda text: isinstance(text, Comment))\n",
    "\n",
    "refereeDataComment = BeautifulSoup(refereeDataComment, \"html5lib\")\n",
    "referee = refereeDataComment.select('tr td')[1].text\n",
    "umpire = refereeDataComment.select('tr td')[2].text\n",
    "headLinesman = refereeDataComment.select('tr td')[3].text\n",
    "lineJudge = refereeDataComment.select('tr td')[4].text\n",
    "backJudge = refereeDataComment.select('tr td')[5].text\n",
    "sideJudge = refereeDataComment.select('tr td')[6].text\n",
    "fieldJudge = refereeDataComment.select('tr td')[7].text\n",
    "\n",
    "# l1 = [referee,umpire,headLinesman,lineJudge,backJudge,sideJudge,fieldJudge]\n",
    "# for i in l1:\n",
    "#     print(i)\n",
    "\n",
    "# Now write all collected data from this page into our csv file as one row:\n",
    "writer.writerow((gameId,date,awayTeam,awayScore,homeTeam,homeScore,totalScore,stadium,roof,surface,weather,vegasLine,overUnder,referee,umpire,headLinesman,lineJudge,backJudge,sideJudge,fieldJudge))\n",
    "\n"
   ]
  },
  {
   "cell_type": "code",
   "execution_count": 147,
   "metadata": {
    "collapsed": true
   },
   "outputs": [],
   "source": [
    "# Our next step is to gather referee data for every game"
   ]
  },
  {
   "cell_type": "code",
   "execution_count": 10,
   "metadata": {},
   "outputs": [
    {
     "data": {
      "text/plain": [
       "301"
      ]
     },
     "execution_count": 10,
     "metadata": {},
     "output_type": "execute_result"
    }
   ],
   "source": [
    "#setup the above as one clean script for one page\n",
    "\n",
    "url = 'https://www.pro-football-reference.com/boxscores/201609120was.htm'\n",
    "page = requests.get(url)\n",
    "soup = BeautifulSoup(page.text, \"html.parser\")\n",
    "\n",
    "gameId = url[-16:-4]\n",
    "\n",
    "date = soup.select(\"div.scorebox_meta div\")[0].text\n",
    "stadium = soup.select(\"div.scorebox_meta a\")[0].text\n",
    "\n",
    "\n",
    "teamTags = soup.select(\"table.linescore tbody td\")\n",
    "awayTeam = teamTags[1].text\n",
    "awayScore = teamTags[6].text\n",
    "homeTeam = teamTags[8].text\n",
    "homeScore = teamTags[13].text\n",
    "totalScore = int(awayScore) + int(homeScore)\n",
    "\n",
    "html = urlopen('https://www.pro-football-reference.com/boxscores/201609120was.htm')\n",
    "soup = BeautifulSoup(html, 'html.parser')\n",
    "gameDataComment = soup.find('div',{'id':'all_game_info'}).find(string=lambda text: isinstance(text, Comment))\n",
    "gameDataComment = BeautifulSoup(gameDataComment, \"html5lib\")\n",
    "roof = gameDataComment.select('tr td')[2].text\n",
    "surface = gameDataComment.select('tr td')[3].text\n",
    "weather = gameDataComment.select('tr td')[4].text\n",
    "vegasLine = gameDataComment.select('tr td')[5].text\n",
    "overUnder = gameDataComment.select('tr td')[6].text\n",
    "\n",
    "refereeDataComment = soup.find('div',{'id':'all_officials'}).find(string=lambda text: isinstance(text, Comment))\n",
    "refereeDataComment = BeautifulSoup(refereeDataComment, \"html5lib\")\n",
    "referee = refereeDataComment.select('tr td')[1].text\n",
    "umpire = refereeDataComment.select('tr td')[2].text\n",
    "headLinesman = refereeDataComment.select('tr td')[3].text\n",
    "lineJudge = refereeDataComment.select('tr td')[4].text\n",
    "backJudge = refereeDataComment.select('tr td')[5].text\n",
    "sideJudge = refereeDataComment.select('tr td')[6].text\n",
    "fieldJudge = refereeDataComment.select('tr td')[7].text\n",
    "\n",
    "writer.writerow((gameId,date,awayTeam,awayScore,homeTeam,homeScore,totalScore,stadium,roof,surface,weather,vegasLine,overUnder,referee,umpire,headLinesman,lineJudge,backJudge,sideJudge,fieldJudge))\n"
   ]
  },
  {
   "cell_type": "code",
   "execution_count": 4,
   "metadata": {
    "collapsed": true
   },
   "outputs": [],
   "source": [
    "#setup the above script as one clean script for entire list of games using a loop\n",
    "\n",
    "import pandas as pd\n",
    "import csv\n",
    "from urllib.request import urlopen\n",
    "from bs4 import BeautifulSoup, Comment\n",
    "import requests\n",
    "yearNum = [year for year in range(2004,2019)]\n",
    "weekNum = [week for week in range(1,22)]\n",
    "seasonDict = {i : [j for j in weekNum] for i in yearNum}\n",
    "\n",
    "\n"
   ]
  },
  {
   "cell_type": "code",
   "execution_count": 5,
   "metadata": {},
   "outputs": [
    {
     "data": {
      "text/plain": [
       "172"
      ]
     },
     "execution_count": 5,
     "metadata": {},
     "output_type": "execute_result"
    }
   ],
   "source": [
    "seasonLinks = []\n",
    "\n",
    "for year in seasonDict.keys():\n",
    "    for week in seasonDict[year]:\n",
    "        seasonLinks.append('https://www.pro-football-reference.com/years/' + str(year) + '/week_' + str(week) + '.htm')\n",
    "\n",
    "gameLinks = []\n",
    "\n",
    "for week in seasonLinks:\n",
    "    page = requests.get(week)\n",
    "    soup = BeautifulSoup(page.text, \"html.parser\")\n",
    "    links = soup.select(\"td.right.gamelink a\")\n",
    "    for a in links:\n",
    "        gameLinks.append('https://www.pro-football-reference.com'+ str(a[\"href\"]))\n",
    "\n",
    "\n",
    "csvFile = open(\"./csvFiles/gameData.csv\", 'w+')\n",
    "writer = csv.writer(csvFile)\n",
    "writer.writerow(('gameId','date','awayTeam','awayScore','homeTeam','homeScore', 'totalScore','stadium','roof','surface','vegasLine','overUnder','referee','umpire','headLinesman','lineJudge','backJudge','sideJudge','fieldJudge'))\n"
   ]
  },
  {
   "cell_type": "code",
   "execution_count": 7,
   "metadata": {},
   "outputs": [
    {
     "data": {
      "text/plain": [
       "172"
      ]
     },
     "execution_count": 7,
     "metadata": {},
     "output_type": "execute_result"
    }
   ],
   "source": [
    "csvFile2 = open(\"./csvFiles/gameData2.csv\", 'w+')\n",
    "writer = csv.writer(csvFile2)\n",
    "writer.writerow(('gameId','date','awayTeam','awayScore','homeTeam','homeScore', 'totalScore','stadium','roof','surface','vegasLine','overUnder','referee','umpire','headLinesman','lineJudge','backJudge','sideJudge','fieldJudge'))\n"
   ]
  },
  {
   "cell_type": "code",
   "execution_count": 8,
   "metadata": {
    "collapsed": true
   },
   "outputs": [],
   "source": [
    "for game in gameLinks:\n",
    "\n",
    "    url = game\n",
    "    page = requests.get(url)\n",
    "    soup = BeautifulSoup(page.text, \"html.parser\")\n",
    "\n",
    "    gameId = url[-16:-4]\n",
    "\n",
    "    date = soup.select(\"div.scorebox_meta div\")[0].text\n",
    "    stadium = soup.select(\"div.scorebox_meta a\")[0].text\n",
    "\n",
    "\n",
    "    teamTags = soup.select(\"table.linescore tbody td\")\n",
    "    awayTeam = soup.select(\"div.scorebox div strong a\")[1].text\n",
    "    awayScore = soup.select(\"div.score\")[1].text\n",
    "    homeTeam = soup.select(\"div.scorebox div strong a\")[0].text\n",
    "    homeScore = soup.select(\"div.score\")[0].text\n",
    "    totalScore = int(awayScore) + int(homeScore)\n",
    "\n",
    "    html = urlopen(url)\n",
    "    soup = BeautifulSoup(html, 'html.parser')\n",
    "    gameDataComment = soup.find('div',{'id':'all_game_info'}).find(string=lambda text: isinstance(text, Comment))\n",
    "    gameDataComment = BeautifulSoup(gameDataComment, \"html5lib\")\n",
    "    roof = gameDataComment.select('tr td')[-5].text\n",
    "    surface = gameDataComment.select('tr td')[-4].text\n",
    "    #weather = gameDataComment.select('tr td')[-3].text\n",
    "    vegasLine = gameDataComment.select('tr td')[-2].text\n",
    "    overUnder = gameDataComment.select('tr td')[-1].text\n",
    "\n",
    "    refereeDataComment = soup.find('div',{'id':'all_officials'}).find(string=lambda text: isinstance(text, Comment))\n",
    "    refereeDataComment = BeautifulSoup(refereeDataComment, \"html5lib\")\n",
    "    referee = refereeDataComment.select('tr td')[1].text\n",
    "    umpire = refereeDataComment.select('tr td')[2].text\n",
    "    headLinesman = refereeDataComment.select('tr td')[-5].text\n",
    "    lineJudge = refereeDataComment.select('tr td')[-4].text\n",
    "    backJudge = refereeDataComment.select('tr td')[-3].text\n",
    "    sideJudge = refereeDataComment.select('tr td')[-2].text\n",
    "    fieldJudge = refereeDataComment.select('tr td')[-1].text\n",
    "\n",
    "    writer.writerow((gameId,date,awayTeam,awayScore,homeTeam,homeScore,totalScore,stadium,roof,surface,vegasLine,overUnder,referee,umpire,headLinesman,lineJudge,backJudge,sideJudge,fieldJudge))\n"
   ]
  },
  {
   "cell_type": "code",
   "execution_count": null,
   "metadata": {
    "collapsed": true
   },
   "outputs": [],
   "source": []
  }
 ],
 "metadata": {
  "kernelspec": {
   "display_name": "Python 3",
   "language": "python",
   "name": "python3"
  },
  "language_info": {
   "codemirror_mode": {
    "name": "ipython",
    "version": 3
   },
   "file_extension": ".py",
   "mimetype": "text/x-python",
   "name": "python",
   "nbconvert_exporter": "python",
   "pygments_lexer": "ipython3",
   "version": "3.7.4"
  }
 },
 "nbformat": 4,
 "nbformat_minor": 2
}
