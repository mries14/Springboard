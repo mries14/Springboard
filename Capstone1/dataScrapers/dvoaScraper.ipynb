{
 "cells": [
  {
   "cell_type": "code",
   "execution_count": 1,
   "metadata": {
    "collapsed": true
   },
   "outputs": [],
   "source": [
    "import csv\n",
    "from urllib.request import urlopen\n",
    "from bs4 import BeautifulSoup, Comment\n",
    "import requests"
   ]
  },
  {
   "cell_type": "code",
   "execution_count": 2,
   "metadata": {},
   "outputs": [
    {
     "name": "stdout",
     "output_type": "stream",
     "text": [
      "{2016: [1, 2, 3, 4, 5, 6, 7, 8, 9, 10, 11, 12, 13, 14, 15, 16], 2017: [1, 2, 3, 4, 5, 6, 7, 8, 9, 10, 11, 12, 13, 14, 15, 16], 2018: [1, 2, 3, 4, 5, 6, 7, 8, 9, 10, 11, 12, 13, 14, 15, 16], 2007: [1, 2, 3, 4, 5, 6, 7, 8, 9, 10, 11, 12, 13, 14, 15, 16], 2008: [1, 2, 3, 4, 5, 6, 7, 8, 9, 10, 11, 12, 13, 14, 15, 16], 2009: [1, 2, 3, 4, 5, 6, 7, 8, 9, 10, 11, 12, 13, 14, 15, 16], 2010: [1, 2, 3, 4, 5, 6, 7, 8, 9, 10, 11, 12, 13, 14, 15, 16], 2011: [1, 2, 3, 4, 5, 6, 7, 8, 9, 10, 11, 12, 13, 14, 15, 16], 2012: [1, 2, 3, 4, 5, 6, 7, 8, 9, 10, 11, 12, 13, 14, 15, 16], 2013: [1, 2, 3, 4, 5, 6, 7, 8, 9, 10, 11, 12, 13, 14, 15, 16], 2014: [1, 2, 3, 4, 5, 6, 7, 8, 9, 10, 11, 12, 13, 14, 15, 16], 2015: [1, 2, 3, 4, 5, 6, 7, 8, 9, 10, 11, 12, 13, 14, 15, 16]}\n"
     ]
    }
   ],
   "source": [
    "# Firstly we need to collect all links that we intend to scrape from\n",
    "# the data needed is in the format of:\n",
    "# https://www.pro-football-reference.com/years/2018/week_21.htm\n",
    "# We need to set up a dictionary containing all weeks and years: seasonDict\n",
    "\n",
    "# First setup years and weeks we are interested in. Note that the\n",
    "# postseason starts in week 18 and the superbowl is week 21\n",
    "# We will collect dating back to 2004\n",
    "yearNum = [year for year in range(2007,2019)]\n",
    "weekNum = [week for week in range(1,17)]\n",
    "\n",
    "seasonDict = {i : [j for j in weekNum] for i in yearNum}\n",
    "print(seasonDict)"
   ]
  },
  {
   "cell_type": "code",
   "execution_count": null,
   "metadata": {
    "collapsed": true
   },
   "outputs": [],
   "source": []
  },
  {
   "cell_type": "code",
   "execution_count": 3,
   "metadata": {
    "collapsed": true
   },
   "outputs": [],
   "source": [
    "# Final cleaned script\n",
    "\n",
    "csvFile = open(\"./csvFiles/dvoaData2.csv\", 'w+')\n",
    "writer = csv.writer(csvFile)\n",
    "writer.writerow(('season','week','team','totalDvoa','offDvoa', 'offRank', 'defDvoa', 'defRank', 'stDvoa','stRank'))\n",
    "\n",
    "\n",
    "\n",
    "def getRows(bsO,season,week):\n",
    "    rows = bsO.find('table', {'border':'2'}).findAll('tr')\n",
    "    season = season\n",
    "    week = week\n",
    "    for row in rows[1:17]:\n",
    "        #collect each column of data needed, THEN write each column into a row in the .csv file\n",
    "        attVals = row.findAll('td')\n",
    "        team = attVals[1].get_text()\n",
    "        totalDvoa = attVals[2].get_text()\n",
    "        offDvoa = attVals[-6].get_text()\n",
    "        offRank = attVals[-5].get_text()\n",
    "        defDvoa = attVals[-4].get_text()\n",
    "        defRank = attVals[-3].get_text()\n",
    "        stDvoa = attVals[-2].get_text()\n",
    "        stRank = attVals[-1].get_text()\n",
    "        #now write the row of data\n",
    "        writer.writerow((season,week,team,totalDvoa,offDvoa,offRank,defDvoa,defRank,stDvoa,stRank))\n",
    "        \n",
    "    for row in rows[18:]:\n",
    "        # Repeat for second half of the table\n",
    "        attVals = row.findAll('td')\n",
    "        team = attVals[1].get_text()\n",
    "        totalDvoa = attVals[2].get_text()\n",
    "        offDvoa = attVals[-6].get_text()\n",
    "        offRank = attVals[-5].get_text()\n",
    "        defDvoa = attVals[-4].get_text()\n",
    "        defRank = attVals[-3].get_text()\n",
    "        stDvoa = attVals[-2].get_text()\n",
    "        stRank = attVals[-1].get_text()\n",
    "        #now write the row of data\n",
    "        writer.writerow((season,week,team,totalDvoa,offDvoa,offRank,defDvoa,defRank,stDvoa,stRank))\n",
    "        \n",
    "    \n",
    "#cycle thru all years/weeks    \n",
    "for season in seasonDict.keys():\n",
    "    for week in seasonDict[season]:\n",
    "        # There seems to be an issue scraping the first and last weeks of the 2018 season, so I will\n",
    "        # scrape them manually and merge that data to the data from this scraper when it is finished running\n",
    "        if season == 2018 and (week == 1 or week == 16):\n",
    "            pass\n",
    "        else:\n",
    "            html = urlopen('http://www.footballoutsiders.com/dvoa-ratings/' + str(season) + '/week-' + str(week) + '-dvoa-ratings')\n",
    "            bsObj = BeautifulSoup(html, 'html5lib')\n",
    "            getRows(bsObj,season,week)"
   ]
  },
  {
   "cell_type": "code",
   "execution_count": null,
   "metadata": {
    "collapsed": true
   },
   "outputs": [],
   "source": []
  },
  {
   "cell_type": "code",
   "execution_count": null,
   "metadata": {
    "collapsed": true
   },
   "outputs": [],
   "source": []
  },
  {
   "cell_type": "code",
   "execution_count": null,
   "metadata": {
    "collapsed": true
   },
   "outputs": [],
   "source": []
  },
  {
   "cell_type": "code",
   "execution_count": null,
   "metadata": {
    "collapsed": true
   },
   "outputs": [],
   "source": []
  },
  {
   "cell_type": "code",
   "execution_count": null,
   "metadata": {
    "collapsed": true
   },
   "outputs": [],
   "source": []
  },
  {
   "cell_type": "code",
   "execution_count": null,
   "metadata": {
    "collapsed": true
   },
   "outputs": [],
   "source": []
  },
  {
   "cell_type": "code",
   "execution_count": null,
   "metadata": {
    "collapsed": true
   },
   "outputs": [],
   "source": []
  },
  {
   "cell_type": "code",
   "execution_count": null,
   "metadata": {
    "collapsed": true
   },
   "outputs": [],
   "source": []
  },
  {
   "cell_type": "code",
   "execution_count": null,
   "metadata": {
    "collapsed": true
   },
   "outputs": [],
   "source": []
  },
  {
   "cell_type": "code",
   "execution_count": null,
   "metadata": {
    "collapsed": true
   },
   "outputs": [],
   "source": []
  },
  {
   "cell_type": "code",
   "execution_count": null,
   "metadata": {
    "collapsed": true
   },
   "outputs": [],
   "source": []
  },
  {
   "cell_type": "code",
   "execution_count": null,
   "metadata": {
    "collapsed": true
   },
   "outputs": [],
   "source": []
  },
  {
   "cell_type": "code",
   "execution_count": null,
   "metadata": {
    "collapsed": true
   },
   "outputs": [],
   "source": []
  },
  {
   "cell_type": "code",
   "execution_count": null,
   "metadata": {
    "collapsed": true
   },
   "outputs": [],
   "source": []
  },
  {
   "cell_type": "code",
   "execution_count": null,
   "metadata": {
    "collapsed": true
   },
   "outputs": [],
   "source": []
  },
  {
   "cell_type": "code",
   "execution_count": null,
   "metadata": {
    "collapsed": true
   },
   "outputs": [],
   "source": []
  },
  {
   "cell_type": "code",
   "execution_count": null,
   "metadata": {
    "collapsed": true
   },
   "outputs": [],
   "source": []
  },
  {
   "cell_type": "code",
   "execution_count": null,
   "metadata": {
    "collapsed": true
   },
   "outputs": [],
   "source": []
  }
 ],
 "metadata": {
  "kernelspec": {
   "display_name": "Python 3",
   "language": "python",
   "name": "python3"
  },
  "language_info": {
   "codemirror_mode": {
    "name": "ipython",
    "version": 3
   },
   "file_extension": ".py",
   "mimetype": "text/x-python",
   "name": "python",
   "nbconvert_exporter": "python",
   "pygments_lexer": "ipython3",
   "version": "3.4.0"
  }
 },
 "nbformat": 4,
 "nbformat_minor": 2
}
