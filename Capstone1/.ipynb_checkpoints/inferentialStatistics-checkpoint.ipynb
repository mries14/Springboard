{
 "cells": [
  {
   "cell_type": "code",
   "execution_count": 1,
   "metadata": {
    "collapsed": true
   },
   "outputs": [],
   "source": [
    "# Import necessary tools\n",
    "import numpy as np\n",
    "import matplotlib.pyplot as plt\n",
    "import pandas as pd\n",
    "import seaborn as sns"
   ]
  },
  {
   "cell_type": "code",
   "execution_count": 2,
   "metadata": {
    "collapsed": true
   },
   "outputs": [],
   "source": [
    "# First, grab tables from other notebooks\n",
    "%store -r awayTable\n",
    "%store -r homeTable\n",
    "%store -r awayMatchup\n",
    "%store -r homeMatchup\n",
    "%store -r features"
   ]
  },
  {
   "cell_type": "code",
   "execution_count": 3,
   "metadata": {},
   "outputs": [
    {
     "data": {
      "text/plain": [
       "'surface'"
      ]
     },
     "execution_count": 3,
     "metadata": {},
     "output_type": "execute_result"
    }
   ],
   "source": [
    "features.pop(0)\n",
    "features.pop(1)"
   ]
  },
  {
   "cell_type": "code",
   "execution_count": 4,
   "metadata": {
    "collapsed": true
   },
   "outputs": [],
   "source": [
    "features.append('pf')"
   ]
  },
  {
   "cell_type": "code",
   "execution_count": 5,
   "metadata": {},
   "outputs": [
    {
     "data": {
      "text/html": [
       "<style  type=\"text/css\" >\n",
       "    #T_96f84600_9cb1_11e9_8afb_3402864a3df9row0_col0 {\n",
       "            background-color:  #b40426;\n",
       "        }    #T_96f84600_9cb1_11e9_8afb_3402864a3df9row0_col1 {\n",
       "            background-color:  #3b4cc0;\n",
       "        }    #T_96f84600_9cb1_11e9_8afb_3402864a3df9row0_col2 {\n",
       "            background-color:  #688aef;\n",
       "        }    #T_96f84600_9cb1_11e9_8afb_3402864a3df9row0_col3 {\n",
       "            background-color:  #3b4cc0;\n",
       "        }    #T_96f84600_9cb1_11e9_8afb_3402864a3df9row0_col4 {\n",
       "            background-color:  #536edd;\n",
       "        }    #T_96f84600_9cb1_11e9_8afb_3402864a3df9row0_col5 {\n",
       "            background-color:  #3b4cc0;\n",
       "        }    #T_96f84600_9cb1_11e9_8afb_3402864a3df9row0_col6 {\n",
       "            background-color:  #3b4cc0;\n",
       "        }    #T_96f84600_9cb1_11e9_8afb_3402864a3df9row0_col7 {\n",
       "            background-color:  #4358cb;\n",
       "        }    #T_96f84600_9cb1_11e9_8afb_3402864a3df9row0_col8 {\n",
       "            background-color:  #4358cb;\n",
       "        }    #T_96f84600_9cb1_11e9_8afb_3402864a3df9row0_col9 {\n",
       "            background-color:  #3c4ec2;\n",
       "        }    #T_96f84600_9cb1_11e9_8afb_3402864a3df9row1_col0 {\n",
       "            background-color:  #3c4ec2;\n",
       "        }    #T_96f84600_9cb1_11e9_8afb_3402864a3df9row1_col1 {\n",
       "            background-color:  #b40426;\n",
       "        }    #T_96f84600_9cb1_11e9_8afb_3402864a3df9row1_col2 {\n",
       "            background-color:  #799cf8;\n",
       "        }    #T_96f84600_9cb1_11e9_8afb_3402864a3df9row1_col3 {\n",
       "            background-color:  #f7b497;\n",
       "        }    #T_96f84600_9cb1_11e9_8afb_3402864a3df9row1_col4 {\n",
       "            background-color:  #f1cdba;\n",
       "        }    #T_96f84600_9cb1_11e9_8afb_3402864a3df9row1_col5 {\n",
       "            background-color:  #f2cbb7;\n",
       "        }    #T_96f84600_9cb1_11e9_8afb_3402864a3df9row1_col6 {\n",
       "            background-color:  #f4987a;\n",
       "        }    #T_96f84600_9cb1_11e9_8afb_3402864a3df9row1_col7 {\n",
       "            background-color:  #a1c0ff;\n",
       "        }    #T_96f84600_9cb1_11e9_8afb_3402864a3df9row1_col8 {\n",
       "            background-color:  #b7cff9;\n",
       "        }    #T_96f84600_9cb1_11e9_8afb_3402864a3df9row1_col9 {\n",
       "            background-color:  #7093f3;\n",
       "        }    #T_96f84600_9cb1_11e9_8afb_3402864a3df9row2_col0 {\n",
       "            background-color:  #506bda;\n",
       "        }    #T_96f84600_9cb1_11e9_8afb_3402864a3df9row2_col1 {\n",
       "            background-color:  #6180e9;\n",
       "        }    #T_96f84600_9cb1_11e9_8afb_3402864a3df9row2_col2 {\n",
       "            background-color:  #b40426;\n",
       "        }    #T_96f84600_9cb1_11e9_8afb_3402864a3df9row2_col3 {\n",
       "            background-color:  #5e7de7;\n",
       "        }    #T_96f84600_9cb1_11e9_8afb_3402864a3df9row2_col4 {\n",
       "            background-color:  #3b4cc0;\n",
       "        }    #T_96f84600_9cb1_11e9_8afb_3402864a3df9row2_col5 {\n",
       "            background-color:  #4f69d9;\n",
       "        }    #T_96f84600_9cb1_11e9_8afb_3402864a3df9row2_col6 {\n",
       "            background-color:  #779af7;\n",
       "        }    #T_96f84600_9cb1_11e9_8afb_3402864a3df9row2_col7 {\n",
       "            background-color:  #4b64d5;\n",
       "        }    #T_96f84600_9cb1_11e9_8afb_3402864a3df9row2_col8 {\n",
       "            background-color:  #3d50c3;\n",
       "        }    #T_96f84600_9cb1_11e9_8afb_3402864a3df9row2_col9 {\n",
       "            background-color:  #5977e3;\n",
       "        }    #T_96f84600_9cb1_11e9_8afb_3402864a3df9row3_col0 {\n",
       "            background-color:  #485fd1;\n",
       "        }    #T_96f84600_9cb1_11e9_8afb_3402864a3df9row3_col1 {\n",
       "            background-color:  #f7b093;\n",
       "        }    #T_96f84600_9cb1_11e9_8afb_3402864a3df9row3_col2 {\n",
       "            background-color:  #82a6fb;\n",
       "        }    #T_96f84600_9cb1_11e9_8afb_3402864a3df9row3_col3 {\n",
       "            background-color:  #b40426;\n",
       "        }    #T_96f84600_9cb1_11e9_8afb_3402864a3df9row3_col4 {\n",
       "            background-color:  #b6cefa;\n",
       "        }    #T_96f84600_9cb1_11e9_8afb_3402864a3df9row3_col5 {\n",
       "            background-color:  #edd2c3;\n",
       "        }    #T_96f84600_9cb1_11e9_8afb_3402864a3df9row3_col6 {\n",
       "            background-color:  #f1ccb8;\n",
       "        }    #T_96f84600_9cb1_11e9_8afb_3402864a3df9row3_col7 {\n",
       "            background-color:  #89acfd;\n",
       "        }    #T_96f84600_9cb1_11e9_8afb_3402864a3df9row3_col8 {\n",
       "            background-color:  #f5c0a7;\n",
       "        }    #T_96f84600_9cb1_11e9_8afb_3402864a3df9row3_col9 {\n",
       "            background-color:  #6f92f3;\n",
       "        }    #T_96f84600_9cb1_11e9_8afb_3402864a3df9row4_col0 {\n",
       "            background-color:  #3b4cc0;\n",
       "        }    #T_96f84600_9cb1_11e9_8afb_3402864a3df9row4_col1 {\n",
       "            background-color:  #ead4c8;\n",
       "        }    #T_96f84600_9cb1_11e9_8afb_3402864a3df9row4_col2 {\n",
       "            background-color:  #3b4cc0;\n",
       "        }    #T_96f84600_9cb1_11e9_8afb_3402864a3df9row4_col3 {\n",
       "            background-color:  #98b9ff;\n",
       "        }    #T_96f84600_9cb1_11e9_8afb_3402864a3df9row4_col4 {\n",
       "            background-color:  #b40426;\n",
       "        }    #T_96f84600_9cb1_11e9_8afb_3402864a3df9row4_col5 {\n",
       "            background-color:  #779af7;\n",
       "        }    #T_96f84600_9cb1_11e9_8afb_3402864a3df9row4_col6 {\n",
       "            background-color:  #6282ea;\n",
       "        }    #T_96f84600_9cb1_11e9_8afb_3402864a3df9row4_col7 {\n",
       "            background-color:  #3b4cc0;\n",
       "        }    #T_96f84600_9cb1_11e9_8afb_3402864a3df9row4_col8 {\n",
       "            background-color:  #445acc;\n",
       "        }    #T_96f84600_9cb1_11e9_8afb_3402864a3df9row4_col9 {\n",
       "            background-color:  #3b4cc0;\n",
       "        }    #T_96f84600_9cb1_11e9_8afb_3402864a3df9row5_col0 {\n",
       "            background-color:  #5b7ae5;\n",
       "        }    #T_96f84600_9cb1_11e9_8afb_3402864a3df9row5_col1 {\n",
       "            background-color:  #f6bfa6;\n",
       "        }    #T_96f84600_9cb1_11e9_8afb_3402864a3df9row5_col2 {\n",
       "            background-color:  #86a9fc;\n",
       "        }    #T_96f84600_9cb1_11e9_8afb_3402864a3df9row5_col3 {\n",
       "            background-color:  #f1ccb8;\n",
       "        }    #T_96f84600_9cb1_11e9_8afb_3402864a3df9row5_col4 {\n",
       "            background-color:  #aac7fd;\n",
       "        }    #T_96f84600_9cb1_11e9_8afb_3402864a3df9row5_col5 {\n",
       "            background-color:  #b40426;\n",
       "        }    #T_96f84600_9cb1_11e9_8afb_3402864a3df9row5_col6 {\n",
       "            background-color:  #f5c4ac;\n",
       "        }    #T_96f84600_9cb1_11e9_8afb_3402864a3df9row5_col7 {\n",
       "            background-color:  #6f92f3;\n",
       "        }    #T_96f84600_9cb1_11e9_8afb_3402864a3df9row5_col8 {\n",
       "            background-color:  #dfdbd9;\n",
       "        }    #T_96f84600_9cb1_11e9_8afb_3402864a3df9row5_col9 {\n",
       "            background-color:  #84a7fc;\n",
       "        }    #T_96f84600_9cb1_11e9_8afb_3402864a3df9row6_col0 {\n",
       "            background-color:  #4358cb;\n",
       "        }    #T_96f84600_9cb1_11e9_8afb_3402864a3df9row6_col1 {\n",
       "            background-color:  #f39577;\n",
       "        }    #T_96f84600_9cb1_11e9_8afb_3402864a3df9row6_col2 {\n",
       "            background-color:  #94b6ff;\n",
       "        }    #T_96f84600_9cb1_11e9_8afb_3402864a3df9row6_col3 {\n",
       "            background-color:  #f0cdbb;\n",
       "        }    #T_96f84600_9cb1_11e9_8afb_3402864a3df9row6_col4 {\n",
       "            background-color:  #81a4fb;\n",
       "        }    #T_96f84600_9cb1_11e9_8afb_3402864a3df9row6_col5 {\n",
       "            background-color:  #f1cdba;\n",
       "        }    #T_96f84600_9cb1_11e9_8afb_3402864a3df9row6_col6 {\n",
       "            background-color:  #b40426;\n",
       "        }    #T_96f84600_9cb1_11e9_8afb_3402864a3df9row6_col7 {\n",
       "            background-color:  #5572df;\n",
       "        }    #T_96f84600_9cb1_11e9_8afb_3402864a3df9row6_col8 {\n",
       "            background-color:  #b3cdfb;\n",
       "        }    #T_96f84600_9cb1_11e9_8afb_3402864a3df9row6_col9 {\n",
       "            background-color:  #6f92f3;\n",
       "        }    #T_96f84600_9cb1_11e9_8afb_3402864a3df9row7_col0 {\n",
       "            background-color:  #3c4ec2;\n",
       "        }    #T_96f84600_9cb1_11e9_8afb_3402864a3df9row7_col1 {\n",
       "            background-color:  #9abbff;\n",
       "        }    #T_96f84600_9cb1_11e9_8afb_3402864a3df9row7_col2 {\n",
       "            background-color:  #5d7ce6;\n",
       "        }    #T_96f84600_9cb1_11e9_8afb_3402864a3df9row7_col3 {\n",
       "            background-color:  #7699f6;\n",
       "        }    #T_96f84600_9cb1_11e9_8afb_3402864a3df9row7_col4 {\n",
       "            background-color:  #4b64d5;\n",
       "        }    #T_96f84600_9cb1_11e9_8afb_3402864a3df9row7_col5 {\n",
       "            background-color:  #485fd1;\n",
       "        }    #T_96f84600_9cb1_11e9_8afb_3402864a3df9row7_col6 {\n",
       "            background-color:  #455cce;\n",
       "        }    #T_96f84600_9cb1_11e9_8afb_3402864a3df9row7_col7 {\n",
       "            background-color:  #b40426;\n",
       "        }    #T_96f84600_9cb1_11e9_8afb_3402864a3df9row7_col8 {\n",
       "            background-color:  #3b4cc0;\n",
       "        }    #T_96f84600_9cb1_11e9_8afb_3402864a3df9row7_col9 {\n",
       "            background-color:  #4257c9;\n",
       "        }    #T_96f84600_9cb1_11e9_8afb_3402864a3df9row8_col0 {\n",
       "            background-color:  #7396f5;\n",
       "        }    #T_96f84600_9cb1_11e9_8afb_3402864a3df9row8_col1 {\n",
       "            background-color:  #d4dbe6;\n",
       "        }    #T_96f84600_9cb1_11e9_8afb_3402864a3df9row8_col2 {\n",
       "            background-color:  #85a8fc;\n",
       "        }    #T_96f84600_9cb1_11e9_8afb_3402864a3df9row8_col3 {\n",
       "            background-color:  #f7b497;\n",
       "        }    #T_96f84600_9cb1_11e9_8afb_3402864a3df9row8_col4 {\n",
       "            background-color:  #8badfd;\n",
       "        }    #T_96f84600_9cb1_11e9_8afb_3402864a3df9row8_col5 {\n",
       "            background-color:  #e5d8d1;\n",
       "        }    #T_96f84600_9cb1_11e9_8afb_3402864a3df9row8_col6 {\n",
       "            background-color:  #cedaeb;\n",
       "        }    #T_96f84600_9cb1_11e9_8afb_3402864a3df9row8_col7 {\n",
       "            background-color:  #7295f4;\n",
       "        }    #T_96f84600_9cb1_11e9_8afb_3402864a3df9row8_col8 {\n",
       "            background-color:  #b40426;\n",
       "        }    #T_96f84600_9cb1_11e9_8afb_3402864a3df9row8_col9 {\n",
       "            background-color:  #7da0f9;\n",
       "        }    #T_96f84600_9cb1_11e9_8afb_3402864a3df9row9_col0 {\n",
       "            background-color:  #516ddb;\n",
       "        }    #T_96f84600_9cb1_11e9_8afb_3402864a3df9row9_col1 {\n",
       "            background-color:  #84a7fc;\n",
       "        }    #T_96f84600_9cb1_11e9_8afb_3402864a3df9row9_col2 {\n",
       "            background-color:  #86a9fc;\n",
       "        }    #T_96f84600_9cb1_11e9_8afb_3402864a3df9row9_col3 {\n",
       "            background-color:  #799cf8;\n",
       "        }    #T_96f84600_9cb1_11e9_8afb_3402864a3df9row9_col4 {\n",
       "            background-color:  #688aef;\n",
       "        }    #T_96f84600_9cb1_11e9_8afb_3402864a3df9row9_col5 {\n",
       "            background-color:  #799cf8;\n",
       "        }    #T_96f84600_9cb1_11e9_8afb_3402864a3df9row9_col6 {\n",
       "            background-color:  #7da0f9;\n",
       "        }    #T_96f84600_9cb1_11e9_8afb_3402864a3df9row9_col7 {\n",
       "            background-color:  #5e7de7;\n",
       "        }    #T_96f84600_9cb1_11e9_8afb_3402864a3df9row9_col8 {\n",
       "            background-color:  #6384eb;\n",
       "        }    #T_96f84600_9cb1_11e9_8afb_3402864a3df9row9_col9 {\n",
       "            background-color:  #b40426;\n",
       "        }</style>  \n",
       "<table id=\"T_96f84600_9cb1_11e9_8afb_3402864a3df9\" > \n",
       "<thead>    <tr> \n",
       "        <th class=\"blank level0\" ></th> \n",
       "        <th class=\"col_heading level0 col0\" >stDvoa</th> \n",
       "        <th class=\"col_heading level0 col1\" >offMatchup</th> \n",
       "        <th class=\"col_heading level0 col2\" >offDvoaMatchup</th> \n",
       "        <th class=\"col_heading level0 col3\" >ovrMatchup</th> \n",
       "        <th class=\"col_heading level0 col4\" >runMatchup</th> \n",
       "        <th class=\"col_heading level0 col5\" >ptsMatchup</th> \n",
       "        <th class=\"col_heading level0 col6\" >passMatchup</th> \n",
       "        <th class=\"col_heading level0 col7\" >pblkMatchup</th> \n",
       "        <th class=\"col_heading level0 col8\" >totalDvoaMatchup</th> \n",
       "        <th class=\"col_heading level0 col9\" >pf</th> \n",
       "    </tr></thead> \n",
       "<tbody>    <tr> \n",
       "        <th id=\"T_96f84600_9cb1_11e9_8afb_3402864a3df9level0_row0\" class=\"row_heading level0 row0\" >stDvoa</th> \n",
       "        <td id=\"T_96f84600_9cb1_11e9_8afb_3402864a3df9row0_col0\" class=\"data row0 col0\" >1</td> \n",
       "        <td id=\"T_96f84600_9cb1_11e9_8afb_3402864a3df9row0_col1\" class=\"data row0 col1\" >0.0124472</td> \n",
       "        <td id=\"T_96f84600_9cb1_11e9_8afb_3402864a3df9row0_col2\" class=\"data row0 col2\" >0.0792095</td> \n",
       "        <td id=\"T_96f84600_9cb1_11e9_8afb_3402864a3df9row0_col3\" class=\"data row0 col3\" >0.0514683</td> \n",
       "        <td id=\"T_96f84600_9cb1_11e9_8afb_3402864a3df9row0_col4\" class=\"data row0 col4\" >0.00797092</td> \n",
       "        <td id=\"T_96f84600_9cb1_11e9_8afb_3402864a3df9row0_col5\" class=\"data row0 col5\" >0.114562</td> \n",
       "        <td id=\"T_96f84600_9cb1_11e9_8afb_3402864a3df9row0_col6\" class=\"data row0 col6\" >0.0353229</td> \n",
       "        <td id=\"T_96f84600_9cb1_11e9_8afb_3402864a3df9row0_col7\" class=\"data row0 col7\" >0.0146837</td> \n",
       "        <td id=\"T_96f84600_9cb1_11e9_8afb_3402864a3df9row0_col8\" class=\"data row0 col8\" >0.185425</td> \n",
       "        <td id=\"T_96f84600_9cb1_11e9_8afb_3402864a3df9row0_col9\" class=\"data row0 col9\" >0.0854604</td> \n",
       "    </tr>    <tr> \n",
       "        <th id=\"T_96f84600_9cb1_11e9_8afb_3402864a3df9level0_row1\" class=\"row_heading level0 row1\" >offMatchup</th> \n",
       "        <td id=\"T_96f84600_9cb1_11e9_8afb_3402864a3df9row1_col0\" class=\"data row1 col0\" >0.0124472</td> \n",
       "        <td id=\"T_96f84600_9cb1_11e9_8afb_3402864a3df9row1_col1\" class=\"data row1 col1\" >1</td> \n",
       "        <td id=\"T_96f84600_9cb1_11e9_8afb_3402864a3df9row1_col2\" class=\"data row1 col2\" >0.132368</td> \n",
       "        <td id=\"T_96f84600_9cb1_11e9_8afb_3402864a3df9row1_col3\" class=\"data row1 col3\" >0.693633</td> \n",
       "        <td id=\"T_96f84600_9cb1_11e9_8afb_3402864a3df9row1_col4\" class=\"data row1 col4\" >0.561324</td> \n",
       "        <td id=\"T_96f84600_9cb1_11e9_8afb_3402864a3df9row1_col5\" class=\"data row1 col5\" >0.64654</td> \n",
       "        <td id=\"T_96f84600_9cb1_11e9_8afb_3402864a3df9row1_col6\" class=\"data row1 col6\" >0.762152</td> \n",
       "        <td id=\"T_96f84600_9cb1_11e9_8afb_3402864a3df9row1_col7\" class=\"data row1 col7\" >0.295714</td> \n",
       "        <td id=\"T_96f84600_9cb1_11e9_8afb_3402864a3df9row1_col8\" class=\"data row1 col8\" >0.473857</td> \n",
       "        <td id=\"T_96f84600_9cb1_11e9_8afb_3402864a3df9row1_col9\" class=\"data row1 col9\" >0.235993</td> \n",
       "    </tr>    <tr> \n",
       "        <th id=\"T_96f84600_9cb1_11e9_8afb_3402864a3df9level0_row2\" class=\"row_heading level0 row2\" >offDvoaMatchup</th> \n",
       "        <td id=\"T_96f84600_9cb1_11e9_8afb_3402864a3df9row2_col0\" class=\"data row2 col0\" >0.0792095</td> \n",
       "        <td id=\"T_96f84600_9cb1_11e9_8afb_3402864a3df9row2_col1\" class=\"data row2 col1\" >0.132368</td> \n",
       "        <td id=\"T_96f84600_9cb1_11e9_8afb_3402864a3df9row2_col2\" class=\"data row2 col2\" >1</td> \n",
       "        <td id=\"T_96f84600_9cb1_11e9_8afb_3402864a3df9row2_col3\" class=\"data row2 col3\" >0.159731</td> \n",
       "        <td id=\"T_96f84600_9cb1_11e9_8afb_3402864a3df9row2_col4\" class=\"data row2 col4\" >-0.0768149</td> \n",
       "        <td id=\"T_96f84600_9cb1_11e9_8afb_3402864a3df9row2_col5\" class=\"data row2 col5\" >0.175412</td> \n",
       "        <td id=\"T_96f84600_9cb1_11e9_8afb_3402864a3df9row2_col6\" class=\"data row2 col6\" >0.216242</td> \n",
       "        <td id=\"T_96f84600_9cb1_11e9_8afb_3402864a3df9row2_col7\" class=\"data row2 col7\" >0.0445729</td> \n",
       "        <td id=\"T_96f84600_9cb1_11e9_8afb_3402864a3df9row2_col8\" class=\"data row2 col8\" >0.16848</td> \n",
       "        <td id=\"T_96f84600_9cb1_11e9_8afb_3402864a3df9row2_col9\" class=\"data row2 col9\" >0.172356</td> \n",
       "    </tr>    <tr> \n",
       "        <th id=\"T_96f84600_9cb1_11e9_8afb_3402864a3df9level0_row3\" class=\"row_heading level0 row3\" >ovrMatchup</th> \n",
       "        <td id=\"T_96f84600_9cb1_11e9_8afb_3402864a3df9row3_col0\" class=\"data row3 col0\" >0.0514683</td> \n",
       "        <td id=\"T_96f84600_9cb1_11e9_8afb_3402864a3df9row3_col1\" class=\"data row3 col1\" >0.693633</td> \n",
       "        <td id=\"T_96f84600_9cb1_11e9_8afb_3402864a3df9row3_col2\" class=\"data row3 col2\" >0.159731</td> \n",
       "        <td id=\"T_96f84600_9cb1_11e9_8afb_3402864a3df9row3_col3\" class=\"data row3 col3\" >1</td> \n",
       "        <td id=\"T_96f84600_9cb1_11e9_8afb_3402864a3df9row3_col4\" class=\"data row3 col4\" >0.318868</td> \n",
       "        <td id=\"T_96f84600_9cb1_11e9_8afb_3402864a3df9row3_col5\" class=\"data row3 col5\" >0.617805</td> \n",
       "        <td id=\"T_96f84600_9cb1_11e9_8afb_3402864a3df9row3_col6\" class=\"data row3 col6\" >0.610908</td> \n",
       "        <td id=\"T_96f84600_9cb1_11e9_8afb_3402864a3df9row3_col7\" class=\"data row3 col7\" >0.22817</td> \n",
       "        <td id=\"T_96f84600_9cb1_11e9_8afb_3402864a3df9row3_col8\" class=\"data row3 col8\" >0.695742</td> \n",
       "        <td id=\"T_96f84600_9cb1_11e9_8afb_3402864a3df9row3_col9\" class=\"data row3 col9\" >0.233422</td> \n",
       "    </tr>    <tr> \n",
       "        <th id=\"T_96f84600_9cb1_11e9_8afb_3402864a3df9level0_row4\" class=\"row_heading level0 row4\" >runMatchup</th> \n",
       "        <td id=\"T_96f84600_9cb1_11e9_8afb_3402864a3df9row4_col0\" class=\"data row4 col0\" >0.00797092</td> \n",
       "        <td id=\"T_96f84600_9cb1_11e9_8afb_3402864a3df9row4_col1\" class=\"data row4 col1\" >0.561324</td> \n",
       "        <td id=\"T_96f84600_9cb1_11e9_8afb_3402864a3df9row4_col2\" class=\"data row4 col2\" >-0.0768149</td> \n",
       "        <td id=\"T_96f84600_9cb1_11e9_8afb_3402864a3df9row4_col3\" class=\"data row4 col3\" >0.318868</td> \n",
       "        <td id=\"T_96f84600_9cb1_11e9_8afb_3402864a3df9row4_col4\" class=\"data row4 col4\" >1</td> \n",
       "        <td id=\"T_96f84600_9cb1_11e9_8afb_3402864a3df9row4_col5\" class=\"data row4 col5\" >0.283606</td> \n",
       "        <td id=\"T_96f84600_9cb1_11e9_8afb_3402864a3df9row4_col6\" class=\"data row4 col6\" >0.157335</td> \n",
       "        <td id=\"T_96f84600_9cb1_11e9_8afb_3402864a3df9row4_col7\" class=\"data row4 col7\" >-0.014675</td> \n",
       "        <td id=\"T_96f84600_9cb1_11e9_8afb_3402864a3df9row4_col8\" class=\"data row4 col8\" >0.187224</td> \n",
       "        <td id=\"T_96f84600_9cb1_11e9_8afb_3402864a3df9row4_col9\" class=\"data row4 col9\" >0.0796019</td> \n",
       "    </tr>    <tr> \n",
       "        <th id=\"T_96f84600_9cb1_11e9_8afb_3402864a3df9level0_row5\" class=\"row_heading level0 row5\" >ptsMatchup</th> \n",
       "        <td id=\"T_96f84600_9cb1_11e9_8afb_3402864a3df9row5_col0\" class=\"data row5 col0\" >0.114562</td> \n",
       "        <td id=\"T_96f84600_9cb1_11e9_8afb_3402864a3df9row5_col1\" class=\"data row5 col1\" >0.64654</td> \n",
       "        <td id=\"T_96f84600_9cb1_11e9_8afb_3402864a3df9row5_col2\" class=\"data row5 col2\" >0.175412</td> \n",
       "        <td id=\"T_96f84600_9cb1_11e9_8afb_3402864a3df9row5_col3\" class=\"data row5 col3\" >0.617805</td> \n",
       "        <td id=\"T_96f84600_9cb1_11e9_8afb_3402864a3df9row5_col4\" class=\"data row5 col4\" >0.283606</td> \n",
       "        <td id=\"T_96f84600_9cb1_11e9_8afb_3402864a3df9row5_col5\" class=\"data row5 col5\" >1</td> \n",
       "        <td id=\"T_96f84600_9cb1_11e9_8afb_3402864a3df9row5_col6\" class=\"data row5 col6\" >0.638371</td> \n",
       "        <td id=\"T_96f84600_9cb1_11e9_8afb_3402864a3df9row5_col7\" class=\"data row5 col7\" >0.154357</td> \n",
       "        <td id=\"T_96f84600_9cb1_11e9_8afb_3402864a3df9row5_col8\" class=\"data row5 col8\" >0.587692</td> \n",
       "        <td id=\"T_96f84600_9cb1_11e9_8afb_3402864a3df9row5_col9\" class=\"data row5 col9\" >0.285279</td> \n",
       "    </tr>    <tr> \n",
       "        <th id=\"T_96f84600_9cb1_11e9_8afb_3402864a3df9level0_row6\" class=\"row_heading level0 row6\" >passMatchup</th> \n",
       "        <td id=\"T_96f84600_9cb1_11e9_8afb_3402864a3df9row6_col0\" class=\"data row6 col0\" >0.0353229</td> \n",
       "        <td id=\"T_96f84600_9cb1_11e9_8afb_3402864a3df9row6_col1\" class=\"data row6 col1\" >0.762152</td> \n",
       "        <td id=\"T_96f84600_9cb1_11e9_8afb_3402864a3df9row6_col2\" class=\"data row6 col2\" >0.216242</td> \n",
       "        <td id=\"T_96f84600_9cb1_11e9_8afb_3402864a3df9row6_col3\" class=\"data row6 col3\" >0.610908</td> \n",
       "        <td id=\"T_96f84600_9cb1_11e9_8afb_3402864a3df9row6_col4\" class=\"data row6 col4\" >0.157335</td> \n",
       "        <td id=\"T_96f84600_9cb1_11e9_8afb_3402864a3df9row6_col5\" class=\"data row6 col5\" >0.638371</td> \n",
       "        <td id=\"T_96f84600_9cb1_11e9_8afb_3402864a3df9row6_col6\" class=\"data row6 col6\" >1</td> \n",
       "        <td id=\"T_96f84600_9cb1_11e9_8afb_3402864a3df9row6_col7\" class=\"data row6 col7\" >0.0729054</td> \n",
       "        <td id=\"T_96f84600_9cb1_11e9_8afb_3402864a3df9row6_col8\" class=\"data row6 col8\" >0.465104</td> \n",
       "        <td id=\"T_96f84600_9cb1_11e9_8afb_3402864a3df9row6_col9\" class=\"data row6 col9\" >0.234116</td> \n",
       "    </tr>    <tr> \n",
       "        <th id=\"T_96f84600_9cb1_11e9_8afb_3402864a3df9level0_row7\" class=\"row_heading level0 row7\" >pblkMatchup</th> \n",
       "        <td id=\"T_96f84600_9cb1_11e9_8afb_3402864a3df9row7_col0\" class=\"data row7 col0\" >0.0146837</td> \n",
       "        <td id=\"T_96f84600_9cb1_11e9_8afb_3402864a3df9row7_col1\" class=\"data row7 col1\" >0.295714</td> \n",
       "        <td id=\"T_96f84600_9cb1_11e9_8afb_3402864a3df9row7_col2\" class=\"data row7 col2\" >0.0445729</td> \n",
       "        <td id=\"T_96f84600_9cb1_11e9_8afb_3402864a3df9row7_col3\" class=\"data row7 col3\" >0.22817</td> \n",
       "        <td id=\"T_96f84600_9cb1_11e9_8afb_3402864a3df9row7_col4\" class=\"data row7 col4\" >-0.014675</td> \n",
       "        <td id=\"T_96f84600_9cb1_11e9_8afb_3402864a3df9row7_col5\" class=\"data row7 col5\" >0.154357</td> \n",
       "        <td id=\"T_96f84600_9cb1_11e9_8afb_3402864a3df9row7_col6\" class=\"data row7 col6\" >0.0729054</td> \n",
       "        <td id=\"T_96f84600_9cb1_11e9_8afb_3402864a3df9row7_col7\" class=\"data row7 col7\" >1</td> \n",
       "        <td id=\"T_96f84600_9cb1_11e9_8afb_3402864a3df9row7_col8\" class=\"data row7 col8\" >0.160051</td> \n",
       "        <td id=\"T_96f84600_9cb1_11e9_8afb_3402864a3df9row7_col9\" class=\"data row7 col9\" >0.102824</td> \n",
       "    </tr>    <tr> \n",
       "        <th id=\"T_96f84600_9cb1_11e9_8afb_3402864a3df9level0_row8\" class=\"row_heading level0 row8\" >totalDvoaMatchup</th> \n",
       "        <td id=\"T_96f84600_9cb1_11e9_8afb_3402864a3df9row8_col0\" class=\"data row8 col0\" >0.185425</td> \n",
       "        <td id=\"T_96f84600_9cb1_11e9_8afb_3402864a3df9row8_col1\" class=\"data row8 col1\" >0.473857</td> \n",
       "        <td id=\"T_96f84600_9cb1_11e9_8afb_3402864a3df9row8_col2\" class=\"data row8 col2\" >0.16848</td> \n",
       "        <td id=\"T_96f84600_9cb1_11e9_8afb_3402864a3df9row8_col3\" class=\"data row8 col3\" >0.695742</td> \n",
       "        <td id=\"T_96f84600_9cb1_11e9_8afb_3402864a3df9row8_col4\" class=\"data row8 col4\" >0.187224</td> \n",
       "        <td id=\"T_96f84600_9cb1_11e9_8afb_3402864a3df9row8_col5\" class=\"data row8 col5\" >0.587692</td> \n",
       "        <td id=\"T_96f84600_9cb1_11e9_8afb_3402864a3df9row8_col6\" class=\"data row8 col6\" >0.465104</td> \n",
       "        <td id=\"T_96f84600_9cb1_11e9_8afb_3402864a3df9row8_col7\" class=\"data row8 col7\" >0.160051</td> \n",
       "        <td id=\"T_96f84600_9cb1_11e9_8afb_3402864a3df9row8_col8\" class=\"data row8 col8\" >1</td> \n",
       "        <td id=\"T_96f84600_9cb1_11e9_8afb_3402864a3df9row8_col9\" class=\"data row8 col9\" >0.269303</td> \n",
       "    </tr>    <tr> \n",
       "        <th id=\"T_96f84600_9cb1_11e9_8afb_3402864a3df9level0_row9\" class=\"row_heading level0 row9\" >pf</th> \n",
       "        <td id=\"T_96f84600_9cb1_11e9_8afb_3402864a3df9row9_col0\" class=\"data row9 col0\" >0.0854604</td> \n",
       "        <td id=\"T_96f84600_9cb1_11e9_8afb_3402864a3df9row9_col1\" class=\"data row9 col1\" >0.235993</td> \n",
       "        <td id=\"T_96f84600_9cb1_11e9_8afb_3402864a3df9row9_col2\" class=\"data row9 col2\" >0.172356</td> \n",
       "        <td id=\"T_96f84600_9cb1_11e9_8afb_3402864a3df9row9_col3\" class=\"data row9 col3\" >0.233422</td> \n",
       "        <td id=\"T_96f84600_9cb1_11e9_8afb_3402864a3df9row9_col4\" class=\"data row9 col4\" >0.0796019</td> \n",
       "        <td id=\"T_96f84600_9cb1_11e9_8afb_3402864a3df9row9_col5\" class=\"data row9 col5\" >0.285279</td> \n",
       "        <td id=\"T_96f84600_9cb1_11e9_8afb_3402864a3df9row9_col6\" class=\"data row9 col6\" >0.234116</td> \n",
       "        <td id=\"T_96f84600_9cb1_11e9_8afb_3402864a3df9row9_col7\" class=\"data row9 col7\" >0.102824</td> \n",
       "        <td id=\"T_96f84600_9cb1_11e9_8afb_3402864a3df9row9_col8\" class=\"data row9 col8\" >0.269303</td> \n",
       "        <td id=\"T_96f84600_9cb1_11e9_8afb_3402864a3df9row9_col9\" class=\"data row9 col9\" >1</td> \n",
       "    </tr></tbody> \n",
       "</table> "
      ],
      "text/plain": [
       "<pandas.io.formats.style.Styler at 0xacb44e0>"
      ]
     },
     "execution_count": 5,
     "metadata": {},
     "output_type": "execute_result"
    }
   ],
   "source": [
    "# Look at correlation matrix for home teams and away teams\n",
    "corr = homeMatchup[features].corr()\n",
    "corr.style.background_gradient(cmap='coolwarm')"
   ]
  },
  {
   "cell_type": "code",
   "execution_count": 6,
   "metadata": {},
   "outputs": [
    {
     "data": {
      "text/html": [
       "<style  type=\"text/css\" >\n",
       "    #T_9779fc86_9cb1_11e9_b398_3402864a3df9row0_col0 {\n",
       "            background-color:  #b40426;\n",
       "        }    #T_9779fc86_9cb1_11e9_b398_3402864a3df9row0_col1 {\n",
       "            background-color:  #3b4cc0;\n",
       "        }    #T_9779fc86_9cb1_11e9_b398_3402864a3df9row0_col2 {\n",
       "            background-color:  #5875e1;\n",
       "        }    #T_9779fc86_9cb1_11e9_b398_3402864a3df9row0_col3 {\n",
       "            background-color:  #3b4cc0;\n",
       "        }    #T_9779fc86_9cb1_11e9_b398_3402864a3df9row0_col4 {\n",
       "            background-color:  #465ecf;\n",
       "        }    #T_9779fc86_9cb1_11e9_b398_3402864a3df9row0_col5 {\n",
       "            background-color:  #3b4cc0;\n",
       "        }    #T_9779fc86_9cb1_11e9_b398_3402864a3df9row0_col6 {\n",
       "            background-color:  #3b4cc0;\n",
       "        }    #T_9779fc86_9cb1_11e9_b398_3402864a3df9row0_col7 {\n",
       "            background-color:  #4358cb;\n",
       "        }    #T_9779fc86_9cb1_11e9_b398_3402864a3df9row0_col8 {\n",
       "            background-color:  #3b4cc0;\n",
       "        }    #T_9779fc86_9cb1_11e9_b398_3402864a3df9row0_col9 {\n",
       "            background-color:  #3b4cc0;\n",
       "        }    #T_9779fc86_9cb1_11e9_b398_3402864a3df9row1_col0 {\n",
       "            background-color:  #3b4cc0;\n",
       "        }    #T_9779fc86_9cb1_11e9_b398_3402864a3df9row1_col1 {\n",
       "            background-color:  #b40426;\n",
       "        }    #T_9779fc86_9cb1_11e9_b398_3402864a3df9row1_col2 {\n",
       "            background-color:  #799cf8;\n",
       "        }    #T_9779fc86_9cb1_11e9_b398_3402864a3df9row1_col3 {\n",
       "            background-color:  #f7af91;\n",
       "        }    #T_9779fc86_9cb1_11e9_b398_3402864a3df9row1_col4 {\n",
       "            background-color:  #edd2c3;\n",
       "        }    #T_9779fc86_9cb1_11e9_b398_3402864a3df9row1_col5 {\n",
       "            background-color:  #f5c2aa;\n",
       "        }    #T_9779fc86_9cb1_11e9_b398_3402864a3df9row1_col6 {\n",
       "            background-color:  #f29072;\n",
       "        }    #T_9779fc86_9cb1_11e9_b398_3402864a3df9row1_col7 {\n",
       "            background-color:  #9fbfff;\n",
       "        }    #T_9779fc86_9cb1_11e9_b398_3402864a3df9row1_col8 {\n",
       "            background-color:  #c0d4f5;\n",
       "        }    #T_9779fc86_9cb1_11e9_b398_3402864a3df9row1_col9 {\n",
       "            background-color:  #85a8fc;\n",
       "        }    #T_9779fc86_9cb1_11e9_b398_3402864a3df9row2_col0 {\n",
       "            background-color:  #4b64d5;\n",
       "        }    #T_9779fc86_9cb1_11e9_b398_3402864a3df9row2_col1 {\n",
       "            background-color:  #6c8ff1;\n",
       "        }    #T_9779fc86_9cb1_11e9_b398_3402864a3df9row2_col2 {\n",
       "            background-color:  #b40426;\n",
       "        }    #T_9779fc86_9cb1_11e9_b398_3402864a3df9row2_col3 {\n",
       "            background-color:  #6e90f2;\n",
       "        }    #T_9779fc86_9cb1_11e9_b398_3402864a3df9row2_col4 {\n",
       "            background-color:  #3b4cc0;\n",
       "        }    #T_9779fc86_9cb1_11e9_b398_3402864a3df9row2_col5 {\n",
       "            background-color:  #5d7ce6;\n",
       "        }    #T_9779fc86_9cb1_11e9_b398_3402864a3df9row2_col6 {\n",
       "            background-color:  #82a6fb;\n",
       "        }    #T_9779fc86_9cb1_11e9_b398_3402864a3df9row2_col7 {\n",
       "            background-color:  #4c66d6;\n",
       "        }    #T_9779fc86_9cb1_11e9_b398_3402864a3df9row2_col8 {\n",
       "            background-color:  #4358cb;\n",
       "        }    #T_9779fc86_9cb1_11e9_b398_3402864a3df9row2_col9 {\n",
       "            background-color:  #5977e3;\n",
       "        }    #T_9779fc86_9cb1_11e9_b398_3402864a3df9row3_col0 {\n",
       "            background-color:  #485fd1;\n",
       "        }    #T_9779fc86_9cb1_11e9_b398_3402864a3df9row3_col1 {\n",
       "            background-color:  #f7aa8c;\n",
       "        }    #T_9779fc86_9cb1_11e9_b398_3402864a3df9row3_col2 {\n",
       "            background-color:  #86a9fc;\n",
       "        }    #T_9779fc86_9cb1_11e9_b398_3402864a3df9row3_col3 {\n",
       "            background-color:  #b40426;\n",
       "        }    #T_9779fc86_9cb1_11e9_b398_3402864a3df9row3_col4 {\n",
       "            background-color:  #aec9fc;\n",
       "        }    #T_9779fc86_9cb1_11e9_b398_3402864a3df9row3_col5 {\n",
       "            background-color:  #efcfbf;\n",
       "        }    #T_9779fc86_9cb1_11e9_b398_3402864a3df9row3_col6 {\n",
       "            background-color:  #f3c7b1;\n",
       "        }    #T_9779fc86_9cb1_11e9_b398_3402864a3df9row3_col7 {\n",
       "            background-color:  #8db0fe;\n",
       "        }    #T_9779fc86_9cb1_11e9_b398_3402864a3df9row3_col8 {\n",
       "            background-color:  #f5c0a7;\n",
       "        }    #T_9779fc86_9cb1_11e9_b398_3402864a3df9row3_col9 {\n",
       "            background-color:  #81a4fb;\n",
       "        }    #T_9779fc86_9cb1_11e9_b398_3402864a3df9row4_col0 {\n",
       "            background-color:  #3b4cc0;\n",
       "        }    #T_9779fc86_9cb1_11e9_b398_3402864a3df9row4_col1 {\n",
       "            background-color:  #e9d5cb;\n",
       "        }    #T_9779fc86_9cb1_11e9_b398_3402864a3df9row4_col2 {\n",
       "            background-color:  #3b4cc0;\n",
       "        }    #T_9779fc86_9cb1_11e9_b398_3402864a3df9row4_col3 {\n",
       "            background-color:  #9abbff;\n",
       "        }    #T_9779fc86_9cb1_11e9_b398_3402864a3df9row4_col4 {\n",
       "            background-color:  #b40426;\n",
       "        }    #T_9779fc86_9cb1_11e9_b398_3402864a3df9row4_col5 {\n",
       "            background-color:  #80a3fa;\n",
       "        }    #T_9779fc86_9cb1_11e9_b398_3402864a3df9row4_col6 {\n",
       "            background-color:  #6a8bef;\n",
       "        }    #T_9779fc86_9cb1_11e9_b398_3402864a3df9row4_col7 {\n",
       "            background-color:  #3b4cc0;\n",
       "        }    #T_9779fc86_9cb1_11e9_b398_3402864a3df9row4_col8 {\n",
       "            background-color:  #4e68d8;\n",
       "        }    #T_9779fc86_9cb1_11e9_b398_3402864a3df9row4_col9 {\n",
       "            background-color:  #5a78e4;\n",
       "        }    #T_9779fc86_9cb1_11e9_b398_3402864a3df9row5_col0 {\n",
       "            background-color:  #5875e1;\n",
       "        }    #T_9779fc86_9cb1_11e9_b398_3402864a3df9row5_col1 {\n",
       "            background-color:  #f7b89c;\n",
       "        }    #T_9779fc86_9cb1_11e9_b398_3402864a3df9row5_col2 {\n",
       "            background-color:  #85a8fc;\n",
       "        }    #T_9779fc86_9cb1_11e9_b398_3402864a3df9row5_col3 {\n",
       "            background-color:  #f2cab5;\n",
       "        }    #T_9779fc86_9cb1_11e9_b398_3402864a3df9row5_col4 {\n",
       "            background-color:  #a5c3fe;\n",
       "        }    #T_9779fc86_9cb1_11e9_b398_3402864a3df9row5_col5 {\n",
       "            background-color:  #b40426;\n",
       "        }    #T_9779fc86_9cb1_11e9_b398_3402864a3df9row5_col6 {\n",
       "            background-color:  #f6bfa6;\n",
       "        }    #T_9779fc86_9cb1_11e9_b398_3402864a3df9row5_col7 {\n",
       "            background-color:  #7295f4;\n",
       "        }    #T_9779fc86_9cb1_11e9_b398_3402864a3df9row5_col8 {\n",
       "            background-color:  #dedcdb;\n",
       "        }    #T_9779fc86_9cb1_11e9_b398_3402864a3df9row5_col9 {\n",
       "            background-color:  #96b7ff;\n",
       "        }    #T_9779fc86_9cb1_11e9_b398_3402864a3df9row6_col0 {\n",
       "            background-color:  #4055c8;\n",
       "        }    #T_9779fc86_9cb1_11e9_b398_3402864a3df9row6_col1 {\n",
       "            background-color:  #f18f71;\n",
       "        }    #T_9779fc86_9cb1_11e9_b398_3402864a3df9row6_col2 {\n",
       "            background-color:  #93b5fe;\n",
       "        }    #T_9779fc86_9cb1_11e9_b398_3402864a3df9row6_col3 {\n",
       "            background-color:  #f2cab5;\n",
       "        }    #T_9779fc86_9cb1_11e9_b398_3402864a3df9row6_col4 {\n",
       "            background-color:  #7b9ff9;\n",
       "        }    #T_9779fc86_9cb1_11e9_b398_3402864a3df9row6_col5 {\n",
       "            background-color:  #f3c7b1;\n",
       "        }    #T_9779fc86_9cb1_11e9_b398_3402864a3df9row6_col6 {\n",
       "            background-color:  #b40426;\n",
       "        }    #T_9779fc86_9cb1_11e9_b398_3402864a3df9row6_col7 {\n",
       "            background-color:  #536edd;\n",
       "        }    #T_9779fc86_9cb1_11e9_b398_3402864a3df9row6_col8 {\n",
       "            background-color:  #bad0f8;\n",
       "        }    #T_9779fc86_9cb1_11e9_b398_3402864a3df9row6_col9 {\n",
       "            background-color:  #88abfd;\n",
       "        }    #T_9779fc86_9cb1_11e9_b398_3402864a3df9row7_col0 {\n",
       "            background-color:  #4055c8;\n",
       "        }    #T_9779fc86_9cb1_11e9_b398_3402864a3df9row7_col1 {\n",
       "            background-color:  #9ebeff;\n",
       "        }    #T_9779fc86_9cb1_11e9_b398_3402864a3df9row7_col2 {\n",
       "            background-color:  #5673e0;\n",
       "        }    #T_9779fc86_9cb1_11e9_b398_3402864a3df9row7_col3 {\n",
       "            background-color:  #80a3fa;\n",
       "        }    #T_9779fc86_9cb1_11e9_b398_3402864a3df9row7_col4 {\n",
       "            background-color:  #445acc;\n",
       "        }    #T_9779fc86_9cb1_11e9_b398_3402864a3df9row7_col5 {\n",
       "            background-color:  #536edd;\n",
       "        }    #T_9779fc86_9cb1_11e9_b398_3402864a3df9row7_col6 {\n",
       "            background-color:  #4a63d3;\n",
       "        }    #T_9779fc86_9cb1_11e9_b398_3402864a3df9row7_col7 {\n",
       "            background-color:  #b40426;\n",
       "        }    #T_9779fc86_9cb1_11e9_b398_3402864a3df9row7_col8 {\n",
       "            background-color:  #3b4cc0;\n",
       "        }    #T_9779fc86_9cb1_11e9_b398_3402864a3df9row7_col9 {\n",
       "            background-color:  #3b4cc0;\n",
       "        }    #T_9779fc86_9cb1_11e9_b398_3402864a3df9row8_col0 {\n",
       "            background-color:  #7093f3;\n",
       "        }    #T_9779fc86_9cb1_11e9_b398_3402864a3df9row8_col1 {\n",
       "            background-color:  #dcdddd;\n",
       "        }    #T_9779fc86_9cb1_11e9_b398_3402864a3df9row8_col2 {\n",
       "            background-color:  #84a7fc;\n",
       "        }    #T_9779fc86_9cb1_11e9_b398_3402864a3df9row8_col3 {\n",
       "            background-color:  #f7b194;\n",
       "        }    #T_9779fc86_9cb1_11e9_b398_3402864a3df9row8_col4 {\n",
       "            background-color:  #8db0fe;\n",
       "        }    #T_9779fc86_9cb1_11e9_b398_3402864a3df9row8_col5 {\n",
       "            background-color:  #e8d6cc;\n",
       "        }    #T_9779fc86_9cb1_11e9_b398_3402864a3df9row8_col6 {\n",
       "            background-color:  #d6dce4;\n",
       "        }    #T_9779fc86_9cb1_11e9_b398_3402864a3df9row8_col7 {\n",
       "            background-color:  #7093f3;\n",
       "        }    #T_9779fc86_9cb1_11e9_b398_3402864a3df9row8_col8 {\n",
       "            background-color:  #b40426;\n",
       "        }    #T_9779fc86_9cb1_11e9_b398_3402864a3df9row8_col9 {\n",
       "            background-color:  #90b2fe;\n",
       "        }    #T_9779fc86_9cb1_11e9_b398_3402864a3df9row9_col0 {\n",
       "            background-color:  #465ecf;\n",
       "        }    #T_9779fc86_9cb1_11e9_b398_3402864a3df9row9_col1 {\n",
       "            background-color:  #90b2fe;\n",
       "        }    #T_9779fc86_9cb1_11e9_b398_3402864a3df9row9_col2 {\n",
       "            background-color:  #7093f3;\n",
       "        }    #T_9779fc86_9cb1_11e9_b398_3402864a3df9row9_col3 {\n",
       "            background-color:  #81a4fb;\n",
       "        }    #T_9779fc86_9cb1_11e9_b398_3402864a3df9row9_col4 {\n",
       "            background-color:  #7295f4;\n",
       "        }    #T_9779fc86_9cb1_11e9_b398_3402864a3df9row9_col5 {\n",
       "            background-color:  #85a8fc;\n",
       "        }    #T_9779fc86_9cb1_11e9_b398_3402864a3df9row9_col6 {\n",
       "            background-color:  #8db0fe;\n",
       "        }    #T_9779fc86_9cb1_11e9_b398_3402864a3df9row9_col7 {\n",
       "            background-color:  #485fd1;\n",
       "        }    #T_9779fc86_9cb1_11e9_b398_3402864a3df9row9_col8 {\n",
       "            background-color:  #6a8bef;\n",
       "        }    #T_9779fc86_9cb1_11e9_b398_3402864a3df9row9_col9 {\n",
       "            background-color:  #b40426;\n",
       "        }</style>  \n",
       "<table id=\"T_9779fc86_9cb1_11e9_b398_3402864a3df9\" > \n",
       "<thead>    <tr> \n",
       "        <th class=\"blank level0\" ></th> \n",
       "        <th class=\"col_heading level0 col0\" >stDvoa</th> \n",
       "        <th class=\"col_heading level0 col1\" >offMatchup</th> \n",
       "        <th class=\"col_heading level0 col2\" >offDvoaMatchup</th> \n",
       "        <th class=\"col_heading level0 col3\" >ovrMatchup</th> \n",
       "        <th class=\"col_heading level0 col4\" >runMatchup</th> \n",
       "        <th class=\"col_heading level0 col5\" >ptsMatchup</th> \n",
       "        <th class=\"col_heading level0 col6\" >passMatchup</th> \n",
       "        <th class=\"col_heading level0 col7\" >pblkMatchup</th> \n",
       "        <th class=\"col_heading level0 col8\" >totalDvoaMatchup</th> \n",
       "        <th class=\"col_heading level0 col9\" >pf</th> \n",
       "    </tr></thead> \n",
       "<tbody>    <tr> \n",
       "        <th id=\"T_9779fc86_9cb1_11e9_b398_3402864a3df9level0_row0\" class=\"row_heading level0 row0\" >stDvoa</th> \n",
       "        <td id=\"T_9779fc86_9cb1_11e9_b398_3402864a3df9row0_col0\" class=\"data row0 col0\" >1</td> \n",
       "        <td id=\"T_9779fc86_9cb1_11e9_b398_3402864a3df9row0_col1\" class=\"data row0 col1\" >-0.0141906</td> \n",
       "        <td id=\"T_9779fc86_9cb1_11e9_b398_3402864a3df9row0_col2\" class=\"data row0 col2\" >0.0438029</td> \n",
       "        <td id=\"T_9779fc86_9cb1_11e9_b398_3402864a3df9row0_col3\" class=\"data row0 col3\" >0.029566</td> \n",
       "        <td id=\"T_9779fc86_9cb1_11e9_b398_3402864a3df9row0_col4\" class=\"data row0 col4\" >-0.0136609</td> \n",
       "        <td id=\"T_9779fc86_9cb1_11e9_b398_3402864a3df9row0_col5\" class=\"data row0 col5\" >0.0839382</td> \n",
       "        <td id=\"T_9779fc86_9cb1_11e9_b398_3402864a3df9row0_col6\" class=\"data row0 col6\" >0.00592466</td> \n",
       "        <td id=\"T_9779fc86_9cb1_11e9_b398_3402864a3df9row0_col7\" class=\"data row0 col7\" >0.00718014</td> \n",
       "        <td id=\"T_9779fc86_9cb1_11e9_b398_3402864a3df9row0_col8\" class=\"data row0 col8\" >0.15686</td> \n",
       "        <td id=\"T_9779fc86_9cb1_11e9_b398_3402864a3df9row0_col9\" class=\"data row0 col9\" >0.0284542</td> \n",
       "    </tr>    <tr> \n",
       "        <th id=\"T_9779fc86_9cb1_11e9_b398_3402864a3df9level0_row1\" class=\"row_heading level0 row1\" >offMatchup</th> \n",
       "        <td id=\"T_9779fc86_9cb1_11e9_b398_3402864a3df9row1_col0\" class=\"data row1 col0\" >-0.0141906</td> \n",
       "        <td id=\"T_9779fc86_9cb1_11e9_b398_3402864a3df9row1_col1\" class=\"data row1 col1\" >1</td> \n",
       "        <td id=\"T_9779fc86_9cb1_11e9_b398_3402864a3df9row1_col2\" class=\"data row1 col2\" >0.145469</td> \n",
       "        <td id=\"T_9779fc86_9cb1_11e9_b398_3402864a3df9row1_col3\" class=\"data row1 col3\" >0.701385</td> \n",
       "        <td id=\"T_9779fc86_9cb1_11e9_b398_3402864a3df9row1_col4\" class=\"data row1 col4\" >0.542278</td> \n",
       "        <td id=\"T_9779fc86_9cb1_11e9_b398_3402864a3df9row1_col5\" class=\"data row1 col5\" >0.660737</td> \n",
       "        <td id=\"T_9779fc86_9cb1_11e9_b398_3402864a3df9row1_col6\" class=\"data row1 col6\" >0.771839</td> \n",
       "        <td id=\"T_9779fc86_9cb1_11e9_b398_3402864a3df9row1_col7\" class=\"data row1 col7\" >0.287949</td> \n",
       "        <td id=\"T_9779fc86_9cb1_11e9_b398_3402864a3df9row1_col8\" class=\"data row1 col8\" >0.491936</td> \n",
       "        <td id=\"T_9779fc86_9cb1_11e9_b398_3402864a3df9row1_col9\" class=\"data row1 col9\" >0.249005</td> \n",
       "    </tr>    <tr> \n",
       "        <th id=\"T_9779fc86_9cb1_11e9_b398_3402864a3df9level0_row2\" class=\"row_heading level0 row2\" >offDvoaMatchup</th> \n",
       "        <td id=\"T_9779fc86_9cb1_11e9_b398_3402864a3df9row2_col0\" class=\"data row2 col0\" >0.0438029</td> \n",
       "        <td id=\"T_9779fc86_9cb1_11e9_b398_3402864a3df9row2_col1\" class=\"data row2 col1\" >0.145469</td> \n",
       "        <td id=\"T_9779fc86_9cb1_11e9_b398_3402864a3df9row2_col2\" class=\"data row2 col2\" >1</td> \n",
       "        <td id=\"T_9779fc86_9cb1_11e9_b398_3402864a3df9row2_col3\" class=\"data row2 col3\" >0.186499</td> \n",
       "        <td id=\"T_9779fc86_9cb1_11e9_b398_3402864a3df9row2_col4\" class=\"data row2 col4\" >-0.0572846</td> \n",
       "        <td id=\"T_9779fc86_9cb1_11e9_b398_3402864a3df9row2_col5\" class=\"data row2 col5\" >0.185901</td> \n",
       "        <td id=\"T_9779fc86_9cb1_11e9_b398_3402864a3df9row2_col6\" class=\"data row2 col6\" >0.224991</td> \n",
       "        <td id=\"T_9779fc86_9cb1_11e9_b398_3402864a3df9row2_col7\" class=\"data row2 col7\" >0.0386995</td> \n",
       "        <td id=\"T_9779fc86_9cb1_11e9_b398_3402864a3df9row2_col8\" class=\"data row2 col8\" >0.178425</td> \n",
       "        <td id=\"T_9779fc86_9cb1_11e9_b398_3402864a3df9row2_col9\" class=\"data row2 col9\" >0.121729</td> \n",
       "    </tr>    <tr> \n",
       "        <th id=\"T_9779fc86_9cb1_11e9_b398_3402864a3df9level0_row3\" class=\"row_heading level0 row3\" >ovrMatchup</th> \n",
       "        <td id=\"T_9779fc86_9cb1_11e9_b398_3402864a3df9row3_col0\" class=\"data row3 col0\" >0.029566</td> \n",
       "        <td id=\"T_9779fc86_9cb1_11e9_b398_3402864a3df9row3_col1\" class=\"data row3 col1\" >0.701385</td> \n",
       "        <td id=\"T_9779fc86_9cb1_11e9_b398_3402864a3df9row3_col2\" class=\"data row3 col2\" >0.186499</td> \n",
       "        <td id=\"T_9779fc86_9cb1_11e9_b398_3402864a3df9row3_col3\" class=\"data row3 col3\" >1</td> \n",
       "        <td id=\"T_9779fc86_9cb1_11e9_b398_3402864a3df9row3_col4\" class=\"data row3 col4\" >0.308102</td> \n",
       "        <td id=\"T_9779fc86_9cb1_11e9_b398_3402864a3df9row3_col5\" class=\"data row3 col5\" >0.614794</td> \n",
       "        <td id=\"T_9779fc86_9cb1_11e9_b398_3402864a3df9row3_col6\" class=\"data row3 col6\" >0.616786</td> \n",
       "        <td id=\"T_9779fc86_9cb1_11e9_b398_3402864a3df9row3_col7\" class=\"data row3 col7\" >0.235913</td> \n",
       "        <td id=\"T_9779fc86_9cb1_11e9_b398_3402864a3df9row3_col8\" class=\"data row3 col8\" >0.695742</td> \n",
       "        <td id=\"T_9779fc86_9cb1_11e9_b398_3402864a3df9row3_col9\" class=\"data row3 col9\" >0.238515</td> \n",
       "    </tr>    <tr> \n",
       "        <th id=\"T_9779fc86_9cb1_11e9_b398_3402864a3df9level0_row4\" class=\"row_heading level0 row4\" >runMatchup</th> \n",
       "        <td id=\"T_9779fc86_9cb1_11e9_b398_3402864a3df9row4_col0\" class=\"data row4 col0\" >-0.0136609</td> \n",
       "        <td id=\"T_9779fc86_9cb1_11e9_b398_3402864a3df9row4_col1\" class=\"data row4 col1\" >0.542278</td> \n",
       "        <td id=\"T_9779fc86_9cb1_11e9_b398_3402864a3df9row4_col2\" class=\"data row4 col2\" >-0.0572846</td> \n",
       "        <td id=\"T_9779fc86_9cb1_11e9_b398_3402864a3df9row4_col3\" class=\"data row4 col3\" >0.308102</td> \n",
       "        <td id=\"T_9779fc86_9cb1_11e9_b398_3402864a3df9row4_col4\" class=\"data row4 col4\" >1</td> \n",
       "        <td id=\"T_9779fc86_9cb1_11e9_b398_3402864a3df9row4_col5\" class=\"data row4 col5\" >0.280744</td> \n",
       "        <td id=\"T_9779fc86_9cb1_11e9_b398_3402864a3df9row4_col6\" class=\"data row4 col6\" >0.1548</td> \n",
       "        <td id=\"T_9779fc86_9cb1_11e9_b398_3402864a3df9row4_col7\" class=\"data row4 col7\" >-0.0211786</td> \n",
       "        <td id=\"T_9779fc86_9cb1_11e9_b398_3402864a3df9row4_col8\" class=\"data row4 col8\" >0.207647</td> \n",
       "        <td id=\"T_9779fc86_9cb1_11e9_b398_3402864a3df9row4_col9\" class=\"data row4 col9\" >0.12586</td> \n",
       "    </tr>    <tr> \n",
       "        <th id=\"T_9779fc86_9cb1_11e9_b398_3402864a3df9level0_row5\" class=\"row_heading level0 row5\" >ptsMatchup</th> \n",
       "        <td id=\"T_9779fc86_9cb1_11e9_b398_3402864a3df9row5_col0\" class=\"data row5 col0\" >0.0839382</td> \n",
       "        <td id=\"T_9779fc86_9cb1_11e9_b398_3402864a3df9row5_col1\" class=\"data row5 col1\" >0.660737</td> \n",
       "        <td id=\"T_9779fc86_9cb1_11e9_b398_3402864a3df9row5_col2\" class=\"data row5 col2\" >0.185901</td> \n",
       "        <td id=\"T_9779fc86_9cb1_11e9_b398_3402864a3df9row5_col3\" class=\"data row5 col3\" >0.614794</td> \n",
       "        <td id=\"T_9779fc86_9cb1_11e9_b398_3402864a3df9row5_col4\" class=\"data row5 col4\" >0.280744</td> \n",
       "        <td id=\"T_9779fc86_9cb1_11e9_b398_3402864a3df9row5_col5\" class=\"data row5 col5\" >1</td> \n",
       "        <td id=\"T_9779fc86_9cb1_11e9_b398_3402864a3df9row5_col6\" class=\"data row5 col6\" >0.645901</td> \n",
       "        <td id=\"T_9779fc86_9cb1_11e9_b398_3402864a3df9row5_col7\" class=\"data row5 col7\" >0.155539</td> \n",
       "        <td id=\"T_9779fc86_9cb1_11e9_b398_3402864a3df9row5_col8\" class=\"data row5 col8\" >0.581535</td> \n",
       "        <td id=\"T_9779fc86_9cb1_11e9_b398_3402864a3df9row5_col9\" class=\"data row5 col9\" >0.292522</td> \n",
       "    </tr>    <tr> \n",
       "        <th id=\"T_9779fc86_9cb1_11e9_b398_3402864a3df9level0_row6\" class=\"row_heading level0 row6\" >passMatchup</th> \n",
       "        <td id=\"T_9779fc86_9cb1_11e9_b398_3402864a3df9row6_col0\" class=\"data row6 col0\" >0.00592466</td> \n",
       "        <td id=\"T_9779fc86_9cb1_11e9_b398_3402864a3df9row6_col1\" class=\"data row6 col1\" >0.771839</td> \n",
       "        <td id=\"T_9779fc86_9cb1_11e9_b398_3402864a3df9row6_col2\" class=\"data row6 col2\" >0.224991</td> \n",
       "        <td id=\"T_9779fc86_9cb1_11e9_b398_3402864a3df9row6_col3\" class=\"data row6 col3\" >0.616786</td> \n",
       "        <td id=\"T_9779fc86_9cb1_11e9_b398_3402864a3df9row6_col4\" class=\"data row6 col4\" >0.1548</td> \n",
       "        <td id=\"T_9779fc86_9cb1_11e9_b398_3402864a3df9row6_col5\" class=\"data row6 col5\" >0.645901</td> \n",
       "        <td id=\"T_9779fc86_9cb1_11e9_b398_3402864a3df9row6_col6\" class=\"data row6 col6\" >1</td> \n",
       "        <td id=\"T_9779fc86_9cb1_11e9_b398_3402864a3df9row6_col7\" class=\"data row6 col7\" >0.0599073</td> \n",
       "        <td id=\"T_9779fc86_9cb1_11e9_b398_3402864a3df9row6_col8\" class=\"data row6 col8\" >0.475858</td> \n",
       "        <td id=\"T_9779fc86_9cb1_11e9_b398_3402864a3df9row6_col9\" class=\"data row6 col9\" >0.256675</td> \n",
       "    </tr>    <tr> \n",
       "        <th id=\"T_9779fc86_9cb1_11e9_b398_3402864a3df9level0_row7\" class=\"row_heading level0 row7\" >pblkMatchup</th> \n",
       "        <td id=\"T_9779fc86_9cb1_11e9_b398_3402864a3df9row7_col0\" class=\"data row7 col0\" >0.00718014</td> \n",
       "        <td id=\"T_9779fc86_9cb1_11e9_b398_3402864a3df9row7_col1\" class=\"data row7 col1\" >0.287949</td> \n",
       "        <td id=\"T_9779fc86_9cb1_11e9_b398_3402864a3df9row7_col2\" class=\"data row7 col2\" >0.0386995</td> \n",
       "        <td id=\"T_9779fc86_9cb1_11e9_b398_3402864a3df9row7_col3\" class=\"data row7 col3\" >0.235913</td> \n",
       "        <td id=\"T_9779fc86_9cb1_11e9_b398_3402864a3df9row7_col4\" class=\"data row7 col4\" >-0.0211786</td> \n",
       "        <td id=\"T_9779fc86_9cb1_11e9_b398_3402864a3df9row7_col5\" class=\"data row7 col5\" >0.155539</td> \n",
       "        <td id=\"T_9779fc86_9cb1_11e9_b398_3402864a3df9row7_col6\" class=\"data row7 col6\" >0.0599073</td> \n",
       "        <td id=\"T_9779fc86_9cb1_11e9_b398_3402864a3df9row7_col7\" class=\"data row7 col7\" >1</td> \n",
       "        <td id=\"T_9779fc86_9cb1_11e9_b398_3402864a3df9row7_col8\" class=\"data row7 col8\" >0.153557</td> \n",
       "        <td id=\"T_9779fc86_9cb1_11e9_b398_3402864a3df9row7_col9\" class=\"data row7 col9\" >0.0254453</td> \n",
       "    </tr>    <tr> \n",
       "        <th id=\"T_9779fc86_9cb1_11e9_b398_3402864a3df9level0_row8\" class=\"row_heading level0 row8\" >totalDvoaMatchup</th> \n",
       "        <td id=\"T_9779fc86_9cb1_11e9_b398_3402864a3df9row8_col0\" class=\"data row8 col0\" >0.15686</td> \n",
       "        <td id=\"T_9779fc86_9cb1_11e9_b398_3402864a3df9row8_col1\" class=\"data row8 col1\" >0.491936</td> \n",
       "        <td id=\"T_9779fc86_9cb1_11e9_b398_3402864a3df9row8_col2\" class=\"data row8 col2\" >0.178425</td> \n",
       "        <td id=\"T_9779fc86_9cb1_11e9_b398_3402864a3df9row8_col3\" class=\"data row8 col3\" >0.695742</td> \n",
       "        <td id=\"T_9779fc86_9cb1_11e9_b398_3402864a3df9row8_col4\" class=\"data row8 col4\" >0.207647</td> \n",
       "        <td id=\"T_9779fc86_9cb1_11e9_b398_3402864a3df9row8_col5\" class=\"data row8 col5\" >0.581535</td> \n",
       "        <td id=\"T_9779fc86_9cb1_11e9_b398_3402864a3df9row8_col6\" class=\"data row8 col6\" >0.475858</td> \n",
       "        <td id=\"T_9779fc86_9cb1_11e9_b398_3402864a3df9row8_col7\" class=\"data row8 col7\" >0.153557</td> \n",
       "        <td id=\"T_9779fc86_9cb1_11e9_b398_3402864a3df9row8_col8\" class=\"data row8 col8\" >1</td> \n",
       "        <td id=\"T_9779fc86_9cb1_11e9_b398_3402864a3df9row8_col9\" class=\"data row8 col9\" >0.280353</td> \n",
       "    </tr>    <tr> \n",
       "        <th id=\"T_9779fc86_9cb1_11e9_b398_3402864a3df9level0_row9\" class=\"row_heading level0 row9\" >pf</th> \n",
       "        <td id=\"T_9779fc86_9cb1_11e9_b398_3402864a3df9row9_col0\" class=\"data row9 col0\" >0.0284542</td> \n",
       "        <td id=\"T_9779fc86_9cb1_11e9_b398_3402864a3df9row9_col1\" class=\"data row9 col1\" >0.249005</td> \n",
       "        <td id=\"T_9779fc86_9cb1_11e9_b398_3402864a3df9row9_col2\" class=\"data row9 col2\" >0.121729</td> \n",
       "        <td id=\"T_9779fc86_9cb1_11e9_b398_3402864a3df9row9_col3\" class=\"data row9 col3\" >0.238515</td> \n",
       "        <td id=\"T_9779fc86_9cb1_11e9_b398_3402864a3df9row9_col4\" class=\"data row9 col4\" >0.12586</td> \n",
       "        <td id=\"T_9779fc86_9cb1_11e9_b398_3402864a3df9row9_col5\" class=\"data row9 col5\" >0.292522</td> \n",
       "        <td id=\"T_9779fc86_9cb1_11e9_b398_3402864a3df9row9_col6\" class=\"data row9 col6\" >0.256675</td> \n",
       "        <td id=\"T_9779fc86_9cb1_11e9_b398_3402864a3df9row9_col7\" class=\"data row9 col7\" >0.0254453</td> \n",
       "        <td id=\"T_9779fc86_9cb1_11e9_b398_3402864a3df9row9_col8\" class=\"data row9 col8\" >0.280353</td> \n",
       "        <td id=\"T_9779fc86_9cb1_11e9_b398_3402864a3df9row9_col9\" class=\"data row9 col9\" >1</td> \n",
       "    </tr></tbody> \n",
       "</table> "
      ],
      "text/plain": [
       "<pandas.io.formats.style.Styler at 0xad82da0>"
      ]
     },
     "execution_count": 6,
     "metadata": {},
     "output_type": "execute_result"
    }
   ],
   "source": [
    "corr = awayMatchup[features].corr()\n",
    "corr.style.background_gradient(cmap='coolwarm')"
   ]
  },
  {
   "cell_type": "markdown",
   "metadata": {},
   "source": [
    "Now that we have a sense for how each variable relates to the other, let's do some hypothesis testing. Our first test will be to see if home teams who have an above-average points matchup (avg points scored + opponent average points allowed) leads to scoring more points (pf). Let H0: no difference in average points scored when a home team has an above-average points matchup. Then HA: There is a difference in the two means; points matchup has a significant impact on points scored for home teams. First, let's look at summary statistics for ptsMatchup for home teams."
   ]
  },
  {
   "cell_type": "code",
   "execution_count": 7,
   "metadata": {},
   "outputs": [
    {
     "name": "stdout",
     "output_type": "stream",
     "text": [
      "count    2736.000000\n",
      "mean       44.873016\n",
      "std         6.742792\n",
      "min        21.428571\n",
      "25%        40.285714\n",
      "50%        44.785714\n",
      "75%        49.285714\n",
      "max        75.285714\n",
      "Name: ptsMatchup, dtype: float64\n"
     ]
    }
   ],
   "source": [
    "print(homeMatchup['ptsMatchup'].describe())"
   ]
  },
  {
   "cell_type": "markdown",
   "metadata": {},
   "source": [
    "We see that the average is around 44.87, so this will be the point that separates below-average (ba) matchups from above-average (aa) ones. Now let's find our mean points scored, standard deviations, and sample sizes for home teams with both ba and aa matchups."
   ]
  },
  {
   "cell_type": "code",
   "execution_count": 8,
   "metadata": {},
   "outputs": [
    {
     "name": "stdout",
     "output_type": "stream",
     "text": [
      "26.3974645787\n",
      "10.4644261335\n",
      "1341\n",
      "21.1913978495\n",
      "10.0019315975\n",
      "1395\n"
     ]
    }
   ],
   "source": [
    "print(np.mean(homeMatchup[homeMatchup['ptsMatchup'] > 44.87]['pf']))\n",
    "print(np.std(homeMatchup[homeMatchup['ptsMatchup'] > 44.87]['pf']))\n",
    "print(len(homeMatchup[homeMatchup['ptsMatchup'] > 44.87]['pf']))\n",
    "print(np.mean(homeMatchup[homeMatchup['ptsMatchup'] <= 44.87]['pf']))\n",
    "print(np.std(homeMatchup[homeMatchup['ptsMatchup'] <= 44.87]['pf']))\n",
    "print(len(homeMatchup[homeMatchup['ptsMatchup'] <= 44.87]['pf']))"
   ]
  },
  {
   "cell_type": "markdown",
   "metadata": {},
   "source": [
    "Now that we have found all of this information, we can compute a z-score. Using alpha = 0.05, we have a critical value of 1.65 since we are doing a one-tailed test (testing if aa matchups lead to more points). If our observed statistic has a value > 1.65, we should reject our null hypothesis. "
   ]
  },
  {
   "cell_type": "code",
   "execution_count": 9,
   "metadata": {},
   "outputs": [
    {
     "data": {
      "text/plain": [
       "13.170058259473853"
      ]
     },
     "execution_count": 9,
     "metadata": {},
     "output_type": "execute_result"
    }
   ],
   "source": [
    "mean1 = np.mean(homeMatchup[homeMatchup['ptsMatchup'] > 44.87]['pf'])\n",
    "std1 = np.std(homeMatchup[homeMatchup['ptsMatchup'] > 44.87]['pf'])\n",
    "n1 = len(homeMatchup[homeMatchup['ptsMatchup'] > 44.87]['pf'])\n",
    "mean2 = np.mean(homeMatchup[homeMatchup['ptsMatchup'] <= 44.87]['pf'])\n",
    "std2 = np.std(homeMatchup[homeMatchup['ptsMatchup'] <= 44.87]['pf'])\n",
    "n2 = len(homeMatchup[homeMatchup['ptsMatchup'] <= 44.87]['pf'])\n",
    "observed = mean1 - mean2\n",
    "stdDiff = np.sqrt((((std1)**2)/n1) + (((std2)**2)/n1))\n",
    "zScore = (observed - 0)/stdDiff\n",
    "zScore"
   ]
  },
  {
   "cell_type": "markdown",
   "metadata": {},
   "source": [
    "Since our z-score > 1.65, we reject H0. We have strong evidence to suggest that having an above-average points matchup leads to home teams scoring more points."
   ]
  },
  {
   "cell_type": "markdown",
   "metadata": {},
   "source": [
    "Now let's follow the same approach for some more variables, and make sure to check the variable for away teams as well."
   ]
  },
  {
   "cell_type": "code",
   "execution_count": 10,
   "metadata": {},
   "outputs": [
    {
     "name": "stdout",
     "output_type": "stream",
     "text": [
      "count    2736.000000\n",
      "mean       45.116541\n",
      "std         6.753264\n",
      "min        24.857143\n",
      "25%        40.571429\n",
      "50%        45.000000\n",
      "75%        49.285714\n",
      "max        69.142857\n",
      "Name: ptsMatchup, dtype: float64\n",
      "23.4859467456\n",
      "1352\n",
      "19.0202312139\n",
      "1384\n"
     ]
    }
   ],
   "source": [
    "# ptsMatchup for away teams\n",
    "\n",
    "print(awayMatchup['ptsMatchup'].describe())\n",
    "print(np.mean(awayMatchup[awayMatchup['ptsMatchup'] > 45.11]['pf']))\n",
    "print(len(awayMatchup[awayMatchup['ptsMatchup'] > 45.11]['pf']))\n",
    "print(np.mean(awayMatchup[awayMatchup['ptsMatchup'] <= 45.11]['pf']))\n",
    "print(len(awayMatchup[awayMatchup['ptsMatchup'] <= 45.11]['pf']))"
   ]
  },
  {
   "cell_type": "code",
   "execution_count": 11,
   "metadata": {},
   "outputs": [
    {
     "data": {
      "text/plain": [
       "11.933960565546466"
      ]
     },
     "execution_count": 11,
     "metadata": {},
     "output_type": "execute_result"
    }
   ],
   "source": [
    "mean1 = np.mean(awayMatchup[awayMatchup['ptsMatchup'] > 45.11]['pf'])\n",
    "std1 = np.std(awayMatchup[awayMatchup['ptsMatchup'] > 45.11]['pf'])\n",
    "n1 = len(awayMatchup[awayMatchup['ptsMatchup'] > 45.11]['pf'])\n",
    "mean2 = np.mean(awayMatchup[awayMatchup['ptsMatchup'] <= 45.11]['pf'])\n",
    "std2 = np.std(awayMatchup[awayMatchup['ptsMatchup'] <= 45.11]['pf'])\n",
    "n2 = len(awayMatchup[awayMatchup['ptsMatchup'] <= 45.11]['pf'])\n",
    "observed = mean1 - mean2\n",
    "stdDiff = np.sqrt((((std1)**2)/n1) + (((std2)**2)/n1))\n",
    "zScore = (observed - 0)/stdDiff\n",
    "zScore"
   ]
  },
  {
   "cell_type": "code",
   "execution_count": null,
   "metadata": {
    "collapsed": true
   },
   "outputs": [],
   "source": []
  },
  {
   "cell_type": "code",
   "execution_count": 12,
   "metadata": {},
   "outputs": [
    {
     "name": "stdout",
     "output_type": "stream",
     "text": [
      "count    2736.000000\n",
      "mean       -0.008379\n",
      "std         0.312510\n",
      "min        -1.240000\n",
      "25%        -0.218000\n",
      "50%        -0.004000\n",
      "75%         0.200250\n",
      "max         1.408000\n",
      "Name: totalDvoaMatchup, dtype: float64\n",
      "26.1452312139\n",
      "1384\n",
      "21.2840236686\n",
      "1352\n"
     ]
    }
   ],
   "source": [
    "# totalDvoaMathup for home teams\n",
    "\n",
    "print(homeMatchup['totalDvoaMatchup'].describe())\n",
    "print(np.mean(homeMatchup[homeMatchup['totalDvoaMatchup'] > -0.008379]['pf']))\n",
    "print(len(homeMatchup[homeMatchup['totalDvoaMatchup'] > -0.008379]['pf']))\n",
    "print(np.mean(homeMatchup[homeMatchup['totalDvoaMatchup'] <= -0.008379]['pf']))\n",
    "print(len(homeMatchup[homeMatchup['totalDvoaMatchup'] <= -0.008379]['pf']))"
   ]
  },
  {
   "cell_type": "code",
   "execution_count": 13,
   "metadata": {},
   "outputs": [
    {
     "data": {
      "text/plain": [
       "12.449576328460539"
      ]
     },
     "execution_count": 13,
     "metadata": {},
     "output_type": "execute_result"
    }
   ],
   "source": [
    "mean1 = np.mean(homeMatchup[homeMatchup['totalDvoaMatchup'] > -0.008379]['pf'])\n",
    "std1 = np.std(homeMatchup[homeMatchup['totalDvoaMatchup'] > -0.008379]['pf'])\n",
    "n1 = len(homeMatchup[homeMatchup['totalDvoaMatchup'] > -0.008379]['pf'])\n",
    "mean2 = np.mean(homeMatchup[homeMatchup['totalDvoaMatchup'] <= -0.008379]['pf'])\n",
    "std2 = np.std(homeMatchup[homeMatchup['totalDvoaMatchup'] <= -0.008379]['pf'])\n",
    "n2 = len(homeMatchup[homeMatchup['totalDvoaMatchup'] <= -0.008379]['pf'])\n",
    "observed = mean1 - mean2\n",
    "stdDiff = np.sqrt((((std1)**2)/n1) + (((std2)**2)/n1))\n",
    "zScore = (observed - 0)/stdDiff\n",
    "zScore"
   ]
  },
  {
   "cell_type": "code",
   "execution_count": null,
   "metadata": {
    "collapsed": true
   },
   "outputs": [],
   "source": []
  },
  {
   "cell_type": "code",
   "execution_count": 14,
   "metadata": {},
   "outputs": [
    {
     "name": "stdout",
     "output_type": "stream",
     "text": [
      "count    2736.000000\n",
      "mean        0.008379\n",
      "std         0.312510\n",
      "min        -1.408000\n",
      "25%        -0.200250\n",
      "50%         0.004000\n",
      "75%         0.218000\n",
      "max         1.240000\n",
      "Name: totalDvoaMatchup, dtype: float64\n",
      "23.5539940828\n",
      "1352\n",
      "18.9537572254\n",
      "1384\n"
     ]
    }
   ],
   "source": [
    "# totalDvoaMathup for away teams\n",
    "\n",
    "print(awayMatchup['totalDvoaMatchup'].describe())\n",
    "print(np.mean(awayMatchup[awayMatchup['totalDvoaMatchup'] > 0.008379]['pf']))\n",
    "print(len(awayMatchup[awayMatchup['totalDvoaMatchup'] > 0.008379]['pf']))\n",
    "print(np.mean(awayMatchup[awayMatchup['totalDvoaMatchup'] <= 0.008379]['pf']))\n",
    "print(len(awayMatchup[awayMatchup['totalDvoaMatchup'] <= 0.008379]['pf']))"
   ]
  },
  {
   "cell_type": "code",
   "execution_count": 15,
   "metadata": {},
   "outputs": [
    {
     "data": {
      "text/plain": [
       "12.313237425370925"
      ]
     },
     "execution_count": 15,
     "metadata": {},
     "output_type": "execute_result"
    }
   ],
   "source": [
    "mean1 = np.mean(awayMatchup[awayMatchup['totalDvoaMatchup'] > 0.008379]['pf'])\n",
    "std1 = np.std(awayMatchup[awayMatchup['totalDvoaMatchup'] > 0.008379]['pf'])\n",
    "n1 = len(awayMatchup[awayMatchup['totalDvoaMatchup'] > 0.008379]['pf'])\n",
    "mean2 = np.mean(awayMatchup[awayMatchup['totalDvoaMatchup'] <= 0.008379]['pf'])\n",
    "std2 = np.std(awayMatchup[awayMatchup['totalDvoaMatchup'] <= 0.008379]['pf'])\n",
    "n2 = len(awayMatchup[awayMatchup['totalDvoaMatchup'] <= 0.008379]['pf'])\n",
    "observed = mean1 - mean2\n",
    "stdDiff = np.sqrt((((std1)**2)/n1) + (((std2)**2)/n1))\n",
    "zScore = (observed - 0)/stdDiff\n",
    "zScore"
   ]
  },
  {
   "cell_type": "code",
   "execution_count": 16,
   "metadata": {},
   "outputs": [
    {
     "name": "stdout",
     "output_type": "stream",
     "text": [
      "count    2736.000000\n",
      "mean        0.008090\n",
      "std         0.216535\n",
      "min        -0.824000\n",
      "25%        -0.129000\n",
      "50%         0.008500\n",
      "75%         0.146000\n",
      "max         0.753000\n",
      "Name: offDvoaMatchup, dtype: float64\n",
      "25.298245614\n",
      "1368\n",
      "22.1878654971\n",
      "1368\n"
     ]
    }
   ],
   "source": [
    "# offDvoaMatchup for home teams\n",
    "\n",
    "print(homeMatchup['offDvoaMatchup'].describe())\n",
    "print(np.mean(homeMatchup[homeMatchup['offDvoaMatchup'] > 0.008090]['pf']))\n",
    "print(len(homeMatchup[homeMatchup['offDvoaMatchup'] > 0.008090]['pf']))\n",
    "print(np.mean(homeMatchup[homeMatchup['offDvoaMatchup'] <= 0.008090]['pf']))\n",
    "print(len(homeMatchup[homeMatchup['offDvoaMatchup'] <= 0.008090]['pf']))"
   ]
  },
  {
   "cell_type": "code",
   "execution_count": 17,
   "metadata": {},
   "outputs": [
    {
     "data": {
      "text/plain": [
       "7.7904662346937776"
      ]
     },
     "execution_count": 17,
     "metadata": {},
     "output_type": "execute_result"
    }
   ],
   "source": [
    "mean1 = np.mean(homeMatchup[homeMatchup['offDvoaMatchup'] > 0.008090]['pf'])\n",
    "std1 = np.std(homeMatchup[homeMatchup['offDvoaMatchup'] > 0.008090]['pf'])\n",
    "n1 = len(homeMatchup[homeMatchup['offDvoaMatchup'] > 0.008090]['pf'])\n",
    "mean2 = np.mean(homeMatchup[homeMatchup['offDvoaMatchup'] <= 0.008090]['pf'])\n",
    "std2 = np.std(homeMatchup[homeMatchup['offDvoaMatchup'] <= 0.008090]['pf'])\n",
    "n2 = len(homeMatchup[homeMatchup['offDvoaMatchup'] <= 0.008090]['pf'])\n",
    "observed = mean1 - mean2\n",
    "stdDiff = np.sqrt((((std1)**2)/n1) + (((std2)**2)/n1))\n",
    "zScore = (observed - 0)/stdDiff\n",
    "zScore"
   ]
  },
  {
   "cell_type": "code",
   "execution_count": null,
   "metadata": {
    "collapsed": true
   },
   "outputs": [],
   "source": []
  },
  {
   "cell_type": "code",
   "execution_count": 18,
   "metadata": {},
   "outputs": [
    {
     "name": "stdout",
     "output_type": "stream",
     "text": [
      "count    2736.000000\n",
      "mean        0.005385\n",
      "std         0.211278\n",
      "min        -0.868000\n",
      "25%        -0.130000\n",
      "50%         0.004000\n",
      "75%         0.143000\n",
      "max         0.744000\n",
      "Name: offDvoaMatchup, dtype: float64\n",
      "22.124082232\n",
      "1362\n",
      "20.3377001456\n",
      "1374\n"
     ]
    }
   ],
   "source": [
    "# offDvoaMathup for away teams\n",
    "\n",
    "print(awayMatchup['offDvoaMatchup'].describe())\n",
    "print(np.mean(awayMatchup[awayMatchup['offDvoaMatchup'] > 0.005385]['pf']))\n",
    "print(len(awayMatchup[awayMatchup['offDvoaMatchup'] > 0.005385]['pf']))\n",
    "print(np.mean(awayMatchup[awayMatchup['offDvoaMatchup'] <= 0.005385]['pf']))\n",
    "print(len(awayMatchup[awayMatchup['offDvoaMatchup'] <= 0.005385]['pf']))"
   ]
  },
  {
   "cell_type": "code",
   "execution_count": 19,
   "metadata": {},
   "outputs": [
    {
     "data": {
      "text/plain": [
       "4.6900736302370438"
      ]
     },
     "execution_count": 19,
     "metadata": {},
     "output_type": "execute_result"
    }
   ],
   "source": [
    "mean1 = np.mean(awayMatchup[awayMatchup['offDvoaMatchup'] > 0.005385]['pf'])\n",
    "std1 = np.std(awayMatchup[awayMatchup['offDvoaMatchup'] > 0.005385]['pf'])\n",
    "n1 = len(awayMatchup[awayMatchup['offDvoaMatchup'] > 0.005385]['pf'])\n",
    "mean2 = np.mean(awayMatchup[awayMatchup['offDvoaMatchup'] <= 0.005385]['pf'])\n",
    "std2 = np.std(awayMatchup[awayMatchup['offDvoaMatchup'] <= 0.005385]['pf'])\n",
    "n2 = len(awayMatchup[awayMatchup['offDvoaMatchup'] <= 0.005385]['pf'])\n",
    "observed = mean1 - mean2\n",
    "stdDiff = np.sqrt((((std1)**2)/n1) + (((std2)**2)/n1))\n",
    "zScore = (observed - 0)/stdDiff\n",
    "zScore"
   ]
  },
  {
   "cell_type": "code",
   "execution_count": 20,
   "metadata": {},
   "outputs": [
    {
     "name": "stdout",
     "output_type": "stream",
     "text": [
      "22.8563068921\n",
      "24.8814691152\n"
     ]
    }
   ],
   "source": [
    "# Playing surface for home teams\n",
    "\n",
    "print(np.mean(homeMatchup[homeMatchup['surface'] == 'grass']['pf']))\n",
    "print(np.mean(homeMatchup[homeMatchup['surface'] == 'turf']['pf']))"
   ]
  },
  {
   "cell_type": "code",
   "execution_count": 21,
   "metadata": {},
   "outputs": [
    {
     "data": {
      "text/plain": [
       "4.7121592021500192"
      ]
     },
     "execution_count": 21,
     "metadata": {},
     "output_type": "execute_result"
    }
   ],
   "source": [
    "mean1 = np.mean(homeMatchup[homeMatchup['surface'] == 'turf']['pf'])\n",
    "std1 = np.std(homeMatchup[homeMatchup['surface'] == 'turf']['pf'])\n",
    "n1 = len(homeMatchup[homeMatchup['surface'] == 'turf']['pf'])\n",
    "mean2 = np.mean(homeMatchup[homeMatchup['surface'] == 'grass']['pf'])\n",
    "std2 = np.std(homeMatchup[homeMatchup['surface'] == 'grass']['pf'])\n",
    "n2 = len(homeMatchup[homeMatchup['surface'] == 'grass']['pf'])\n",
    "observed = mean1 - mean2\n",
    "stdDiff = np.sqrt((((std1)**2)/n1) + (((std2)**2)/n1))\n",
    "zScore = (observed - 0)/stdDiff\n",
    "zScore"
   ]
  },
  {
   "cell_type": "code",
   "execution_count": 22,
   "metadata": {},
   "outputs": [
    {
     "name": "stdout",
     "output_type": "stream",
     "text": [
      "22.8563068921\n",
      "24.8814691152\n"
     ]
    }
   ],
   "source": [
    "# Playing surface for away teams\n",
    "\n",
    "print(np.mean(homeMatchup[homeMatchup['surface'] == 'grass']['pf']))\n",
    "print(np.mean(homeMatchup[homeMatchup['surface'] == 'turf']['pf']))"
   ]
  },
  {
   "cell_type": "code",
   "execution_count": 23,
   "metadata": {},
   "outputs": [
    {
     "data": {
      "text/plain": [
       "-0.77104895229523951"
      ]
     },
     "execution_count": 23,
     "metadata": {},
     "output_type": "execute_result"
    }
   ],
   "source": [
    "mean1 = np.mean(awayMatchup[awayMatchup['surface'] == 'turf']['pf'])\n",
    "std1 = np.std(awayMatchup[awayMatchup['surface'] == 'turf']['pf'])\n",
    "n1 = len(awayMatchup[awayMatchup['surface'] == 'turf']['pf'])\n",
    "mean2 = np.mean(awayMatchup[awayMatchup['surface'] == 'grass']['pf'])\n",
    "std2 = np.std(awayMatchup[awayMatchup['surface'] == 'grass']['pf'])\n",
    "n2 = len(awayMatchup[awayMatchup['surface'] == 'grass']['pf'])\n",
    "observed = mean1 - mean2\n",
    "stdDiff = np.sqrt((((std1)**2)/n1) + (((std2)**2)/n1))\n",
    "zScore = (observed - 0)/stdDiff\n",
    "zScore"
   ]
  },
  {
   "cell_type": "code",
   "execution_count": 24,
   "metadata": {},
   "outputs": [
    {
     "name": "stdout",
     "output_type": "stream",
     "text": [
      "count    2736.000000\n",
      "mean        6.990836\n",
      "std         7.742817\n",
      "min       -19.557143\n",
      "25%         1.771429\n",
      "50%         7.014286\n",
      "75%        12.332143\n",
      "max        30.757143\n",
      "Name: pblkMatchup, dtype: float64\n",
      "24.6851311953\n",
      "10.6043329844\n",
      "1372\n",
      "22.7954545455\n",
      "10.4237185763\n",
      "1364\n"
     ]
    }
   ],
   "source": [
    "# Pass blocking matchup for home teams\n",
    "\n",
    "print(homeMatchup['pblkMatchup'].describe())\n",
    "print(np.mean(homeMatchup[homeMatchup['pblkMatchup'] > 7]['pf']))\n",
    "print(np.std(homeMatchup[homeMatchup['pblkMatchup'] > 7]['pf']))\n",
    "print(len(homeMatchup[homeMatchup['pblkMatchup'] > 7]['pf']))\n",
    "print(np.mean(homeMatchup[homeMatchup['pblkMatchup'] <= 7]['pf']))\n",
    "print(np.std(homeMatchup[homeMatchup['pblkMatchup'] <= 7]['pf']))\n",
    "print(len(homeMatchup[homeMatchup['pblkMatchup'] <= 7]['pf']))"
   ]
  },
  {
   "cell_type": "code",
   "execution_count": 25,
   "metadata": {},
   "outputs": [
    {
     "data": {
      "text/plain": [
       "4.707220014261388"
      ]
     },
     "execution_count": 25,
     "metadata": {},
     "output_type": "execute_result"
    }
   ],
   "source": [
    "mean1 = np.mean(homeMatchup[homeMatchup['pblkMatchup'] > 7]['pf'])\n",
    "std1 = np.std(homeMatchup[homeMatchup['pblkMatchup'] > 7]['pf'])\n",
    "n1 = len(homeMatchup[homeMatchup['pblkMatchup'] > 7]['pf'])\n",
    "mean2 = np.mean(homeMatchup[homeMatchup['pblkMatchup'] <= 7]['pf'])\n",
    "std2 = np.std(homeMatchup[homeMatchup['pblkMatchup'] <= 7]['pf'])\n",
    "n2 = len(homeMatchup[homeMatchup['pblkMatchup'] <= 7]['pf'])\n",
    "observed = mean1 - mean2\n",
    "stdDiff = np.sqrt((((std1)**2)/n1) + (((std2)**2)/n1))\n",
    "zScore = (observed - 0)/stdDiff\n",
    "zScore"
   ]
  },
  {
   "cell_type": "code",
   "execution_count": 26,
   "metadata": {},
   "outputs": [
    {
     "name": "stdout",
     "output_type": "stream",
     "text": [
      "count    2736.000000\n",
      "mean        7.204141\n",
      "std         7.791965\n",
      "min       -22.071429\n",
      "25%         2.242857\n",
      "50%         7.285714\n",
      "75%        12.589286\n",
      "max        33.471429\n",
      "Name: pblkMatchup, dtype: float64\n",
      "21.3543478261\n",
      "10.0191745123\n",
      "1380\n",
      "21.0973451327\n",
      "9.93508244345\n",
      "1356\n"
     ]
    }
   ],
   "source": [
    "# Pass blocking matchup for away teams\n",
    "\n",
    "print(awayMatchup['pblkMatchup'].describe())\n",
    "print(np.mean(awayMatchup[awayMatchup['pblkMatchup'] > 7.2]['pf']))\n",
    "print(np.std(awayMatchup[awayMatchup['pblkMatchup'] > 7.2]['pf']))\n",
    "print(len(awayMatchup[awayMatchup['pblkMatchup'] > 7.2]['pf']))\n",
    "print(np.mean(awayMatchup[awayMatchup['pblkMatchup'] <= 7.2]['pf']))\n",
    "print(np.std(awayMatchup[awayMatchup['pblkMatchup'] <= 7.2]['pf']))\n",
    "print(len(awayMatchup[awayMatchup['pblkMatchup'] <= 7.2]['pf']))"
   ]
  },
  {
   "cell_type": "code",
   "execution_count": 27,
   "metadata": {},
   "outputs": [
    {
     "data": {
      "text/plain": [
       "0.67663241406536812"
      ]
     },
     "execution_count": 27,
     "metadata": {},
     "output_type": "execute_result"
    }
   ],
   "source": [
    "mean1 = np.mean(awayMatchup[awayMatchup['pblkMatchup'] > 7.2]['pf'])\n",
    "std1 = np.std(awayMatchup[awayMatchup['pblkMatchup'] > 7.2]['pf'])\n",
    "n1 = len(awayMatchup[awayMatchup['pblkMatchup'] > 7.2]['pf'])\n",
    "mean2 = np.mean(awayMatchup[awayMatchup['pblkMatchup'] <= 7.2]['pf'])\n",
    "std2 = np.std(awayMatchup[awayMatchup['pblkMatchup'] <= 7.2]['pf'])\n",
    "n2 = len(awayMatchup[awayMatchup['pblkMatchup'] <= 7.2]['pf'])\n",
    "observed = mean1 - mean2\n",
    "stdDiff = np.sqrt((((std1)**2)/n1) + (((std2)**2)/n1))\n",
    "zScore = (observed - 0)/stdDiff\n",
    "zScore"
   ]
  },
  {
   "cell_type": "code",
   "execution_count": 29,
   "metadata": {},
   "outputs": [
    {
     "name": "stdout",
     "output_type": "stream",
     "text": [
      "count    2736.000000\n",
      "mean       -4.240638\n",
      "std         7.821092\n",
      "min       -32.800000\n",
      "25%        -9.832143\n",
      "50%        -4.542857\n",
      "75%         1.200000\n",
      "max        21.800000\n",
      "Name: runMatchup, dtype: float64\n",
      "24.7302431611\n",
      "10.8526759241\n",
      "1316\n",
      "22.8281690141\n",
      "10.1904426793\n",
      "1420\n"
     ]
    }
   ],
   "source": [
    "print(homeMatchup['runMatchup'].describe())\n",
    "print(np.mean(homeMatchup[homeMatchup['runMatchup'] > -4.24]['pf']))\n",
    "print(np.std(homeMatchup[homeMatchup['runMatchup'] > -4.24]['pf']))\n",
    "print(len(homeMatchup[homeMatchup['runMatchup'] > -4.24]['pf']))\n",
    "print(np.mean(homeMatchup[homeMatchup['runMatchup'] <= -4.24]['pf']))\n",
    "print(np.std(homeMatchup[homeMatchup['runMatchup'] <= -4.24]['pf']))\n",
    "print(len(homeMatchup[homeMatchup['runMatchup'] <= -4.24]['pf']))"
   ]
  },
  {
   "cell_type": "code",
   "execution_count": 30,
   "metadata": {},
   "outputs": [
    {
     "data": {
      "text/plain": [
       "4.6349529548612365"
      ]
     },
     "execution_count": 30,
     "metadata": {},
     "output_type": "execute_result"
    }
   ],
   "source": [
    "mean1 = np.mean(homeMatchup[homeMatchup['runMatchup'] > -4.24]['pf'])\n",
    "std1 = np.std(homeMatchup[homeMatchup['runMatchup'] > -4.24]['pf'])\n",
    "n1 = len(homeMatchup[homeMatchup['runMatchup'] > -4.24]['pf'])\n",
    "mean2 = np.mean(homeMatchup[homeMatchup['runMatchup'] <= -4.24]['pf'])\n",
    "std2 = np.std(homeMatchup[homeMatchup['runMatchup'] <= -4.24]['pf'])\n",
    "n2 = len(homeMatchup[homeMatchup['runMatchup'] <= -4.24]['pf'])\n",
    "observed = mean1 - mean2\n",
    "stdDiff = np.sqrt((((std1)**2)/n1) + (((std2)**2)/n1))\n",
    "zScore = (observed - 0)/stdDiff\n",
    "zScore"
   ]
  },
  {
   "cell_type": "markdown",
   "metadata": {},
   "source": [
    "Going through the hypothesis testing for the above variables, it was found that for home teams, ptsMatchup, totalDvoaMatchup, offDvoaMatchup, playing surface, and pass-blocking matchup were significant. For away teams, ptsMatchup, totalDvoaMatchup, and offDvoaMatchup, were significant. "
   ]
  }
 ],
 "metadata": {
  "kernelspec": {
   "display_name": "Python 3",
   "language": "python",
   "name": "python3"
  },
  "language_info": {
   "codemirror_mode": {
    "name": "ipython",
    "version": 3
   },
   "file_extension": ".py",
   "mimetype": "text/x-python",
   "name": "python",
   "nbconvert_exporter": "python",
   "pygments_lexer": "ipython3",
   "version": "3.4.0"
  }
 },
 "nbformat": 4,
 "nbformat_minor": 2
}
