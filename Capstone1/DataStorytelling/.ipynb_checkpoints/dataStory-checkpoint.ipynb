{
 "cells": [
  {
   "cell_type": "code",
   "execution_count": 1,
   "metadata": {
    "collapsed": true
   },
   "outputs": [],
   "source": [
    "# Import necessary tools\n",
    "import numpy as np\n",
    "import matplotlib.pyplot as plt\n",
    "import pandas as pd\n",
    "import seaborn as sns"
   ]
  },
  {
   "cell_type": "code",
   "execution_count": 2,
   "metadata": {
    "collapsed": true
   },
   "outputs": [],
   "source": [
    "# First, grab tables from other notebooks\n",
    "%store -r awayTable\n",
    "%store -r homeTable\n",
    "%store -r awayMatchup\n",
    "%store -r homeMatchup"
   ]
  },
  {
   "cell_type": "code",
   "execution_count": 3,
   "metadata": {},
   "outputs": [
    {
     "data": {
      "text/plain": [
       "Index(['gameId', 'date', 'season', 'week', 'team_x', 'homeAway', 'stadium',\n",
       "       'roof', 'surface', 'avgPf', 'avgOvr_x', 'avgOff', 'avgPass', 'avgPblk',\n",
       "       'avgRecv', 'avgRun', 'avgRblk', 'totalDvoa_x', 'offDvoa', 'stDvoa',\n",
       "       'overUnder', 'pa', 'totalScore', 'team_y', 'avgPa', 'avgOvr_y',\n",
       "       'avgDef', 'avgRdef', 'avgPrsh', 'avgCov', 'totalDvoa_y', 'defDvoa',\n",
       "       'ptsMatchup', 'offMatchup', 'ovrMatchup', 'passMatchup', 'pblkMatchup',\n",
       "       'runMatchup', 'offDvoaMatchup', 'totalDvoaMatchup', 'pf'],\n",
       "      dtype='object')"
      ]
     },
     "execution_count": 3,
     "metadata": {},
     "output_type": "execute_result"
    }
   ],
   "source": [
    "# Working with the following variables:\n",
    "awayMatchup.columns"
   ]
  },
  {
   "cell_type": "code",
   "execution_count": 4,
   "metadata": {
    "collapsed": true
   },
   "outputs": [],
   "source": [
    "# Get result coulmn -> either over, under, or push\n",
    "awayMatchup.loc[awayMatchup.totalScore > awayMatchup.overUnder, 'result'] = 'over'\n",
    "awayMatchup.loc[awayMatchup.totalScore == awayMatchup.overUnder, 'result'] = 'push'\n",
    "awayMatchup.loc[awayMatchup.totalScore < awayMatchup.overUnder, 'result'] = 'under'\n",
    "homeMatchup.loc[homeMatchup.totalScore > homeMatchup.overUnder, 'result'] = 'over'\n",
    "homeMatchup.loc[homeMatchup.totalScore == homeMatchup.overUnder, 'result'] = 'push'\n",
    "homeMatchup.loc[homeMatchup.totalScore < homeMatchup.overUnder, 'result'] = 'under'"
   ]
  },
  {
   "cell_type": "code",
   "execution_count": 5,
   "metadata": {},
   "outputs": [
    {
     "data": {
      "text/plain": [
       "over     1350\n",
       "under    1341\n",
       "push       45\n",
       "Name: result, dtype: int64"
      ]
     },
     "execution_count": 5,
     "metadata": {},
     "output_type": "execute_result"
    }
   ],
   "source": [
    "# How many games went over, under, or pushed?\n",
    "homeMatchup['result'].value_counts()"
   ]
  },
  {
   "cell_type": "code",
   "execution_count": 6,
   "metadata": {
    "scrolled": false
   },
   "outputs": [
    {
     "name": "stdout",
     "output_type": "stream",
     "text": [
      "count    1350.000000\n",
      "mean       29.304444\n",
      "std         9.666564\n",
      "min         0.000000\n",
      "25%        23.000000\n",
      "50%        29.000000\n",
      "75%        35.000000\n",
      "max        62.000000\n",
      "Name: pf, dtype: float64\n"
     ]
    },
    {
     "data": {
      "image/png": "[encoded data removed]",
      "text/plain": [
       "<matplotlib.figure.Figure at 0x4d1aac8>"
      ]
     },
     "metadata": {},
     "output_type": "display_data"
    },
    {
     "data": {
      "text/plain": [
       "31    127\n",
       "27    101\n",
       "24     92\n",
       "34     78\n",
       "30     67\n",
       "38     66\n",
       "28     57\n",
       "Name: pf, dtype: int64"
      ]
     },
     "execution_count": 6,
     "metadata": {},
     "output_type": "execute_result"
    }
   ],
   "source": [
    "# What happens for both home teams and away teams when the game goes OVER the set total?\n",
    "# What happens for both home teams and away teams when the game goes UNDER the set total?\n",
    "# Plot the distributions and get summary statistics for each scenario\n",
    "\n",
    "homeOvers = homeMatchup[homeMatchup['result'] == 'over']['pf']\n",
    "homeOvers = homeOvers.reset_index()\n",
    "print(homeOvers['pf'].describe())\n",
    "plt.hist(homeOvers['pf'],bins=21)\n",
    "plt.show()\n",
    "homeOvers['pf'].value_counts()[:7]"
   ]
  },
  {
   "cell_type": "code",
   "execution_count": 7,
   "metadata": {},
   "outputs": [
    {
     "name": "stdout",
     "output_type": "stream",
     "text": [
      "count    1350.000000\n",
      "mean       26.197778\n",
      "std         9.386290\n",
      "min         0.000000\n",
      "25%        20.000000\n",
      "50%        26.000000\n",
      "75%        33.000000\n",
      "max        59.000000\n",
      "Name: pf, dtype: float64\n"
     ]
    },
    {
     "data": {
      "image/png": "[encoded data removed]",
      "text/plain": [
       "<matplotlib.figure.Figure at 0xa908080>"
      ]
     },
     "metadata": {},
     "output_type": "display_data"
    },
    {
     "data": {
      "text/plain": [
       "24    108\n",
       "27     96\n",
       "20     84\n",
       "23     81\n",
       "17     74\n",
       "31     66\n",
       "34     66\n",
       "Name: pf, dtype: int64"
      ]
     },
     "execution_count": 7,
     "metadata": {},
     "output_type": "execute_result"
    }
   ],
   "source": [
    "awayOvers = awayMatchup[awayMatchup['result'] == 'over']['pf']\n",
    "awayOvers = awayOvers.reset_index()\n",
    "print(awayOvers['pf'].describe())\n",
    "plt.hist(awayOvers['pf'],bins=15)\n",
    "plt.show()\n",
    "awayOvers['pf'].value_counts()[:7]"
   ]
  },
  {
   "cell_type": "code",
   "execution_count": 8,
   "metadata": {},
   "outputs": [
    {
     "name": "stdout",
     "output_type": "stream",
     "text": [
      "count    1341.000000\n",
      "mean       18.189411\n",
      "std         8.300058\n",
      "min         0.000000\n",
      "25%        13.000000\n",
      "50%        18.000000\n",
      "75%        24.000000\n",
      "max        48.000000\n",
      "Name: pf, dtype: float64\n"
     ]
    },
    {
     "data": {
      "image/png": "[encoded data removed]",
      "text/plain": [
       "<matplotlib.figure.Figure at 0xa85ba90>"
      ]
     },
     "metadata": {},
     "output_type": "display_data"
    },
    {
     "data": {
      "text/plain": [
       "20    122\n",
       "17    112\n",
       "13    101\n",
       "10     93\n",
       "23     79\n",
       "24     79\n",
       "16     76\n",
       "Name: pf, dtype: int64"
      ]
     },
     "execution_count": 8,
     "metadata": {},
     "output_type": "execute_result"
    }
   ],
   "source": [
    "homeUnders = homeMatchup[homeMatchup['result'] == 'under']['pf']\n",
    "homeUnders = homeUnders.reset_index()\n",
    "print(homeUnders['pf'].describe())\n",
    "plt.hist(homeUnders['pf'],bins=15)\n",
    "plt.show()\n",
    "homeUnders['pf'].value_counts()[:7]"
   ]
  },
  {
   "cell_type": "code",
   "execution_count": 9,
   "metadata": {},
   "outputs": [
    {
     "name": "stdout",
     "output_type": "stream",
     "text": [
      "count    1341.000000\n",
      "mean       16.214765\n",
      "std         7.901641\n",
      "min         0.000000\n",
      "25%        10.000000\n",
      "50%        16.000000\n",
      "75%        21.000000\n",
      "max        42.000000\n",
      "Name: pf, dtype: float64\n"
     ]
    },
    {
     "data": {
      "image/png": "[encoded data removed]",
      "text/plain": [
       "<matplotlib.figure.Figure at 0xbe09630>"
      ]
     },
     "metadata": {},
     "output_type": "display_data"
    },
    {
     "data": {
      "text/plain": [
       "17    139\n",
       "10    123\n",
       "13    121\n",
       "20     94\n",
       "16     77\n",
       "24     73\n",
       "7      66\n",
       "Name: pf, dtype: int64"
      ]
     },
     "execution_count": 9,
     "metadata": {},
     "output_type": "execute_result"
    }
   ],
   "source": [
    "awayUnders = awayMatchup[awayMatchup['result'] == 'under']['pf']\n",
    "awayUnders = awayUnders.reset_index()\n",
    "print(awayUnders['pf'].describe())\n",
    "plt.hist(awayUnders['pf'],bins=15)\n",
    "plt.show()\n",
    "awayUnders['pf'].value_counts()[:7]"
   ]
  },
  {
   "cell_type": "code",
   "execution_count": 35,
   "metadata": {},
   "outputs": [
    {
     "data": {
      "text/plain": [
       "16.214765100671141"
      ]
     },
     "execution_count": 35,
     "metadata": {},
     "output_type": "execute_result"
    }
   ],
   "source": [
    "homeOvers['pf'].mean()\n",
    "homeUnders['pf'].mean()\n",
    "awayOvers['pf'].mean()\n",
    "awayUnders['pf'].mean()"
   ]
  },
  {
   "cell_type": "code",
   "execution_count": null,
   "metadata": {
    "collapsed": true
   },
   "outputs": [],
   "source": [
    "sns.set(style=\"whitegrid\")\n",
    "sns.barplot(x=)"
   ]
  },
  {
   "cell_type": "code",
   "execution_count": 44,
   "metadata": {
    "collapsed": true
   },
   "outputs": [],
   "source": [
    "df = pd.DataFrame([['home','over',homeOvers['pf'].mean()],['home','under',homeUnders['pf'].mean()],['away','over',awayOvers['pf'].mean()],['away','under',awayUnders['pf'].mean()]],columns=['ha','ou','mean'])"
   ]
  },
  {
   "cell_type": "code",
   "execution_count": 53,
   "metadata": {},
   "outputs": [
    {
     "data": {
      "image/png": "[encoded data removed]",
      "text/plain": [
       "<matplotlib.figure.Figure at 0xe4dc780>"
      ]
     },
     "metadata": {},
     "output_type": "display_data"
    }
   ],
   "source": [
    "sns.barplot(data=df,x='ha',y='mean',hue='ou')\n",
    "plt.xlabel('')\n",
    "plt.ylabel('Average Points Scored')\n",
    "plt.title('Points Scored in Overs/Unders by Home/Away Teams')\n",
    "plt.legend(title='')\n",
    "plt.show()"
   ]
  },
  {
   "cell_type": "code",
   "execution_count": 10,
   "metadata": {
    "collapsed": true
   },
   "outputs": [],
   "source": [
    "# We can see a considerable difference in the points scored when the games go over the total vs. when they go under."
   ]
  },
  {
   "cell_type": "code",
   "execution_count": 11,
   "metadata": {},
   "outputs": [
    {
     "name": "stdout",
     "output_type": "stream",
     "text": [
      "55.5022222222\n",
      "34.4041759881\n"
     ]
    }
   ],
   "source": [
    "# What's the average score of games that go over? Under?\n",
    "\n",
    "print(homeMatchup[homeMatchup['result'] == 'over']['totalScore'].mean())\n",
    "print(homeMatchup[homeMatchup['result'] == 'under']['totalScore'].mean())"
   ]
  },
  {
   "cell_type": "code",
   "execution_count": 12,
   "metadata": {},
   "outputs": [
    {
     "name": "stdout",
     "output_type": "stream",
     "text": [
      "44.1944444444\n",
      "44.6051454139\n"
     ]
    }
   ],
   "source": [
    "# This leads us to ask, what is the average over/under of games that go over? Under?\n",
    "\n",
    "print(homeMatchup[homeMatchup['result'] == 'over']['overUnder'].mean())\n",
    "print(homeMatchup[homeMatchup['result'] == 'under']['overUnder'].mean())"
   ]
  },
  {
   "cell_type": "code",
   "execution_count": null,
   "metadata": {
    "collapsed": true
   },
   "outputs": [],
   "source": []
  },
  {
   "cell_type": "code",
   "execution_count": null,
   "metadata": {
    "collapsed": true
   },
   "outputs": [],
   "source": []
  },
  {
   "cell_type": "code",
   "execution_count": null,
   "metadata": {
    "collapsed": true
   },
   "outputs": [],
   "source": []
  },
  {
   "cell_type": "code",
   "execution_count": null,
   "metadata": {
    "collapsed": true
   },
   "outputs": [],
   "source": []
  },
  {
   "cell_type": "code",
   "execution_count": null,
   "metadata": {
    "collapsed": true
   },
   "outputs": [],
   "source": []
  },
  {
   "cell_type": "code",
   "execution_count": null,
   "metadata": {
    "collapsed": true
   },
   "outputs": [],
   "source": []
  },
  {
   "cell_type": "code",
   "execution_count": 13,
   "metadata": {
    "collapsed": true
   },
   "outputs": [],
   "source": [
    "# GAMES WITH LOW/HIGH TOTALS\n",
    "# Do games with high/low set totals tend to go over/under their set total more often?"
   ]
  },
  {
   "cell_type": "code",
   "execution_count": 14,
   "metadata": {},
   "outputs": [
    {
     "data": {
      "text/plain": [
       "under    254\n",
       "over     236\n",
       "push       7\n",
       "Name: result, dtype: int64"
      ]
     },
     "execution_count": 14,
     "metadata": {},
     "output_type": "execute_result"
    }
   ],
   "source": [
    "highTotalsHome = homeMatchup[homeMatchup['overUnder'] >= 48.5]\n",
    "highTotalsAway = awayMatchup[awayMatchup['overUnder'] >= 48.5]\n",
    "highTotalsHome['result'].value_counts()"
   ]
  },
  {
   "cell_type": "code",
   "execution_count": 15,
   "metadata": {},
   "outputs": [
    {
     "data": {
      "text/plain": [
       "over     260\n",
       "under    207\n",
       "push      10\n",
       "Name: result, dtype: int64"
      ]
     },
     "execution_count": 15,
     "metadata": {},
     "output_type": "execute_result"
    }
   ],
   "source": [
    "lowTotalsHome = homeMatchup[homeMatchup['overUnder'] <= 40]\n",
    "lowTotalsAway = awayMatchup[awayMatchup['overUnder'] <= 40]\n",
    "lowTotalsHome['result'].value_counts()"
   ]
  },
  {
   "cell_type": "code",
   "execution_count": 16,
   "metadata": {
    "collapsed": true
   },
   "outputs": [],
   "source": [
    "# It seems as though high totals tend to go UNDER more, and low totals seem to go OVER more"
   ]
  },
  {
   "cell_type": "code",
   "execution_count": 26,
   "metadata": {
    "collapsed": true
   },
   "outputs": [],
   "source": [
    "from scipy import stats"
   ]
  },
  {
   "cell_type": "code",
   "execution_count": 29,
   "metadata": {},
   "outputs": [
    {
     "name": "stdout",
     "output_type": "stream",
     "text": [
      "27.4486921529\n",
      "24.1187122736\n"
     ]
    }
   ],
   "source": [
    "# In high total games, do teams score more? In low total games, do teams score less?\n",
    "\n",
    "print(highTotalsHome['pf'].mean())\n",
    "print(highTotalsAway['pf'].mean())"
   ]
  },
  {
   "cell_type": "code",
   "execution_count": 25,
   "metadata": {},
   "outputs": [
    {
     "data": {
      "image/png": "[encoded data removed]",
      "text/plain": [
       "<matplotlib.figure.Figure at 0xc6d0da0>"
      ]
     },
     "metadata": {},
     "output_type": "display_data"
    }
   ],
   "source": [
    "plt.hist(highTotalsHome['pf'],bins=15)\n",
    "plt.show()"
   ]
  },
  {
   "cell_type": "code",
   "execution_count": 27,
   "metadata": {},
   "outputs": [
    {
     "data": {
      "text/plain": [
       "(0.9891473650932312, 0.0009710799204185605)"
      ]
     },
     "execution_count": 27,
     "metadata": {},
     "output_type": "execute_result"
    }
   ],
   "source": [
    "stats.shapiro(highTotalsHome['pf'])"
   ]
  },
  {
   "cell_type": "code",
   "execution_count": 18,
   "metadata": {},
   "outputs": [
    {
     "name": "stdout",
     "output_type": "stream",
     "text": [
      "21.1949685535\n",
      "18.5995807128\n"
     ]
    }
   ],
   "source": [
    "print(lowTotalsHome['pf'].mean())\n",
    "print(lowTotalsAway['pf'].mean())"
   ]
  },
  {
   "cell_type": "code",
   "execution_count": null,
   "metadata": {
    "collapsed": true
   },
   "outputs": [],
   "source": [
    "# The answer is 'yes', on average."
   ]
  },
  {
   "cell_type": "code",
   "execution_count": null,
   "metadata": {
    "collapsed": true
   },
   "outputs": [],
   "source": [
    "# Let's check out the actual points scored distributions for home and away teams in high/low total games"
   ]
  },
  {
   "cell_type": "code",
   "execution_count": 19,
   "metadata": {},
   "outputs": [
    {
     "name": "stdout",
     "output_type": "stream",
     "text": [
      "count    497.000000\n",
      "mean      27.448692\n",
      "std       10.889006\n",
      "min        0.000000\n",
      "25%       20.000000\n",
      "50%       27.000000\n",
      "75%       34.000000\n",
      "max       62.000000\n",
      "Name: pf, dtype: float64\n"
     ]
    },
    {
     "data": {
      "image/png": "[encoded data removed]",
      "text/plain": [
       "<matplotlib.figure.Figure at 0xaf3d6d8>"
      ]
     },
     "metadata": {},
     "output_type": "display_data"
    }
   ],
   "source": [
    "print(highTotalsHome['pf'].describe())\n",
    "plt.hist(highTotalsHome['pf'].values,bins=15)\n",
    "plt.xlabel('Home Points For (O/U >= 48.5)')\n",
    "plt.ylabel('Count')\n",
    "plt.show()"
   ]
  },
  {
   "cell_type": "code",
   "execution_count": 20,
   "metadata": {},
   "outputs": [
    {
     "name": "stdout",
     "output_type": "stream",
     "text": [
      "count    497.000000\n",
      "mean      24.118712\n",
      "std        9.617901\n",
      "min        0.000000\n",
      "25%       17.000000\n",
      "50%       24.000000\n",
      "75%       31.000000\n",
      "max       52.000000\n",
      "Name: pf, dtype: float64\n"
     ]
    },
    {
     "data": {
      "image/png": "[encoded data removed]",
      "text/plain": [
       "<matplotlib.figure.Figure at 0xc4b7fd0>"
      ]
     },
     "metadata": {},
     "output_type": "display_data"
    }
   ],
   "source": [
    "print(highTotalsAway['pf'].describe())\n",
    "plt.hist(highTotalsAway['pf'].values,bins=8)\n",
    "plt.xlabel('Away Points For (O/U >= 48.5)')\n",
    "plt.ylabel('Count')\n",
    "plt.show()"
   ]
  },
  {
   "cell_type": "code",
   "execution_count": 21,
   "metadata": {},
   "outputs": [
    {
     "name": "stdout",
     "output_type": "stream",
     "text": [
      "count    477.000000\n",
      "mean      21.194969\n",
      "std        9.969161\n",
      "min        0.000000\n",
      "25%       14.000000\n",
      "50%       21.000000\n",
      "75%       27.000000\n",
      "max       59.000000\n",
      "Name: pf, dtype: float64\n"
     ]
    },
    {
     "data": {
      "image/png": "[encoded data removed]",
      "text/plain": [
       "<matplotlib.figure.Figure at 0xc4e91d0>"
      ]
     },
     "metadata": {},
     "output_type": "display_data"
    }
   ],
   "source": [
    "print(lowTotalsHome['pf'].describe())\n",
    "plt.hist(lowTotalsHome['pf'].values,bins=15)\n",
    "plt.xlabel('Home Points For (O/U <= 40)')\n",
    "plt.ylabel('Count')\n",
    "plt.show()"
   ]
  },
  {
   "cell_type": "code",
   "execution_count": 22,
   "metadata": {},
   "outputs": [
    {
     "name": "stdout",
     "output_type": "stream",
     "text": [
      "count    477.000000\n",
      "mean      18.599581\n",
      "std       10.185931\n",
      "min        0.000000\n",
      "25%       10.000000\n",
      "50%       17.000000\n",
      "75%       24.000000\n",
      "max       49.000000\n",
      "Name: pf, dtype: float64\n"
     ]
    },
    {
     "data": {
      "image/png": "[encoded data removed]",
      "text/plain": [
       "<matplotlib.figure.Figure at 0xc574a20>"
      ]
     },
     "metadata": {},
     "output_type": "display_data"
    }
   ],
   "source": [
    "print(lowTotalsAway['pf'].describe())\n",
    "plt.hist(lowTotalsAway['pf'].values,bins=8)\n",
    "plt.xlabel('Away Points For (O/U <= 40)')\n",
    "plt.ylabel('Count')\n",
    "plt.show()"
   ]
  },
  {
   "cell_type": "code",
   "execution_count": null,
   "metadata": {
    "collapsed": true
   },
   "outputs": [],
   "source": [
    "# We notice some right skew on a few of the above distributions"
   ]
  },
  {
   "cell_type": "code",
   "execution_count": 49,
   "metadata": {},
   "outputs": [
    {
     "data": {
      "image/png": "[encoded data removed]",
      "text/plain": [
       "<matplotlib.figure.Figure at 0xceec2e8>"
      ]
     },
     "metadata": {},
     "output_type": "display_data"
    }
   ],
   "source": [
    "# Next, let's look at how one of our variables, offMatchup, is correlated with pf\n",
    "plt.scatter(homeMatchup['offMatchup'],homeMatchup['pf'])\n",
    "plt.xlabel('offMatchup')\n",
    "plt.ylabel('Points For (pf)')\n",
    "plt.show()"
   ]
  },
  {
   "cell_type": "code",
   "execution_count": 50,
   "metadata": {},
   "outputs": [
    {
     "data": {
      "text/plain": [
       "array([[ 1.        ,  0.23599347],\n",
       "       [ 0.23599347,  1.        ]])"
      ]
     },
     "execution_count": 50,
     "metadata": {},
     "output_type": "execute_result"
    }
   ],
   "source": [
    "# We notice some slightly positive correlation\n",
    "# Let's confirm this:\n",
    "np.corrcoef(homeMatchup['offMatchup'], homeMatchup['pf'])"
   ]
  },
  {
   "cell_type": "code",
   "execution_count": 70,
   "metadata": {},
   "outputs": [
    {
     "data": {
      "text/plain": [
       "count    565.000000\n",
       "mean      27.007080\n",
       "std       10.610109\n",
       "min        3.000000\n",
       "25%       20.000000\n",
       "50%       27.000000\n",
       "75%       34.000000\n",
       "max       62.000000\n",
       "Name: pf, dtype: float64"
      ]
     },
     "execution_count": 70,
     "metadata": {},
     "output_type": "execute_result"
    }
   ],
   "source": [
    "# We see that there is, indeed, some positive correlation between a team's \n",
    "# matchup and the number of points they score. Let's investigate further\n",
    "\n",
    "# Home teams with offMatchup >= 10 -> points scored descriptive stats\n",
    "homeMatchup[homeMatchup['offMatchup'] >=10]['pf'].describe()"
   ]
  },
  {
   "cell_type": "code",
   "execution_count": 71,
   "metadata": {},
   "outputs": [
    {
     "data": {
      "text/plain": [
       "count    543.000000\n",
       "mean      19.898711\n",
       "std        9.801671\n",
       "min        0.000000\n",
       "25%       13.000000\n",
       "50%       20.000000\n",
       "75%       26.000000\n",
       "max       57.000000\n",
       "Name: pf, dtype: float64"
      ]
     },
     "execution_count": 71,
     "metadata": {},
     "output_type": "execute_result"
    }
   ],
   "source": [
    "# Home teams with offMatchup <= -2 -> points scored descriptive stats\n",
    "homeMatchup[homeMatchup['offMatchup'] <=-2]['pf'].describe()"
   ]
  },
  {
   "cell_type": "code",
   "execution_count": 72,
   "metadata": {},
   "outputs": [
    {
     "data": {
      "text/plain": [
       "count    595.000000\n",
       "mean      24.401681\n",
       "std       10.206207\n",
       "min        0.000000\n",
       "25%       17.000000\n",
       "50%       24.000000\n",
       "75%       31.000000\n",
       "max       56.000000\n",
       "Name: pf, dtype: float64"
      ]
     },
     "execution_count": 72,
     "metadata": {},
     "output_type": "execute_result"
    }
   ],
   "source": [
    "# Away teams with offMatchup >= 10 -> points scored descriptive stats\n",
    "awayMatchup[awayMatchup['offMatchup'] >=10]['pf'].describe()"
   ]
  },
  {
   "cell_type": "code",
   "execution_count": 73,
   "metadata": {},
   "outputs": [
    {
     "data": {
      "text/plain": [
       "count    519.000000\n",
       "mean      17.527938\n",
       "std        9.425930\n",
       "min        0.000000\n",
       "25%       10.000000\n",
       "50%       17.000000\n",
       "75%       24.000000\n",
       "max       44.000000\n",
       "Name: pf, dtype: float64"
      ]
     },
     "execution_count": 73,
     "metadata": {},
     "output_type": "execute_result"
    }
   ],
   "source": [
    "# Away teams with offMatchup <= -2 -> points scored descriptive stats\n",
    "awayMatchup[awayMatchup['offMatchup'] <=-2]['pf'].describe()"
   ]
  },
  {
   "cell_type": "code",
   "execution_count": 97,
   "metadata": {},
   "outputs": [
    {
     "data": {
      "text/plain": [
       "under    51\n",
       "over     30\n",
       "Name: result, dtype: int64"
      ]
     },
     "execution_count": 97,
     "metadata": {},
     "output_type": "execute_result"
    }
   ],
   "source": [
    "# What happens when an away team plays against a team with\n",
    "# a very good coverage defense?\n",
    "awayMatchup[awayMatchup['avgCov'] >= 73]['result'].value_counts()"
   ]
  },
  {
   "cell_type": "code",
   "execution_count": 31,
   "metadata": {},
   "outputs": [
    {
     "data": {
      "image/png": "[encoded data removed]",
      "text/plain": [
       "<matplotlib.figure.Figure at 0xca89908>"
      ]
     },
     "metadata": {},
     "output_type": "display_data"
    }
   ],
   "source": [
    "sns.countplot(data=homeMatchup,x='surface',hue='result')\n",
    "plt.show()"
   ]
  },
  {
   "cell_type": "code",
   "execution_count": null,
   "metadata": {
    "collapsed": true
   },
   "outputs": [],
   "source": []
  },
  {
   "cell_type": "code",
   "execution_count": null,
   "metadata": {
    "collapsed": true
   },
   "outputs": [],
   "source": []
  },
  {
   "cell_type": "code",
   "execution_count": null,
   "metadata": {
    "collapsed": true
   },
   "outputs": [],
   "source": []
  },
  {
   "cell_type": "code",
   "execution_count": null,
   "metadata": {
    "collapsed": true
   },
   "outputs": [],
   "source": []
  },
  {
   "cell_type": "code",
   "execution_count": null,
   "metadata": {
    "collapsed": true
   },
   "outputs": [],
   "source": []
  },
  {
   "cell_type": "code",
   "execution_count": null,
   "metadata": {
    "collapsed": true
   },
   "outputs": [],
   "source": []
  },
  {
   "cell_type": "code",
   "execution_count": null,
   "metadata": {
    "collapsed": true
   },
   "outputs": [],
   "source": []
  },
  {
   "cell_type": "code",
   "execution_count": null,
   "metadata": {
    "collapsed": true
   },
   "outputs": [],
   "source": []
  },
  {
   "cell_type": "code",
   "execution_count": null,
   "metadata": {
    "collapsed": true
   },
   "outputs": [],
   "source": []
  },
  {
   "cell_type": "code",
   "execution_count": null,
   "metadata": {
    "collapsed": true
   },
   "outputs": [],
   "source": []
  },
  {
   "cell_type": "code",
   "execution_count": null,
   "metadata": {
    "collapsed": true
   },
   "outputs": [],
   "source": []
  },
  {
   "cell_type": "code",
   "execution_count": null,
   "metadata": {
    "collapsed": true
   },
   "outputs": [],
   "source": []
  },
  {
   "cell_type": "code",
   "execution_count": null,
   "metadata": {
    "collapsed": true
   },
   "outputs": [],
   "source": []
  },
  {
   "cell_type": "code",
   "execution_count": null,
   "metadata": {
    "collapsed": true
   },
   "outputs": [],
   "source": []
  },
  {
   "cell_type": "code",
   "execution_count": null,
   "metadata": {
    "collapsed": true
   },
   "outputs": [],
   "source": [
    "# The following code is scrap code, and should be ignored.\n",
    "# Was just exploring further"
   ]
  },
  {
   "cell_type": "code",
   "execution_count": 23,
   "metadata": {},
   "outputs": [
    {
     "name": "stdout",
     "output_type": "stream",
     "text": [
      "count    2736.000000\n",
      "mean       63.017032\n",
      "std         5.469915\n",
      "min        45.428571\n",
      "25%        59.357143\n",
      "50%        62.957143\n",
      "75%        66.742857\n",
      "max        81.414286\n",
      "Name: avgCov, dtype: float64\n"
     ]
    },
    {
     "data": {
      "image/png": "[encoded data removed]",
      "text/plain": [
       "<matplotlib.figure.Figure at 0xc5e4e10>"
      ]
     },
     "metadata": {},
     "output_type": "display_data"
    }
   ],
   "source": [
    "print(homeMatchup['avgCov'].describe())\n",
    "plt.scatter(homeMatchup['avgCov'], homeMatchup['pf'])\n",
    "plt.show()"
   ]
  },
  {
   "cell_type": "code",
   "execution_count": 24,
   "metadata": {},
   "outputs": [
    {
     "name": "stdout",
     "output_type": "stream",
     "text": [
      "count    2736.000000\n",
      "mean       62.810845\n",
      "std         5.449733\n",
      "min        45.357143\n",
      "25%        59.039286\n",
      "50%        62.785714\n",
      "75%        66.617857\n",
      "max        81.342857\n",
      "Name: avgCov, dtype: float64\n"
     ]
    },
    {
     "data": {
      "image/png": "[encoded data removed]",
      "text/plain": [
       "<matplotlib.figure.Figure at 0xc373668>"
      ]
     },
     "metadata": {},
     "output_type": "display_data"
    }
   ],
   "source": [
    "print(awayMatchup['avgCov'].describe())\n",
    "plt.scatter(awayMatchup['avgCov'], awayMatchup['pf'])\n",
    "plt.show()"
   ]
  },
  {
   "cell_type": "code",
   "execution_count": 47,
   "metadata": {},
   "outputs": [
    {
     "data": {
      "text/plain": [
       "array([[ 1.        , -0.08411616],\n",
       "       [-0.08411616,  1.        ]])"
      ]
     },
     "execution_count": 47,
     "metadata": {},
     "output_type": "execute_result"
    }
   ],
   "source": [
    "np.corrcoef(homeMatchup['avgCov'], homeMatchup['pf'])"
   ]
  },
  {
   "cell_type": "code",
   "execution_count": 25,
   "metadata": {},
   "outputs": [
    {
     "data": {
      "text/plain": [
       "count    644.000000\n",
       "mean      25.023292\n",
       "std       10.642403\n",
       "min        0.000000\n",
       "25%       17.000000\n",
       "50%       24.000000\n",
       "75%       31.000000\n",
       "max       62.000000\n",
       "Name: pf, dtype: float64"
      ]
     },
     "execution_count": 25,
     "metadata": {},
     "output_type": "execute_result"
    }
   ],
   "source": [
    "homeMatchup[homeMatchup['avgCov'] <=59]['pf'].describe()"
   ]
  },
  {
   "cell_type": "code",
   "execution_count": 26,
   "metadata": {},
   "outputs": [
    {
     "data": {
      "text/plain": [
       "count    797.000000\n",
       "mean      22.603513\n",
       "std       10.712712\n",
       "min        0.000000\n",
       "25%       14.000000\n",
       "50%       22.000000\n",
       "75%       30.000000\n",
       "max       58.000000\n",
       "Name: pf, dtype: float64"
      ]
     },
     "execution_count": 26,
     "metadata": {},
     "output_type": "execute_result"
    }
   ],
   "source": [
    "homeMatchup[homeMatchup['avgCov'] >= 66]['pf'].describe()"
   ]
  },
  {
   "cell_type": "code",
   "execution_count": 27,
   "metadata": {},
   "outputs": [
    {
     "data": {
      "text/plain": [
       "count    678.000000\n",
       "mean      22.550147\n",
       "std        9.943696\n",
       "min        0.000000\n",
       "25%       16.000000\n",
       "50%       22.000000\n",
       "75%       30.000000\n",
       "max       54.000000\n",
       "Name: pf, dtype: float64"
      ]
     },
     "execution_count": 27,
     "metadata": {},
     "output_type": "execute_result"
    }
   ],
   "source": [
    "awayMatchup[awayMatchup['avgCov'] <=59]['pf'].describe()"
   ]
  },
  {
   "cell_type": "code",
   "execution_count": 96,
   "metadata": {},
   "outputs": [
    {
     "data": {
      "text/plain": [
       "count    81.000000\n",
       "mean     17.172840\n",
       "std       8.049519\n",
       "min       0.000000\n",
       "25%      10.000000\n",
       "50%      17.000000\n",
       "75%      23.000000\n",
       "max      38.000000\n",
       "Name: pf, dtype: float64"
      ]
     },
     "execution_count": 96,
     "metadata": {},
     "output_type": "execute_result"
    }
   ],
   "source": [
    "awayMatchup[awayMatchup['avgCov'] >=73]['pf'].describe()"
   ]
  },
  {
   "cell_type": "code",
   "execution_count": 95,
   "metadata": {},
   "outputs": [
    {
     "data": {
      "text/plain": [
       "under    51\n",
       "over     30\n",
       "Name: result, dtype: int64"
      ]
     },
     "execution_count": 95,
     "metadata": {},
     "output_type": "execute_result"
    }
   ],
   "source": [
    "awayMatchup[awayMatchup['avgCov'] >= 73]['result'].value_counts()"
   ]
  },
  {
   "cell_type": "code",
   "execution_count": null,
   "metadata": {
    "collapsed": true
   },
   "outputs": [],
   "source": []
  },
  {
   "cell_type": "code",
   "execution_count": null,
   "metadata": {
    "collapsed": true
   },
   "outputs": [],
   "source": []
  },
  {
   "cell_type": "code",
   "execution_count": null,
   "metadata": {
    "collapsed": true
   },
   "outputs": [],
   "source": []
  },
  {
   "cell_type": "code",
   "execution_count": 30,
   "metadata": {},
   "outputs": [
    {
     "data": {
      "text/plain": [
       "count    565.000000\n",
       "mean      27.007080\n",
       "std       10.610109\n",
       "min        3.000000\n",
       "25%       20.000000\n",
       "50%       27.000000\n",
       "75%       34.000000\n",
       "max       62.000000\n",
       "Name: pf, dtype: float64"
      ]
     },
     "execution_count": 30,
     "metadata": {},
     "output_type": "execute_result"
    }
   ],
   "source": []
  },
  {
   "cell_type": "code",
   "execution_count": 31,
   "metadata": {},
   "outputs": [
    {
     "data": {
      "text/plain": [
       "count    543.000000\n",
       "mean      19.898711\n",
       "std        9.801671\n",
       "min        0.000000\n",
       "25%       13.000000\n",
       "50%       20.000000\n",
       "75%       26.000000\n",
       "max       57.000000\n",
       "Name: pf, dtype: float64"
      ]
     },
     "execution_count": 31,
     "metadata": {},
     "output_type": "execute_result"
    }
   ],
   "source": [
    "homeMatchup[homeMatchup['offMatchup'] <=-2]['pf'].describe()"
   ]
  },
  {
   "cell_type": "code",
   "execution_count": 32,
   "metadata": {},
   "outputs": [
    {
     "data": {
      "text/plain": [
       "count    595.000000\n",
       "mean      24.401681\n",
       "std       10.206207\n",
       "min        0.000000\n",
       "25%       17.000000\n",
       "50%       24.000000\n",
       "75%       31.000000\n",
       "max       56.000000\n",
       "Name: pf, dtype: float64"
      ]
     },
     "execution_count": 32,
     "metadata": {},
     "output_type": "execute_result"
    }
   ],
   "source": [
    "awayMatchup[awayMatchup['offMatchup'] >=10]['pf'].describe()"
   ]
  },
  {
   "cell_type": "code",
   "execution_count": 33,
   "metadata": {},
   "outputs": [
    {
     "data": {
      "text/plain": [
       "count    519.000000\n",
       "mean      17.527938\n",
       "std        9.425930\n",
       "min        0.000000\n",
       "25%       10.000000\n",
       "50%       17.000000\n",
       "75%       24.000000\n",
       "max       44.000000\n",
       "Name: pf, dtype: float64"
      ]
     },
     "execution_count": 33,
     "metadata": {},
     "output_type": "execute_result"
    }
   ],
   "source": [
    "awayMatchup[awayMatchup['offMatchup'] <=-2]['pf'].describe()"
   ]
  },
  {
   "cell_type": "code",
   "execution_count": 34,
   "metadata": {},
   "outputs": [
    {
     "data": {
      "text/plain": [
       "under    279\n",
       "over     277\n",
       "push       9\n",
       "Name: result, dtype: int64"
      ]
     },
     "execution_count": 34,
     "metadata": {},
     "output_type": "execute_result"
    }
   ],
   "source": [
    "homeMatchup[homeMatchup['offMatchup'] >=10]['result'].value_counts()"
   ]
  },
  {
   "cell_type": "code",
   "execution_count": 35,
   "metadata": {},
   "outputs": [
    {
     "data": {
      "text/plain": [
       "under    293\n",
       "over     290\n",
       "push      12\n",
       "Name: result, dtype: int64"
      ]
     },
     "execution_count": 35,
     "metadata": {},
     "output_type": "execute_result"
    }
   ],
   "source": [
    "awayMatchup[awayMatchup['offMatchup'] >=10]['result'].value_counts()"
   ]
  },
  {
   "cell_type": "code",
   "execution_count": null,
   "metadata": {
    "collapsed": true
   },
   "outputs": [],
   "source": []
  },
  {
   "cell_type": "code",
   "execution_count": null,
   "metadata": {
    "collapsed": true
   },
   "outputs": [],
   "source": []
  },
  {
   "cell_type": "code",
   "execution_count": null,
   "metadata": {
    "collapsed": true
   },
   "outputs": [],
   "source": []
  },
  {
   "cell_type": "code",
   "execution_count": null,
   "metadata": {
    "collapsed": true
   },
   "outputs": [],
   "source": []
  },
  {
   "cell_type": "code",
   "execution_count": null,
   "metadata": {
    "collapsed": true
   },
   "outputs": [],
   "source": []
  },
  {
   "cell_type": "code",
   "execution_count": null,
   "metadata": {
    "collapsed": true
   },
   "outputs": [],
   "source": []
  },
  {
   "cell_type": "code",
   "execution_count": 36,
   "metadata": {},
   "outputs": [
    {
     "data": {
      "text/plain": [
       "23.743055555555557"
      ]
     },
     "execution_count": 36,
     "metadata": {},
     "output_type": "execute_result"
    }
   ],
   "source": [
    "homeMatchup['pf'].mean()"
   ]
  },
  {
   "cell_type": "code",
   "execution_count": 37,
   "metadata": {},
   "outputs": [
    {
     "data": {
      "text/plain": [
       "21.226973684210527"
      ]
     },
     "execution_count": 37,
     "metadata": {},
     "output_type": "execute_result"
    }
   ],
   "source": [
    "awayMatchup['pf'].mean()"
   ]
  },
  {
   "cell_type": "code",
   "execution_count": 38,
   "metadata": {},
   "outputs": [
    {
     "data": {
      "image/png": "[encoded data removed]",
      "text/plain": [
       "<matplotlib.figure.Figure at 0xad7ab70>"
      ]
     },
     "metadata": {},
     "output_type": "display_data"
    }
   ],
   "source": [
    "sns.violinplot(x=homeMatchup['pf'],y=homeMatchup['surface'])\n",
    "plt.show()"
   ]
  },
  {
   "cell_type": "code",
   "execution_count": 39,
   "metadata": {},
   "outputs": [
    {
     "data": {
      "text/plain": [
       "surface\n",
       "grass    21.364759\n",
       "turf     21.050083\n",
       "Name: pf, dtype: float64"
      ]
     },
     "execution_count": 39,
     "metadata": {},
     "output_type": "execute_result"
    }
   ],
   "source": [
    "awayMatchup['pf'].groupby(awayMatchup['surface']).mean()"
   ]
  },
  {
   "cell_type": "code",
   "execution_count": 40,
   "metadata": {},
   "outputs": [
    {
     "data": {
      "image/png": "[encoded data removed]",
      "text/plain": [
       "<matplotlib.figure.Figure at 0xc5c4908>"
      ]
     },
     "metadata": {},
     "output_type": "display_data"
    }
   ],
   "source": [
    "plt.hist(homeMatchup['overUnder'])\n",
    "plt.show()"
   ]
  },
  {
   "cell_type": "code",
   "execution_count": 41,
   "metadata": {},
   "outputs": [
    {
     "data": {
      "image/png": "[encoded data removed]",
      "text/plain": [
       "<matplotlib.figure.Figure at 0xc4d4dd8>"
      ]
     },
     "metadata": {},
     "output_type": "display_data"
    }
   ],
   "source": [
    "plt.scatter(homeMatchup['offMatchup'],homeMatchup['pf'])\n",
    "plt.show()"
   ]
  },
  {
   "cell_type": "code",
   "execution_count": 44,
   "metadata": {},
   "outputs": [
    {
     "data": {
      "text/plain": [
       "array([[ 1.        ,  0.23599347],\n",
       "       [ 0.23599347,  1.        ]])"
      ]
     },
     "execution_count": 44,
     "metadata": {},
     "output_type": "execute_result"
    }
   ],
   "source": [
    "np.corrcoef(homeMatchup['offMatchup'], homeMatchup['pf'])"
   ]
  },
  {
   "cell_type": "code",
   "execution_count": 8,
   "metadata": {},
   "outputs": [
    {
     "data": {
      "image/png": "[encoded data removed]",
      "text/plain": [
       "<matplotlib.figure.Figure at 0x8813c18>"
      ]
     },
     "metadata": {},
     "output_type": "display_data"
    }
   ],
   "source": [
    "homeMatchup['pf'].groupby(homeMatchup['season']).mean().plot(kind='line')\n",
    "plt.show()"
   ]
  },
  {
   "cell_type": "code",
   "execution_count": 9,
   "metadata": {},
   "outputs": [
    {
     "data": {
      "image/png": "[encoded data removed]",
      "text/plain": [
       "<matplotlib.figure.Figure at 0x6bfd7f0>"
      ]
     },
     "metadata": {},
     "output_type": "display_data"
    }
   ],
   "source": [
    "awayMatchup['pf'].groupby(awayMatchup['season']).mean().plot(kind='line')\n",
    "plt.show()"
   ]
  },
  {
   "cell_type": "code",
   "execution_count": 10,
   "metadata": {},
   "outputs": [
    {
     "data": {
      "text/plain": [
       "17.849442379182157"
      ]
     },
     "execution_count": 10,
     "metadata": {},
     "output_type": "execute_result"
    }
   ],
   "source": [
    "awayMatchup[awayMatchup['avgPf'] <= 18]['pf'].mean()"
   ]
  },
  {
   "cell_type": "code",
   "execution_count": 11,
   "metadata": {},
   "outputs": [
    {
     "data": {
      "text/plain": [
       "19.965888689407539"
      ]
     },
     "execution_count": 11,
     "metadata": {},
     "output_type": "execute_result"
    }
   ],
   "source": [
    "awayMatchup[(awayMatchup['avgPf'] > 18) & (awayMatchup['avgPf'] <= 21)]['pf'].mean()"
   ]
  },
  {
   "cell_type": "code",
   "execution_count": 12,
   "metadata": {},
   "outputs": [
    {
     "data": {
      "text/plain": [
       "21.20967741935484"
      ]
     },
     "execution_count": 12,
     "metadata": {},
     "output_type": "execute_result"
    }
   ],
   "source": [
    "awayMatchup[(awayMatchup['avgPf'] > 21) & (awayMatchup['avgPf'] <= 24)]['pf'].mean()"
   ]
  },
  {
   "cell_type": "code",
   "execution_count": 13,
   "metadata": {},
   "outputs": [
    {
     "data": {
      "text/plain": [
       "22.44337811900192"
      ]
     },
     "execution_count": 13,
     "metadata": {},
     "output_type": "execute_result"
    }
   ],
   "source": [
    "awayMatchup[(awayMatchup['avgPf'] > 24) & (awayMatchup['avgPf'] <= 27)]['pf'].mean()"
   ]
  },
  {
   "cell_type": "code",
   "execution_count": 14,
   "metadata": {},
   "outputs": [
    {
     "data": {
      "text/plain": [
       "25.02"
      ]
     },
     "execution_count": 14,
     "metadata": {},
     "output_type": "execute_result"
    }
   ],
   "source": [
    "awayMatchup[(awayMatchup['avgPf'] > 27)]['pf'].mean()"
   ]
  },
  {
   "cell_type": "code",
   "execution_count": 15,
   "metadata": {},
   "outputs": [
    {
     "data": {
      "text/plain": [
       "19.515151515151516"
      ]
     },
     "execution_count": 15,
     "metadata": {},
     "output_type": "execute_result"
    }
   ],
   "source": [
    "homeMatchup[homeMatchup['avgPf'] <= 18]['pf'].mean()"
   ]
  },
  {
   "cell_type": "code",
   "execution_count": 16,
   "metadata": {},
   "outputs": [
    {
     "data": {
      "text/plain": [
       "22.010204081632654"
      ]
     },
     "execution_count": 16,
     "metadata": {},
     "output_type": "execute_result"
    }
   ],
   "source": [
    "homeMatchup[(homeMatchup['avgPf'] > 18) & (homeMatchup['avgPf'] <= 21)]['pf'].mean()"
   ]
  },
  {
   "cell_type": "code",
   "execution_count": 17,
   "metadata": {},
   "outputs": [
    {
     "data": {
      "text/plain": [
       "24.251184834123222"
      ]
     },
     "execution_count": 17,
     "metadata": {},
     "output_type": "execute_result"
    }
   ],
   "source": [
    "homeMatchup[(homeMatchup['avgPf'] > 21) & (homeMatchup['avgPf'] <= 24)]['pf'].mean()"
   ]
  },
  {
   "cell_type": "code",
   "execution_count": 18,
   "metadata": {},
   "outputs": [
    {
     "data": {
      "text/plain": [
       "25.600790513833992"
      ]
     },
     "execution_count": 18,
     "metadata": {},
     "output_type": "execute_result"
    }
   ],
   "source": [
    "homeMatchup[(homeMatchup['avgPf'] > 24) & (homeMatchup['avgPf'] <= 27)]['pf'].mean()"
   ]
  },
  {
   "cell_type": "code",
   "execution_count": 19,
   "metadata": {},
   "outputs": [
    {
     "data": {
      "text/plain": [
       "27.879417879417879"
      ]
     },
     "execution_count": 19,
     "metadata": {},
     "output_type": "execute_result"
    }
   ],
   "source": [
    "homeMatchup[(homeMatchup['avgPf'] > 27)]['pf'].mean()"
   ]
  },
  {
   "cell_type": "code",
   "execution_count": 20,
   "metadata": {},
   "outputs": [
    {
     "data": {
      "text/plain": [
       "19.138686131386862"
      ]
     },
     "execution_count": 20,
     "metadata": {},
     "output_type": "execute_result"
    }
   ],
   "source": [
    "awayMatchup[awayMatchup['avgPa'] <= 18]['pf'].mean()"
   ]
  },
  {
   "cell_type": "code",
   "execution_count": 21,
   "metadata": {},
   "outputs": [
    {
     "data": {
      "text/plain": [
       "19.708333333333332"
      ]
     },
     "execution_count": 21,
     "metadata": {},
     "output_type": "execute_result"
    }
   ],
   "source": [
    "awayMatchup[(awayMatchup['avgPa'] > 18) & (awayMatchup['avgPa'] <= 21)]['pf'].mean()"
   ]
  },
  {
   "cell_type": "code",
   "execution_count": 22,
   "metadata": {},
   "outputs": [
    {
     "data": {
      "text/plain": [
       "21.800000000000001"
      ]
     },
     "execution_count": 22,
     "metadata": {},
     "output_type": "execute_result"
    }
   ],
   "source": [
    "awayMatchup[(awayMatchup['avgPa'] > 21) & (awayMatchup['avgPa'] <= 24)]['pf'].mean()"
   ]
  },
  {
   "cell_type": "code",
   "execution_count": 23,
   "metadata": {},
   "outputs": [
    {
     "data": {
      "text/plain": [
       "22.134831460674157"
      ]
     },
     "execution_count": 23,
     "metadata": {},
     "output_type": "execute_result"
    }
   ],
   "source": [
    "awayMatchup[(awayMatchup['avgPa'] > 24) & (awayMatchup['avgPa'] <= 27)]['pf'].mean()"
   ]
  },
  {
   "cell_type": "code",
   "execution_count": 24,
   "metadata": {},
   "outputs": [
    {
     "data": {
      "text/plain": [
       "23.334061135371179"
      ]
     },
     "execution_count": 24,
     "metadata": {},
     "output_type": "execute_result"
    }
   ],
   "source": [
    "awayMatchup[(awayMatchup['avgPa'] > 27)]['pf'].mean()"
   ]
  },
  {
   "cell_type": "code",
   "execution_count": 25,
   "metadata": {},
   "outputs": [
    {
     "data": {
      "text/plain": [
       "22.243010752688171"
      ]
     },
     "execution_count": 25,
     "metadata": {},
     "output_type": "execute_result"
    }
   ],
   "source": [
    "homeMatchup[homeMatchup['avgPa'] <= 18]['pf'].mean()"
   ]
  },
  {
   "cell_type": "code",
   "execution_count": 26,
   "metadata": {},
   "outputs": [
    {
     "data": {
      "text/plain": [
       "22.753205128205128"
      ]
     },
     "execution_count": 26,
     "metadata": {},
     "output_type": "execute_result"
    }
   ],
   "source": [
    "homeMatchup[(homeMatchup['avgPa'] > 18) & (homeMatchup['avgPa'] <= 21)]['pf'].mean()"
   ]
  },
  {
   "cell_type": "code",
   "execution_count": 27,
   "metadata": {},
   "outputs": [
    {
     "data": {
      "text/plain": [
       "23.693786982248522"
      ]
     },
     "execution_count": 27,
     "metadata": {},
     "output_type": "execute_result"
    }
   ],
   "source": [
    "homeMatchup[(homeMatchup['avgPa'] > 21) & (homeMatchup['avgPa'] <= 24)]['pf'].mean()"
   ]
  },
  {
   "cell_type": "code",
   "execution_count": 28,
   "metadata": {},
   "outputs": [
    {
     "data": {
      "text/plain": [
       "25.230912476722533"
      ]
     },
     "execution_count": 28,
     "metadata": {},
     "output_type": "execute_result"
    }
   ],
   "source": [
    "homeMatchup[(homeMatchup['avgPa'] > 24) & (homeMatchup['avgPa'] <= 27)]['pf'].mean()"
   ]
  },
  {
   "cell_type": "code",
   "execution_count": 29,
   "metadata": {},
   "outputs": [
    {
     "data": {
      "text/plain": [
       "25.009216589861751"
      ]
     },
     "execution_count": 29,
     "metadata": {},
     "output_type": "execute_result"
    }
   ],
   "source": [
    "homeMatchup[(homeMatchup['avgPa'] > 27)]['pf'].mean()"
   ]
  },
  {
   "cell_type": "code",
   "execution_count": null,
   "metadata": {
    "collapsed": true
   },
   "outputs": [],
   "source": []
  },
  {
   "cell_type": "code",
   "execution_count": 30,
   "metadata": {},
   "outputs": [
    {
     "data": {
      "text/plain": [
       "17.388349514563107"
      ]
     },
     "execution_count": 30,
     "metadata": {},
     "output_type": "execute_result"
    }
   ],
   "source": [
    "awayMatchup[(awayMatchup['ptsMatchup'] <= 40)]['pf'].mean()"
   ]
  },
  {
   "cell_type": "code",
   "execution_count": 31,
   "metadata": {},
   "outputs": [
    {
     "data": {
      "text/plain": [
       "20.072697899838449"
      ]
     },
     "execution_count": 31,
     "metadata": {},
     "output_type": "execute_result"
    }
   ],
   "source": [
    "awayMatchup[(awayMatchup['ptsMatchup'] > 40) & (awayMatchup['ptsMatchup'] <= 44)]['pf'].mean()"
   ]
  },
  {
   "cell_type": "code",
   "execution_count": 32,
   "metadata": {},
   "outputs": [
    {
     "data": {
      "text/plain": [
       "21.772504091653026"
      ]
     },
     "execution_count": 32,
     "metadata": {},
     "output_type": "execute_result"
    }
   ],
   "source": [
    "awayMatchup[(awayMatchup['ptsMatchup'] > 44) & (awayMatchup['ptsMatchup'] <= 48)]['pf'].mean()"
   ]
  },
  {
   "cell_type": "code",
   "execution_count": 33,
   "metadata": {},
   "outputs": [
    {
     "data": {
      "text/plain": [
       "23.037113402061856"
      ]
     },
     "execution_count": 33,
     "metadata": {},
     "output_type": "execute_result"
    }
   ],
   "source": [
    "awayMatchup[(awayMatchup['ptsMatchup'] > 48) & (awayMatchup['ptsMatchup'] <= 52)]['pf'].mean()"
   ]
  },
  {
   "cell_type": "code",
   "execution_count": 34,
   "metadata": {},
   "outputs": [
    {
     "data": {
      "text/plain": [
       "25.88089330024814"
      ]
     },
     "execution_count": 34,
     "metadata": {},
     "output_type": "execute_result"
    }
   ],
   "source": [
    "awayMatchup[(awayMatchup['ptsMatchup'] > 52)]['pf'].mean()"
   ]
  },
  {
   "cell_type": "code",
   "execution_count": null,
   "metadata": {
    "collapsed": true
   },
   "outputs": [],
   "source": []
  },
  {
   "cell_type": "code",
   "execution_count": 35,
   "metadata": {},
   "outputs": [
    {
     "data": {
      "text/plain": [
       "19.622356495468278"
      ]
     },
     "execution_count": 35,
     "metadata": {},
     "output_type": "execute_result"
    }
   ],
   "source": [
    "homeMatchup[(homeMatchup['ptsMatchup'] <= 40)]['pf'].mean()"
   ]
  },
  {
   "cell_type": "code",
   "execution_count": 36,
   "metadata": {},
   "outputs": [
    {
     "data": {
      "text/plain": [
       "22.552805280528052"
      ]
     },
     "execution_count": 36,
     "metadata": {},
     "output_type": "execute_result"
    }
   ],
   "source": [
    "homeMatchup[(homeMatchup['ptsMatchup'] > 40) & (homeMatchup['ptsMatchup'] <= 44)]['pf'].mean()"
   ]
  },
  {
   "cell_type": "code",
   "execution_count": 37,
   "metadata": {},
   "outputs": [
    {
     "data": {
      "text/plain": [
       "24.473941368078176"
      ]
     },
     "execution_count": 37,
     "metadata": {},
     "output_type": "execute_result"
    }
   ],
   "source": [
    "homeMatchup[(homeMatchup['ptsMatchup'] > 44) & (homeMatchup['ptsMatchup'] <= 48)]['pf'].mean()"
   ]
  },
  {
   "cell_type": "code",
   "execution_count": 38,
   "metadata": {},
   "outputs": [
    {
     "data": {
      "text/plain": [
       "26.136363636363637"
      ]
     },
     "execution_count": 38,
     "metadata": {},
     "output_type": "execute_result"
    }
   ],
   "source": [
    "homeMatchup[(homeMatchup['ptsMatchup'] > 48) & (homeMatchup['ptsMatchup'] <= 52)]['pf'].mean()"
   ]
  },
  {
   "cell_type": "code",
   "execution_count": 59,
   "metadata": {},
   "outputs": [
    {
     "data": {
      "text/plain": [
       "28.576530612244898"
      ]
     },
     "execution_count": 59,
     "metadata": {},
     "output_type": "execute_result"
    }
   ],
   "source": [
    "homeMatchup[(homeMatchup['ptsMatchup'] > 52)]['pf'].mean()"
   ]
  },
  {
   "cell_type": "code",
   "execution_count": 40,
   "metadata": {},
   "outputs": [
    {
     "data": {
      "text/html": [
       "<div>\n",
       "<style>\n",
       "    .dataframe thead tr:only-child th {\n",
       "        text-align: right;\n",
       "    }\n",
       "\n",
       "    .dataframe thead th {\n",
       "        text-align: left;\n",
       "    }\n",
       "\n",
       "    .dataframe tbody tr th {\n",
       "        vertical-align: top;\n",
       "    }\n",
       "</style>\n",
       "<table border=\"1\" class=\"dataframe\">\n",
       "  <thead>\n",
       "    <tr style=\"text-align: right;\">\n",
       "      <th></th>\n",
       "      <th>gameId</th>\n",
       "      <th>date</th>\n",
       "      <th>season</th>\n",
       "      <th>week</th>\n",
       "      <th>team_x</th>\n",
       "      <th>homeAway</th>\n",
       "      <th>stadium</th>\n",
       "      <th>roof</th>\n",
       "      <th>surface</th>\n",
       "      <th>avgPf</th>\n",
       "      <th>...</th>\n",
       "      <th>defDvoa</th>\n",
       "      <th>ptsMatchup</th>\n",
       "      <th>offMatchup</th>\n",
       "      <th>ovrMatchup</th>\n",
       "      <th>passMatchup</th>\n",
       "      <th>pblkMatchup</th>\n",
       "      <th>runMatchup</th>\n",
       "      <th>offDvoaMatchup</th>\n",
       "      <th>totalDvoaMatchup</th>\n",
       "      <th>pf</th>\n",
       "    </tr>\n",
       "  </thead>\n",
       "  <tbody>\n",
       "    <tr>\n",
       "      <th>0</th>\n",
       "      <td>201811110kan</td>\n",
       "      <td>2018-11-11</td>\n",
       "      <td>2018</td>\n",
       "      <td>10</td>\n",
       "      <td>Kansas City Chiefs</td>\n",
       "      <td>home</td>\n",
       "      <td>Arrowhead Stadium</td>\n",
       "      <td>outdoors</td>\n",
       "      <td>grass</td>\n",
       "      <td>35.285714</td>\n",
       "      <td>...</td>\n",
       "      <td>-0.071</td>\n",
       "      <td>60.285714</td>\n",
       "      <td>9.814286</td>\n",
       "      <td>13.857143</td>\n",
       "      <td>12.000000</td>\n",
       "      <td>10.700000</td>\n",
       "      <td>7.042857</td>\n",
       "      <td>0.487</td>\n",
       "      <td>0.764</td>\n",
       "      <td>26</td>\n",
       "    </tr>\n",
       "    <tr>\n",
       "      <th>2</th>\n",
       "      <td>201612240sea</td>\n",
       "      <td>2016-12-24</td>\n",
       "      <td>2016</td>\n",
       "      <td>16</td>\n",
       "      <td>Seattle Seahawks</td>\n",
       "      <td>home</td>\n",
       "      <td>CenturyLink Field</td>\n",
       "      <td>outdoors</td>\n",
       "      <td>turf</td>\n",
       "      <td>23.857143</td>\n",
       "      <td>...</td>\n",
       "      <td>-0.109</td>\n",
       "      <td>54.571429</td>\n",
       "      <td>3.671429</td>\n",
       "      <td>3.042857</td>\n",
       "      <td>7.371429</td>\n",
       "      <td>-10.685714</td>\n",
       "      <td>1.342857</td>\n",
       "      <td>0.063</td>\n",
       "      <td>0.155</td>\n",
       "      <td>31</td>\n",
       "    </tr>\n",
       "    <tr>\n",
       "      <th>3</th>\n",
       "      <td>201812300sea</td>\n",
       "      <td>2018-12-30</td>\n",
       "      <td>2018</td>\n",
       "      <td>17</td>\n",
       "      <td>Seattle Seahawks</td>\n",
       "      <td>home</td>\n",
       "      <td>CenturyLink Field</td>\n",
       "      <td>outdoors</td>\n",
       "      <td>turf</td>\n",
       "      <td>30.428571</td>\n",
       "      <td>...</td>\n",
       "      <td>0.018</td>\n",
       "      <td>58.857143</td>\n",
       "      <td>12.185714</td>\n",
       "      <td>13.642857</td>\n",
       "      <td>11.085714</td>\n",
       "      <td>6.485714</td>\n",
       "      <td>6.571429</td>\n",
       "      <td>0.077</td>\n",
       "      <td>0.520</td>\n",
       "      <td>27</td>\n",
       "    </tr>\n",
       "    <tr>\n",
       "      <th>9</th>\n",
       "      <td>201812020gnb</td>\n",
       "      <td>2018-12-02</td>\n",
       "      <td>2018</td>\n",
       "      <td>13</td>\n",
       "      <td>Green Bay Packers</td>\n",
       "      <td>home</td>\n",
       "      <td>Lambeau Field</td>\n",
       "      <td>outdoors</td>\n",
       "      <td>grass</td>\n",
       "      <td>24.571429</td>\n",
       "      <td>...</td>\n",
       "      <td>-0.029</td>\n",
       "      <td>53.000000</td>\n",
       "      <td>10.571429</td>\n",
       "      <td>9.085714</td>\n",
       "      <td>17.371429</td>\n",
       "      <td>9.857143</td>\n",
       "      <td>3.314286</td>\n",
       "      <td>0.176</td>\n",
       "      <td>0.489</td>\n",
       "      <td>17</td>\n",
       "    </tr>\n",
       "    <tr>\n",
       "      <th>19</th>\n",
       "      <td>201711190htx</td>\n",
       "      <td>2017-11-19</td>\n",
       "      <td>2017</td>\n",
       "      <td>11</td>\n",
       "      <td>Houston Texans</td>\n",
       "      <td>home</td>\n",
       "      <td>NRG Stadium</td>\n",
       "      <td>dome</td>\n",
       "      <td>turf</td>\n",
       "      <td>30.857143</td>\n",
       "      <td>...</td>\n",
       "      <td>-0.021</td>\n",
       "      <td>55.857143</td>\n",
       "      <td>2.842857</td>\n",
       "      <td>5.542857</td>\n",
       "      <td>-0.814286</td>\n",
       "      <td>-1.671429</td>\n",
       "      <td>-0.442857</td>\n",
       "      <td>0.014</td>\n",
       "      <td>0.209</td>\n",
       "      <td>31</td>\n",
       "    </tr>\n",
       "    <tr>\n",
       "      <th>32</th>\n",
       "      <td>201710220nwe</td>\n",
       "      <td>2017-10-22</td>\n",
       "      <td>2017</td>\n",
       "      <td>7</td>\n",
       "      <td>New England Patriots</td>\n",
       "      <td>home</td>\n",
       "      <td>Gillette Stadium</td>\n",
       "      <td>outdoors</td>\n",
       "      <td>turf</td>\n",
       "      <td>29.428571</td>\n",
       "      <td>...</td>\n",
       "      <td>0.124</td>\n",
       "      <td>52.857143</td>\n",
       "      <td>4.985714</td>\n",
       "      <td>-8.171429</td>\n",
       "      <td>11.285714</td>\n",
       "      <td>0.028571</td>\n",
       "      <td>-4.414286</td>\n",
       "      <td>0.137</td>\n",
       "      <td>0.014</td>\n",
       "      <td>23</td>\n",
       "    </tr>\n",
       "    <tr>\n",
       "      <th>33</th>\n",
       "      <td>201810070pit</td>\n",
       "      <td>2018-10-07</td>\n",
       "      <td>2018</td>\n",
       "      <td>5</td>\n",
       "      <td>Pittsburgh Steelers</td>\n",
       "      <td>home</td>\n",
       "      <td>Heinz Field</td>\n",
       "      <td>outdoors</td>\n",
       "      <td>grass</td>\n",
       "      <td>29.428571</td>\n",
       "      <td>...</td>\n",
       "      <td>0.181</td>\n",
       "      <td>52.285714</td>\n",
       "      <td>3.828571</td>\n",
       "      <td>-0.357143</td>\n",
       "      <td>-5.571429</td>\n",
       "      <td>15.128571</td>\n",
       "      <td>0.642857</td>\n",
       "      <td>-0.168</td>\n",
       "      <td>0.039</td>\n",
       "      <td>41</td>\n",
       "    </tr>\n",
       "    <tr>\n",
       "      <th>36</th>\n",
       "      <td>201611130phi</td>\n",
       "      <td>2016-11-13</td>\n",
       "      <td>2016</td>\n",
       "      <td>10</td>\n",
       "      <td>Philadelphia Eagles</td>\n",
       "      <td>home</td>\n",
       "      <td>Lincoln Financial Field</td>\n",
       "      <td>outdoors</td>\n",
       "      <td>grass</td>\n",
       "      <td>24.714286</td>\n",
       "      <td>...</td>\n",
       "      <td>0.080</td>\n",
       "      <td>53.285714</td>\n",
       "      <td>1.100000</td>\n",
       "      <td>-6.628571</td>\n",
       "      <td>7.628571</td>\n",
       "      <td>11.285714</td>\n",
       "      <td>-13.171429</td>\n",
       "      <td>-0.158</td>\n",
       "      <td>0.071</td>\n",
       "      <td>24</td>\n",
       "    </tr>\n",
       "    <tr>\n",
       "      <th>42</th>\n",
       "      <td>201811220nor</td>\n",
       "      <td>2018-11-22</td>\n",
       "      <td>2018</td>\n",
       "      <td>12</td>\n",
       "      <td>New Orleans Saints</td>\n",
       "      <td>home</td>\n",
       "      <td>Mercedes-Benz Superdome</td>\n",
       "      <td>dome</td>\n",
       "      <td>turf</td>\n",
       "      <td>39.142857</td>\n",
       "      <td>...</td>\n",
       "      <td>0.209</td>\n",
       "      <td>66.428571</td>\n",
       "      <td>16.714286</td>\n",
       "      <td>6.985714</td>\n",
       "      <td>22.642857</td>\n",
       "      <td>14.785714</td>\n",
       "      <td>5.014286</td>\n",
       "      <td>0.032</td>\n",
       "      <td>0.273</td>\n",
       "      <td>31</td>\n",
       "    </tr>\n",
       "    <tr>\n",
       "      <th>50</th>\n",
       "      <td>201812090kan</td>\n",
       "      <td>2018-12-09</td>\n",
       "      <td>2018</td>\n",
       "      <td>14</td>\n",
       "      <td>Kansas City Chiefs</td>\n",
       "      <td>home</td>\n",
       "      <td>Arrowhead Stadium</td>\n",
       "      <td>outdoors</td>\n",
       "      <td>grass</td>\n",
       "      <td>38.428571</td>\n",
       "      <td>...</td>\n",
       "      <td>-0.122</td>\n",
       "      <td>58.000000</td>\n",
       "      <td>6.257143</td>\n",
       "      <td>7.514286</td>\n",
       "      <td>13.857143</td>\n",
       "      <td>9.371429</td>\n",
       "      <td>-1.957143</td>\n",
       "      <td>0.512</td>\n",
       "      <td>0.260</td>\n",
       "      <td>27</td>\n",
       "    </tr>\n",
       "    <tr>\n",
       "      <th>73</th>\n",
       "      <td>201711260kan</td>\n",
       "      <td>2017-11-26</td>\n",
       "      <td>2017</td>\n",
       "      <td>12</td>\n",
       "      <td>Kansas City Chiefs</td>\n",
       "      <td>home</td>\n",
       "      <td>Arrowhead Stadium</td>\n",
       "      <td>outdoors</td>\n",
       "      <td>grass</td>\n",
       "      <td>24.142857</td>\n",
       "      <td>...</td>\n",
       "      <td>0.062</td>\n",
       "      <td>54.571429</td>\n",
       "      <td>4.214286</td>\n",
       "      <td>1.700000</td>\n",
       "      <td>-0.600000</td>\n",
       "      <td>5.671429</td>\n",
       "      <td>1.342857</td>\n",
       "      <td>0.088</td>\n",
       "      <td>0.254</td>\n",
       "      <td>10</td>\n",
       "    </tr>\n",
       "    <tr>\n",
       "      <th>78</th>\n",
       "      <td>201712240nwe</td>\n",
       "      <td>2017-12-24</td>\n",
       "      <td>2017</td>\n",
       "      <td>16</td>\n",
       "      <td>New England Patriots</td>\n",
       "      <td>home</td>\n",
       "      <td>Gillette Stadium</td>\n",
       "      <td>outdoors</td>\n",
       "      <td>turf</td>\n",
       "      <td>28.571429</td>\n",
       "      <td>...</td>\n",
       "      <td>-0.020</td>\n",
       "      <td>55.857143</td>\n",
       "      <td>13.042857</td>\n",
       "      <td>12.857143</td>\n",
       "      <td>9.214286</td>\n",
       "      <td>13.900000</td>\n",
       "      <td>3.342857</td>\n",
       "      <td>0.274</td>\n",
       "      <td>0.271</td>\n",
       "      <td>37</td>\n",
       "    </tr>\n",
       "    <tr>\n",
       "      <th>88</th>\n",
       "      <td>201710010atl</td>\n",
       "      <td>2017-10-01</td>\n",
       "      <td>2017</td>\n",
       "      <td>4</td>\n",
       "      <td>Atlanta Falcons</td>\n",
       "      <td>home</td>\n",
       "      <td>Mercedes-Benz Stadium</td>\n",
       "      <td>dome</td>\n",
       "      <td>turf</td>\n",
       "      <td>33.285714</td>\n",
       "      <td>...</td>\n",
       "      <td>-0.274</td>\n",
       "      <td>53.428571</td>\n",
       "      <td>19.257143</td>\n",
       "      <td>14.900000</td>\n",
       "      <td>10.085714</td>\n",
       "      <td>18.400000</td>\n",
       "      <td>-0.242857</td>\n",
       "      <td>0.461</td>\n",
       "      <td>-0.061</td>\n",
       "      <td>17</td>\n",
       "    </tr>\n",
       "    <tr>\n",
       "      <th>93</th>\n",
       "      <td>201612040rai</td>\n",
       "      <td>2016-12-04</td>\n",
       "      <td>2016</td>\n",
       "      <td>13</td>\n",
       "      <td>Oakland Raiders</td>\n",
       "      <td>home</td>\n",
       "      <td>Oakland Coliseum</td>\n",
       "      <td>outdoors</td>\n",
       "      <td>grass</td>\n",
       "      <td>28.428571</td>\n",
       "      <td>...</td>\n",
       "      <td>0.033</td>\n",
       "      <td>52.428571</td>\n",
       "      <td>12.685714</td>\n",
       "      <td>9.185714</td>\n",
       "      <td>14.857143</td>\n",
       "      <td>10.671429</td>\n",
       "      <td>-8.514286</td>\n",
       "      <td>0.138</td>\n",
       "      <td>0.054</td>\n",
       "      <td>38</td>\n",
       "    </tr>\n",
       "    <tr>\n",
       "      <th>106</th>\n",
       "      <td>201811080pit</td>\n",
       "      <td>2018-11-08</td>\n",
       "      <td>2018</td>\n",
       "      <td>10</td>\n",
       "      <td>Pittsburgh Steelers</td>\n",
       "      <td>home</td>\n",
       "      <td>Heinz Field</td>\n",
       "      <td>outdoors</td>\n",
       "      <td>grass</td>\n",
       "      <td>29.428571</td>\n",
       "      <td>...</td>\n",
       "      <td>-0.020</td>\n",
       "      <td>54.000000</td>\n",
       "      <td>4.485714</td>\n",
       "      <td>-2.257143</td>\n",
       "      <td>1.585714</td>\n",
       "      <td>17.114286</td>\n",
       "      <td>-2.057143</td>\n",
       "      <td>0.158</td>\n",
       "      <td>-0.140</td>\n",
       "      <td>52</td>\n",
       "    </tr>\n",
       "    <tr>\n",
       "      <th>111</th>\n",
       "      <td>201712030nor</td>\n",
       "      <td>2017-12-03</td>\n",
       "      <td>2017</td>\n",
       "      <td>13</td>\n",
       "      <td>New Orleans Saints</td>\n",
       "      <td>home</td>\n",
       "      <td>Mercedes-Benz Superdome</td>\n",
       "      <td>dome</td>\n",
       "      <td>turf</td>\n",
       "      <td>32.714286</td>\n",
       "      <td>...</td>\n",
       "      <td>-0.078</td>\n",
       "      <td>52.285714</td>\n",
       "      <td>7.628571</td>\n",
       "      <td>9.714286</td>\n",
       "      <td>8.828571</td>\n",
       "      <td>12.971429</td>\n",
       "      <td>-4.857143</td>\n",
       "      <td>0.353</td>\n",
       "      <td>0.210</td>\n",
       "      <td>31</td>\n",
       "    </tr>\n",
       "    <tr>\n",
       "      <th>112</th>\n",
       "      <td>201812300nor</td>\n",
       "      <td>2018-12-30</td>\n",
       "      <td>2018</td>\n",
       "      <td>17</td>\n",
       "      <td>New Orleans Saints</td>\n",
       "      <td>home</td>\n",
       "      <td>Mercedes-Benz Superdome</td>\n",
       "      <td>dome</td>\n",
       "      <td>turf</td>\n",
       "      <td>30.142857</td>\n",
       "      <td>...</td>\n",
       "      <td>0.063</td>\n",
       "      <td>57.000000</td>\n",
       "      <td>8.985714</td>\n",
       "      <td>16.485714</td>\n",
       "      <td>16.185714</td>\n",
       "      <td>8.885714</td>\n",
       "      <td>1.185714</td>\n",
       "      <td>0.109</td>\n",
       "      <td>0.261</td>\n",
       "      <td>14</td>\n",
       "    </tr>\n",
       "    <tr>\n",
       "      <th>114</th>\n",
       "      <td>201610160nor</td>\n",
       "      <td>2016-10-16</td>\n",
       "      <td>2016</td>\n",
       "      <td>6</td>\n",
       "      <td>New Orleans Saints</td>\n",
       "      <td>home</td>\n",
       "      <td>Mercedes-Benz Superdome</td>\n",
       "      <td>dome</td>\n",
       "      <td>turf</td>\n",
       "      <td>28.428571</td>\n",
       "      <td>...</td>\n",
       "      <td>-0.025</td>\n",
       "      <td>53.285714</td>\n",
       "      <td>7.742857</td>\n",
       "      <td>0.857143</td>\n",
       "      <td>11.214286</td>\n",
       "      <td>12.342857</td>\n",
       "      <td>-0.700000</td>\n",
       "      <td>0.130</td>\n",
       "      <td>0.019</td>\n",
       "      <td>41</td>\n",
       "    </tr>\n",
       "    <tr>\n",
       "      <th>116</th>\n",
       "      <td>201611270rai</td>\n",
       "      <td>2016-11-27</td>\n",
       "      <td>2016</td>\n",
       "      <td>12</td>\n",
       "      <td>Oakland Raiders</td>\n",
       "      <td>home</td>\n",
       "      <td>Oakland Coliseum</td>\n",
       "      <td>outdoors</td>\n",
       "      <td>grass</td>\n",
       "      <td>27.428571</td>\n",
       "      <td>...</td>\n",
       "      <td>-0.023</td>\n",
       "      <td>52.571429</td>\n",
       "      <td>7.457143</td>\n",
       "      <td>3.885714</td>\n",
       "      <td>14.242857</td>\n",
       "      <td>11.585714</td>\n",
       "      <td>-10.414286</td>\n",
       "      <td>0.198</td>\n",
       "      <td>0.139</td>\n",
       "      <td>35</td>\n",
       "    </tr>\n",
       "    <tr>\n",
       "      <th>117</th>\n",
       "      <td>201812020tam</td>\n",
       "      <td>2018-12-02</td>\n",
       "      <td>2018</td>\n",
       "      <td>13</td>\n",
       "      <td>Tampa Bay Buccaneers</td>\n",
       "      <td>home</td>\n",
       "      <td>Raymond James Stadium</td>\n",
       "      <td>outdoors</td>\n",
       "      <td>grass</td>\n",
       "      <td>26.000000</td>\n",
       "      <td>...</td>\n",
       "      <td>0.058</td>\n",
       "      <td>53.285714</td>\n",
       "      <td>3.171429</td>\n",
       "      <td>-4.771429</td>\n",
       "      <td>2.042857</td>\n",
       "      <td>6.857143</td>\n",
       "      <td>-4.114286</td>\n",
       "      <td>-0.025</td>\n",
       "      <td>-0.239</td>\n",
       "      <td>24</td>\n",
       "    </tr>\n",
       "    <tr>\n",
       "      <th>129</th>\n",
       "      <td>201709280gnb</td>\n",
       "      <td>2017-09-28</td>\n",
       "      <td>2017</td>\n",
       "      <td>4</td>\n",
       "      <td>Green Bay Packers</td>\n",
       "      <td>home</td>\n",
       "      <td>Lambeau Field</td>\n",
       "      <td>outdoors</td>\n",
       "      <td>grass</td>\n",
       "      <td>27.285714</td>\n",
       "      <td>...</td>\n",
       "      <td>0.087</td>\n",
       "      <td>55.571429</td>\n",
       "      <td>14.457143</td>\n",
       "      <td>4.142857</td>\n",
       "      <td>16.571429</td>\n",
       "      <td>19.371429</td>\n",
       "      <td>-1.085714</td>\n",
       "      <td>-0.030</td>\n",
       "      <td>0.360</td>\n",
       "      <td>35</td>\n",
       "    </tr>\n",
       "    <tr>\n",
       "      <th>131</th>\n",
       "      <td>201711260phi</td>\n",
       "      <td>2017-11-26</td>\n",
       "      <td>2017</td>\n",
       "      <td>12</td>\n",
       "      <td>Philadelphia Eagles</td>\n",
       "      <td>home</td>\n",
       "      <td>Lincoln Financial Field</td>\n",
       "      <td>outdoors</td>\n",
       "      <td>grass</td>\n",
       "      <td>34.714286</td>\n",
       "      <td>...</td>\n",
       "      <td>-0.029</td>\n",
       "      <td>56.428571</td>\n",
       "      <td>-1.042857</td>\n",
       "      <td>7.542857</td>\n",
       "      <td>6.200000</td>\n",
       "      <td>4.114286</td>\n",
       "      <td>-15.957143</td>\n",
       "      <td>0.189</td>\n",
       "      <td>0.479</td>\n",
       "      <td>31</td>\n",
       "    </tr>\n",
       "    <tr>\n",
       "      <th>146</th>\n",
       "      <td>201810210kan</td>\n",
       "      <td>2018-10-21</td>\n",
       "      <td>2018</td>\n",
       "      <td>7</td>\n",
       "      <td>Kansas City Chiefs</td>\n",
       "      <td>home</td>\n",
       "      <td>Arrowhead Stadium</td>\n",
       "      <td>outdoors</td>\n",
       "      <td>grass</td>\n",
       "      <td>33.714286</td>\n",
       "      <td>...</td>\n",
       "      <td>0.057</td>\n",
       "      <td>60.142857</td>\n",
       "      <td>3.785714</td>\n",
       "      <td>-1.714286</td>\n",
       "      <td>7.200000</td>\n",
       "      <td>9.757143</td>\n",
       "      <td>-1.771429</td>\n",
       "      <td>0.261</td>\n",
       "      <td>0.278</td>\n",
       "      <td>45</td>\n",
       "    </tr>\n",
       "    <tr>\n",
       "      <th>151</th>\n",
       "      <td>201812230cle</td>\n",
       "      <td>2018-12-23</td>\n",
       "      <td>2018</td>\n",
       "      <td>16</td>\n",
       "      <td>Cleveland Browns</td>\n",
       "      <td>home</td>\n",
       "      <td>FirstEnergy Stadium</td>\n",
       "      <td>outdoors</td>\n",
       "      <td>grass</td>\n",
       "      <td>22.571429</td>\n",
       "      <td>...</td>\n",
       "      <td>0.078</td>\n",
       "      <td>52.571429</td>\n",
       "      <td>4.485714</td>\n",
       "      <td>3.371429</td>\n",
       "      <td>12.314286</td>\n",
       "      <td>6.942857</td>\n",
       "      <td>-5.942857</td>\n",
       "      <td>-0.148</td>\n",
       "      <td>0.013</td>\n",
       "      <td>26</td>\n",
       "    </tr>\n",
       "    <tr>\n",
       "      <th>154</th>\n",
       "      <td>201812300pit</td>\n",
       "      <td>2018-12-30</td>\n",
       "      <td>2018</td>\n",
       "      <td>17</td>\n",
       "      <td>Pittsburgh Steelers</td>\n",
       "      <td>home</td>\n",
       "      <td>Heinz Field</td>\n",
       "      <td>outdoors</td>\n",
       "      <td>grass</td>\n",
       "      <td>26.428571</td>\n",
       "      <td>...</td>\n",
       "      <td>0.107</td>\n",
       "      <td>55.285714</td>\n",
       "      <td>9.200000</td>\n",
       "      <td>10.842857</td>\n",
       "      <td>17.685714</td>\n",
       "      <td>15.942857</td>\n",
       "      <td>-5.871429</td>\n",
       "      <td>0.050</td>\n",
       "      <td>0.203</td>\n",
       "      <td>16</td>\n",
       "    </tr>\n",
       "    <tr>\n",
       "      <th>160</th>\n",
       "      <td>201811180rav</td>\n",
       "      <td>2018-11-18</td>\n",
       "      <td>2018</td>\n",
       "      <td>11</td>\n",
       "      <td>Baltimore Ravens</td>\n",
       "      <td>home</td>\n",
       "      <td>M&amp;T; Bank Stadium</td>\n",
       "      <td>outdoors</td>\n",
       "      <td>grass</td>\n",
       "      <td>20.428571</td>\n",
       "      <td>...</td>\n",
       "      <td>0.065</td>\n",
       "      <td>55.000000</td>\n",
       "      <td>4.942857</td>\n",
       "      <td>2.085714</td>\n",
       "      <td>10.900000</td>\n",
       "      <td>6.528571</td>\n",
       "      <td>-0.571429</td>\n",
       "      <td>-0.019</td>\n",
       "      <td>0.216</td>\n",
       "      <td>24</td>\n",
       "    </tr>\n",
       "    <tr>\n",
       "      <th>168</th>\n",
       "      <td>201812090sdg</td>\n",
       "      <td>2018-12-09</td>\n",
       "      <td>2018</td>\n",
       "      <td>14</td>\n",
       "      <td>Los Angeles Chargers</td>\n",
       "      <td>home</td>\n",
       "      <td>StubHub Center</td>\n",
       "      <td>outdoors</td>\n",
       "      <td>grass</td>\n",
       "      <td>29.000000</td>\n",
       "      <td>...</td>\n",
       "      <td>0.107</td>\n",
       "      <td>63.428571</td>\n",
       "      <td>18.442857</td>\n",
       "      <td>14.385714</td>\n",
       "      <td>21.585714</td>\n",
       "      <td>7.728571</td>\n",
       "      <td>7.000000</td>\n",
       "      <td>0.170</td>\n",
       "      <td>0.391</td>\n",
       "      <td>26</td>\n",
       "    </tr>\n",
       "    <tr>\n",
       "      <th>173</th>\n",
       "      <td>201701010pit</td>\n",
       "      <td>2017-01-01</td>\n",
       "      <td>2016</td>\n",
       "      <td>17</td>\n",
       "      <td>Pittsburgh Steelers</td>\n",
       "      <td>home</td>\n",
       "      <td>Heinz Field</td>\n",
       "      <td>outdoors</td>\n",
       "      <td>grass</td>\n",
       "      <td>26.857143</td>\n",
       "      <td>...</td>\n",
       "      <td>0.167</td>\n",
       "      <td>53.571429</td>\n",
       "      <td>15.185714</td>\n",
       "      <td>14.214286</td>\n",
       "      <td>10.185714</td>\n",
       "      <td>27.700000</td>\n",
       "      <td>0.685714</td>\n",
       "      <td>-0.030</td>\n",
       "      <td>0.542</td>\n",
       "      <td>27</td>\n",
       "    </tr>\n",
       "    <tr>\n",
       "      <th>174</th>\n",
       "      <td>201712310pit</td>\n",
       "      <td>2017-12-31</td>\n",
       "      <td>2017</td>\n",
       "      <td>17</td>\n",
       "      <td>Pittsburgh Steelers</td>\n",
       "      <td>home</td>\n",
       "      <td>Heinz Field</td>\n",
       "      <td>outdoors</td>\n",
       "      <td>grass</td>\n",
       "      <td>30.142857</td>\n",
       "      <td>...</td>\n",
       "      <td>0.030</td>\n",
       "      <td>55.857143</td>\n",
       "      <td>10.685714</td>\n",
       "      <td>9.514286</td>\n",
       "      <td>16.442857</td>\n",
       "      <td>16.600000</td>\n",
       "      <td>-5.171429</td>\n",
       "      <td>0.164</td>\n",
       "      <td>0.579</td>\n",
       "      <td>28</td>\n",
       "    </tr>\n",
       "    <tr>\n",
       "      <th>175</th>\n",
       "      <td>201810280pit</td>\n",
       "      <td>2018-10-28</td>\n",
       "      <td>2018</td>\n",
       "      <td>8</td>\n",
       "      <td>Pittsburgh Steelers</td>\n",
       "      <td>home</td>\n",
       "      <td>Heinz Field</td>\n",
       "      <td>outdoors</td>\n",
       "      <td>grass</td>\n",
       "      <td>30.428571</td>\n",
       "      <td>...</td>\n",
       "      <td>-0.145</td>\n",
       "      <td>55.714286</td>\n",
       "      <td>5.928571</td>\n",
       "      <td>4.457143</td>\n",
       "      <td>-4.942857</td>\n",
       "      <td>14.714286</td>\n",
       "      <td>6.071429</td>\n",
       "      <td>0.260</td>\n",
       "      <td>0.230</td>\n",
       "      <td>33</td>\n",
       "    </tr>\n",
       "    <tr>\n",
       "      <th>...</th>\n",
       "      <td>...</td>\n",
       "      <td>...</td>\n",
       "      <td>...</td>\n",
       "      <td>...</td>\n",
       "      <td>...</td>\n",
       "      <td>...</td>\n",
       "      <td>...</td>\n",
       "      <td>...</td>\n",
       "      <td>...</td>\n",
       "      <td>...</td>\n",
       "      <td>...</td>\n",
       "      <td>...</td>\n",
       "      <td>...</td>\n",
       "      <td>...</td>\n",
       "      <td>...</td>\n",
       "      <td>...</td>\n",
       "      <td>...</td>\n",
       "      <td>...</td>\n",
       "      <td>...</td>\n",
       "      <td>...</td>\n",
       "      <td>...</td>\n",
       "    </tr>\n",
       "    <tr>\n",
       "      <th>2970</th>\n",
       "      <td>201212020den</td>\n",
       "      <td>2012-12-02</td>\n",
       "      <td>2012</td>\n",
       "      <td>13</td>\n",
       "      <td>Denver Broncos</td>\n",
       "      <td>home</td>\n",
       "      <td>Sports Authority Field at Mile High</td>\n",
       "      <td>outdoors</td>\n",
       "      <td>grass</td>\n",
       "      <td>29.142857</td>\n",
       "      <td>...</td>\n",
       "      <td>0.010</td>\n",
       "      <td>52.428571</td>\n",
       "      <td>11.571429</td>\n",
       "      <td>6.942857</td>\n",
       "      <td>18.685714</td>\n",
       "      <td>12.514286</td>\n",
       "      <td>-8.814286</td>\n",
       "      <td>0.167</td>\n",
       "      <td>0.321</td>\n",
       "      <td>31</td>\n",
       "    </tr>\n",
       "    <tr>\n",
       "      <th>2994</th>\n",
       "      <td>201512200nwe</td>\n",
       "      <td>2015-12-20</td>\n",
       "      <td>2015</td>\n",
       "      <td>15</td>\n",
       "      <td>New England Patriots</td>\n",
       "      <td>home</td>\n",
       "      <td>Gillette Stadium</td>\n",
       "      <td>outdoors</td>\n",
       "      <td>turf</td>\n",
       "      <td>27.000000</td>\n",
       "      <td>...</td>\n",
       "      <td>0.054</td>\n",
       "      <td>53.714286</td>\n",
       "      <td>9.928571</td>\n",
       "      <td>11.000000</td>\n",
       "      <td>17.371429</td>\n",
       "      <td>-5.171429</td>\n",
       "      <td>-8.557143</td>\n",
       "      <td>0.140</td>\n",
       "      <td>0.508</td>\n",
       "      <td>33</td>\n",
       "    </tr>\n",
       "    <tr>\n",
       "      <th>3004</th>\n",
       "      <td>201411230phi</td>\n",
       "      <td>2014-11-23</td>\n",
       "      <td>2014</td>\n",
       "      <td>12</td>\n",
       "      <td>Philadelphia Eagles</td>\n",
       "      <td>home</td>\n",
       "      <td>Lincoln Financial Field</td>\n",
       "      <td>outdoors</td>\n",
       "      <td>grass</td>\n",
       "      <td>28.285714</td>\n",
       "      <td>...</td>\n",
       "      <td>0.090</td>\n",
       "      <td>54.142857</td>\n",
       "      <td>13.814286</td>\n",
       "      <td>11.200000</td>\n",
       "      <td>6.742857</td>\n",
       "      <td>12.100000</td>\n",
       "      <td>-3.571429</td>\n",
       "      <td>-0.124</td>\n",
       "      <td>0.256</td>\n",
       "      <td>43</td>\n",
       "    </tr>\n",
       "    <tr>\n",
       "      <th>3009</th>\n",
       "      <td>200912060clt</td>\n",
       "      <td>2009-12-06</td>\n",
       "      <td>2009</td>\n",
       "      <td>13</td>\n",
       "      <td>Indianapolis Colts</td>\n",
       "      <td>home</td>\n",
       "      <td>Lucas Oil Stadium</td>\n",
       "      <td>dome</td>\n",
       "      <td>turf</td>\n",
       "      <td>28.285714</td>\n",
       "      <td>...</td>\n",
       "      <td>0.143</td>\n",
       "      <td>54.142857</td>\n",
       "      <td>16.000000</td>\n",
       "      <td>3.942857</td>\n",
       "      <td>12.400000</td>\n",
       "      <td>4.142857</td>\n",
       "      <td>11.214286</td>\n",
       "      <td>0.125</td>\n",
       "      <td>0.423</td>\n",
       "      <td>27</td>\n",
       "    </tr>\n",
       "    <tr>\n",
       "      <th>3012</th>\n",
       "      <td>201409280clt</td>\n",
       "      <td>2014-09-28</td>\n",
       "      <td>2014</td>\n",
       "      <td>4</td>\n",
       "      <td>Indianapolis Colts</td>\n",
       "      <td>home</td>\n",
       "      <td>Lucas Oil Stadium</td>\n",
       "      <td>dome</td>\n",
       "      <td>turf</td>\n",
       "      <td>30.714286</td>\n",
       "      <td>...</td>\n",
       "      <td>-0.004</td>\n",
       "      <td>56.857143</td>\n",
       "      <td>7.600000</td>\n",
       "      <td>2.771429</td>\n",
       "      <td>5.671429</td>\n",
       "      <td>20.500000</td>\n",
       "      <td>-5.600000</td>\n",
       "      <td>0.017</td>\n",
       "      <td>0.150</td>\n",
       "      <td>41</td>\n",
       "    </tr>\n",
       "    <tr>\n",
       "      <th>3013</th>\n",
       "      <td>201411090rav</td>\n",
       "      <td>2014-11-09</td>\n",
       "      <td>2014</td>\n",
       "      <td>10</td>\n",
       "      <td>Baltimore Ravens</td>\n",
       "      <td>home</td>\n",
       "      <td>M&amp;T; Bank Stadium</td>\n",
       "      <td>outdoors</td>\n",
       "      <td>turf</td>\n",
       "      <td>28.285714</td>\n",
       "      <td>...</td>\n",
       "      <td>0.067</td>\n",
       "      <td>55.714286</td>\n",
       "      <td>15.914286</td>\n",
       "      <td>13.442857</td>\n",
       "      <td>9.200000</td>\n",
       "      <td>17.700000</td>\n",
       "      <td>-3.100000</td>\n",
       "      <td>0.021</td>\n",
       "      <td>0.358</td>\n",
       "      <td>21</td>\n",
       "    </tr>\n",
       "    <tr>\n",
       "      <th>3015</th>\n",
       "      <td>201210070min</td>\n",
       "      <td>2012-10-07</td>\n",
       "      <td>2012</td>\n",
       "      <td>5</td>\n",
       "      <td>Minnesota Vikings</td>\n",
       "      <td>home</td>\n",
       "      <td>Mall of America Field</td>\n",
       "      <td>dome</td>\n",
       "      <td>turf</td>\n",
       "      <td>22.285714</td>\n",
       "      <td>...</td>\n",
       "      <td>0.224</td>\n",
       "      <td>53.285714</td>\n",
       "      <td>7.800000</td>\n",
       "      <td>5.985714</td>\n",
       "      <td>6.528571</td>\n",
       "      <td>9.657143</td>\n",
       "      <td>-2.142857</td>\n",
       "      <td>-0.189</td>\n",
       "      <td>0.518</td>\n",
       "      <td>30</td>\n",
       "    </tr>\n",
       "    <tr>\n",
       "      <th>3024</th>\n",
       "      <td>201409210cin</td>\n",
       "      <td>2014-09-21</td>\n",
       "      <td>2014</td>\n",
       "      <td>3</td>\n",
       "      <td>Cincinnati Bengals</td>\n",
       "      <td>home</td>\n",
       "      <td>Paul Brown Stadium</td>\n",
       "      <td>outdoors</td>\n",
       "      <td>turf</td>\n",
       "      <td>27.857143</td>\n",
       "      <td>...</td>\n",
       "      <td>-0.110</td>\n",
       "      <td>52.428571</td>\n",
       "      <td>7.885714</td>\n",
       "      <td>3.114286</td>\n",
       "      <td>11.900000</td>\n",
       "      <td>17.971429</td>\n",
       "      <td>-12.057143</td>\n",
       "      <td>0.336</td>\n",
       "      <td>0.276</td>\n",
       "      <td>33</td>\n",
       "    </tr>\n",
       "    <tr>\n",
       "      <th>3030</th>\n",
       "      <td>201210210buf</td>\n",
       "      <td>2012-10-21</td>\n",
       "      <td>2012</td>\n",
       "      <td>7</td>\n",
       "      <td>Buffalo Bills</td>\n",
       "      <td>home</td>\n",
       "      <td>Ralph Wilson Stadium</td>\n",
       "      <td>outdoors</td>\n",
       "      <td>turf</td>\n",
       "      <td>22.571429</td>\n",
       "      <td>...</td>\n",
       "      <td>0.186</td>\n",
       "      <td>54.857143</td>\n",
       "      <td>1.700000</td>\n",
       "      <td>1.114286</td>\n",
       "      <td>-3.185714</td>\n",
       "      <td>14.814286</td>\n",
       "      <td>-3.400000</td>\n",
       "      <td>-0.239</td>\n",
       "      <td>0.192</td>\n",
       "      <td>34</td>\n",
       "    </tr>\n",
       "    <tr>\n",
       "      <th>3036</th>\n",
       "      <td>201209300htx</td>\n",
       "      <td>2012-09-30</td>\n",
       "      <td>2012</td>\n",
       "      <td>4</td>\n",
       "      <td>Houston Texans</td>\n",
       "      <td>home</td>\n",
       "      <td>Reliant Stadium</td>\n",
       "      <td>dome</td>\n",
       "      <td>grass</td>\n",
       "      <td>24.285714</td>\n",
       "      <td>...</td>\n",
       "      <td>0.274</td>\n",
       "      <td>53.000000</td>\n",
       "      <td>12.114286</td>\n",
       "      <td>7.800000</td>\n",
       "      <td>11.585714</td>\n",
       "      <td>9.942857</td>\n",
       "      <td>-0.528571</td>\n",
       "      <td>-0.102</td>\n",
       "      <td>0.661</td>\n",
       "      <td>38</td>\n",
       "    </tr>\n",
       "    <tr>\n",
       "      <th>3037</th>\n",
       "      <td>200911230htx</td>\n",
       "      <td>2009-11-23</td>\n",
       "      <td>2009</td>\n",
       "      <td>11</td>\n",
       "      <td>Houston Texans</td>\n",
       "      <td>home</td>\n",
       "      <td>Reliant Stadium</td>\n",
       "      <td>dome</td>\n",
       "      <td>grass</td>\n",
       "      <td>24.857143</td>\n",
       "      <td>...</td>\n",
       "      <td>0.123</td>\n",
       "      <td>54.571429</td>\n",
       "      <td>15.142857</td>\n",
       "      <td>7.285714</td>\n",
       "      <td>7.685714</td>\n",
       "      <td>4.800000</td>\n",
       "      <td>3.100000</td>\n",
       "      <td>0.032</td>\n",
       "      <td>0.219</td>\n",
       "      <td>17</td>\n",
       "    </tr>\n",
       "    <tr>\n",
       "      <th>3042</th>\n",
       "      <td>201312080den</td>\n",
       "      <td>2013-12-08</td>\n",
       "      <td>2013</td>\n",
       "      <td>14</td>\n",
       "      <td>Denver Broncos</td>\n",
       "      <td>home</td>\n",
       "      <td>Sports Authority Field at Mile High</td>\n",
       "      <td>outdoors</td>\n",
       "      <td>grass</td>\n",
       "      <td>33.428571</td>\n",
       "      <td>...</td>\n",
       "      <td>-0.009</td>\n",
       "      <td>58.000000</td>\n",
       "      <td>4.971429</td>\n",
       "      <td>3.800000</td>\n",
       "      <td>5.471429</td>\n",
       "      <td>7.928571</td>\n",
       "      <td>-11.028571</td>\n",
       "      <td>0.335</td>\n",
       "      <td>0.398</td>\n",
       "      <td>51</td>\n",
       "    </tr>\n",
       "    <tr>\n",
       "      <th>3043</th>\n",
       "      <td>201211110mia</td>\n",
       "      <td>2012-11-11</td>\n",
       "      <td>2012</td>\n",
       "      <td>10</td>\n",
       "      <td>Miami Dolphins</td>\n",
       "      <td>home</td>\n",
       "      <td>Sun Life Stadium</td>\n",
       "      <td>outdoors</td>\n",
       "      <td>grass</td>\n",
       "      <td>22.857143</td>\n",
       "      <td>...</td>\n",
       "      <td>0.182</td>\n",
       "      <td>56.571429</td>\n",
       "      <td>6.014286</td>\n",
       "      <td>6.142857</td>\n",
       "      <td>14.228571</td>\n",
       "      <td>1.857143</td>\n",
       "      <td>-3.400000</td>\n",
       "      <td>-0.258</td>\n",
       "      <td>0.425</td>\n",
       "      <td>3</td>\n",
       "    </tr>\n",
       "    <tr>\n",
       "      <th>3045</th>\n",
       "      <td>201410270dal</td>\n",
       "      <td>2014-10-27</td>\n",
       "      <td>2014</td>\n",
       "      <td>8</td>\n",
       "      <td>Dallas Cowboys</td>\n",
       "      <td>home</td>\n",
       "      <td>AT&amp;T; Stadium</td>\n",
       "      <td>dome</td>\n",
       "      <td>turf</td>\n",
       "      <td>28.000000</td>\n",
       "      <td>...</td>\n",
       "      <td>0.003</td>\n",
       "      <td>54.142857</td>\n",
       "      <td>22.814286</td>\n",
       "      <td>14.685714</td>\n",
       "      <td>25.785714</td>\n",
       "      <td>15.300000</td>\n",
       "      <td>5.071429</td>\n",
       "      <td>0.162</td>\n",
       "      <td>0.240</td>\n",
       "      <td>17</td>\n",
       "    </tr>\n",
       "    <tr>\n",
       "      <th>3046</th>\n",
       "      <td>201310130dal</td>\n",
       "      <td>2013-10-13</td>\n",
       "      <td>2013</td>\n",
       "      <td>6</td>\n",
       "      <td>Dallas Cowboys</td>\n",
       "      <td>home</td>\n",
       "      <td>AT&amp;T; Stadium</td>\n",
       "      <td>dome</td>\n",
       "      <td>turf</td>\n",
       "      <td>28.714286</td>\n",
       "      <td>...</td>\n",
       "      <td>0.143</td>\n",
       "      <td>53.571429</td>\n",
       "      <td>20.985714</td>\n",
       "      <td>5.914286</td>\n",
       "      <td>17.742857</td>\n",
       "      <td>14.914286</td>\n",
       "      <td>6.457143</td>\n",
       "      <td>0.010</td>\n",
       "      <td>0.253</td>\n",
       "      <td>31</td>\n",
       "    </tr>\n",
       "    <tr>\n",
       "      <th>3047</th>\n",
       "      <td>201511220car</td>\n",
       "      <td>2015-11-22</td>\n",
       "      <td>2015</td>\n",
       "      <td>11</td>\n",
       "      <td>Carolina Panthers</td>\n",
       "      <td>home</td>\n",
       "      <td>Bank of America Stadium</td>\n",
       "      <td>outdoors</td>\n",
       "      <td>grass</td>\n",
       "      <td>30.142857</td>\n",
       "      <td>...</td>\n",
       "      <td>0.037</td>\n",
       "      <td>56.142857</td>\n",
       "      <td>16.971429</td>\n",
       "      <td>11.128571</td>\n",
       "      <td>14.357143</td>\n",
       "      <td>14.100000</td>\n",
       "      <td>6.885714</td>\n",
       "      <td>0.042</td>\n",
       "      <td>0.238</td>\n",
       "      <td>44</td>\n",
       "    </tr>\n",
       "    <tr>\n",
       "      <th>3056</th>\n",
       "      <td>201012190dal</td>\n",
       "      <td>2010-12-19</td>\n",
       "      <td>2010</td>\n",
       "      <td>15</td>\n",
       "      <td>Dallas Cowboys</td>\n",
       "      <td>home</td>\n",
       "      <td>Cowboys Stadium</td>\n",
       "      <td>dome</td>\n",
       "      <td>turf</td>\n",
       "      <td>26.285714</td>\n",
       "      <td>...</td>\n",
       "      <td>0.121</td>\n",
       "      <td>53.571429</td>\n",
       "      <td>7.771429</td>\n",
       "      <td>5.242857</td>\n",
       "      <td>3.257143</td>\n",
       "      <td>10.542857</td>\n",
       "      <td>-5.100000</td>\n",
       "      <td>-0.123</td>\n",
       "      <td>0.052</td>\n",
       "      <td>33</td>\n",
       "    </tr>\n",
       "    <tr>\n",
       "      <th>3060</th>\n",
       "      <td>201012260jax</td>\n",
       "      <td>2010-12-26</td>\n",
       "      <td>2010</td>\n",
       "      <td>16</td>\n",
       "      <td>Jacksonville Jaguars</td>\n",
       "      <td>home</td>\n",
       "      <td>EverBank Field</td>\n",
       "      <td>outdoors</td>\n",
       "      <td>grass</td>\n",
       "      <td>27.000000</td>\n",
       "      <td>...</td>\n",
       "      <td>0.129</td>\n",
       "      <td>57.000000</td>\n",
       "      <td>19.714286</td>\n",
       "      <td>9.028571</td>\n",
       "      <td>14.357143</td>\n",
       "      <td>-4.614286</td>\n",
       "      <td>6.285714</td>\n",
       "      <td>-0.019</td>\n",
       "      <td>0.159</td>\n",
       "      <td>17</td>\n",
       "    </tr>\n",
       "    <tr>\n",
       "      <th>3071</th>\n",
       "      <td>201511080nwe</td>\n",
       "      <td>2015-11-08</td>\n",
       "      <td>2015</td>\n",
       "      <td>9</td>\n",
       "      <td>New England Patriots</td>\n",
       "      <td>home</td>\n",
       "      <td>Gillette Stadium</td>\n",
       "      <td>outdoors</td>\n",
       "      <td>turf</td>\n",
       "      <td>35.571429</td>\n",
       "      <td>...</td>\n",
       "      <td>0.063</td>\n",
       "      <td>59.571429</td>\n",
       "      <td>18.057143</td>\n",
       "      <td>13.985714</td>\n",
       "      <td>26.785714</td>\n",
       "      <td>-1.428571</td>\n",
       "      <td>5.157143</td>\n",
       "      <td>0.232</td>\n",
       "      <td>0.461</td>\n",
       "      <td>27</td>\n",
       "    </tr>\n",
       "    <tr>\n",
       "      <th>3072</th>\n",
       "      <td>200710280nwe</td>\n",
       "      <td>2007-10-28</td>\n",
       "      <td>2007</td>\n",
       "      <td>8</td>\n",
       "      <td>New England Patriots</td>\n",
       "      <td>home</td>\n",
       "      <td>Gillette Stadium</td>\n",
       "      <td>outdoors</td>\n",
       "      <td>turf</td>\n",
       "      <td>39.857143</td>\n",
       "      <td>...</td>\n",
       "      <td>-0.243</td>\n",
       "      <td>57.285714</td>\n",
       "      <td>14.900000</td>\n",
       "      <td>11.485714</td>\n",
       "      <td>14.314286</td>\n",
       "      <td>10.328571</td>\n",
       "      <td>4.200000</td>\n",
       "      <td>0.677</td>\n",
       "      <td>0.495</td>\n",
       "      <td>52</td>\n",
       "    </tr>\n",
       "    <tr>\n",
       "      <th>3082</th>\n",
       "      <td>201311170phi</td>\n",
       "      <td>2013-11-17</td>\n",
       "      <td>2013</td>\n",
       "      <td>11</td>\n",
       "      <td>Philadelphia Eagles</td>\n",
       "      <td>home</td>\n",
       "      <td>Lincoln Financial Field</td>\n",
       "      <td>outdoors</td>\n",
       "      <td>grass</td>\n",
       "      <td>24.714286</td>\n",
       "      <td>...</td>\n",
       "      <td>0.081</td>\n",
       "      <td>55.571429</td>\n",
       "      <td>14.671429</td>\n",
       "      <td>0.385714</td>\n",
       "      <td>7.514286</td>\n",
       "      <td>11.600000</td>\n",
       "      <td>6.042857</td>\n",
       "      <td>0.086</td>\n",
       "      <td>0.250</td>\n",
       "      <td>24</td>\n",
       "    </tr>\n",
       "    <tr>\n",
       "      <th>3086</th>\n",
       "      <td>201409210phi</td>\n",
       "      <td>2014-09-21</td>\n",
       "      <td>2014</td>\n",
       "      <td>3</td>\n",
       "      <td>Philadelphia Eagles</td>\n",
       "      <td>home</td>\n",
       "      <td>Lincoln Financial Field</td>\n",
       "      <td>outdoors</td>\n",
       "      <td>grass</td>\n",
       "      <td>32.857143</td>\n",
       "      <td>...</td>\n",
       "      <td>-0.378</td>\n",
       "      <td>56.714286</td>\n",
       "      <td>12.214286</td>\n",
       "      <td>7.971429</td>\n",
       "      <td>3.442857</td>\n",
       "      <td>19.442857</td>\n",
       "      <td>1.900000</td>\n",
       "      <td>0.396</td>\n",
       "      <td>-0.237</td>\n",
       "      <td>37</td>\n",
       "    </tr>\n",
       "    <tr>\n",
       "      <th>3087</th>\n",
       "      <td>201011210oti</td>\n",
       "      <td>2010-11-21</td>\n",
       "      <td>2010</td>\n",
       "      <td>11</td>\n",
       "      <td>Tennessee Titans</td>\n",
       "      <td>home</td>\n",
       "      <td>LP Field</td>\n",
       "      <td>outdoors</td>\n",
       "      <td>grass</td>\n",
       "      <td>27.428571</td>\n",
       "      <td>...</td>\n",
       "      <td>0.096</td>\n",
       "      <td>54.857143</td>\n",
       "      <td>5.228571</td>\n",
       "      <td>5.828571</td>\n",
       "      <td>5.028571</td>\n",
       "      <td>7.100000</td>\n",
       "      <td>4.385714</td>\n",
       "      <td>-0.025</td>\n",
       "      <td>0.405</td>\n",
       "      <td>16</td>\n",
       "    </tr>\n",
       "    <tr>\n",
       "      <th>3090</th>\n",
       "      <td>201311070min</td>\n",
       "      <td>2013-11-07</td>\n",
       "      <td>2013</td>\n",
       "      <td>10</td>\n",
       "      <td>Minnesota Vikings</td>\n",
       "      <td>home</td>\n",
       "      <td>Mall of America Field</td>\n",
       "      <td>dome</td>\n",
       "      <td>turf</td>\n",
       "      <td>23.142857</td>\n",
       "      <td>...</td>\n",
       "      <td>0.047</td>\n",
       "      <td>54.571429</td>\n",
       "      <td>11.671429</td>\n",
       "      <td>-2.828571</td>\n",
       "      <td>-2.714286</td>\n",
       "      <td>16.771429</td>\n",
       "      <td>6.528571</td>\n",
       "      <td>-0.146</td>\n",
       "      <td>0.067</td>\n",
       "      <td>34</td>\n",
       "    </tr>\n",
       "    <tr>\n",
       "      <th>3095</th>\n",
       "      <td>201210210nyg</td>\n",
       "      <td>2012-10-21</td>\n",
       "      <td>2012</td>\n",
       "      <td>7</td>\n",
       "      <td>New York Giants</td>\n",
       "      <td>home</td>\n",
       "      <td>MetLife Stadium</td>\n",
       "      <td>outdoors</td>\n",
       "      <td>turf</td>\n",
       "      <td>28.428571</td>\n",
       "      <td>...</td>\n",
       "      <td>0.053</td>\n",
       "      <td>58.000000</td>\n",
       "      <td>12.385714</td>\n",
       "      <td>3.228571</td>\n",
       "      <td>12.628571</td>\n",
       "      <td>6.442857</td>\n",
       "      <td>-1.471429</td>\n",
       "      <td>0.248</td>\n",
       "      <td>0.339</td>\n",
       "      <td>27</td>\n",
       "    </tr>\n",
       "    <tr>\n",
       "      <th>3096</th>\n",
       "      <td>201509240nyg</td>\n",
       "      <td>2015-09-24</td>\n",
       "      <td>2015</td>\n",
       "      <td>3</td>\n",
       "      <td>New York Giants</td>\n",
       "      <td>home</td>\n",
       "      <td>MetLife Stadium</td>\n",
       "      <td>outdoors</td>\n",
       "      <td>turf</td>\n",
       "      <td>27.571429</td>\n",
       "      <td>...</td>\n",
       "      <td>-0.147</td>\n",
       "      <td>55.000000</td>\n",
       "      <td>16.814286</td>\n",
       "      <td>7.857143</td>\n",
       "      <td>13.385714</td>\n",
       "      <td>8.657143</td>\n",
       "      <td>2.228571</td>\n",
       "      <td>0.115</td>\n",
       "      <td>-0.095</td>\n",
       "      <td>32</td>\n",
       "    </tr>\n",
       "    <tr>\n",
       "      <th>3098</th>\n",
       "      <td>201012050nyg</td>\n",
       "      <td>2010-12-05</td>\n",
       "      <td>2010</td>\n",
       "      <td>13</td>\n",
       "      <td>New York Giants</td>\n",
       "      <td>home</td>\n",
       "      <td>New Meadowlands Stadium</td>\n",
       "      <td>outdoors</td>\n",
       "      <td>turf</td>\n",
       "      <td>29.285714</td>\n",
       "      <td>...</td>\n",
       "      <td>0.109</td>\n",
       "      <td>55.428571</td>\n",
       "      <td>12.442857</td>\n",
       "      <td>12.685714</td>\n",
       "      <td>13.671429</td>\n",
       "      <td>8.571429</td>\n",
       "      <td>2.285714</td>\n",
       "      <td>0.013</td>\n",
       "      <td>0.349</td>\n",
       "      <td>31</td>\n",
       "    </tr>\n",
       "    <tr>\n",
       "      <th>3103</th>\n",
       "      <td>201001030sdg</td>\n",
       "      <td>2010-01-03</td>\n",
       "      <td>2009</td>\n",
       "      <td>17</td>\n",
       "      <td>Los Angeles Chargers</td>\n",
       "      <td>home</td>\n",
       "      <td>Qualcomm Stadium</td>\n",
       "      <td>outdoors</td>\n",
       "      <td>grass</td>\n",
       "      <td>32.142857</td>\n",
       "      <td>...</td>\n",
       "      <td>0.010</td>\n",
       "      <td>54.857143</td>\n",
       "      <td>18.257143</td>\n",
       "      <td>7.857143</td>\n",
       "      <td>22.642857</td>\n",
       "      <td>3.514286</td>\n",
       "      <td>-2.300000</td>\n",
       "      <td>0.241</td>\n",
       "      <td>0.229</td>\n",
       "      <td>23</td>\n",
       "    </tr>\n",
       "    <tr>\n",
       "      <th>3110</th>\n",
       "      <td>201310270den</td>\n",
       "      <td>2013-10-27</td>\n",
       "      <td>2013</td>\n",
       "      <td>8</td>\n",
       "      <td>Denver Broncos</td>\n",
       "      <td>home</td>\n",
       "      <td>Sports Authority Field at Mile High</td>\n",
       "      <td>outdoors</td>\n",
       "      <td>grass</td>\n",
       "      <td>42.571429</td>\n",
       "      <td>...</td>\n",
       "      <td>0.120</td>\n",
       "      <td>72.285714</td>\n",
       "      <td>24.214286</td>\n",
       "      <td>12.900000</td>\n",
       "      <td>29.271429</td>\n",
       "      <td>11.914286</td>\n",
       "      <td>4.228571</td>\n",
       "      <td>0.299</td>\n",
       "      <td>0.625</td>\n",
       "      <td>45</td>\n",
       "    </tr>\n",
       "    <tr>\n",
       "      <th>3113</th>\n",
       "      <td>200711180dal</td>\n",
       "      <td>2007-11-18</td>\n",
       "      <td>2007</td>\n",
       "      <td>11</td>\n",
       "      <td>Dallas Cowboys</td>\n",
       "      <td>home</td>\n",
       "      <td>Texas Stadium</td>\n",
       "      <td>outdoors</td>\n",
       "      <td>turf</td>\n",
       "      <td>30.571429</td>\n",
       "      <td>...</td>\n",
       "      <td>-0.074</td>\n",
       "      <td>54.571429</td>\n",
       "      <td>12.800000</td>\n",
       "      <td>9.700000</td>\n",
       "      <td>9.171429</td>\n",
       "      <td>6.714286</td>\n",
       "      <td>6.600000</td>\n",
       "      <td>0.357</td>\n",
       "      <td>0.383</td>\n",
       "      <td>28</td>\n",
       "    </tr>\n",
       "  </tbody>\n",
       "</table>\n",
       "<p>392 rows × 41 columns</p>\n",
       "</div>"
      ],
      "text/plain": [
       "            gameId       date  season  week                team_x homeAway  \\\n",
       "0     201811110kan 2018-11-11    2018    10    Kansas City Chiefs     home   \n",
       "2     201612240sea 2016-12-24    2016    16      Seattle Seahawks     home   \n",
       "3     201812300sea 2018-12-30    2018    17      Seattle Seahawks     home   \n",
       "9     201812020gnb 2018-12-02    2018    13     Green Bay Packers     home   \n",
       "19    201711190htx 2017-11-19    2017    11        Houston Texans     home   \n",
       "32    201710220nwe 2017-10-22    2017     7  New England Patriots     home   \n",
       "33    201810070pit 2018-10-07    2018     5   Pittsburgh Steelers     home   \n",
       "36    201611130phi 2016-11-13    2016    10   Philadelphia Eagles     home   \n",
       "42    201811220nor 2018-11-22    2018    12    New Orleans Saints     home   \n",
       "50    201812090kan 2018-12-09    2018    14    Kansas City Chiefs     home   \n",
       "73    201711260kan 2017-11-26    2017    12    Kansas City Chiefs     home   \n",
       "78    201712240nwe 2017-12-24    2017    16  New England Patriots     home   \n",
       "88    201710010atl 2017-10-01    2017     4       Atlanta Falcons     home   \n",
       "93    201612040rai 2016-12-04    2016    13       Oakland Raiders     home   \n",
       "106   201811080pit 2018-11-08    2018    10   Pittsburgh Steelers     home   \n",
       "111   201712030nor 2017-12-03    2017    13    New Orleans Saints     home   \n",
       "112   201812300nor 2018-12-30    2018    17    New Orleans Saints     home   \n",
       "114   201610160nor 2016-10-16    2016     6    New Orleans Saints     home   \n",
       "116   201611270rai 2016-11-27    2016    12       Oakland Raiders     home   \n",
       "117   201812020tam 2018-12-02    2018    13  Tampa Bay Buccaneers     home   \n",
       "129   201709280gnb 2017-09-28    2017     4     Green Bay Packers     home   \n",
       "131   201711260phi 2017-11-26    2017    12   Philadelphia Eagles     home   \n",
       "146   201810210kan 2018-10-21    2018     7    Kansas City Chiefs     home   \n",
       "151   201812230cle 2018-12-23    2018    16      Cleveland Browns     home   \n",
       "154   201812300pit 2018-12-30    2018    17   Pittsburgh Steelers     home   \n",
       "160   201811180rav 2018-11-18    2018    11      Baltimore Ravens     home   \n",
       "168   201812090sdg 2018-12-09    2018    14  Los Angeles Chargers     home   \n",
       "173   201701010pit 2017-01-01    2016    17   Pittsburgh Steelers     home   \n",
       "174   201712310pit 2017-12-31    2017    17   Pittsburgh Steelers     home   \n",
       "175   201810280pit 2018-10-28    2018     8   Pittsburgh Steelers     home   \n",
       "...            ...        ...     ...   ...                   ...      ...   \n",
       "2970  201212020den 2012-12-02    2012    13        Denver Broncos     home   \n",
       "2994  201512200nwe 2015-12-20    2015    15  New England Patriots     home   \n",
       "3004  201411230phi 2014-11-23    2014    12   Philadelphia Eagles     home   \n",
       "3009  200912060clt 2009-12-06    2009    13    Indianapolis Colts     home   \n",
       "3012  201409280clt 2014-09-28    2014     4    Indianapolis Colts     home   \n",
       "3013  201411090rav 2014-11-09    2014    10      Baltimore Ravens     home   \n",
       "3015  201210070min 2012-10-07    2012     5     Minnesota Vikings     home   \n",
       "3024  201409210cin 2014-09-21    2014     3    Cincinnati Bengals     home   \n",
       "3030  201210210buf 2012-10-21    2012     7         Buffalo Bills     home   \n",
       "3036  201209300htx 2012-09-30    2012     4        Houston Texans     home   \n",
       "3037  200911230htx 2009-11-23    2009    11        Houston Texans     home   \n",
       "3042  201312080den 2013-12-08    2013    14        Denver Broncos     home   \n",
       "3043  201211110mia 2012-11-11    2012    10        Miami Dolphins     home   \n",
       "3045  201410270dal 2014-10-27    2014     8        Dallas Cowboys     home   \n",
       "3046  201310130dal 2013-10-13    2013     6        Dallas Cowboys     home   \n",
       "3047  201511220car 2015-11-22    2015    11     Carolina Panthers     home   \n",
       "3056  201012190dal 2010-12-19    2010    15        Dallas Cowboys     home   \n",
       "3060  201012260jax 2010-12-26    2010    16  Jacksonville Jaguars     home   \n",
       "3071  201511080nwe 2015-11-08    2015     9  New England Patriots     home   \n",
       "3072  200710280nwe 2007-10-28    2007     8  New England Patriots     home   \n",
       "3082  201311170phi 2013-11-17    2013    11   Philadelphia Eagles     home   \n",
       "3086  201409210phi 2014-09-21    2014     3   Philadelphia Eagles     home   \n",
       "3087  201011210oti 2010-11-21    2010    11      Tennessee Titans     home   \n",
       "3090  201311070min 2013-11-07    2013    10     Minnesota Vikings     home   \n",
       "3095  201210210nyg 2012-10-21    2012     7       New York Giants     home   \n",
       "3096  201509240nyg 2015-09-24    2015     3       New York Giants     home   \n",
       "3098  201012050nyg 2010-12-05    2010    13       New York Giants     home   \n",
       "3103  201001030sdg 2010-01-03    2009    17  Los Angeles Chargers     home   \n",
       "3110  201310270den 2013-10-27    2013     8        Denver Broncos     home   \n",
       "3113  200711180dal 2007-11-18    2007    11        Dallas Cowboys     home   \n",
       "\n",
       "                                  stadium      roof surface      avgPf ...  \\\n",
       "0                       Arrowhead Stadium  outdoors   grass  35.285714 ...   \n",
       "2                       CenturyLink Field  outdoors    turf  23.857143 ...   \n",
       "3                       CenturyLink Field  outdoors    turf  30.428571 ...   \n",
       "9                           Lambeau Field  outdoors   grass  24.571429 ...   \n",
       "19                            NRG Stadium      dome    turf  30.857143 ...   \n",
       "32                       Gillette Stadium  outdoors    turf  29.428571 ...   \n",
       "33                            Heinz Field  outdoors   grass  29.428571 ...   \n",
       "36                Lincoln Financial Field  outdoors   grass  24.714286 ...   \n",
       "42                Mercedes-Benz Superdome      dome    turf  39.142857 ...   \n",
       "50                      Arrowhead Stadium  outdoors   grass  38.428571 ...   \n",
       "73                      Arrowhead Stadium  outdoors   grass  24.142857 ...   \n",
       "78                       Gillette Stadium  outdoors    turf  28.571429 ...   \n",
       "88                  Mercedes-Benz Stadium      dome    turf  33.285714 ...   \n",
       "93                       Oakland Coliseum  outdoors   grass  28.428571 ...   \n",
       "106                           Heinz Field  outdoors   grass  29.428571 ...   \n",
       "111               Mercedes-Benz Superdome      dome    turf  32.714286 ...   \n",
       "112               Mercedes-Benz Superdome      dome    turf  30.142857 ...   \n",
       "114               Mercedes-Benz Superdome      dome    turf  28.428571 ...   \n",
       "116                      Oakland Coliseum  outdoors   grass  27.428571 ...   \n",
       "117                 Raymond James Stadium  outdoors   grass  26.000000 ...   \n",
       "129                         Lambeau Field  outdoors   grass  27.285714 ...   \n",
       "131               Lincoln Financial Field  outdoors   grass  34.714286 ...   \n",
       "146                     Arrowhead Stadium  outdoors   grass  33.714286 ...   \n",
       "151                   FirstEnergy Stadium  outdoors   grass  22.571429 ...   \n",
       "154                           Heinz Field  outdoors   grass  26.428571 ...   \n",
       "160                     M&T; Bank Stadium  outdoors   grass  20.428571 ...   \n",
       "168                        StubHub Center  outdoors   grass  29.000000 ...   \n",
       "173                           Heinz Field  outdoors   grass  26.857143 ...   \n",
       "174                           Heinz Field  outdoors   grass  30.142857 ...   \n",
       "175                           Heinz Field  outdoors   grass  30.428571 ...   \n",
       "...                                   ...       ...     ...        ... ...   \n",
       "2970  Sports Authority Field at Mile High  outdoors   grass  29.142857 ...   \n",
       "2994                     Gillette Stadium  outdoors    turf  27.000000 ...   \n",
       "3004              Lincoln Financial Field  outdoors   grass  28.285714 ...   \n",
       "3009                    Lucas Oil Stadium      dome    turf  28.285714 ...   \n",
       "3012                    Lucas Oil Stadium      dome    turf  30.714286 ...   \n",
       "3013                    M&T; Bank Stadium  outdoors    turf  28.285714 ...   \n",
       "3015                Mall of America Field      dome    turf  22.285714 ...   \n",
       "3024                   Paul Brown Stadium  outdoors    turf  27.857143 ...   \n",
       "3030                 Ralph Wilson Stadium  outdoors    turf  22.571429 ...   \n",
       "3036                      Reliant Stadium      dome   grass  24.285714 ...   \n",
       "3037                      Reliant Stadium      dome   grass  24.857143 ...   \n",
       "3042  Sports Authority Field at Mile High  outdoors   grass  33.428571 ...   \n",
       "3043                     Sun Life Stadium  outdoors   grass  22.857143 ...   \n",
       "3045                        AT&T; Stadium      dome    turf  28.000000 ...   \n",
       "3046                        AT&T; Stadium      dome    turf  28.714286 ...   \n",
       "3047              Bank of America Stadium  outdoors   grass  30.142857 ...   \n",
       "3056                      Cowboys Stadium      dome    turf  26.285714 ...   \n",
       "3060                       EverBank Field  outdoors   grass  27.000000 ...   \n",
       "3071                     Gillette Stadium  outdoors    turf  35.571429 ...   \n",
       "3072                     Gillette Stadium  outdoors    turf  39.857143 ...   \n",
       "3082              Lincoln Financial Field  outdoors   grass  24.714286 ...   \n",
       "3086              Lincoln Financial Field  outdoors   grass  32.857143 ...   \n",
       "3087                             LP Field  outdoors   grass  27.428571 ...   \n",
       "3090                Mall of America Field      dome    turf  23.142857 ...   \n",
       "3095                      MetLife Stadium  outdoors    turf  28.428571 ...   \n",
       "3096                      MetLife Stadium  outdoors    turf  27.571429 ...   \n",
       "3098              New Meadowlands Stadium  outdoors    turf  29.285714 ...   \n",
       "3103                     Qualcomm Stadium  outdoors   grass  32.142857 ...   \n",
       "3110  Sports Authority Field at Mile High  outdoors   grass  42.571429 ...   \n",
       "3113                        Texas Stadium  outdoors    turf  30.571429 ...   \n",
       "\n",
       "      defDvoa  ptsMatchup  offMatchup  ovrMatchup  passMatchup  pblkMatchup  \\\n",
       "0      -0.071   60.285714    9.814286   13.857143    12.000000    10.700000   \n",
       "2      -0.109   54.571429    3.671429    3.042857     7.371429   -10.685714   \n",
       "3       0.018   58.857143   12.185714   13.642857    11.085714     6.485714   \n",
       "9      -0.029   53.000000   10.571429    9.085714    17.371429     9.857143   \n",
       "19     -0.021   55.857143    2.842857    5.542857    -0.814286    -1.671429   \n",
       "32      0.124   52.857143    4.985714   -8.171429    11.285714     0.028571   \n",
       "33      0.181   52.285714    3.828571   -0.357143    -5.571429    15.128571   \n",
       "36      0.080   53.285714    1.100000   -6.628571     7.628571    11.285714   \n",
       "42      0.209   66.428571   16.714286    6.985714    22.642857    14.785714   \n",
       "50     -0.122   58.000000    6.257143    7.514286    13.857143     9.371429   \n",
       "73      0.062   54.571429    4.214286    1.700000    -0.600000     5.671429   \n",
       "78     -0.020   55.857143   13.042857   12.857143     9.214286    13.900000   \n",
       "88     -0.274   53.428571   19.257143   14.900000    10.085714    18.400000   \n",
       "93      0.033   52.428571   12.685714    9.185714    14.857143    10.671429   \n",
       "106    -0.020   54.000000    4.485714   -2.257143     1.585714    17.114286   \n",
       "111    -0.078   52.285714    7.628571    9.714286     8.828571    12.971429   \n",
       "112     0.063   57.000000    8.985714   16.485714    16.185714     8.885714   \n",
       "114    -0.025   53.285714    7.742857    0.857143    11.214286    12.342857   \n",
       "116    -0.023   52.571429    7.457143    3.885714    14.242857    11.585714   \n",
       "117     0.058   53.285714    3.171429   -4.771429     2.042857     6.857143   \n",
       "129     0.087   55.571429   14.457143    4.142857    16.571429    19.371429   \n",
       "131    -0.029   56.428571   -1.042857    7.542857     6.200000     4.114286   \n",
       "146     0.057   60.142857    3.785714   -1.714286     7.200000     9.757143   \n",
       "151     0.078   52.571429    4.485714    3.371429    12.314286     6.942857   \n",
       "154     0.107   55.285714    9.200000   10.842857    17.685714    15.942857   \n",
       "160     0.065   55.000000    4.942857    2.085714    10.900000     6.528571   \n",
       "168     0.107   63.428571   18.442857   14.385714    21.585714     7.728571   \n",
       "173     0.167   53.571429   15.185714   14.214286    10.185714    27.700000   \n",
       "174     0.030   55.857143   10.685714    9.514286    16.442857    16.600000   \n",
       "175    -0.145   55.714286    5.928571    4.457143    -4.942857    14.714286   \n",
       "...       ...         ...         ...         ...          ...          ...   \n",
       "2970    0.010   52.428571   11.571429    6.942857    18.685714    12.514286   \n",
       "2994    0.054   53.714286    9.928571   11.000000    17.371429    -5.171429   \n",
       "3004    0.090   54.142857   13.814286   11.200000     6.742857    12.100000   \n",
       "3009    0.143   54.142857   16.000000    3.942857    12.400000     4.142857   \n",
       "3012   -0.004   56.857143    7.600000    2.771429     5.671429    20.500000   \n",
       "3013    0.067   55.714286   15.914286   13.442857     9.200000    17.700000   \n",
       "3015    0.224   53.285714    7.800000    5.985714     6.528571     9.657143   \n",
       "3024   -0.110   52.428571    7.885714    3.114286    11.900000    17.971429   \n",
       "3030    0.186   54.857143    1.700000    1.114286    -3.185714    14.814286   \n",
       "3036    0.274   53.000000   12.114286    7.800000    11.585714     9.942857   \n",
       "3037    0.123   54.571429   15.142857    7.285714     7.685714     4.800000   \n",
       "3042   -0.009   58.000000    4.971429    3.800000     5.471429     7.928571   \n",
       "3043    0.182   56.571429    6.014286    6.142857    14.228571     1.857143   \n",
       "3045    0.003   54.142857   22.814286   14.685714    25.785714    15.300000   \n",
       "3046    0.143   53.571429   20.985714    5.914286    17.742857    14.914286   \n",
       "3047    0.037   56.142857   16.971429   11.128571    14.357143    14.100000   \n",
       "3056    0.121   53.571429    7.771429    5.242857     3.257143    10.542857   \n",
       "3060    0.129   57.000000   19.714286    9.028571    14.357143    -4.614286   \n",
       "3071    0.063   59.571429   18.057143   13.985714    26.785714    -1.428571   \n",
       "3072   -0.243   57.285714   14.900000   11.485714    14.314286    10.328571   \n",
       "3082    0.081   55.571429   14.671429    0.385714     7.514286    11.600000   \n",
       "3086   -0.378   56.714286   12.214286    7.971429     3.442857    19.442857   \n",
       "3087    0.096   54.857143    5.228571    5.828571     5.028571     7.100000   \n",
       "3090    0.047   54.571429   11.671429   -2.828571    -2.714286    16.771429   \n",
       "3095    0.053   58.000000   12.385714    3.228571    12.628571     6.442857   \n",
       "3096   -0.147   55.000000   16.814286    7.857143    13.385714     8.657143   \n",
       "3098    0.109   55.428571   12.442857   12.685714    13.671429     8.571429   \n",
       "3103    0.010   54.857143   18.257143    7.857143    22.642857     3.514286   \n",
       "3110    0.120   72.285714   24.214286   12.900000    29.271429    11.914286   \n",
       "3113   -0.074   54.571429   12.800000    9.700000     9.171429     6.714286   \n",
       "\n",
       "      runMatchup  offDvoaMatchup  totalDvoaMatchup  pf  \n",
       "0       7.042857           0.487             0.764  26  \n",
       "2       1.342857           0.063             0.155  31  \n",
       "3       6.571429           0.077             0.520  27  \n",
       "9       3.314286           0.176             0.489  17  \n",
       "19     -0.442857           0.014             0.209  31  \n",
       "32     -4.414286           0.137             0.014  23  \n",
       "33      0.642857          -0.168             0.039  41  \n",
       "36    -13.171429          -0.158             0.071  24  \n",
       "42      5.014286           0.032             0.273  31  \n",
       "50     -1.957143           0.512             0.260  27  \n",
       "73      1.342857           0.088             0.254  10  \n",
       "78      3.342857           0.274             0.271  37  \n",
       "88     -0.242857           0.461            -0.061  17  \n",
       "93     -8.514286           0.138             0.054  38  \n",
       "106    -2.057143           0.158            -0.140  52  \n",
       "111    -4.857143           0.353             0.210  31  \n",
       "112     1.185714           0.109             0.261  14  \n",
       "114    -0.700000           0.130             0.019  41  \n",
       "116   -10.414286           0.198             0.139  35  \n",
       "117    -4.114286          -0.025            -0.239  24  \n",
       "129    -1.085714          -0.030             0.360  35  \n",
       "131   -15.957143           0.189             0.479  31  \n",
       "146    -1.771429           0.261             0.278  45  \n",
       "151    -5.942857          -0.148             0.013  26  \n",
       "154    -5.871429           0.050             0.203  16  \n",
       "160    -0.571429          -0.019             0.216  24  \n",
       "168     7.000000           0.170             0.391  26  \n",
       "173     0.685714          -0.030             0.542  27  \n",
       "174    -5.171429           0.164             0.579  28  \n",
       "175     6.071429           0.260             0.230  33  \n",
       "...          ...             ...               ...  ..  \n",
       "2970   -8.814286           0.167             0.321  31  \n",
       "2994   -8.557143           0.140             0.508  33  \n",
       "3004   -3.571429          -0.124             0.256  43  \n",
       "3009   11.214286           0.125             0.423  27  \n",
       "3012   -5.600000           0.017             0.150  41  \n",
       "3013   -3.100000           0.021             0.358  21  \n",
       "3015   -2.142857          -0.189             0.518  30  \n",
       "3024  -12.057143           0.336             0.276  33  \n",
       "3030   -3.400000          -0.239             0.192  34  \n",
       "3036   -0.528571          -0.102             0.661  38  \n",
       "3037    3.100000           0.032             0.219  17  \n",
       "3042  -11.028571           0.335             0.398  51  \n",
       "3043   -3.400000          -0.258             0.425   3  \n",
       "3045    5.071429           0.162             0.240  17  \n",
       "3046    6.457143           0.010             0.253  31  \n",
       "3047    6.885714           0.042             0.238  44  \n",
       "3056   -5.100000          -0.123             0.052  33  \n",
       "3060    6.285714          -0.019             0.159  17  \n",
       "3071    5.157143           0.232             0.461  27  \n",
       "3072    4.200000           0.677             0.495  52  \n",
       "3082    6.042857           0.086             0.250  24  \n",
       "3086    1.900000           0.396            -0.237  37  \n",
       "3087    4.385714          -0.025             0.405  16  \n",
       "3090    6.528571          -0.146             0.067  34  \n",
       "3095   -1.471429           0.248             0.339  27  \n",
       "3096    2.228571           0.115            -0.095  32  \n",
       "3098    2.285714           0.013             0.349  31  \n",
       "3103   -2.300000           0.241             0.229  23  \n",
       "3110    4.228571           0.299             0.625  45  \n",
       "3113    6.600000           0.357             0.383  28  \n",
       "\n",
       "[392 rows x 41 columns]"
      ]
     },
     "execution_count": 40,
     "metadata": {},
     "output_type": "execute_result"
    }
   ],
   "source": [
    "homeMatchup[(homeMatchup['ptsMatchup'] > 52)]"
   ]
  },
  {
   "cell_type": "code",
   "execution_count": 55,
   "metadata": {},
   "outputs": [
    {
     "data": {
      "text/plain": [
       "Index(['gameId', 'date', 'season', 'week', 'team_x', 'homeAway', 'stadium',\n",
       "       'roof', 'surface', 'avgPf', 'avgOvr_x', 'avgOff', 'avgPass', 'avgPblk',\n",
       "       'avgRecv', 'avgRun', 'avgRblk', 'totalDvoa_x', 'offDvoa', 'stDvoa',\n",
       "       'overUnder', 'pa', 'totalScore', 'team_y', 'avgPa', 'avgOvr_y',\n",
       "       'avgDef', 'avgRdef', 'avgPrsh', 'avgCov', 'totalDvoa_y', 'defDvoa',\n",
       "       'ptsMatchup', 'offMatchup', 'ovrMatchup', 'passMatchup', 'pblkMatchup',\n",
       "       'runMatchup', 'offDvoaMatchup', 'totalDvoaMatchup', 'pf'],\n",
       "      dtype='object')"
      ]
     },
     "execution_count": 55,
     "metadata": {},
     "output_type": "execute_result"
    }
   ],
   "source": [
    "homeMatchup.columns"
   ]
  },
  {
   "cell_type": "code",
   "execution_count": null,
   "metadata": {
    "collapsed": true
   },
   "outputs": [],
   "source": []
  },
  {
   "cell_type": "code",
   "execution_count": null,
   "metadata": {
    "collapsed": true
   },
   "outputs": [],
   "source": []
  },
  {
   "cell_type": "code",
   "execution_count": 50,
   "metadata": {
    "collapsed": true
   },
   "outputs": [],
   "source": [
    "%store -r features"
   ]
  },
  {
   "cell_type": "code",
   "execution_count": 56,
   "metadata": {
    "collapsed": true
   },
   "outputs": [],
   "source": [
    "features.insert(2,'avgRecv')"
   ]
  },
  {
   "cell_type": "code",
   "execution_count": 57,
   "metadata": {},
   "outputs": [
    {
     "data": {
      "text/html": [
       "<style  type=\"text/css\" >\n",
       "    #T_3c3b3508_6dc0_11e9_ae46_3402864a3df9row0_col0 {\n",
       "            background-color:  #b40426;\n",
       "        }    #T_3c3b3508_6dc0_11e9_ae46_3402864a3df9row0_col1 {\n",
       "            background-color:  #d2dbe8;\n",
       "        }    #T_3c3b3508_6dc0_11e9_ae46_3402864a3df9row0_col2 {\n",
       "            background-color:  #506bda;\n",
       "        }    #T_3c3b3508_6dc0_11e9_ae46_3402864a3df9row0_col3 {\n",
       "            background-color:  #3b4cc0;\n",
       "        }    #T_3c3b3508_6dc0_11e9_ae46_3402864a3df9row0_col4 {\n",
       "            background-color:  #4b64d5;\n",
       "        }    #T_3c3b3508_6dc0_11e9_ae46_3402864a3df9row0_col5 {\n",
       "            background-color:  #5e7de7;\n",
       "        }    #T_3c3b3508_6dc0_11e9_ae46_3402864a3df9row0_col6 {\n",
       "            background-color:  #3d50c3;\n",
       "        }    #T_3c3b3508_6dc0_11e9_ae46_3402864a3df9row0_col7 {\n",
       "            background-color:  #779af7;\n",
       "        }    #T_3c3b3508_6dc0_11e9_ae46_3402864a3df9row0_col8 {\n",
       "            background-color:  #6180e9;\n",
       "        }    #T_3c3b3508_6dc0_11e9_ae46_3402864a3df9row0_col9 {\n",
       "            background-color:  #4f69d9;\n",
       "        }    #T_3c3b3508_6dc0_11e9_ae46_3402864a3df9row0_col10 {\n",
       "            background-color:  #5977e3;\n",
       "        }    #T_3c3b3508_6dc0_11e9_ae46_3402864a3df9row1_col0 {\n",
       "            background-color:  #dddcdc;\n",
       "        }    #T_3c3b3508_6dc0_11e9_ae46_3402864a3df9row1_col1 {\n",
       "            background-color:  #b40426;\n",
       "        }    #T_3c3b3508_6dc0_11e9_ae46_3402864a3df9row1_col2 {\n",
       "            background-color:  #3c4ec2;\n",
       "        }    #T_3c3b3508_6dc0_11e9_ae46_3402864a3df9row1_col3 {\n",
       "            background-color:  #5e7de7;\n",
       "        }    #T_3c3b3508_6dc0_11e9_ae46_3402864a3df9row1_col4 {\n",
       "            background-color:  #5977e3;\n",
       "        }    #T_3c3b3508_6dc0_11e9_ae46_3402864a3df9row1_col5 {\n",
       "            background-color:  #c4d5f3;\n",
       "        }    #T_3c3b3508_6dc0_11e9_ae46_3402864a3df9row1_col6 {\n",
       "            background-color:  #81a4fb;\n",
       "        }    #T_3c3b3508_6dc0_11e9_ae46_3402864a3df9row1_col7 {\n",
       "            background-color:  #dcdddd;\n",
       "        }    #T_3c3b3508_6dc0_11e9_ae46_3402864a3df9row1_col8 {\n",
       "            background-color:  #dbdcde;\n",
       "        }    #T_3c3b3508_6dc0_11e9_ae46_3402864a3df9row1_col9 {\n",
       "            background-color:  #c4d5f3;\n",
       "        }    #T_3c3b3508_6dc0_11e9_ae46_3402864a3df9row1_col10 {\n",
       "            background-color:  #6180e9;\n",
       "        }    #T_3c3b3508_6dc0_11e9_ae46_3402864a3df9row2_col0 {\n",
       "            background-color:  #688aef;\n",
       "        }    #T_3c3b3508_6dc0_11e9_ae46_3402864a3df9row2_col1 {\n",
       "            background-color:  #3b4cc0;\n",
       "        }    #T_3c3b3508_6dc0_11e9_ae46_3402864a3df9row2_col2 {\n",
       "            background-color:  #b40426;\n",
       "        }    #T_3c3b3508_6dc0_11e9_ae46_3402864a3df9row2_col3 {\n",
       "            background-color:  #536edd;\n",
       "        }    #T_3c3b3508_6dc0_11e9_ae46_3402864a3df9row2_col4 {\n",
       "            background-color:  #4358cb;\n",
       "        }    #T_3c3b3508_6dc0_11e9_ae46_3402864a3df9row2_col5 {\n",
       "            background-color:  #3b4cc0;\n",
       "        }    #T_3c3b3508_6dc0_11e9_ae46_3402864a3df9row2_col6 {\n",
       "            background-color:  #4358cb;\n",
       "        }    #T_3c3b3508_6dc0_11e9_ae46_3402864a3df9row2_col7 {\n",
       "            background-color:  #3b4cc0;\n",
       "        }    #T_3c3b3508_6dc0_11e9_ae46_3402864a3df9row2_col8 {\n",
       "            background-color:  #3b4cc0;\n",
       "        }    #T_3c3b3508_6dc0_11e9_ae46_3402864a3df9row2_col9 {\n",
       "            background-color:  #3b4cc0;\n",
       "        }    #T_3c3b3508_6dc0_11e9_ae46_3402864a3df9row2_col10 {\n",
       "            background-color:  #3c4ec2;\n",
       "        }    #T_3c3b3508_6dc0_11e9_ae46_3402864a3df9row3_col0 {\n",
       "            background-color:  #3b4cc0;\n",
       "        }    #T_3c3b3508_6dc0_11e9_ae46_3402864a3df9row3_col1 {\n",
       "            background-color:  #445acc;\n",
       "        }    #T_3c3b3508_6dc0_11e9_ae46_3402864a3df9row3_col2 {\n",
       "            background-color:  #3b4cc0;\n",
       "        }    #T_3c3b3508_6dc0_11e9_ae46_3402864a3df9row3_col3 {\n",
       "            background-color:  #b40426;\n",
       "        }    #T_3c3b3508_6dc0_11e9_ae46_3402864a3df9row3_col4 {\n",
       "            background-color:  #3b4cc0;\n",
       "        }    #T_3c3b3508_6dc0_11e9_ae46_3402864a3df9row3_col5 {\n",
       "            background-color:  #98b9ff;\n",
       "        }    #T_3c3b3508_6dc0_11e9_ae46_3402864a3df9row3_col6 {\n",
       "            background-color:  #445acc;\n",
       "        }    #T_3c3b3508_6dc0_11e9_ae46_3402864a3df9row3_col7 {\n",
       "            background-color:  #6282ea;\n",
       "        }    #T_3c3b3508_6dc0_11e9_ae46_3402864a3df9row3_col8 {\n",
       "            background-color:  #ead4c8;\n",
       "        }    #T_3c3b3508_6dc0_11e9_ae46_3402864a3df9row3_col9 {\n",
       "            background-color:  #779af7;\n",
       "        }    #T_3c3b3508_6dc0_11e9_ae46_3402864a3df9row3_col10 {\n",
       "            background-color:  #3b4cc0;\n",
       "        }    #T_3c3b3508_6dc0_11e9_ae46_3402864a3df9row4_col0 {\n",
       "            background-color:  #5d7ce6;\n",
       "        }    #T_3c3b3508_6dc0_11e9_ae46_3402864a3df9row4_col1 {\n",
       "            background-color:  #516ddb;\n",
       "        }    #T_3c3b3508_6dc0_11e9_ae46_3402864a3df9row4_col2 {\n",
       "            background-color:  #3c4ec2;\n",
       "        }    #T_3c3b3508_6dc0_11e9_ae46_3402864a3df9row4_col3 {\n",
       "            background-color:  #4b64d5;\n",
       "        }    #T_3c3b3508_6dc0_11e9_ae46_3402864a3df9row4_col4 {\n",
       "            background-color:  #b40426;\n",
       "        }    #T_3c3b3508_6dc0_11e9_ae46_3402864a3df9row4_col5 {\n",
       "            background-color:  #7699f6;\n",
       "        }    #T_3c3b3508_6dc0_11e9_ae46_3402864a3df9row4_col6 {\n",
       "            background-color:  #3b4cc0;\n",
       "        }    #T_3c3b3508_6dc0_11e9_ae46_3402864a3df9row4_col7 {\n",
       "            background-color:  #455cce;\n",
       "        }    #T_3c3b3508_6dc0_11e9_ae46_3402864a3df9row4_col8 {\n",
       "            background-color:  #9abbff;\n",
       "        }    #T_3c3b3508_6dc0_11e9_ae46_3402864a3df9row4_col9 {\n",
       "            background-color:  #485fd1;\n",
       "        }    #T_3c3b3508_6dc0_11e9_ae46_3402864a3df9row4_col10 {\n",
       "            background-color:  #4257c9;\n",
       "        }    #T_3c3b3508_6dc0_11e9_ae46_3402864a3df9row5_col0 {\n",
       "            background-color:  #82a6fb;\n",
       "        }    #T_3c3b3508_6dc0_11e9_ae46_3402864a3df9row5_col1 {\n",
       "            background-color:  #cbd8ee;\n",
       "        }    #T_3c3b3508_6dc0_11e9_ae46_3402864a3df9row5_col2 {\n",
       "            background-color:  #485fd1;\n",
       "        }    #T_3c3b3508_6dc0_11e9_ae46_3402864a3df9row5_col3 {\n",
       "            background-color:  #b6cefa;\n",
       "        }    #T_3c3b3508_6dc0_11e9_ae46_3402864a3df9row5_col4 {\n",
       "            background-color:  #89acfd;\n",
       "        }    #T_3c3b3508_6dc0_11e9_ae46_3402864a3df9row5_col5 {\n",
       "            background-color:  #b40426;\n",
       "        }    #T_3c3b3508_6dc0_11e9_ae46_3402864a3df9row5_col6 {\n",
       "            background-color:  #f5c0a7;\n",
       "        }    #T_3c3b3508_6dc0_11e9_ae46_3402864a3df9row5_col7 {\n",
       "            background-color:  #f1ccb8;\n",
       "        }    #T_3c3b3508_6dc0_11e9_ae46_3402864a3df9row5_col8 {\n",
       "            background-color:  #f7b093;\n",
       "        }    #T_3c3b3508_6dc0_11e9_ae46_3402864a3df9row5_col9 {\n",
       "            background-color:  #edd2c3;\n",
       "        }    #T_3c3b3508_6dc0_11e9_ae46_3402864a3df9row5_col10 {\n",
       "            background-color:  #6f92f3;\n",
       "        }    #T_3c3b3508_6dc0_11e9_ae46_3402864a3df9row6_col0 {\n",
       "            background-color:  #85a8fc;\n",
       "        }    #T_3c3b3508_6dc0_11e9_ae46_3402864a3df9row6_col1 {\n",
       "            background-color:  #aac7fd;\n",
       "        }    #T_3c3b3508_6dc0_11e9_ae46_3402864a3df9row6_col2 {\n",
       "            background-color:  #7396f5;\n",
       "        }    #T_3c3b3508_6dc0_11e9_ae46_3402864a3df9row6_col3 {\n",
       "            background-color:  #8badfd;\n",
       "        }    #T_3c3b3508_6dc0_11e9_ae46_3402864a3df9row6_col4 {\n",
       "            background-color:  #7295f4;\n",
       "        }    #T_3c3b3508_6dc0_11e9_ae46_3402864a3df9row6_col5 {\n",
       "            background-color:  #f7b497;\n",
       "        }    #T_3c3b3508_6dc0_11e9_ae46_3402864a3df9row6_col6 {\n",
       "            background-color:  #b40426;\n",
       "        }    #T_3c3b3508_6dc0_11e9_ae46_3402864a3df9row6_col7 {\n",
       "            background-color:  #cedaeb;\n",
       "        }    #T_3c3b3508_6dc0_11e9_ae46_3402864a3df9row6_col8 {\n",
       "            background-color:  #d4dbe6;\n",
       "        }    #T_3c3b3508_6dc0_11e9_ae46_3402864a3df9row6_col9 {\n",
       "            background-color:  #e5d8d1;\n",
       "        }    #T_3c3b3508_6dc0_11e9_ae46_3402864a3df9row6_col10 {\n",
       "            background-color:  #7da0f9;\n",
       "        }    #T_3c3b3508_6dc0_11e9_ae46_3402864a3df9row7_col0 {\n",
       "            background-color:  #94b6ff;\n",
       "        }    #T_3c3b3508_6dc0_11e9_ae46_3402864a3df9row7_col1 {\n",
       "            background-color:  #dfdbd9;\n",
       "        }    #T_3c3b3508_6dc0_11e9_ae46_3402864a3df9row7_col2 {\n",
       "            background-color:  #4358cb;\n",
       "        }    #T_3c3b3508_6dc0_11e9_ae46_3402864a3df9row7_col3 {\n",
       "            background-color:  #81a4fb;\n",
       "        }    #T_3c3b3508_6dc0_11e9_ae46_3402864a3df9row7_col4 {\n",
       "            background-color:  #5572df;\n",
       "        }    #T_3c3b3508_6dc0_11e9_ae46_3402864a3df9row7_col5 {\n",
       "            background-color:  #f0cdbb;\n",
       "        }    #T_3c3b3508_6dc0_11e9_ae46_3402864a3df9row7_col6 {\n",
       "            background-color:  #b3cdfb;\n",
       "        }    #T_3c3b3508_6dc0_11e9_ae46_3402864a3df9row7_col7 {\n",
       "            background-color:  #b40426;\n",
       "        }    #T_3c3b3508_6dc0_11e9_ae46_3402864a3df9row7_col8 {\n",
       "            background-color:  #f39577;\n",
       "        }    #T_3c3b3508_6dc0_11e9_ae46_3402864a3df9row7_col9 {\n",
       "            background-color:  #f1cdba;\n",
       "        }    #T_3c3b3508_6dc0_11e9_ae46_3402864a3df9row7_col10 {\n",
       "            background-color:  #6f92f3;\n",
       "        }    #T_3c3b3508_6dc0_11e9_ae46_3402864a3df9row8_col0 {\n",
       "            background-color:  #799cf8;\n",
       "        }    #T_3c3b3508_6dc0_11e9_ae46_3402864a3df9row8_col1 {\n",
       "            background-color:  #dbdcde;\n",
       "        }    #T_3c3b3508_6dc0_11e9_ae46_3402864a3df9row8_col2 {\n",
       "            background-color:  #3c4ec2;\n",
       "        }    #T_3c3b3508_6dc0_11e9_ae46_3402864a3df9row8_col3 {\n",
       "            background-color:  #f1cdba;\n",
       "        }    #T_3c3b3508_6dc0_11e9_ae46_3402864a3df9row8_col4 {\n",
       "            background-color:  #a1c0ff;\n",
       "        }    #T_3c3b3508_6dc0_11e9_ae46_3402864a3df9row8_col5 {\n",
       "            background-color:  #f7b497;\n",
       "        }    #T_3c3b3508_6dc0_11e9_ae46_3402864a3df9row8_col6 {\n",
       "            background-color:  #b7cff9;\n",
       "        }    #T_3c3b3508_6dc0_11e9_ae46_3402864a3df9row8_col7 {\n",
       "            background-color:  #f4987a;\n",
       "        }    #T_3c3b3508_6dc0_11e9_ae46_3402864a3df9row8_col8 {\n",
       "            background-color:  #b40426;\n",
       "        }    #T_3c3b3508_6dc0_11e9_ae46_3402864a3df9row8_col9 {\n",
       "            background-color:  #f2cbb7;\n",
       "        }    #T_3c3b3508_6dc0_11e9_ae46_3402864a3df9row8_col10 {\n",
       "            background-color:  #7093f3;\n",
       "        }    #T_3c3b3508_6dc0_11e9_ae46_3402864a3df9row9_col0 {\n",
       "            background-color:  #86a9fc;\n",
       "        }    #T_3c3b3508_6dc0_11e9_ae46_3402864a3df9row9_col1 {\n",
       "            background-color:  #d5dbe5;\n",
       "        }    #T_3c3b3508_6dc0_11e9_ae46_3402864a3df9row9_col2 {\n",
       "            background-color:  #5b7ae5;\n",
       "        }    #T_3c3b3508_6dc0_11e9_ae46_3402864a3df9row9_col3 {\n",
       "            background-color:  #aac7fd;\n",
       "        }    #T_3c3b3508_6dc0_11e9_ae46_3402864a3df9row9_col4 {\n",
       "            background-color:  #6f92f3;\n",
       "        }    #T_3c3b3508_6dc0_11e9_ae46_3402864a3df9row9_col5 {\n",
       "            background-color:  #f1ccb8;\n",
       "        }    #T_3c3b3508_6dc0_11e9_ae46_3402864a3df9row9_col6 {\n",
       "            background-color:  #dfdbd9;\n",
       "        }    #T_3c3b3508_6dc0_11e9_ae46_3402864a3df9row9_col7 {\n",
       "            background-color:  #f5c4ac;\n",
       "        }    #T_3c3b3508_6dc0_11e9_ae46_3402864a3df9row9_col8 {\n",
       "            background-color:  #f6bfa6;\n",
       "        }    #T_3c3b3508_6dc0_11e9_ae46_3402864a3df9row9_col9 {\n",
       "            background-color:  #b40426;\n",
       "        }    #T_3c3b3508_6dc0_11e9_ae46_3402864a3df9row9_col10 {\n",
       "            background-color:  #84a7fc;\n",
       "        }    #T_3c3b3508_6dc0_11e9_ae46_3402864a3df9row10_col0 {\n",
       "            background-color:  #86a9fc;\n",
       "        }    #T_3c3b3508_6dc0_11e9_ae46_3402864a3df9row10_col1 {\n",
       "            background-color:  #7699f6;\n",
       "        }    #T_3c3b3508_6dc0_11e9_ae46_3402864a3df9row10_col2 {\n",
       "            background-color:  #516ddb;\n",
       "        }    #T_3c3b3508_6dc0_11e9_ae46_3402864a3df9row10_col3 {\n",
       "            background-color:  #688aef;\n",
       "        }    #T_3c3b3508_6dc0_11e9_ae46_3402864a3df9row10_col4 {\n",
       "            background-color:  #5e7de7;\n",
       "        }    #T_3c3b3508_6dc0_11e9_ae46_3402864a3df9row10_col5 {\n",
       "            background-color:  #799cf8;\n",
       "        }    #T_3c3b3508_6dc0_11e9_ae46_3402864a3df9row10_col6 {\n",
       "            background-color:  #6384eb;\n",
       "        }    #T_3c3b3508_6dc0_11e9_ae46_3402864a3df9row10_col7 {\n",
       "            background-color:  #7da0f9;\n",
       "        }    #T_3c3b3508_6dc0_11e9_ae46_3402864a3df9row10_col8 {\n",
       "            background-color:  #84a7fc;\n",
       "        }    #T_3c3b3508_6dc0_11e9_ae46_3402864a3df9row10_col9 {\n",
       "            background-color:  #799cf8;\n",
       "        }    #T_3c3b3508_6dc0_11e9_ae46_3402864a3df9row10_col10 {\n",
       "            background-color:  #b40426;\n",
       "        }</style>  \n",
       "<table id=\"T_3c3b3508_6dc0_11e9_ae46_3402864a3df9\" > \n",
       "<thead>    <tr> \n",
       "        <th class=\"blank level0\" ></th> \n",
       "        <th class=\"col_heading level0 col0\" >offDvoaMatchup</th> \n",
       "        <th class=\"col_heading level0 col1\" >avgRecv</th> \n",
       "        <th class=\"col_heading level0 col2\" >stDvoa</th> \n",
       "        <th class=\"col_heading level0 col3\" >runMatchup</th> \n",
       "        <th class=\"col_heading level0 col4\" >pblkMatchup</th> \n",
       "        <th class=\"col_heading level0 col5\" >ovrMatchup</th> \n",
       "        <th class=\"col_heading level0 col6\" >totalDvoaMatchup</th> \n",
       "        <th class=\"col_heading level0 col7\" >passMatchup</th> \n",
       "        <th class=\"col_heading level0 col8\" >offMatchup</th> \n",
       "        <th class=\"col_heading level0 col9\" >ptsMatchup</th> \n",
       "        <th class=\"col_heading level0 col10\" >pf</th> \n",
       "    </tr></thead> \n",
       "<tbody>    <tr> \n",
       "        <th id=\"T_3c3b3508_6dc0_11e9_ae46_3402864a3df9level0_row0\" class=\"row_heading level0 row0\" >offDvoaMatchup</th> \n",
       "        <td id=\"T_3c3b3508_6dc0_11e9_ae46_3402864a3df9row0_col0\" class=\"data row0 col0\" >1</td> \n",
       "        <td id=\"T_3c3b3508_6dc0_11e9_ae46_3402864a3df9row0_col1\" class=\"data row0 col1\" >0.464802</td> \n",
       "        <td id=\"T_3c3b3508_6dc0_11e9_ae46_3402864a3df9row0_col2\" class=\"data row0 col2\" >0.0792095</td> \n",
       "        <td id=\"T_3c3b3508_6dc0_11e9_ae46_3402864a3df9row0_col3\" class=\"data row0 col3\" >-0.0768149</td> \n",
       "        <td id=\"T_3c3b3508_6dc0_11e9_ae46_3402864a3df9row0_col4\" class=\"data row0 col4\" >0.0445729</td> \n",
       "        <td id=\"T_3c3b3508_6dc0_11e9_ae46_3402864a3df9row0_col5\" class=\"data row0 col5\" >0.159731</td> \n",
       "        <td id=\"T_3c3b3508_6dc0_11e9_ae46_3402864a3df9row0_col6\" class=\"data row0 col6\" >0.16848</td> \n",
       "        <td id=\"T_3c3b3508_6dc0_11e9_ae46_3402864a3df9row0_col7\" class=\"data row0 col7\" >0.216242</td> \n",
       "        <td id=\"T_3c3b3508_6dc0_11e9_ae46_3402864a3df9row0_col8\" class=\"data row0 col8\" >0.132368</td> \n",
       "        <td id=\"T_3c3b3508_6dc0_11e9_ae46_3402864a3df9row0_col9\" class=\"data row0 col9\" >0.175412</td> \n",
       "        <td id=\"T_3c3b3508_6dc0_11e9_ae46_3402864a3df9row0_col10\" class=\"data row0 col10\" >0.172356</td> \n",
       "    </tr>    <tr> \n",
       "        <th id=\"T_3c3b3508_6dc0_11e9_ae46_3402864a3df9level0_row1\" class=\"row_heading level0 row1\" >avgRecv</th> \n",
       "        <td id=\"T_3c3b3508_6dc0_11e9_ae46_3402864a3df9row1_col0\" class=\"data row1 col0\" >0.464802</td> \n",
       "        <td id=\"T_3c3b3508_6dc0_11e9_ae46_3402864a3df9row1_col1\" class=\"data row1 col1\" >1</td> \n",
       "        <td id=\"T_3c3b3508_6dc0_11e9_ae46_3402864a3df9row1_col2\" class=\"data row1 col2\" >0.0120248</td> \n",
       "        <td id=\"T_3c3b3508_6dc0_11e9_ae46_3402864a3df9row1_col3\" class=\"data row1 col3\" >0.0452699</td> \n",
       "        <td id=\"T_3c3b3508_6dc0_11e9_ae46_3402864a3df9row1_col4\" class=\"data row1 col4\" >0.0854617</td> \n",
       "        <td id=\"T_3c3b3508_6dc0_11e9_ae46_3402864a3df9row1_col5\" class=\"data row1 col5\" >0.443973</td> \n",
       "        <td id=\"T_3c3b3508_6dc0_11e9_ae46_3402864a3df9row1_col6\" class=\"data row1 col6\" >0.340532</td> \n",
       "        <td id=\"T_3c3b3508_6dc0_11e9_ae46_3402864a3df9row1_col7\" class=\"data row1 col7\" >0.514736</td> \n",
       "        <td id=\"T_3c3b3508_6dc0_11e9_ae46_3402864a3df9row1_col8\" class=\"data row1 col8\" >0.499767</td> \n",
       "        <td id=\"T_3c3b3508_6dc0_11e9_ae46_3402864a3df9row1_col9\" class=\"data row1 col9\" >0.478144</td> \n",
       "        <td id=\"T_3c3b3508_6dc0_11e9_ae46_3402864a3df9row1_col10\" class=\"data row1 col10\" >0.193689</td> \n",
       "    </tr>    <tr> \n",
       "        <th id=\"T_3c3b3508_6dc0_11e9_ae46_3402864a3df9level0_row2\" class=\"row_heading level0 row2\" >stDvoa</th> \n",
       "        <td id=\"T_3c3b3508_6dc0_11e9_ae46_3402864a3df9row2_col0\" class=\"data row2 col0\" >0.0792095</td> \n",
       "        <td id=\"T_3c3b3508_6dc0_11e9_ae46_3402864a3df9row2_col1\" class=\"data row2 col1\" >0.0120248</td> \n",
       "        <td id=\"T_3c3b3508_6dc0_11e9_ae46_3402864a3df9row2_col2\" class=\"data row2 col2\" >1</td> \n",
       "        <td id=\"T_3c3b3508_6dc0_11e9_ae46_3402864a3df9row2_col3\" class=\"data row2 col3\" >0.00797092</td> \n",
       "        <td id=\"T_3c3b3508_6dc0_11e9_ae46_3402864a3df9row2_col4\" class=\"data row2 col4\" >0.0146837</td> \n",
       "        <td id=\"T_3c3b3508_6dc0_11e9_ae46_3402864a3df9row2_col5\" class=\"data row2 col5\" >0.0514683</td> \n",
       "        <td id=\"T_3c3b3508_6dc0_11e9_ae46_3402864a3df9row2_col6\" class=\"data row2 col6\" >0.185425</td> \n",
       "        <td id=\"T_3c3b3508_6dc0_11e9_ae46_3402864a3df9row2_col7\" class=\"data row2 col7\" >0.0353229</td> \n",
       "        <td id=\"T_3c3b3508_6dc0_11e9_ae46_3402864a3df9row2_col8\" class=\"data row2 col8\" >0.0124472</td> \n",
       "        <td id=\"T_3c3b3508_6dc0_11e9_ae46_3402864a3df9row2_col9\" class=\"data row2 col9\" >0.114562</td> \n",
       "        <td id=\"T_3c3b3508_6dc0_11e9_ae46_3402864a3df9row2_col10\" class=\"data row2 col10\" >0.0854604</td> \n",
       "    </tr>    <tr> \n",
       "        <th id=\"T_3c3b3508_6dc0_11e9_ae46_3402864a3df9level0_row3\" class=\"row_heading level0 row3\" >runMatchup</th> \n",
       "        <td id=\"T_3c3b3508_6dc0_11e9_ae46_3402864a3df9row3_col0\" class=\"data row3 col0\" >-0.0768149</td> \n",
       "        <td id=\"T_3c3b3508_6dc0_11e9_ae46_3402864a3df9row3_col1\" class=\"data row3 col1\" >0.0452699</td> \n",
       "        <td id=\"T_3c3b3508_6dc0_11e9_ae46_3402864a3df9row3_col2\" class=\"data row3 col2\" >0.00797092</td> \n",
       "        <td id=\"T_3c3b3508_6dc0_11e9_ae46_3402864a3df9row3_col3\" class=\"data row3 col3\" >1</td> \n",
       "        <td id=\"T_3c3b3508_6dc0_11e9_ae46_3402864a3df9row3_col4\" class=\"data row3 col4\" >-0.014675</td> \n",
       "        <td id=\"T_3c3b3508_6dc0_11e9_ae46_3402864a3df9row3_col5\" class=\"data row3 col5\" >0.318868</td> \n",
       "        <td id=\"T_3c3b3508_6dc0_11e9_ae46_3402864a3df9row3_col6\" class=\"data row3 col6\" >0.187224</td> \n",
       "        <td id=\"T_3c3b3508_6dc0_11e9_ae46_3402864a3df9row3_col7\" class=\"data row3 col7\" >0.157335</td> \n",
       "        <td id=\"T_3c3b3508_6dc0_11e9_ae46_3402864a3df9row3_col8\" class=\"data row3 col8\" >0.561324</td> \n",
       "        <td id=\"T_3c3b3508_6dc0_11e9_ae46_3402864a3df9row3_col9\" class=\"data row3 col9\" >0.283606</td> \n",
       "        <td id=\"T_3c3b3508_6dc0_11e9_ae46_3402864a3df9row3_col10\" class=\"data row3 col10\" >0.0796019</td> \n",
       "    </tr>    <tr> \n",
       "        <th id=\"T_3c3b3508_6dc0_11e9_ae46_3402864a3df9level0_row4\" class=\"row_heading level0 row4\" >pblkMatchup</th> \n",
       "        <td id=\"T_3c3b3508_6dc0_11e9_ae46_3402864a3df9row4_col0\" class=\"data row4 col0\" >0.0445729</td> \n",
       "        <td id=\"T_3c3b3508_6dc0_11e9_ae46_3402864a3df9row4_col1\" class=\"data row4 col1\" >0.0854617</td> \n",
       "        <td id=\"T_3c3b3508_6dc0_11e9_ae46_3402864a3df9row4_col2\" class=\"data row4 col2\" >0.0146837</td> \n",
       "        <td id=\"T_3c3b3508_6dc0_11e9_ae46_3402864a3df9row4_col3\" class=\"data row4 col3\" >-0.014675</td> \n",
       "        <td id=\"T_3c3b3508_6dc0_11e9_ae46_3402864a3df9row4_col4\" class=\"data row4 col4\" >1</td> \n",
       "        <td id=\"T_3c3b3508_6dc0_11e9_ae46_3402864a3df9row4_col5\" class=\"data row4 col5\" >0.22817</td> \n",
       "        <td id=\"T_3c3b3508_6dc0_11e9_ae46_3402864a3df9row4_col6\" class=\"data row4 col6\" >0.160051</td> \n",
       "        <td id=\"T_3c3b3508_6dc0_11e9_ae46_3402864a3df9row4_col7\" class=\"data row4 col7\" >0.0729054</td> \n",
       "        <td id=\"T_3c3b3508_6dc0_11e9_ae46_3402864a3df9row4_col8\" class=\"data row4 col8\" >0.295714</td> \n",
       "        <td id=\"T_3c3b3508_6dc0_11e9_ae46_3402864a3df9row4_col9\" class=\"data row4 col9\" >0.154357</td> \n",
       "        <td id=\"T_3c3b3508_6dc0_11e9_ae46_3402864a3df9row4_col10\" class=\"data row4 col10\" >0.102824</td> \n",
       "    </tr>    <tr> \n",
       "        <th id=\"T_3c3b3508_6dc0_11e9_ae46_3402864a3df9level0_row5\" class=\"row_heading level0 row5\" >ovrMatchup</th> \n",
       "        <td id=\"T_3c3b3508_6dc0_11e9_ae46_3402864a3df9row5_col0\" class=\"data row5 col0\" >0.159731</td> \n",
       "        <td id=\"T_3c3b3508_6dc0_11e9_ae46_3402864a3df9row5_col1\" class=\"data row5 col1\" >0.443973</td> \n",
       "        <td id=\"T_3c3b3508_6dc0_11e9_ae46_3402864a3df9row5_col2\" class=\"data row5 col2\" >0.0514683</td> \n",
       "        <td id=\"T_3c3b3508_6dc0_11e9_ae46_3402864a3df9row5_col3\" class=\"data row5 col3\" >0.318868</td> \n",
       "        <td id=\"T_3c3b3508_6dc0_11e9_ae46_3402864a3df9row5_col4\" class=\"data row5 col4\" >0.22817</td> \n",
       "        <td id=\"T_3c3b3508_6dc0_11e9_ae46_3402864a3df9row5_col5\" class=\"data row5 col5\" >1</td> \n",
       "        <td id=\"T_3c3b3508_6dc0_11e9_ae46_3402864a3df9row5_col6\" class=\"data row5 col6\" >0.695742</td> \n",
       "        <td id=\"T_3c3b3508_6dc0_11e9_ae46_3402864a3df9row5_col7\" class=\"data row5 col7\" >0.610908</td> \n",
       "        <td id=\"T_3c3b3508_6dc0_11e9_ae46_3402864a3df9row5_col8\" class=\"data row5 col8\" >0.693633</td> \n",
       "        <td id=\"T_3c3b3508_6dc0_11e9_ae46_3402864a3df9row5_col9\" class=\"data row5 col9\" >0.617805</td> \n",
       "        <td id=\"T_3c3b3508_6dc0_11e9_ae46_3402864a3df9row5_col10\" class=\"data row5 col10\" >0.233422</td> \n",
       "    </tr>    <tr> \n",
       "        <th id=\"T_3c3b3508_6dc0_11e9_ae46_3402864a3df9level0_row6\" class=\"row_heading level0 row6\" >totalDvoaMatchup</th> \n",
       "        <td id=\"T_3c3b3508_6dc0_11e9_ae46_3402864a3df9row6_col0\" class=\"data row6 col0\" >0.16848</td> \n",
       "        <td id=\"T_3c3b3508_6dc0_11e9_ae46_3402864a3df9row6_col1\" class=\"data row6 col1\" >0.340532</td> \n",
       "        <td id=\"T_3c3b3508_6dc0_11e9_ae46_3402864a3df9row6_col2\" class=\"data row6 col2\" >0.185425</td> \n",
       "        <td id=\"T_3c3b3508_6dc0_11e9_ae46_3402864a3df9row6_col3\" class=\"data row6 col3\" >0.187224</td> \n",
       "        <td id=\"T_3c3b3508_6dc0_11e9_ae46_3402864a3df9row6_col4\" class=\"data row6 col4\" >0.160051</td> \n",
       "        <td id=\"T_3c3b3508_6dc0_11e9_ae46_3402864a3df9row6_col5\" class=\"data row6 col5\" >0.695742</td> \n",
       "        <td id=\"T_3c3b3508_6dc0_11e9_ae46_3402864a3df9row6_col6\" class=\"data row6 col6\" >1</td> \n",
       "        <td id=\"T_3c3b3508_6dc0_11e9_ae46_3402864a3df9row6_col7\" class=\"data row6 col7\" >0.465104</td> \n",
       "        <td id=\"T_3c3b3508_6dc0_11e9_ae46_3402864a3df9row6_col8\" class=\"data row6 col8\" >0.473857</td> \n",
       "        <td id=\"T_3c3b3508_6dc0_11e9_ae46_3402864a3df9row6_col9\" class=\"data row6 col9\" >0.587692</td> \n",
       "        <td id=\"T_3c3b3508_6dc0_11e9_ae46_3402864a3df9row6_col10\" class=\"data row6 col10\" >0.269303</td> \n",
       "    </tr>    <tr> \n",
       "        <th id=\"T_3c3b3508_6dc0_11e9_ae46_3402864a3df9level0_row7\" class=\"row_heading level0 row7\" >passMatchup</th> \n",
       "        <td id=\"T_3c3b3508_6dc0_11e9_ae46_3402864a3df9row7_col0\" class=\"data row7 col0\" >0.216242</td> \n",
       "        <td id=\"T_3c3b3508_6dc0_11e9_ae46_3402864a3df9row7_col1\" class=\"data row7 col1\" >0.514736</td> \n",
       "        <td id=\"T_3c3b3508_6dc0_11e9_ae46_3402864a3df9row7_col2\" class=\"data row7 col2\" >0.0353229</td> \n",
       "        <td id=\"T_3c3b3508_6dc0_11e9_ae46_3402864a3df9row7_col3\" class=\"data row7 col3\" >0.157335</td> \n",
       "        <td id=\"T_3c3b3508_6dc0_11e9_ae46_3402864a3df9row7_col4\" class=\"data row7 col4\" >0.0729054</td> \n",
       "        <td id=\"T_3c3b3508_6dc0_11e9_ae46_3402864a3df9row7_col5\" class=\"data row7 col5\" >0.610908</td> \n",
       "        <td id=\"T_3c3b3508_6dc0_11e9_ae46_3402864a3df9row7_col6\" class=\"data row7 col6\" >0.465104</td> \n",
       "        <td id=\"T_3c3b3508_6dc0_11e9_ae46_3402864a3df9row7_col7\" class=\"data row7 col7\" >1</td> \n",
       "        <td id=\"T_3c3b3508_6dc0_11e9_ae46_3402864a3df9row7_col8\" class=\"data row7 col8\" >0.762152</td> \n",
       "        <td id=\"T_3c3b3508_6dc0_11e9_ae46_3402864a3df9row7_col9\" class=\"data row7 col9\" >0.638371</td> \n",
       "        <td id=\"T_3c3b3508_6dc0_11e9_ae46_3402864a3df9row7_col10\" class=\"data row7 col10\" >0.234116</td> \n",
       "    </tr>    <tr> \n",
       "        <th id=\"T_3c3b3508_6dc0_11e9_ae46_3402864a3df9level0_row8\" class=\"row_heading level0 row8\" >offMatchup</th> \n",
       "        <td id=\"T_3c3b3508_6dc0_11e9_ae46_3402864a3df9row8_col0\" class=\"data row8 col0\" >0.132368</td> \n",
       "        <td id=\"T_3c3b3508_6dc0_11e9_ae46_3402864a3df9row8_col1\" class=\"data row8 col1\" >0.499767</td> \n",
       "        <td id=\"T_3c3b3508_6dc0_11e9_ae46_3402864a3df9row8_col2\" class=\"data row8 col2\" >0.0124472</td> \n",
       "        <td id=\"T_3c3b3508_6dc0_11e9_ae46_3402864a3df9row8_col3\" class=\"data row8 col3\" >0.561324</td> \n",
       "        <td id=\"T_3c3b3508_6dc0_11e9_ae46_3402864a3df9row8_col4\" class=\"data row8 col4\" >0.295714</td> \n",
       "        <td id=\"T_3c3b3508_6dc0_11e9_ae46_3402864a3df9row8_col5\" class=\"data row8 col5\" >0.693633</td> \n",
       "        <td id=\"T_3c3b3508_6dc0_11e9_ae46_3402864a3df9row8_col6\" class=\"data row8 col6\" >0.473857</td> \n",
       "        <td id=\"T_3c3b3508_6dc0_11e9_ae46_3402864a3df9row8_col7\" class=\"data row8 col7\" >0.762152</td> \n",
       "        <td id=\"T_3c3b3508_6dc0_11e9_ae46_3402864a3df9row8_col8\" class=\"data row8 col8\" >1</td> \n",
       "        <td id=\"T_3c3b3508_6dc0_11e9_ae46_3402864a3df9row8_col9\" class=\"data row8 col9\" >0.64654</td> \n",
       "        <td id=\"T_3c3b3508_6dc0_11e9_ae46_3402864a3df9row8_col10\" class=\"data row8 col10\" >0.235993</td> \n",
       "    </tr>    <tr> \n",
       "        <th id=\"T_3c3b3508_6dc0_11e9_ae46_3402864a3df9level0_row9\" class=\"row_heading level0 row9\" >ptsMatchup</th> \n",
       "        <td id=\"T_3c3b3508_6dc0_11e9_ae46_3402864a3df9row9_col0\" class=\"data row9 col0\" >0.175412</td> \n",
       "        <td id=\"T_3c3b3508_6dc0_11e9_ae46_3402864a3df9row9_col1\" class=\"data row9 col1\" >0.478144</td> \n",
       "        <td id=\"T_3c3b3508_6dc0_11e9_ae46_3402864a3df9row9_col2\" class=\"data row9 col2\" >0.114562</td> \n",
       "        <td id=\"T_3c3b3508_6dc0_11e9_ae46_3402864a3df9row9_col3\" class=\"data row9 col3\" >0.283606</td> \n",
       "        <td id=\"T_3c3b3508_6dc0_11e9_ae46_3402864a3df9row9_col4\" class=\"data row9 col4\" >0.154357</td> \n",
       "        <td id=\"T_3c3b3508_6dc0_11e9_ae46_3402864a3df9row9_col5\" class=\"data row9 col5\" >0.617805</td> \n",
       "        <td id=\"T_3c3b3508_6dc0_11e9_ae46_3402864a3df9row9_col6\" class=\"data row9 col6\" >0.587692</td> \n",
       "        <td id=\"T_3c3b3508_6dc0_11e9_ae46_3402864a3df9row9_col7\" class=\"data row9 col7\" >0.638371</td> \n",
       "        <td id=\"T_3c3b3508_6dc0_11e9_ae46_3402864a3df9row9_col8\" class=\"data row9 col8\" >0.64654</td> \n",
       "        <td id=\"T_3c3b3508_6dc0_11e9_ae46_3402864a3df9row9_col9\" class=\"data row9 col9\" >1</td> \n",
       "        <td id=\"T_3c3b3508_6dc0_11e9_ae46_3402864a3df9row9_col10\" class=\"data row9 col10\" >0.285279</td> \n",
       "    </tr>    <tr> \n",
       "        <th id=\"T_3c3b3508_6dc0_11e9_ae46_3402864a3df9level0_row10\" class=\"row_heading level0 row10\" >pf</th> \n",
       "        <td id=\"T_3c3b3508_6dc0_11e9_ae46_3402864a3df9row10_col0\" class=\"data row10 col0\" >0.172356</td> \n",
       "        <td id=\"T_3c3b3508_6dc0_11e9_ae46_3402864a3df9row10_col1\" class=\"data row10 col1\" >0.193689</td> \n",
       "        <td id=\"T_3c3b3508_6dc0_11e9_ae46_3402864a3df9row10_col2\" class=\"data row10 col2\" >0.0854604</td> \n",
       "        <td id=\"T_3c3b3508_6dc0_11e9_ae46_3402864a3df9row10_col3\" class=\"data row10 col3\" >0.0796019</td> \n",
       "        <td id=\"T_3c3b3508_6dc0_11e9_ae46_3402864a3df9row10_col4\" class=\"data row10 col4\" >0.102824</td> \n",
       "        <td id=\"T_3c3b3508_6dc0_11e9_ae46_3402864a3df9row10_col5\" class=\"data row10 col5\" >0.233422</td> \n",
       "        <td id=\"T_3c3b3508_6dc0_11e9_ae46_3402864a3df9row10_col6\" class=\"data row10 col6\" >0.269303</td> \n",
       "        <td id=\"T_3c3b3508_6dc0_11e9_ae46_3402864a3df9row10_col7\" class=\"data row10 col7\" >0.234116</td> \n",
       "        <td id=\"T_3c3b3508_6dc0_11e9_ae46_3402864a3df9row10_col8\" class=\"data row10 col8\" >0.235993</td> \n",
       "        <td id=\"T_3c3b3508_6dc0_11e9_ae46_3402864a3df9row10_col9\" class=\"data row10 col9\" >0.285279</td> \n",
       "        <td id=\"T_3c3b3508_6dc0_11e9_ae46_3402864a3df9row10_col10\" class=\"data row10 col10\" >1</td> \n",
       "    </tr></tbody> \n",
       "</table> "
      ],
      "text/plain": [
       "<pandas.io.formats.style.Styler at 0xa33f5c0>"
      ]
     },
     "execution_count": 57,
     "metadata": {},
     "output_type": "execute_result"
    }
   ],
   "source": [
    "corr = homeMatchup[features].corr()\n",
    "corr.style.background_gradient(cmap='coolwarm')"
   ]
  },
  {
   "cell_type": "code",
   "execution_count": 58,
   "metadata": {},
   "outputs": [
    {
     "data": {
      "text/html": [
       "<style  type=\"text/css\" >\n",
       "    #T_7abe3000_6dc0_11e9_834c_3402864a3df9row0_col0 {\n",
       "            background-color:  #b40426;\n",
       "        }    #T_7abe3000_6dc0_11e9_834c_3402864a3df9row0_col1 {\n",
       "            background-color:  #d3dbe7;\n",
       "        }    #T_7abe3000_6dc0_11e9_834c_3402864a3df9row0_col2 {\n",
       "            background-color:  #4b64d5;\n",
       "        }    #T_7abe3000_6dc0_11e9_834c_3402864a3df9row0_col3 {\n",
       "            background-color:  #3b4cc0;\n",
       "        }    #T_7abe3000_6dc0_11e9_834c_3402864a3df9row0_col4 {\n",
       "            background-color:  #4c66d6;\n",
       "        }    #T_7abe3000_6dc0_11e9_834c_3402864a3df9row0_col5 {\n",
       "            background-color:  #6e90f2;\n",
       "        }    #T_7abe3000_6dc0_11e9_834c_3402864a3df9row0_col6 {\n",
       "            background-color:  #4358cb;\n",
       "        }    #T_7abe3000_6dc0_11e9_834c_3402864a3df9row0_col7 {\n",
       "            background-color:  #82a6fb;\n",
       "        }    #T_7abe3000_6dc0_11e9_834c_3402864a3df9row0_col8 {\n",
       "            background-color:  #6c8ff1;\n",
       "        }    #T_7abe3000_6dc0_11e9_834c_3402864a3df9row0_col9 {\n",
       "            background-color:  #5d7ce6;\n",
       "        }    #T_7abe3000_6dc0_11e9_834c_3402864a3df9row0_col10 {\n",
       "            background-color:  #5977e3;\n",
       "        }    #T_7abe3000_6dc0_11e9_834c_3402864a3df9row1_col0 {\n",
       "            background-color:  #d9dce1;\n",
       "        }    #T_7abe3000_6dc0_11e9_834c_3402864a3df9row1_col1 {\n",
       "            background-color:  #b40426;\n",
       "        }    #T_7abe3000_6dc0_11e9_834c_3402864a3df9row1_col2 {\n",
       "            background-color:  #3c4ec2;\n",
       "        }    #T_7abe3000_6dc0_11e9_834c_3402864a3df9row1_col3 {\n",
       "            background-color:  #516ddb;\n",
       "        }    #T_7abe3000_6dc0_11e9_834c_3402864a3df9row1_col4 {\n",
       "            background-color:  #5470de;\n",
       "        }    #T_7abe3000_6dc0_11e9_834c_3402864a3df9row1_col5 {\n",
       "            background-color:  #c7d7f0;\n",
       "        }    #T_7abe3000_6dc0_11e9_834c_3402864a3df9row1_col6 {\n",
       "            background-color:  #7b9ff9;\n",
       "        }    #T_7abe3000_6dc0_11e9_834c_3402864a3df9row1_col7 {\n",
       "            background-color:  #e1dad6;\n",
       "        }    #T_7abe3000_6dc0_11e9_834c_3402864a3df9row1_col8 {\n",
       "            background-color:  #dddcdc;\n",
       "        }    #T_7abe3000_6dc0_11e9_834c_3402864a3df9row1_col9 {\n",
       "            background-color:  #cbd8ee;\n",
       "        }    #T_7abe3000_6dc0_11e9_834c_3402864a3df9row1_col10 {\n",
       "            background-color:  #6c8ff1;\n",
       "        }    #T_7abe3000_6dc0_11e9_834c_3402864a3df9row2_col0 {\n",
       "            background-color:  #5875e1;\n",
       "        }    #T_7abe3000_6dc0_11e9_834c_3402864a3df9row2_col1 {\n",
       "            background-color:  #3b4cc0;\n",
       "        }    #T_7abe3000_6dc0_11e9_834c_3402864a3df9row2_col2 {\n",
       "            background-color:  #b40426;\n",
       "        }    #T_7abe3000_6dc0_11e9_834c_3402864a3df9row2_col3 {\n",
       "            background-color:  #465ecf;\n",
       "        }    #T_7abe3000_6dc0_11e9_834c_3402864a3df9row2_col4 {\n",
       "            background-color:  #4358cb;\n",
       "        }    #T_7abe3000_6dc0_11e9_834c_3402864a3df9row2_col5 {\n",
       "            background-color:  #3b4cc0;\n",
       "        }    #T_7abe3000_6dc0_11e9_834c_3402864a3df9row2_col6 {\n",
       "            background-color:  #3b4cc0;\n",
       "        }    #T_7abe3000_6dc0_11e9_834c_3402864a3df9row2_col7 {\n",
       "            background-color:  #3b4cc0;\n",
       "        }    #T_7abe3000_6dc0_11e9_834c_3402864a3df9row2_col8 {\n",
       "            background-color:  #3b4cc0;\n",
       "        }    #T_7abe3000_6dc0_11e9_834c_3402864a3df9row2_col9 {\n",
       "            background-color:  #3b4cc0;\n",
       "        }    #T_7abe3000_6dc0_11e9_834c_3402864a3df9row2_col10 {\n",
       "            background-color:  #3b4cc0;\n",
       "        }    #T_7abe3000_6dc0_11e9_834c_3402864a3df9row3_col0 {\n",
       "            background-color:  #3b4cc0;\n",
       "        }    #T_7abe3000_6dc0_11e9_834c_3402864a3df9row3_col1 {\n",
       "            background-color:  #445acc;\n",
       "        }    #T_7abe3000_6dc0_11e9_834c_3402864a3df9row3_col2 {\n",
       "            background-color:  #3b4cc0;\n",
       "        }    #T_7abe3000_6dc0_11e9_834c_3402864a3df9row3_col3 {\n",
       "            background-color:  #b40426;\n",
       "        }    #T_7abe3000_6dc0_11e9_834c_3402864a3df9row3_col4 {\n",
       "            background-color:  #3b4cc0;\n",
       "        }    #T_7abe3000_6dc0_11e9_834c_3402864a3df9row3_col5 {\n",
       "            background-color:  #9abbff;\n",
       "        }    #T_7abe3000_6dc0_11e9_834c_3402864a3df9row3_col6 {\n",
       "            background-color:  #4e68d8;\n",
       "        }    #T_7abe3000_6dc0_11e9_834c_3402864a3df9row3_col7 {\n",
       "            background-color:  #6a8bef;\n",
       "        }    #T_7abe3000_6dc0_11e9_834c_3402864a3df9row3_col8 {\n",
       "            background-color:  #e9d5cb;\n",
       "        }    #T_7abe3000_6dc0_11e9_834c_3402864a3df9row3_col9 {\n",
       "            background-color:  #80a3fa;\n",
       "        }    #T_7abe3000_6dc0_11e9_834c_3402864a3df9row3_col10 {\n",
       "            background-color:  #5a78e4;\n",
       "        }    #T_7abe3000_6dc0_11e9_834c_3402864a3df9row4_col0 {\n",
       "            background-color:  #5673e0;\n",
       "        }    #T_7abe3000_6dc0_11e9_834c_3402864a3df9row4_col1 {\n",
       "            background-color:  #506bda;\n",
       "        }    #T_7abe3000_6dc0_11e9_834c_3402864a3df9row4_col2 {\n",
       "            background-color:  #4055c8;\n",
       "        }    #T_7abe3000_6dc0_11e9_834c_3402864a3df9row4_col3 {\n",
       "            background-color:  #445acc;\n",
       "        }    #T_7abe3000_6dc0_11e9_834c_3402864a3df9row4_col4 {\n",
       "            background-color:  #b40426;\n",
       "        }    #T_7abe3000_6dc0_11e9_834c_3402864a3df9row4_col5 {\n",
       "            background-color:  #80a3fa;\n",
       "        }    #T_7abe3000_6dc0_11e9_834c_3402864a3df9row4_col6 {\n",
       "            background-color:  #3b4cc0;\n",
       "        }    #T_7abe3000_6dc0_11e9_834c_3402864a3df9row4_col7 {\n",
       "            background-color:  #4a63d3;\n",
       "        }    #T_7abe3000_6dc0_11e9_834c_3402864a3df9row4_col8 {\n",
       "            background-color:  #9ebeff;\n",
       "        }    #T_7abe3000_6dc0_11e9_834c_3402864a3df9row4_col9 {\n",
       "            background-color:  #536edd;\n",
       "        }    #T_7abe3000_6dc0_11e9_834c_3402864a3df9row4_col10 {\n",
       "            background-color:  #3b4cc0;\n",
       "        }    #T_7abe3000_6dc0_11e9_834c_3402864a3df9row5_col0 {\n",
       "            background-color:  #86a9fc;\n",
       "        }    #T_7abe3000_6dc0_11e9_834c_3402864a3df9row5_col1 {\n",
       "            background-color:  #cedaeb;\n",
       "        }    #T_7abe3000_6dc0_11e9_834c_3402864a3df9row5_col2 {\n",
       "            background-color:  #485fd1;\n",
       "        }    #T_7abe3000_6dc0_11e9_834c_3402864a3df9row5_col3 {\n",
       "            background-color:  #aec9fc;\n",
       "        }    #T_7abe3000_6dc0_11e9_834c_3402864a3df9row5_col4 {\n",
       "            background-color:  #8db0fe;\n",
       "        }    #T_7abe3000_6dc0_11e9_834c_3402864a3df9row5_col5 {\n",
       "            background-color:  #b40426;\n",
       "        }    #T_7abe3000_6dc0_11e9_834c_3402864a3df9row5_col6 {\n",
       "            background-color:  #f5c0a7;\n",
       "        }    #T_7abe3000_6dc0_11e9_834c_3402864a3df9row5_col7 {\n",
       "            background-color:  #f3c7b1;\n",
       "        }    #T_7abe3000_6dc0_11e9_834c_3402864a3df9row5_col8 {\n",
       "            background-color:  #f7aa8c;\n",
       "        }    #T_7abe3000_6dc0_11e9_834c_3402864a3df9row5_col9 {\n",
       "            background-color:  #efcfbf;\n",
       "        }    #T_7abe3000_6dc0_11e9_834c_3402864a3df9row5_col10 {\n",
       "            background-color:  #81a4fb;\n",
       "        }    #T_7abe3000_6dc0_11e9_834c_3402864a3df9row6_col0 {\n",
       "            background-color:  #84a7fc;\n",
       "        }    #T_7abe3000_6dc0_11e9_834c_3402864a3df9row6_col1 {\n",
       "            background-color:  #a9c6fd;\n",
       "        }    #T_7abe3000_6dc0_11e9_834c_3402864a3df9row6_col2 {\n",
       "            background-color:  #7093f3;\n",
       "        }    #T_7abe3000_6dc0_11e9_834c_3402864a3df9row6_col3 {\n",
       "            background-color:  #8db0fe;\n",
       "        }    #T_7abe3000_6dc0_11e9_834c_3402864a3df9row6_col4 {\n",
       "            background-color:  #7093f3;\n",
       "        }    #T_7abe3000_6dc0_11e9_834c_3402864a3df9row6_col5 {\n",
       "            background-color:  #f7b194;\n",
       "        }    #T_7abe3000_6dc0_11e9_834c_3402864a3df9row6_col6 {\n",
       "            background-color:  #b40426;\n",
       "        }    #T_7abe3000_6dc0_11e9_834c_3402864a3df9row6_col7 {\n",
       "            background-color:  #d6dce4;\n",
       "        }    #T_7abe3000_6dc0_11e9_834c_3402864a3df9row6_col8 {\n",
       "            background-color:  #dcdddd;\n",
       "        }    #T_7abe3000_6dc0_11e9_834c_3402864a3df9row6_col9 {\n",
       "            background-color:  #e8d6cc;\n",
       "        }    #T_7abe3000_6dc0_11e9_834c_3402864a3df9row6_col10 {\n",
       "            background-color:  #90b2fe;\n",
       "        }    #T_7abe3000_6dc0_11e9_834c_3402864a3df9row7_col0 {\n",
       "            background-color:  #93b5fe;\n",
       "        }    #T_7abe3000_6dc0_11e9_834c_3402864a3df9row7_col1 {\n",
       "            background-color:  #e3d9d3;\n",
       "        }    #T_7abe3000_6dc0_11e9_834c_3402864a3df9row7_col2 {\n",
       "            background-color:  #4055c8;\n",
       "        }    #T_7abe3000_6dc0_11e9_834c_3402864a3df9row7_col3 {\n",
       "            background-color:  #7b9ff9;\n",
       "        }    #T_7abe3000_6dc0_11e9_834c_3402864a3df9row7_col4 {\n",
       "            background-color:  #536edd;\n",
       "        }    #T_7abe3000_6dc0_11e9_834c_3402864a3df9row7_col5 {\n",
       "            background-color:  #f2cab5;\n",
       "        }    #T_7abe3000_6dc0_11e9_834c_3402864a3df9row7_col6 {\n",
       "            background-color:  #bad0f8;\n",
       "        }    #T_7abe3000_6dc0_11e9_834c_3402864a3df9row7_col7 {\n",
       "            background-color:  #b40426;\n",
       "        }    #T_7abe3000_6dc0_11e9_834c_3402864a3df9row7_col8 {\n",
       "            background-color:  #f18f71;\n",
       "        }    #T_7abe3000_6dc0_11e9_834c_3402864a3df9row7_col9 {\n",
       "            background-color:  #f3c7b1;\n",
       "        }    #T_7abe3000_6dc0_11e9_834c_3402864a3df9row7_col10 {\n",
       "            background-color:  #88abfd;\n",
       "        }    #T_7abe3000_6dc0_11e9_834c_3402864a3df9row8_col0 {\n",
       "            background-color:  #799cf8;\n",
       "        }    #T_7abe3000_6dc0_11e9_834c_3402864a3df9row8_col1 {\n",
       "            background-color:  #dddcdc;\n",
       "        }    #T_7abe3000_6dc0_11e9_834c_3402864a3df9row8_col2 {\n",
       "            background-color:  #3b4cc0;\n",
       "        }    #T_7abe3000_6dc0_11e9_834c_3402864a3df9row8_col3 {\n",
       "            background-color:  #edd2c3;\n",
       "        }    #T_7abe3000_6dc0_11e9_834c_3402864a3df9row8_col4 {\n",
       "            background-color:  #9fbfff;\n",
       "        }    #T_7abe3000_6dc0_11e9_834c_3402864a3df9row8_col5 {\n",
       "            background-color:  #f7af91;\n",
       "        }    #T_7abe3000_6dc0_11e9_834c_3402864a3df9row8_col6 {\n",
       "            background-color:  #c0d4f5;\n",
       "        }    #T_7abe3000_6dc0_11e9_834c_3402864a3df9row8_col7 {\n",
       "            background-color:  #f29072;\n",
       "        }    #T_7abe3000_6dc0_11e9_834c_3402864a3df9row8_col8 {\n",
       "            background-color:  #b40426;\n",
       "        }    #T_7abe3000_6dc0_11e9_834c_3402864a3df9row8_col9 {\n",
       "            background-color:  #f5c2aa;\n",
       "        }    #T_7abe3000_6dc0_11e9_834c_3402864a3df9row8_col10 {\n",
       "            background-color:  #85a8fc;\n",
       "        }    #T_7abe3000_6dc0_11e9_834c_3402864a3df9row9_col0 {\n",
       "            background-color:  #85a8fc;\n",
       "        }    #T_7abe3000_6dc0_11e9_834c_3402864a3df9row9_col1 {\n",
       "            background-color:  #d9dce1;\n",
       "        }    #T_7abe3000_6dc0_11e9_834c_3402864a3df9row9_col2 {\n",
       "            background-color:  #5875e1;\n",
       "        }    #T_7abe3000_6dc0_11e9_834c_3402864a3df9row9_col3 {\n",
       "            background-color:  #a5c3fe;\n",
       "        }    #T_7abe3000_6dc0_11e9_834c_3402864a3df9row9_col4 {\n",
       "            background-color:  #7295f4;\n",
       "        }    #T_7abe3000_6dc0_11e9_834c_3402864a3df9row9_col5 {\n",
       "            background-color:  #f2cab5;\n",
       "        }    #T_7abe3000_6dc0_11e9_834c_3402864a3df9row9_col6 {\n",
       "            background-color:  #dedcdb;\n",
       "        }    #T_7abe3000_6dc0_11e9_834c_3402864a3df9row9_col7 {\n",
       "            background-color:  #f6bfa6;\n",
       "        }    #T_7abe3000_6dc0_11e9_834c_3402864a3df9row9_col8 {\n",
       "            background-color:  #f7b89c;\n",
       "        }    #T_7abe3000_6dc0_11e9_834c_3402864a3df9row9_col9 {\n",
       "            background-color:  #b40426;\n",
       "        }    #T_7abe3000_6dc0_11e9_834c_3402864a3df9row9_col10 {\n",
       "            background-color:  #96b7ff;\n",
       "        }    #T_7abe3000_6dc0_11e9_834c_3402864a3df9row10_col0 {\n",
       "            background-color:  #7093f3;\n",
       "        }    #T_7abe3000_6dc0_11e9_834c_3402864a3df9row10_col1 {\n",
       "            background-color:  #7699f6;\n",
       "        }    #T_7abe3000_6dc0_11e9_834c_3402864a3df9row10_col2 {\n",
       "            background-color:  #465ecf;\n",
       "        }    #T_7abe3000_6dc0_11e9_834c_3402864a3df9row10_col3 {\n",
       "            background-color:  #7295f4;\n",
       "        }    #T_7abe3000_6dc0_11e9_834c_3402864a3df9row10_col4 {\n",
       "            background-color:  #485fd1;\n",
       "        }    #T_7abe3000_6dc0_11e9_834c_3402864a3df9row10_col5 {\n",
       "            background-color:  #81a4fb;\n",
       "        }    #T_7abe3000_6dc0_11e9_834c_3402864a3df9row10_col6 {\n",
       "            background-color:  #6a8bef;\n",
       "        }    #T_7abe3000_6dc0_11e9_834c_3402864a3df9row10_col7 {\n",
       "            background-color:  #8db0fe;\n",
       "        }    #T_7abe3000_6dc0_11e9_834c_3402864a3df9row10_col8 {\n",
       "            background-color:  #90b2fe;\n",
       "        }    #T_7abe3000_6dc0_11e9_834c_3402864a3df9row10_col9 {\n",
       "            background-color:  #85a8fc;\n",
       "        }    #T_7abe3000_6dc0_11e9_834c_3402864a3df9row10_col10 {\n",
       "            background-color:  #b40426;\n",
       "        }</style>  \n",
       "<table id=\"T_7abe3000_6dc0_11e9_834c_3402864a3df9\" > \n",
       "<thead>    <tr> \n",
       "        <th class=\"blank level0\" ></th> \n",
       "        <th class=\"col_heading level0 col0\" >offDvoaMatchup</th> \n",
       "        <th class=\"col_heading level0 col1\" >avgRecv</th> \n",
       "        <th class=\"col_heading level0 col2\" >stDvoa</th> \n",
       "        <th class=\"col_heading level0 col3\" >runMatchup</th> \n",
       "        <th class=\"col_heading level0 col4\" >pblkMatchup</th> \n",
       "        <th class=\"col_heading level0 col5\" >ovrMatchup</th> \n",
       "        <th class=\"col_heading level0 col6\" >totalDvoaMatchup</th> \n",
       "        <th class=\"col_heading level0 col7\" >passMatchup</th> \n",
       "        <th class=\"col_heading level0 col8\" >offMatchup</th> \n",
       "        <th class=\"col_heading level0 col9\" >ptsMatchup</th> \n",
       "        <th class=\"col_heading level0 col10\" >pf</th> \n",
       "    </tr></thead> \n",
       "<tbody>    <tr> \n",
       "        <th id=\"T_7abe3000_6dc0_11e9_834c_3402864a3df9level0_row0\" class=\"row_heading level0 row0\" >offDvoaMatchup</th> \n",
       "        <td id=\"T_7abe3000_6dc0_11e9_834c_3402864a3df9row0_col0\" class=\"data row0 col0\" >1</td> \n",
       "        <td id=\"T_7abe3000_6dc0_11e9_834c_3402864a3df9row0_col1\" class=\"data row0 col1\" >0.456294</td> \n",
       "        <td id=\"T_7abe3000_6dc0_11e9_834c_3402864a3df9row0_col2\" class=\"data row0 col2\" >0.0438029</td> \n",
       "        <td id=\"T_7abe3000_6dc0_11e9_834c_3402864a3df9row0_col3\" class=\"data row0 col3\" >-0.0572846</td> \n",
       "        <td id=\"T_7abe3000_6dc0_11e9_834c_3402864a3df9row0_col4\" class=\"data row0 col4\" >0.0386995</td> \n",
       "        <td id=\"T_7abe3000_6dc0_11e9_834c_3402864a3df9row0_col5\" class=\"data row0 col5\" >0.186499</td> \n",
       "        <td id=\"T_7abe3000_6dc0_11e9_834c_3402864a3df9row0_col6\" class=\"data row0 col6\" >0.178425</td> \n",
       "        <td id=\"T_7abe3000_6dc0_11e9_834c_3402864a3df9row0_col7\" class=\"data row0 col7\" >0.224991</td> \n",
       "        <td id=\"T_7abe3000_6dc0_11e9_834c_3402864a3df9row0_col8\" class=\"data row0 col8\" >0.145469</td> \n",
       "        <td id=\"T_7abe3000_6dc0_11e9_834c_3402864a3df9row0_col9\" class=\"data row0 col9\" >0.185901</td> \n",
       "        <td id=\"T_7abe3000_6dc0_11e9_834c_3402864a3df9row0_col10\" class=\"data row0 col10\" >0.121729</td> \n",
       "    </tr>    <tr> \n",
       "        <th id=\"T_7abe3000_6dc0_11e9_834c_3402864a3df9level0_row1\" class=\"row_heading level0 row1\" >avgRecv</th> \n",
       "        <td id=\"T_7abe3000_6dc0_11e9_834c_3402864a3df9row1_col0\" class=\"data row1 col0\" >0.456294</td> \n",
       "        <td id=\"T_7abe3000_6dc0_11e9_834c_3402864a3df9row1_col1\" class=\"data row1 col1\" >1</td> \n",
       "        <td id=\"T_7abe3000_6dc0_11e9_834c_3402864a3df9row1_col2\" class=\"data row1 col2\" >-0.00973244</td> \n",
       "        <td id=\"T_7abe3000_6dc0_11e9_834c_3402864a3df9row1_col3\" class=\"data row1 col3\" >0.0227772</td> \n",
       "        <td id=\"T_7abe3000_6dc0_11e9_834c_3402864a3df9row1_col4\" class=\"data row1 col4\" >0.0635511</td> \n",
       "        <td id=\"T_7abe3000_6dc0_11e9_834c_3402864a3df9row1_col5\" class=\"data row1 col5\" >0.440418</td> \n",
       "        <td id=\"T_7abe3000_6dc0_11e9_834c_3402864a3df9row1_col6\" class=\"data row1 col6\" >0.32339</td> \n",
       "        <td id=\"T_7abe3000_6dc0_11e9_834c_3402864a3df9row1_col7\" class=\"data row1 col7\" >0.522111</td> \n",
       "        <td id=\"T_7abe3000_6dc0_11e9_834c_3402864a3df9row1_col8\" class=\"data row1 col8\" >0.495672</td> \n",
       "        <td id=\"T_7abe3000_6dc0_11e9_834c_3402864a3df9row1_col9\" class=\"data row1 col9\" >0.483077</td> \n",
       "        <td id=\"T_7abe3000_6dc0_11e9_834c_3402864a3df9row1_col10\" class=\"data row1 col10\" >0.178475</td> \n",
       "    </tr>    <tr> \n",
       "        <th id=\"T_7abe3000_6dc0_11e9_834c_3402864a3df9level0_row2\" class=\"row_heading level0 row2\" >stDvoa</th> \n",
       "        <td id=\"T_7abe3000_6dc0_11e9_834c_3402864a3df9row2_col0\" class=\"data row2 col0\" >0.0438029</td> \n",
       "        <td id=\"T_7abe3000_6dc0_11e9_834c_3402864a3df9row2_col1\" class=\"data row2 col1\" >-0.00973244</td> \n",
       "        <td id=\"T_7abe3000_6dc0_11e9_834c_3402864a3df9row2_col2\" class=\"data row2 col2\" >1</td> \n",
       "        <td id=\"T_7abe3000_6dc0_11e9_834c_3402864a3df9row2_col3\" class=\"data row2 col3\" >-0.0136609</td> \n",
       "        <td id=\"T_7abe3000_6dc0_11e9_834c_3402864a3df9row2_col4\" class=\"data row2 col4\" >0.00718014</td> \n",
       "        <td id=\"T_7abe3000_6dc0_11e9_834c_3402864a3df9row2_col5\" class=\"data row2 col5\" >0.029566</td> \n",
       "        <td id=\"T_7abe3000_6dc0_11e9_834c_3402864a3df9row2_col6\" class=\"data row2 col6\" >0.15686</td> \n",
       "        <td id=\"T_7abe3000_6dc0_11e9_834c_3402864a3df9row2_col7\" class=\"data row2 col7\" >0.00592466</td> \n",
       "        <td id=\"T_7abe3000_6dc0_11e9_834c_3402864a3df9row2_col8\" class=\"data row2 col8\" >-0.0141906</td> \n",
       "        <td id=\"T_7abe3000_6dc0_11e9_834c_3402864a3df9row2_col9\" class=\"data row2 col9\" >0.0839382</td> \n",
       "        <td id=\"T_7abe3000_6dc0_11e9_834c_3402864a3df9row2_col10\" class=\"data row2 col10\" >0.0284542</td> \n",
       "    </tr>    <tr> \n",
       "        <th id=\"T_7abe3000_6dc0_11e9_834c_3402864a3df9level0_row3\" class=\"row_heading level0 row3\" >runMatchup</th> \n",
       "        <td id=\"T_7abe3000_6dc0_11e9_834c_3402864a3df9row3_col0\" class=\"data row3 col0\" >-0.0572846</td> \n",
       "        <td id=\"T_7abe3000_6dc0_11e9_834c_3402864a3df9row3_col1\" class=\"data row3 col1\" >0.0227772</td> \n",
       "        <td id=\"T_7abe3000_6dc0_11e9_834c_3402864a3df9row3_col2\" class=\"data row3 col2\" >-0.0136609</td> \n",
       "        <td id=\"T_7abe3000_6dc0_11e9_834c_3402864a3df9row3_col3\" class=\"data row3 col3\" >1</td> \n",
       "        <td id=\"T_7abe3000_6dc0_11e9_834c_3402864a3df9row3_col4\" class=\"data row3 col4\" >-0.0211786</td> \n",
       "        <td id=\"T_7abe3000_6dc0_11e9_834c_3402864a3df9row3_col5\" class=\"data row3 col5\" >0.308102</td> \n",
       "        <td id=\"T_7abe3000_6dc0_11e9_834c_3402864a3df9row3_col6\" class=\"data row3 col6\" >0.207647</td> \n",
       "        <td id=\"T_7abe3000_6dc0_11e9_834c_3402864a3df9row3_col7\" class=\"data row3 col7\" >0.1548</td> \n",
       "        <td id=\"T_7abe3000_6dc0_11e9_834c_3402864a3df9row3_col8\" class=\"data row3 col8\" >0.542278</td> \n",
       "        <td id=\"T_7abe3000_6dc0_11e9_834c_3402864a3df9row3_col9\" class=\"data row3 col9\" >0.280744</td> \n",
       "        <td id=\"T_7abe3000_6dc0_11e9_834c_3402864a3df9row3_col10\" class=\"data row3 col10\" >0.12586</td> \n",
       "    </tr>    <tr> \n",
       "        <th id=\"T_7abe3000_6dc0_11e9_834c_3402864a3df9level0_row4\" class=\"row_heading level0 row4\" >pblkMatchup</th> \n",
       "        <td id=\"T_7abe3000_6dc0_11e9_834c_3402864a3df9row4_col0\" class=\"data row4 col0\" >0.0386995</td> \n",
       "        <td id=\"T_7abe3000_6dc0_11e9_834c_3402864a3df9row4_col1\" class=\"data row4 col1\" >0.0635511</td> \n",
       "        <td id=\"T_7abe3000_6dc0_11e9_834c_3402864a3df9row4_col2\" class=\"data row4 col2\" >0.00718014</td> \n",
       "        <td id=\"T_7abe3000_6dc0_11e9_834c_3402864a3df9row4_col3\" class=\"data row4 col3\" >-0.0211786</td> \n",
       "        <td id=\"T_7abe3000_6dc0_11e9_834c_3402864a3df9row4_col4\" class=\"data row4 col4\" >1</td> \n",
       "        <td id=\"T_7abe3000_6dc0_11e9_834c_3402864a3df9row4_col5\" class=\"data row4 col5\" >0.235913</td> \n",
       "        <td id=\"T_7abe3000_6dc0_11e9_834c_3402864a3df9row4_col6\" class=\"data row4 col6\" >0.153557</td> \n",
       "        <td id=\"T_7abe3000_6dc0_11e9_834c_3402864a3df9row4_col7\" class=\"data row4 col7\" >0.0599073</td> \n",
       "        <td id=\"T_7abe3000_6dc0_11e9_834c_3402864a3df9row4_col8\" class=\"data row4 col8\" >0.287949</td> \n",
       "        <td id=\"T_7abe3000_6dc0_11e9_834c_3402864a3df9row4_col9\" class=\"data row4 col9\" >0.155539</td> \n",
       "        <td id=\"T_7abe3000_6dc0_11e9_834c_3402864a3df9row4_col10\" class=\"data row4 col10\" >0.0254453</td> \n",
       "    </tr>    <tr> \n",
       "        <th id=\"T_7abe3000_6dc0_11e9_834c_3402864a3df9level0_row5\" class=\"row_heading level0 row5\" >ovrMatchup</th> \n",
       "        <td id=\"T_7abe3000_6dc0_11e9_834c_3402864a3df9row5_col0\" class=\"data row5 col0\" >0.186499</td> \n",
       "        <td id=\"T_7abe3000_6dc0_11e9_834c_3402864a3df9row5_col1\" class=\"data row5 col1\" >0.440418</td> \n",
       "        <td id=\"T_7abe3000_6dc0_11e9_834c_3402864a3df9row5_col2\" class=\"data row5 col2\" >0.029566</td> \n",
       "        <td id=\"T_7abe3000_6dc0_11e9_834c_3402864a3df9row5_col3\" class=\"data row5 col3\" >0.308102</td> \n",
       "        <td id=\"T_7abe3000_6dc0_11e9_834c_3402864a3df9row5_col4\" class=\"data row5 col4\" >0.235913</td> \n",
       "        <td id=\"T_7abe3000_6dc0_11e9_834c_3402864a3df9row5_col5\" class=\"data row5 col5\" >1</td> \n",
       "        <td id=\"T_7abe3000_6dc0_11e9_834c_3402864a3df9row5_col6\" class=\"data row5 col6\" >0.695742</td> \n",
       "        <td id=\"T_7abe3000_6dc0_11e9_834c_3402864a3df9row5_col7\" class=\"data row5 col7\" >0.616786</td> \n",
       "        <td id=\"T_7abe3000_6dc0_11e9_834c_3402864a3df9row5_col8\" class=\"data row5 col8\" >0.701385</td> \n",
       "        <td id=\"T_7abe3000_6dc0_11e9_834c_3402864a3df9row5_col9\" class=\"data row5 col9\" >0.614794</td> \n",
       "        <td id=\"T_7abe3000_6dc0_11e9_834c_3402864a3df9row5_col10\" class=\"data row5 col10\" >0.238515</td> \n",
       "    </tr>    <tr> \n",
       "        <th id=\"T_7abe3000_6dc0_11e9_834c_3402864a3df9level0_row6\" class=\"row_heading level0 row6\" >totalDvoaMatchup</th> \n",
       "        <td id=\"T_7abe3000_6dc0_11e9_834c_3402864a3df9row6_col0\" class=\"data row6 col0\" >0.178425</td> \n",
       "        <td id=\"T_7abe3000_6dc0_11e9_834c_3402864a3df9row6_col1\" class=\"data row6 col1\" >0.32339</td> \n",
       "        <td id=\"T_7abe3000_6dc0_11e9_834c_3402864a3df9row6_col2\" class=\"data row6 col2\" >0.15686</td> \n",
       "        <td id=\"T_7abe3000_6dc0_11e9_834c_3402864a3df9row6_col3\" class=\"data row6 col3\" >0.207647</td> \n",
       "        <td id=\"T_7abe3000_6dc0_11e9_834c_3402864a3df9row6_col4\" class=\"data row6 col4\" >0.153557</td> \n",
       "        <td id=\"T_7abe3000_6dc0_11e9_834c_3402864a3df9row6_col5\" class=\"data row6 col5\" >0.695742</td> \n",
       "        <td id=\"T_7abe3000_6dc0_11e9_834c_3402864a3df9row6_col6\" class=\"data row6 col6\" >1</td> \n",
       "        <td id=\"T_7abe3000_6dc0_11e9_834c_3402864a3df9row6_col7\" class=\"data row6 col7\" >0.475858</td> \n",
       "        <td id=\"T_7abe3000_6dc0_11e9_834c_3402864a3df9row6_col8\" class=\"data row6 col8\" >0.491936</td> \n",
       "        <td id=\"T_7abe3000_6dc0_11e9_834c_3402864a3df9row6_col9\" class=\"data row6 col9\" >0.581535</td> \n",
       "        <td id=\"T_7abe3000_6dc0_11e9_834c_3402864a3df9row6_col10\" class=\"data row6 col10\" >0.280353</td> \n",
       "    </tr>    <tr> \n",
       "        <th id=\"T_7abe3000_6dc0_11e9_834c_3402864a3df9level0_row7\" class=\"row_heading level0 row7\" >passMatchup</th> \n",
       "        <td id=\"T_7abe3000_6dc0_11e9_834c_3402864a3df9row7_col0\" class=\"data row7 col0\" >0.224991</td> \n",
       "        <td id=\"T_7abe3000_6dc0_11e9_834c_3402864a3df9row7_col1\" class=\"data row7 col1\" >0.522111</td> \n",
       "        <td id=\"T_7abe3000_6dc0_11e9_834c_3402864a3df9row7_col2\" class=\"data row7 col2\" >0.00592466</td> \n",
       "        <td id=\"T_7abe3000_6dc0_11e9_834c_3402864a3df9row7_col3\" class=\"data row7 col3\" >0.1548</td> \n",
       "        <td id=\"T_7abe3000_6dc0_11e9_834c_3402864a3df9row7_col4\" class=\"data row7 col4\" >0.0599073</td> \n",
       "        <td id=\"T_7abe3000_6dc0_11e9_834c_3402864a3df9row7_col5\" class=\"data row7 col5\" >0.616786</td> \n",
       "        <td id=\"T_7abe3000_6dc0_11e9_834c_3402864a3df9row7_col6\" class=\"data row7 col6\" >0.475858</td> \n",
       "        <td id=\"T_7abe3000_6dc0_11e9_834c_3402864a3df9row7_col7\" class=\"data row7 col7\" >1</td> \n",
       "        <td id=\"T_7abe3000_6dc0_11e9_834c_3402864a3df9row7_col8\" class=\"data row7 col8\" >0.771839</td> \n",
       "        <td id=\"T_7abe3000_6dc0_11e9_834c_3402864a3df9row7_col9\" class=\"data row7 col9\" >0.645901</td> \n",
       "        <td id=\"T_7abe3000_6dc0_11e9_834c_3402864a3df9row7_col10\" class=\"data row7 col10\" >0.256675</td> \n",
       "    </tr>    <tr> \n",
       "        <th id=\"T_7abe3000_6dc0_11e9_834c_3402864a3df9level0_row8\" class=\"row_heading level0 row8\" >offMatchup</th> \n",
       "        <td id=\"T_7abe3000_6dc0_11e9_834c_3402864a3df9row8_col0\" class=\"data row8 col0\" >0.145469</td> \n",
       "        <td id=\"T_7abe3000_6dc0_11e9_834c_3402864a3df9row8_col1\" class=\"data row8 col1\" >0.495672</td> \n",
       "        <td id=\"T_7abe3000_6dc0_11e9_834c_3402864a3df9row8_col2\" class=\"data row8 col2\" >-0.0141906</td> \n",
       "        <td id=\"T_7abe3000_6dc0_11e9_834c_3402864a3df9row8_col3\" class=\"data row8 col3\" >0.542278</td> \n",
       "        <td id=\"T_7abe3000_6dc0_11e9_834c_3402864a3df9row8_col4\" class=\"data row8 col4\" >0.287949</td> \n",
       "        <td id=\"T_7abe3000_6dc0_11e9_834c_3402864a3df9row8_col5\" class=\"data row8 col5\" >0.701385</td> \n",
       "        <td id=\"T_7abe3000_6dc0_11e9_834c_3402864a3df9row8_col6\" class=\"data row8 col6\" >0.491936</td> \n",
       "        <td id=\"T_7abe3000_6dc0_11e9_834c_3402864a3df9row8_col7\" class=\"data row8 col7\" >0.771839</td> \n",
       "        <td id=\"T_7abe3000_6dc0_11e9_834c_3402864a3df9row8_col8\" class=\"data row8 col8\" >1</td> \n",
       "        <td id=\"T_7abe3000_6dc0_11e9_834c_3402864a3df9row8_col9\" class=\"data row8 col9\" >0.660737</td> \n",
       "        <td id=\"T_7abe3000_6dc0_11e9_834c_3402864a3df9row8_col10\" class=\"data row8 col10\" >0.249005</td> \n",
       "    </tr>    <tr> \n",
       "        <th id=\"T_7abe3000_6dc0_11e9_834c_3402864a3df9level0_row9\" class=\"row_heading level0 row9\" >ptsMatchup</th> \n",
       "        <td id=\"T_7abe3000_6dc0_11e9_834c_3402864a3df9row9_col0\" class=\"data row9 col0\" >0.185901</td> \n",
       "        <td id=\"T_7abe3000_6dc0_11e9_834c_3402864a3df9row9_col1\" class=\"data row9 col1\" >0.483077</td> \n",
       "        <td id=\"T_7abe3000_6dc0_11e9_834c_3402864a3df9row9_col2\" class=\"data row9 col2\" >0.0839382</td> \n",
       "        <td id=\"T_7abe3000_6dc0_11e9_834c_3402864a3df9row9_col3\" class=\"data row9 col3\" >0.280744</td> \n",
       "        <td id=\"T_7abe3000_6dc0_11e9_834c_3402864a3df9row9_col4\" class=\"data row9 col4\" >0.155539</td> \n",
       "        <td id=\"T_7abe3000_6dc0_11e9_834c_3402864a3df9row9_col5\" class=\"data row9 col5\" >0.614794</td> \n",
       "        <td id=\"T_7abe3000_6dc0_11e9_834c_3402864a3df9row9_col6\" class=\"data row9 col6\" >0.581535</td> \n",
       "        <td id=\"T_7abe3000_6dc0_11e9_834c_3402864a3df9row9_col7\" class=\"data row9 col7\" >0.645901</td> \n",
       "        <td id=\"T_7abe3000_6dc0_11e9_834c_3402864a3df9row9_col8\" class=\"data row9 col8\" >0.660737</td> \n",
       "        <td id=\"T_7abe3000_6dc0_11e9_834c_3402864a3df9row9_col9\" class=\"data row9 col9\" >1</td> \n",
       "        <td id=\"T_7abe3000_6dc0_11e9_834c_3402864a3df9row9_col10\" class=\"data row9 col10\" >0.292522</td> \n",
       "    </tr>    <tr> \n",
       "        <th id=\"T_7abe3000_6dc0_11e9_834c_3402864a3df9level0_row10\" class=\"row_heading level0 row10\" >pf</th> \n",
       "        <td id=\"T_7abe3000_6dc0_11e9_834c_3402864a3df9row10_col0\" class=\"data row10 col0\" >0.121729</td> \n",
       "        <td id=\"T_7abe3000_6dc0_11e9_834c_3402864a3df9row10_col1\" class=\"data row10 col1\" >0.178475</td> \n",
       "        <td id=\"T_7abe3000_6dc0_11e9_834c_3402864a3df9row10_col2\" class=\"data row10 col2\" >0.0284542</td> \n",
       "        <td id=\"T_7abe3000_6dc0_11e9_834c_3402864a3df9row10_col3\" class=\"data row10 col3\" >0.12586</td> \n",
       "        <td id=\"T_7abe3000_6dc0_11e9_834c_3402864a3df9row10_col4\" class=\"data row10 col4\" >0.0254453</td> \n",
       "        <td id=\"T_7abe3000_6dc0_11e9_834c_3402864a3df9row10_col5\" class=\"data row10 col5\" >0.238515</td> \n",
       "        <td id=\"T_7abe3000_6dc0_11e9_834c_3402864a3df9row10_col6\" class=\"data row10 col6\" >0.280353</td> \n",
       "        <td id=\"T_7abe3000_6dc0_11e9_834c_3402864a3df9row10_col7\" class=\"data row10 col7\" >0.256675</td> \n",
       "        <td id=\"T_7abe3000_6dc0_11e9_834c_3402864a3df9row10_col8\" class=\"data row10 col8\" >0.249005</td> \n",
       "        <td id=\"T_7abe3000_6dc0_11e9_834c_3402864a3df9row10_col9\" class=\"data row10 col9\" >0.292522</td> \n",
       "        <td id=\"T_7abe3000_6dc0_11e9_834c_3402864a3df9row10_col10\" class=\"data row10 col10\" >1</td> \n",
       "    </tr></tbody> \n",
       "</table> "
      ],
      "text/plain": [
       "<pandas.io.formats.style.Styler at 0xa48f978>"
      ]
     },
     "execution_count": 58,
     "metadata": {},
     "output_type": "execute_result"
    }
   ],
   "source": [
    "corr = awayMatchup[features].corr()\n",
    "corr.style.background_gradient(cmap='coolwarm')"
   ]
  },
  {
   "cell_type": "code",
   "execution_count": null,
   "metadata": {
    "collapsed": true
   },
   "outputs": [],
   "source": []
  },
  {
   "cell_type": "code",
   "execution_count": null,
   "metadata": {
    "collapsed": true
   },
   "outputs": [],
   "source": []
  },
  {
   "cell_type": "code",
   "execution_count": null,
   "metadata": {
    "collapsed": true
   },
   "outputs": [],
   "source": []
  },
  {
   "cell_type": "code",
   "execution_count": null,
   "metadata": {
    "collapsed": true
   },
   "outputs": [],
   "source": []
  },
  {
   "cell_type": "code",
   "execution_count": null,
   "metadata": {
    "collapsed": true
   },
   "outputs": [],
   "source": []
  },
  {
   "cell_type": "code",
   "execution_count": null,
   "metadata": {
    "collapsed": true
   },
   "outputs": [],
   "source": []
  },
  {
   "cell_type": "code",
   "execution_count": null,
   "metadata": {
    "collapsed": true
   },
   "outputs": [],
   "source": []
  },
  {
   "cell_type": "code",
   "execution_count": null,
   "metadata": {
    "collapsed": true
   },
   "outputs": [],
   "source": []
  },
  {
   "cell_type": "code",
   "execution_count": null,
   "metadata": {
    "collapsed": true
   },
   "outputs": [],
   "source": []
  },
  {
   "cell_type": "code",
   "execution_count": null,
   "metadata": {
    "collapsed": true
   },
   "outputs": [],
   "source": []
  }
 ],
 "metadata": {
  "kernelspec": {
   "display_name": "Python 3",
   "language": "python",
   "name": "python3"
  },
  "language_info": {
   "codemirror_mode": {
    "name": "ipython",
    "version": 3
   },
   "file_extension": ".py",
   "mimetype": "text/x-python",
   "name": "python",
   "nbconvert_exporter": "python",
   "pygments_lexer": "ipython3",
   "version": "3.4.0"
  }
 },
 "nbformat": 4,
 "nbformat_minor": 2
}
