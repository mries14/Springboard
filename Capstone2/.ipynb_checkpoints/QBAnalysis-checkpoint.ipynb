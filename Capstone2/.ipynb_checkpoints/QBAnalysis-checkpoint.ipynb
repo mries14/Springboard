{
 "cells": [
  {
   "cell_type": "code",
   "execution_count": 1,
   "metadata": {},
   "outputs": [],
   "source": [
    "import pandas as pd\n",
    "import numpy as np\n",
    "import matplotlib.pyplot as plt"
   ]
  },
  {
   "cell_type": "markdown",
   "metadata": {},
   "source": [
    "# QB Data Analysis"
   ]
  },
  {
   "cell_type": "code",
   "execution_count": 2,
   "metadata": {},
   "outputs": [
    {
     "data": {
      "text/html": [
       "<div>\n",
       "<style scoped>\n",
       "    .dataframe tbody tr th:only-of-type {\n",
       "        vertical-align: middle;\n",
       "    }\n",
       "\n",
       "    .dataframe tbody tr th {\n",
       "        vertical-align: top;\n",
       "    }\n",
       "\n",
       "    .dataframe thead th {\n",
       "        text-align: right;\n",
       "    }\n",
       "</style>\n",
       "<table border=\"1\" class=\"dataframe\">\n",
       "  <thead>\n",
       "    <tr style=\"text-align: right;\">\n",
       "      <th></th>\n",
       "      <th>date</th>\n",
       "      <th>Opponent</th>\n",
       "      <th>gameId</th>\n",
       "      <th>Name</th>\n",
       "      <th>Team</th>\n",
       "      <th>season</th>\n",
       "      <th>Week</th>\n",
       "      <th>homeAway</th>\n",
       "      <th>surface</th>\n",
       "      <th>roof</th>\n",
       "      <th>...</th>\n",
       "      <th>defPYAallowed7</th>\n",
       "      <th>yardsMatchup</th>\n",
       "      <th>oTotMatchup</th>\n",
       "      <th>oPassMatchup</th>\n",
       "      <th>firstDownMatchup</th>\n",
       "      <th>passTdMatchup</th>\n",
       "      <th>passingRatingMatchup</th>\n",
       "      <th>fptsMatchup</th>\n",
       "      <th>PYAMatchup</th>\n",
       "      <th>FantasyPointsFanDuel</th>\n",
       "    </tr>\n",
       "  </thead>\n",
       "  <tbody>\n",
       "    <tr>\n",
       "      <th>0</th>\n",
       "      <td>2012-01-01</td>\n",
       "      <td>Packers</td>\n",
       "      <td>201201010gnb</td>\n",
       "      <td>Matthew Stafford</td>\n",
       "      <td>Lions</td>\n",
       "      <td>2011</td>\n",
       "      <td>17</td>\n",
       "      <td>away</td>\n",
       "      <td>grass</td>\n",
       "      <td>outdoors</td>\n",
       "      <td>...</td>\n",
       "      <td>7.457143</td>\n",
       "      <td>584.142857</td>\n",
       "      <td>8.684286</td>\n",
       "      <td>5.634286</td>\n",
       "      <td>45.857143</td>\n",
       "      <td>5.000000</td>\n",
       "      <td>176.728571</td>\n",
       "      <td>39.468571</td>\n",
       "      <td>15.600000</td>\n",
       "      <td>40.80</td>\n",
       "    </tr>\n",
       "    <tr>\n",
       "      <th>1</th>\n",
       "      <td>2011-12-04</td>\n",
       "      <td>Buccaneers</td>\n",
       "      <td>201112040tam</td>\n",
       "      <td>Cam Newton</td>\n",
       "      <td>Panthers</td>\n",
       "      <td>2011</td>\n",
       "      <td>13</td>\n",
       "      <td>away</td>\n",
       "      <td>grass</td>\n",
       "      <td>outdoors</td>\n",
       "      <td>...</td>\n",
       "      <td>8.757143</td>\n",
       "      <td>497.428571</td>\n",
       "      <td>13.870000</td>\n",
       "      <td>9.798571</td>\n",
       "      <td>41.714286</td>\n",
       "      <td>2.142857</td>\n",
       "      <td>180.147143</td>\n",
       "      <td>39.128571</td>\n",
       "      <td>16.442857</td>\n",
       "      <td>38.76</td>\n",
       "    </tr>\n",
       "    <tr>\n",
       "      <th>2</th>\n",
       "      <td>2011-10-02</td>\n",
       "      <td>Bears</td>\n",
       "      <td>201110020chi</td>\n",
       "      <td>Cam Newton</td>\n",
       "      <td>Panthers</td>\n",
       "      <td>2011</td>\n",
       "      <td>4</td>\n",
       "      <td>away</td>\n",
       "      <td>grass</td>\n",
       "      <td>outdoors</td>\n",
       "      <td>...</td>\n",
       "      <td>7.685714</td>\n",
       "      <td>464.714286</td>\n",
       "      <td>0.202857</td>\n",
       "      <td>2.972857</td>\n",
       "      <td>35.142857</td>\n",
       "      <td>4.571429</td>\n",
       "      <td>213.092857</td>\n",
       "      <td>44.025714</td>\n",
       "      <td>17.457143</td>\n",
       "      <td>33.46</td>\n",
       "    </tr>\n",
       "    <tr>\n",
       "      <th>3</th>\n",
       "      <td>2011-12-04</td>\n",
       "      <td>Giants</td>\n",
       "      <td>201112040nyg</td>\n",
       "      <td>Aaron Rodgers</td>\n",
       "      <td>Packers</td>\n",
       "      <td>2011</td>\n",
       "      <td>13</td>\n",
       "      <td>away</td>\n",
       "      <td>turf</td>\n",
       "      <td>outdoors</td>\n",
       "      <td>...</td>\n",
       "      <td>7.685714</td>\n",
       "      <td>519.714286</td>\n",
       "      <td>21.987143</td>\n",
       "      <td>22.858571</td>\n",
       "      <td>40.142857</td>\n",
       "      <td>4.571429</td>\n",
       "      <td>213.092857</td>\n",
       "      <td>44.025714</td>\n",
       "      <td>17.457143</td>\n",
       "      <td>32.96</td>\n",
       "    </tr>\n",
       "    <tr>\n",
       "      <th>4</th>\n",
       "      <td>2011-11-06</td>\n",
       "      <td>Chargers</td>\n",
       "      <td>201111060sdg</td>\n",
       "      <td>Aaron Rodgers</td>\n",
       "      <td>Packers</td>\n",
       "      <td>2011</td>\n",
       "      <td>9</td>\n",
       "      <td>away</td>\n",
       "      <td>grass</td>\n",
       "      <td>outdoors</td>\n",
       "      <td>...</td>\n",
       "      <td>7.342857</td>\n",
       "      <td>568.857143</td>\n",
       "      <td>14.962857</td>\n",
       "      <td>19.541429</td>\n",
       "      <td>42.000000</td>\n",
       "      <td>3.714286</td>\n",
       "      <td>184.685714</td>\n",
       "      <td>33.314286</td>\n",
       "      <td>15.057143</td>\n",
       "      <td>31.08</td>\n",
       "    </tr>\n",
       "  </tbody>\n",
       "</table>\n",
       "<p>5 rows × 113 columns</p>\n",
       "</div>"
      ],
      "text/plain": [
       "         date    Opponent        gameId              Name      Team  season  \\\n",
       "0  2012-01-01     Packers  201201010gnb  Matthew Stafford     Lions    2011   \n",
       "1  2011-12-04  Buccaneers  201112040tam        Cam Newton  Panthers    2011   \n",
       "2  2011-10-02       Bears  201110020chi        Cam Newton  Panthers    2011   \n",
       "3  2011-12-04      Giants  201112040nyg     Aaron Rodgers   Packers    2011   \n",
       "4  2011-11-06    Chargers  201111060sdg     Aaron Rodgers   Packers    2011   \n",
       "\n",
       "   Week homeAway surface      roof  ...  defPYAallowed7  yardsMatchup  \\\n",
       "0    17     away   grass  outdoors  ...        7.457143    584.142857   \n",
       "1    13     away   grass  outdoors  ...        8.757143    497.428571   \n",
       "2     4     away   grass  outdoors  ...        7.685714    464.714286   \n",
       "3    13     away    turf  outdoors  ...        7.685714    519.714286   \n",
       "4     9     away   grass  outdoors  ...        7.342857    568.857143   \n",
       "\n",
       "   oTotMatchup  oPassMatchup  firstDownMatchup  passTdMatchup  \\\n",
       "0     8.684286      5.634286         45.857143       5.000000   \n",
       "1    13.870000      9.798571         41.714286       2.142857   \n",
       "2     0.202857      2.972857         35.142857       4.571429   \n",
       "3    21.987143     22.858571         40.142857       4.571429   \n",
       "4    14.962857     19.541429         42.000000       3.714286   \n",
       "\n",
       "   passingRatingMatchup  fptsMatchup  PYAMatchup  FantasyPointsFanDuel  \n",
       "0            176.728571    39.468571   15.600000                 40.80  \n",
       "1            180.147143    39.128571   16.442857                 38.76  \n",
       "2            213.092857    44.025714   17.457143                 33.46  \n",
       "3            213.092857    44.025714   17.457143                 32.96  \n",
       "4            184.685714    33.314286   15.057143                 31.08  \n",
       "\n",
       "[5 rows x 113 columns]"
      ]
     },
     "execution_count": 2,
     "metadata": {},
     "output_type": "execute_result"
    }
   ],
   "source": [
    "qb = pd.read_csv('C://Users//Michael//Desktop//Springboard//Capstone2//csvFiles//qbModelData.csv',index_col=0)\n",
    "cols = list(qb.columns)\n",
    "cols.remove('FantasyPointsFanDuel')\n",
    "cols.remove('passTds')\n",
    "cols.append('FantasyPointsFanDuel')\n",
    "qb = qb[cols]\n",
    "qb.head()"
   ]
  },
  {
   "cell_type": "code",
   "execution_count": 3,
   "metadata": {},
   "outputs": [
    {
     "data": {
      "text/plain": [
       "Text(0, 0.5, 'Correlation to FantasyPointsFanDuel')"
      ]
     },
     "execution_count": 3,
     "metadata": {},
     "output_type": "execute_result"
    },
    {
     "data": {
      "image/png": "[encoded data removed]",
      "text/plain": [
       "<Figure size 432x288 with 1 Axes>"
      ]
     },
     "metadata": {
      "needs_background": "light"
     },
     "output_type": "display_data"
    }
   ],
   "source": [
    "corr = qb.corr().abs()\n",
    "topCorrs = corr['FantasyPointsFanDuel'].sort_values(ascending=False)[1:21]\n",
    "topCorrs.plot.bar()\n",
    "plt.ylabel('Correlation to FantasyPointsFanDuel')"
   ]
  },
  {
   "cell_type": "markdown",
   "metadata": {},
   "source": [
    "As we can see above, QB scoring is driven mainly by efficiency, and not by opportunity. Passing touchdowns correlate the most with QB fantasy production, with oPass, oTot, passing yards, passer rating, touchdowns per attempt, and a team's total points scored for the game in the next tier of variables. A quarterback's passing attempts does not crack the top 15 highest correlations to fantasy points.\n",
    "\n",
    "Fantasy players often target quarterbacks who are projected to throw the ball a high number of times, in hopes that more throws will lead to more fantasy points. This is the wrong approach. Instead, fantasy players should target quarterbacks who are projected to be efficient with the throws they make. Picking a quarterback who is favored (spread < 0) to win is a good approach when looking for a quarterback who is projected to be efficient."
   ]
  },
  {
   "cell_type": "code",
   "execution_count": 4,
   "metadata": {},
   "outputs": [
    {
     "data": {
      "text/plain": [
       "Text(0, 0.5, 'FantasyPointsFanDuel')"
      ]
     },
     "execution_count": 4,
     "metadata": {},
     "output_type": "execute_result"
    },
    {
     "data": {
      "image/png": "[encoded data removed]",
      "text/plain": [
       "<Figure size 432x288 with 1 Axes>"
      ]
     },
     "metadata": {
      "needs_background": "light"
     },
     "output_type": "display_data"
    }
   ],
   "source": [
    "awayDog = np.mean(qb[(qb['spread'] > 0) & (qb['homeAway'] == 'away')]['FantasyPointsFanDuel'])\n",
    "awayFav = np.mean(qb[(qb['spread'] <= 0) & (qb['homeAway'] == 'away')]['FantasyPointsFanDuel'])\n",
    "homeDog = np.mean(qb[(qb['spread'] > 0) & (qb['homeAway'] == 'home')]['FantasyPointsFanDuel'])\n",
    "homeFav = np.mean(qb[(qb['spread'] <= 0) & (qb['homeAway'] == 'home')]['FantasyPointsFanDuel'])\n",
    "\n",
    "splitList = ['awayDog','awayFav','homeDog','homeFav']\n",
    "\n",
    "plt.bar(splitList,[awayDog,awayFav,homeDog,homeFav])\n",
    "plt.ylabel('FantasyPointsFanDuel')"
   ]
  },
  {
   "cell_type": "markdown",
   "metadata": {},
   "source": [
    "As shown above, when a quarterback is favored to win, he performs better, on average. We typically want to target quarterbacks whose spread < 0, since these are the quarterbacks who are favored to win.\n",
    "\n",
    "It is common among the fantasy community to target quarterbacks in a game where the over/under (total) is set to a high number. Let's explore if this is justified."
   ]
  },
  {
   "cell_type": "code",
   "execution_count": 5,
   "metadata": {},
   "outputs": [
    {
     "name": "stdout",
     "output_type": "stream",
     "text": [
      "Avg. Fantasy Points when game total <= 48\n",
      "16.04764164305949\n",
      "--------------------------------------------------------\n",
      "Avg. Fantasy Points when game total > 48\n",
      "19.318686131386862\n"
     ]
    },
    {
     "data": {
      "text/plain": [
       "Text(0, 0.5, 'FantasyPointsFanDuel')"
      ]
     },
     "execution_count": 5,
     "metadata": {},
     "output_type": "execute_result"
    },
    {
     "data": {
      "image/png": "[encoded data removed]",
      "text/plain": [
       "<Figure size 432x288 with 1 Axes>"
      ]
     },
     "metadata": {
      "needs_background": "light"
     },
     "output_type": "display_data"
    }
   ],
   "source": [
    "\n",
    "print('Avg. Fantasy Points when game total <= 48')\n",
    "print(np.mean(qb[(qb['total'] <= 48)]['FantasyPointsFanDuel']))\n",
    "print('--------------------------------------------------------')\n",
    "print('Avg. Fantasy Points when game total > 48')\n",
    "print(np.mean(qb[(qb['total'] > 48)]['FantasyPointsFanDuel']))\n",
    "\n",
    "l18 = np.mean(qb[(qb['impliedTotal'] < 18)]['FantasyPointsFanDuel'])\n",
    "l22 = np.mean(qb[(qb['impliedTotal'] >= 18) & (qb['impliedTotal'] < 22)]['FantasyPointsFanDuel'])\n",
    "l26 = np.mean(qb[(qb['impliedTotal'] >= 22) & (qb['impliedTotal'] < 26)]['FantasyPointsFanDuel'])\n",
    "g26 = np.mean(qb[qb['impliedTotal'] >= 26]['FantasyPointsFanDuel'])\n",
    "\n",
    "splitList = ['x < 18','18 <= x < 22','22 <= x < 26','x > 26']\n",
    "\n",
    "plt.bar(splitList,[l18,l22,l26,g26])\n",
    "plt.title('Avg. Fantasy Points for Different impliedTotal Values')\n",
    "plt.xlabel('impliedTotal')\n",
    "plt.xticks(rotation=60)\n",
    "plt.ylabel('FantasyPointsFanDuel')"
   ]
  },
  {
   "cell_type": "markdown",
   "metadata": {},
   "source": [
    "We can see that fantasy points for quarterbacks increase when both the over/under (total) and impliedTotal are higher. Many fantasy players flock to quarterbacks in high-total games, which is a viable strategy, but one way to differentiate is to target quarterbacks with a high implied total, in games with lower totals. For example, if a quarterback is playing in a game where the total is 46 points, but is favored by 7 points to win, his implied total would be 26.5. The fantasy community might shy away from this player because the over/under isn't very high, but it may be a good choice to target this player since his implied total is high."
   ]
  }
 ],
 "metadata": {
  "kernelspec": {
   "display_name": "Python 3",
   "language": "python",
   "name": "python3"
  },
  "language_info": {
   "codemirror_mode": {
    "name": "ipython",
    "version": 3
   },
   "file_extension": ".py",
   "mimetype": "text/x-python",
   "name": "python",
   "nbconvert_exporter": "python",
   "pygments_lexer": "ipython3",
   "version": "3.7.4"
  }
 },
 "nbformat": 4,
 "nbformat_minor": 2
}
