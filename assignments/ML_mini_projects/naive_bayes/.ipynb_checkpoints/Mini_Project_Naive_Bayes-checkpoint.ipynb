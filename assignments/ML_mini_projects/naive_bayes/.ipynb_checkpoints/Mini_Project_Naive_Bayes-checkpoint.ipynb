{
 "cells": [
  {
   "cell_type": "markdown",
   "metadata": {},
   "source": [
    "# Basic Text Classification with Naive Bayes\n",
    "***\n",
    "In the mini-project, you'll learn the basics of text analysis using a subset of movie reviews from the rotten tomatoes database. You'll also use a fundamental technique in Bayesian inference, called Naive Bayes. This mini-project is based on [Lab 10 of Harvard's CS109](https://github.com/cs109/2015lab10) class.  Please free to go to the original lab for additional exercises and solutions."
   ]
  },
  {
   "cell_type": "code",
   "execution_count": 3,
   "metadata": {
    "collapsed": true
   },
   "outputs": [],
   "source": [
    "%matplotlib inline\n",
    "import numpy as np\n",
    "import scipy as sp\n",
    "import matplotlib as mpl\n",
    "import matplotlib.cm as cm\n",
    "import matplotlib.pyplot as plt\n",
    "import pandas as pd\n",
    "import seaborn as sns\n",
    "from six.moves import range\n",
    "\n",
    "# Setup Pandas\n",
    "pd.set_option('display.width', 500)\n",
    "pd.set_option('display.max_columns', 100)\n",
    "pd.set_option('display.notebook_repr_html', True)\n",
    "\n",
    "# Setup Seaborn\n",
    "sns.set_style(\"whitegrid\")\n",
    "sns.set_context(\"poster\")"
   ]
  },
  {
   "cell_type": "markdown",
   "metadata": {},
   "source": [
    "# Table of Contents\n",
    "\n",
    "* [Rotten Tomatoes Dataset](#Rotten-Tomatoes-Dataset)\n",
    "    * [Explore](#Explore)\n",
    "* [The Vector Space Model and a Search Engine](#The-Vector-Space-Model-and-a-Search-Engine)\n",
    "    * [In Code](#In-Code)\n",
    "* [Naive Bayes](#Naive-Bayes)\n",
    "    * [Multinomial Naive Bayes and Other Likelihood Functions](#Multinomial-Naive-Bayes-and-Other-Likelihood-Functions)\n",
    "    * [Picking Hyperparameters for Naive Bayes and Text Maintenance](#Picking-Hyperparameters-for-Naive-Bayes-and-Text-Maintenance)\n",
    "* [Interpretation](#Interpretation)\n"
   ]
  },
  {
   "cell_type": "markdown",
   "metadata": {},
   "source": [
    "## Rotten Tomatoes Dataset"
   ]
  },
  {
   "cell_type": "code",
   "execution_count": 4,
   "metadata": {},
   "outputs": [
    {
     "data": {
      "text/html": [
       "<div>\n",
       "<style>\n",
       "    .dataframe thead tr:only-child th {\n",
       "        text-align: right;\n",
       "    }\n",
       "\n",
       "    .dataframe thead th {\n",
       "        text-align: left;\n",
       "    }\n",
       "\n",
       "    .dataframe tbody tr th {\n",
       "        vertical-align: top;\n",
       "    }\n",
       "</style>\n",
       "<table border=\"1\" class=\"dataframe\">\n",
       "  <thead>\n",
       "    <tr style=\"text-align: right;\">\n",
       "      <th></th>\n",
       "      <th>critic</th>\n",
       "      <th>fresh</th>\n",
       "      <th>imdb</th>\n",
       "      <th>publication</th>\n",
       "      <th>quote</th>\n",
       "      <th>review_date</th>\n",
       "      <th>rtid</th>\n",
       "      <th>title</th>\n",
       "    </tr>\n",
       "  </thead>\n",
       "  <tbody>\n",
       "    <tr>\n",
       "      <th>1</th>\n",
       "      <td>Derek Adams</td>\n",
       "      <td>fresh</td>\n",
       "      <td>114709</td>\n",
       "      <td>Time Out</td>\n",
       "      <td>So ingenious in concept, design and execution ...</td>\n",
       "      <td>2009-10-04</td>\n",
       "      <td>9559</td>\n",
       "      <td>Toy story</td>\n",
       "    </tr>\n",
       "    <tr>\n",
       "      <th>2</th>\n",
       "      <td>Richard Corliss</td>\n",
       "      <td>fresh</td>\n",
       "      <td>114709</td>\n",
       "      <td>TIME Magazine</td>\n",
       "      <td>The year's most inventive comedy.</td>\n",
       "      <td>2008-08-31</td>\n",
       "      <td>9559</td>\n",
       "      <td>Toy story</td>\n",
       "    </tr>\n",
       "    <tr>\n",
       "      <th>3</th>\n",
       "      <td>David Ansen</td>\n",
       "      <td>fresh</td>\n",
       "      <td>114709</td>\n",
       "      <td>Newsweek</td>\n",
       "      <td>A winning animated feature that has something ...</td>\n",
       "      <td>2008-08-18</td>\n",
       "      <td>9559</td>\n",
       "      <td>Toy story</td>\n",
       "    </tr>\n",
       "    <tr>\n",
       "      <th>4</th>\n",
       "      <td>Leonard Klady</td>\n",
       "      <td>fresh</td>\n",
       "      <td>114709</td>\n",
       "      <td>Variety</td>\n",
       "      <td>The film sports a provocative and appealing st...</td>\n",
       "      <td>2008-06-09</td>\n",
       "      <td>9559</td>\n",
       "      <td>Toy story</td>\n",
       "    </tr>\n",
       "    <tr>\n",
       "      <th>5</th>\n",
       "      <td>Jonathan Rosenbaum</td>\n",
       "      <td>fresh</td>\n",
       "      <td>114709</td>\n",
       "      <td>Chicago Reader</td>\n",
       "      <td>An entertaining computer-generated, hyperreali...</td>\n",
       "      <td>2008-03-10</td>\n",
       "      <td>9559</td>\n",
       "      <td>Toy story</td>\n",
       "    </tr>\n",
       "  </tbody>\n",
       "</table>\n",
       "</div>"
      ],
      "text/plain": [
       "               critic  fresh    imdb     publication                                              quote review_date  rtid      title\n",
       "1         Derek Adams  fresh  114709        Time Out  So ingenious in concept, design and execution ...  2009-10-04  9559  Toy story\n",
       "2     Richard Corliss  fresh  114709   TIME Magazine                  The year's most inventive comedy.  2008-08-31  9559  Toy story\n",
       "3         David Ansen  fresh  114709        Newsweek  A winning animated feature that has something ...  2008-08-18  9559  Toy story\n",
       "4       Leonard Klady  fresh  114709         Variety  The film sports a provocative and appealing st...  2008-06-09  9559  Toy story\n",
       "5  Jonathan Rosenbaum  fresh  114709  Chicago Reader  An entertaining computer-generated, hyperreali...  2008-03-10  9559  Toy story"
      ]
     },
     "execution_count": 4,
     "metadata": {},
     "output_type": "execute_result"
    }
   ],
   "source": [
    "critics = pd.read_csv('./critics.csv')\n",
    "#let's drop rows with missing quotes\n",
    "critics = critics[~critics.quote.isnull()]\n",
    "critics.head()"
   ]
  },
  {
   "cell_type": "markdown",
   "metadata": {},
   "source": [
    "### Explore"
   ]
  },
  {
   "cell_type": "code",
   "execution_count": 5,
   "metadata": {},
   "outputs": [
    {
     "name": "stdout",
     "output_type": "stream",
     "text": [
      "Number of reviews: 15561\n",
      "Number of critics: 623\n",
      "Number of movies:  1921\n"
     ]
    }
   ],
   "source": [
    "n_reviews = len(critics)\n",
    "n_movies = critics.rtid.unique().size\n",
    "n_critics = critics.critic.unique().size\n",
    "\n",
    "\n",
    "print(\"Number of reviews: {:d}\".format(n_reviews))\n",
    "print(\"Number of critics: {:d}\".format(n_critics))\n",
    "print(\"Number of movies:  {:d}\".format(n_movies))"
   ]
  },
  {
   "cell_type": "code",
   "execution_count": 6,
   "metadata": {},
   "outputs": [
    {
     "data": {
      "image/png": "[encoded data removed]",
      "text/plain": [
       "<matplotlib.figure.Figure at 0x96487f0>"
      ]
     },
     "metadata": {},
     "output_type": "display_data"
    }
   ],
   "source": [
    "df = critics.copy()\n",
    "df['fresh'] = df.fresh == 'fresh'\n",
    "grp = df.groupby('critic')\n",
    "counts = grp.critic.count()  # number of reviews by each critic\n",
    "means = grp.fresh.mean()     # average freshness for each critic\n",
    "\n",
    "means[counts > 100].hist(bins=10, edgecolor='w', lw=1)\n",
    "plt.xlabel(\"Average Rating per critic\")\n",
    "plt.ylabel(\"Number of Critics\")\n",
    "plt.yticks([0, 2, 4, 6, 8, 10]);"
   ]
  },
  {
   "cell_type": "markdown",
   "metadata": {},
   "source": [
    "<div class=\"span5 alert alert-info\">\n",
    "<h3>Exercise Set I</h3>\n",
    "<br/>\n",
    "<b>Exercise:</b> Look at the histogram above. Tell a story about the average ratings per critic. What shape does the distribution look like? What is interesting about the distribution? What might explain these interesting things?\n",
    "</div>"
   ]
  },
  {
   "cell_type": "code",
   "execution_count": 7,
   "metadata": {},
   "outputs": [
    {
     "data": {
      "text/plain": [
       "(0.9771685004234314, 0.6331126689910889)"
      ]
     },
     "execution_count": 7,
     "metadata": {},
     "output_type": "execute_result"
    }
   ],
   "source": [
    "from scipy import stats\n",
    "stats.shapiro(means[counts > 100])"
   ]
  },
  {
   "cell_type": "markdown",
   "metadata": {},
   "source": [
    "The average rating per critic takes on an approximately normal ditribution centered around 0.6, although there is a large dip near the peak of the histogram. This may be because this sample isn't huge, so the dip can be explained by random chance."
   ]
  },
  {
   "cell_type": "markdown",
   "metadata": {},
   "source": [
    "## The Vector Space Model and a Search Engine"
   ]
  },
  {
   "cell_type": "markdown",
   "metadata": {},
   "source": [
    "All the diagrams here are snipped from [*Introduction to Information Retrieval* by Manning et. al.]( http://nlp.stanford.edu/IR-book/) which is a great resource on text processing. For additional information on text mining and natural language processing, see [*Foundations of Statistical Natural Language Processing* by Manning and Schutze](http://nlp.stanford.edu/fsnlp/).\n",
    "\n",
    "Also check out Python packages [`nltk`](http://www.nltk.org/), [`spaCy`](https://spacy.io/), [`pattern`](http://www.clips.ua.ac.be/pattern), and their associated resources. Also see [`word2vec`](https://en.wikipedia.org/wiki/Word2vec).\n",
    "\n",
    "Let us define the vector derived from document $d$ by $\\bar V(d)$. What does this mean? Each document is treated as a vector containing information about the words contained in it. Each vector has the same length and each entry \"slot\" in the vector contains some kind of data about the words that appear in the document such as presence/absence (1/0), count (an integer) or some other statistic. Each vector has the same length because each document shared the same vocabulary across the full collection of documents -- this collection is called a *corpus*.\n",
    "\n",
    "To define the vocabulary, we take a union of all words we have seen in all documents. We then just associate an array index with them. So \"hello\" may be at index 5 and \"world\" at index 99.\n",
    "\n",
    "Suppose we have the following corpus:\n",
    "\n",
    "`A Fox one day spied a beautiful bunch of ripe grapes hanging from a vine trained along the branches of a tree. The grapes seemed ready to burst with juice, and the Fox's mouth watered as he gazed longingly at them.`\n",
    "\n",
    "Suppose we treat each sentence as a document $d$. The vocabulary (often called the *lexicon*) is the following:\n",
    "\n",
    "$V = \\left\\{\\right.$ `a, along, and, as, at, beautiful, branches, bunch, burst, day, fox, fox's, from, gazed, grapes, hanging, he, juice, longingly, mouth, of, one, ready, ripe, seemed, spied, the, them, to, trained, tree, vine, watered, with`$\\left.\\right\\}$\n",
    "\n",
    "Then the document\n",
    "\n",
    "`A Fox one day spied a beautiful bunch of ripe grapes hanging from a vine trained along the branches of a tree`\n",
    "\n",
    "may be represented as the following sparse vector of word counts:\n",
    "\n",
    "$$\\bar V(d) = \\left( 4,1,0,0,0,1,1,1,0,1,1,0,1,0,1,1,0,0,0,0,2,1,0,1,0,0,1,0,0,1,1,1,0,0 \\right)$$\n",
    "\n",
    "or more succinctly as\n",
    "\n",
    "`[(0, 4), (1, 1), (5, 1), (6, 1), (7, 1), (9, 1), (10, 1), (12, 1), (14, 1), (15, 1), (20, 2), (21, 1), (23, 1),`\n",
    "`(26, 1), (29,1), (30, 1), (31, 1)]`\n",
    "\n",
    "along with a dictionary\n",
    "\n",
    "``\n",
    "{\n",
    "    0: a, 1: along, 5: beautiful, 6: branches, 7: bunch, 9: day, 10: fox, 12: from, 14: grapes, 15: hanging, 19: mouth, 20: of, 21: one, 23: ripe, 24: seemed, 25: spied, 26: the, 29:trained, 30: tree, 31: vine, \n",
    "}\n",
    "``\n",
    "\n",
    "Then, a set of documents becomes, in the usual `sklearn` style, a sparse matrix with rows being sparse arrays representing documents and columns representing the features/words in the vocabulary.\n",
    "\n",
    "Notice that this representation loses the relative ordering of the terms in the document. That is \"cat ate rat\" and \"rat ate cat\" are the same. Thus, this representation is also known as the Bag-Of-Words representation.\n",
    "\n",
    "Here is another example, from the book quoted above, although the matrix is transposed here so that documents are columns:\n",
    "\n",
    "![novel terms](terms.png)\n",
    "\n",
    "Such a matrix is also catted a Term-Document Matrix. Here, the terms being indexed could be stemmed before indexing; for instance, `jealous` and `jealousy` after stemming are the same feature. One could also make use of other \"Natural Language Processing\" transformations in constructing the vocabulary. We could use Lemmatization, which reduces words to lemmas: work, working, worked would all reduce to work. We could remove \"stopwords\" from our vocabulary, such as common words like \"the\". We could look for particular parts of speech, such as adjectives. This is often done in Sentiment Analysis. And so on. It all depends on our application.\n",
    "\n",
    "From the book:\n",
    ">The standard way of quantifying the similarity between two documents $d_1$ and $d_2$  is to compute the cosine similarity of their vector representations $\\bar V(d_1)$ and $\\bar V(d_2)$:\n",
    "\n",
    "$$S_{12} = \\frac{\\bar V(d_1) \\cdot \\bar V(d_2)}{|\\bar V(d_1)| \\times |\\bar V(d_2)|}$$\n",
    "\n",
    "![Vector Space Model](vsm.png)\n",
    "\n",
    "\n",
    ">There is a far more compelling reason to represent documents as vectors: we can also view a query as a vector. Consider the query q = jealous gossip. This query turns into the unit vector $\\bar V(q)$ = (0, 0.707, 0.707) on the three coordinates below. \n",
    "\n",
    "![novel terms](terms2.png)\n",
    "\n",
    ">The key idea now: to assign to each document d a score equal to the dot product:\n",
    "\n",
    "$$\\bar V(q) \\cdot \\bar V(d)$$\n",
    "\n",
    "Then we can use this simple Vector Model as a Search engine."
   ]
  },
  {
   "cell_type": "markdown",
   "metadata": {},
   "source": [
    "### In Code"
   ]
  },
  {
   "cell_type": "code",
   "execution_count": 8,
   "metadata": {},
   "outputs": [
    {
     "name": "stdout",
     "output_type": "stream",
     "text": [
      "Original text is\n",
      "Hop on pop\n",
      "Hop off pop\n",
      "Hop Hop hop\n",
      "\n",
      "Transformed text vector is \n",
      "[[1 0 1 1]\n",
      " [1 1 0 1]\n",
      " [3 0 0 0]]\n",
      "\n",
      "Words for each feature:\n",
      "['hop', 'off', 'on', 'pop']\n"
     ]
    }
   ],
   "source": [
    "from sklearn.feature_extraction.text import CountVectorizer\n",
    "\n",
    "text = ['Hop on pop', 'Hop off pop', 'Hop Hop hop']\n",
    "print(\"Original text is\\n{}\".format('\\n'.join(text)))\n",
    "\n",
    "vectorizer = CountVectorizer(min_df=0)\n",
    "\n",
    "# call `fit` to build the vocabulary\n",
    "vectorizer.fit(text)\n",
    "\n",
    "# call `transform` to convert text to a bag of words\n",
    "x = vectorizer.transform(text)\n",
    "\n",
    "# CountVectorizer uses a sparse array to save memory, but it's easier in this assignment to \n",
    "# convert back to a \"normal\" numpy array\n",
    "x = x.toarray()\n",
    "\n",
    "print(\"\")\n",
    "print(\"Transformed text vector is \\n{}\".format(x))\n",
    "\n",
    "# `get_feature_names` tracks which word is associated with each column of the transformed x\n",
    "print(\"\")\n",
    "print(\"Words for each feature:\")\n",
    "print(vectorizer.get_feature_names())\n",
    "\n",
    "# Notice that the bag of words treatment doesn't preserve information about the *order* of words, \n",
    "# just their frequency"
   ]
  },
  {
   "cell_type": "code",
   "execution_count": 9,
   "metadata": {
    "collapsed": true
   },
   "outputs": [],
   "source": [
    "def make_xy(critics, vectorizer=None):\n",
    "    #Your code here    \n",
    "    if vectorizer is None:\n",
    "        vectorizer = CountVectorizer()\n",
    "    X = vectorizer.fit_transform(critics.quote)\n",
    "    X = X.tocsc()  # some versions of sklearn return COO format\n",
    "    y = (critics.fresh == 'fresh').values.astype(np.int)\n",
    "    return X, y\n",
    "X, y = make_xy(critics)"
   ]
  },
  {
   "cell_type": "code",
   "execution_count": 10,
   "metadata": {},
   "outputs": [
    {
     "data": {
      "text/html": [
       "<div>\n",
       "<style>\n",
       "    .dataframe thead tr:only-child th {\n",
       "        text-align: right;\n",
       "    }\n",
       "\n",
       "    .dataframe thead th {\n",
       "        text-align: left;\n",
       "    }\n",
       "\n",
       "    .dataframe tbody tr th {\n",
       "        vertical-align: top;\n",
       "    }\n",
       "</style>\n",
       "<table border=\"1\" class=\"dataframe\">\n",
       "  <thead>\n",
       "    <tr style=\"text-align: right;\">\n",
       "      <th></th>\n",
       "      <th>critic</th>\n",
       "      <th>fresh</th>\n",
       "      <th>imdb</th>\n",
       "      <th>publication</th>\n",
       "      <th>quote</th>\n",
       "      <th>review_date</th>\n",
       "      <th>rtid</th>\n",
       "      <th>title</th>\n",
       "    </tr>\n",
       "  </thead>\n",
       "  <tbody>\n",
       "    <tr>\n",
       "      <th>1</th>\n",
       "      <td>Derek Adams</td>\n",
       "      <td>fresh</td>\n",
       "      <td>114709</td>\n",
       "      <td>Time Out</td>\n",
       "      <td>So ingenious in concept, design and execution ...</td>\n",
       "      <td>2009-10-04</td>\n",
       "      <td>9559</td>\n",
       "      <td>Toy story</td>\n",
       "    </tr>\n",
       "    <tr>\n",
       "      <th>2</th>\n",
       "      <td>Richard Corliss</td>\n",
       "      <td>fresh</td>\n",
       "      <td>114709</td>\n",
       "      <td>TIME Magazine</td>\n",
       "      <td>The year's most inventive comedy.</td>\n",
       "      <td>2008-08-31</td>\n",
       "      <td>9559</td>\n",
       "      <td>Toy story</td>\n",
       "    </tr>\n",
       "    <tr>\n",
       "      <th>3</th>\n",
       "      <td>David Ansen</td>\n",
       "      <td>fresh</td>\n",
       "      <td>114709</td>\n",
       "      <td>Newsweek</td>\n",
       "      <td>A winning animated feature that has something ...</td>\n",
       "      <td>2008-08-18</td>\n",
       "      <td>9559</td>\n",
       "      <td>Toy story</td>\n",
       "    </tr>\n",
       "    <tr>\n",
       "      <th>4</th>\n",
       "      <td>Leonard Klady</td>\n",
       "      <td>fresh</td>\n",
       "      <td>114709</td>\n",
       "      <td>Variety</td>\n",
       "      <td>The film sports a provocative and appealing st...</td>\n",
       "      <td>2008-06-09</td>\n",
       "      <td>9559</td>\n",
       "      <td>Toy story</td>\n",
       "    </tr>\n",
       "    <tr>\n",
       "      <th>5</th>\n",
       "      <td>Jonathan Rosenbaum</td>\n",
       "      <td>fresh</td>\n",
       "      <td>114709</td>\n",
       "      <td>Chicago Reader</td>\n",
       "      <td>An entertaining computer-generated, hyperreali...</td>\n",
       "      <td>2008-03-10</td>\n",
       "      <td>9559</td>\n",
       "      <td>Toy story</td>\n",
       "    </tr>\n",
       "    <tr>\n",
       "      <th>6</th>\n",
       "      <td>Michael Booth</td>\n",
       "      <td>fresh</td>\n",
       "      <td>114709</td>\n",
       "      <td>Denver Post</td>\n",
       "      <td>As Lion King did before it, Toy Story revived ...</td>\n",
       "      <td>2007-05-03</td>\n",
       "      <td>9559</td>\n",
       "      <td>Toy story</td>\n",
       "    </tr>\n",
       "    <tr>\n",
       "      <th>7</th>\n",
       "      <td>Geoff Andrew</td>\n",
       "      <td>fresh</td>\n",
       "      <td>114709</td>\n",
       "      <td>Time Out</td>\n",
       "      <td>The film will probably be more fully appreciat...</td>\n",
       "      <td>2006-06-24</td>\n",
       "      <td>9559</td>\n",
       "      <td>Toy story</td>\n",
       "    </tr>\n",
       "    <tr>\n",
       "      <th>8</th>\n",
       "      <td>Janet Maslin</td>\n",
       "      <td>fresh</td>\n",
       "      <td>114709</td>\n",
       "      <td>New York Times</td>\n",
       "      <td>Children will enjoy a new take on the irresist...</td>\n",
       "      <td>2003-05-20</td>\n",
       "      <td>9559</td>\n",
       "      <td>Toy story</td>\n",
       "    </tr>\n",
       "    <tr>\n",
       "      <th>9</th>\n",
       "      <td>Kenneth Turan</td>\n",
       "      <td>fresh</td>\n",
       "      <td>114709</td>\n",
       "      <td>Los Angeles Times</td>\n",
       "      <td>Although its computer-generated imagery is imp...</td>\n",
       "      <td>2001-02-13</td>\n",
       "      <td>9559</td>\n",
       "      <td>Toy story</td>\n",
       "    </tr>\n",
       "    <tr>\n",
       "      <th>10</th>\n",
       "      <td>Susan Wloszczyna</td>\n",
       "      <td>fresh</td>\n",
       "      <td>114709</td>\n",
       "      <td>USA Today</td>\n",
       "      <td>How perfect that two of the most popular funny...</td>\n",
       "      <td>2000-01-01</td>\n",
       "      <td>9559</td>\n",
       "      <td>Toy story</td>\n",
       "    </tr>\n",
       "    <tr>\n",
       "      <th>11</th>\n",
       "      <td>Roger Ebert</td>\n",
       "      <td>fresh</td>\n",
       "      <td>114709</td>\n",
       "      <td>Chicago Sun-Times</td>\n",
       "      <td>The result is a visionary roller-coaster ride ...</td>\n",
       "      <td>2000-01-01</td>\n",
       "      <td>9559</td>\n",
       "      <td>Toy story</td>\n",
       "    </tr>\n",
       "    <tr>\n",
       "      <th>12</th>\n",
       "      <td>John Hartl</td>\n",
       "      <td>fresh</td>\n",
       "      <td>114709</td>\n",
       "      <td>Film.com</td>\n",
       "      <td>Disney's witty, wondrously imaginative, all-co...</td>\n",
       "      <td>2000-01-01</td>\n",
       "      <td>9559</td>\n",
       "      <td>Toy story</td>\n",
       "    </tr>\n",
       "    <tr>\n",
       "      <th>13</th>\n",
       "      <td>Susan Stark</td>\n",
       "      <td>fresh</td>\n",
       "      <td>114709</td>\n",
       "      <td>Detroit News</td>\n",
       "      <td>Disney's first computer-made animated feature ...</td>\n",
       "      <td>2000-01-01</td>\n",
       "      <td>9559</td>\n",
       "      <td>Toy story</td>\n",
       "    </tr>\n",
       "    <tr>\n",
       "      <th>14</th>\n",
       "      <td>Peter Stack</td>\n",
       "      <td>fresh</td>\n",
       "      <td>114709</td>\n",
       "      <td>San Francisco Chronicle</td>\n",
       "      <td>The script, by Lasseter, Pete Docter, Andrew S...</td>\n",
       "      <td>2000-01-01</td>\n",
       "      <td>9559</td>\n",
       "      <td>Toy story</td>\n",
       "    </tr>\n",
       "    <tr>\n",
       "      <th>15</th>\n",
       "      <td>James Berardinelli</td>\n",
       "      <td>fresh</td>\n",
       "      <td>114709</td>\n",
       "      <td>ReelViews</td>\n",
       "      <td>The one big negative about Toy Story involves ...</td>\n",
       "      <td>2000-01-01</td>\n",
       "      <td>9559</td>\n",
       "      <td>Toy story</td>\n",
       "    </tr>\n",
       "    <tr>\n",
       "      <th>16</th>\n",
       "      <td>Sean Means</td>\n",
       "      <td>fresh</td>\n",
       "      <td>114709</td>\n",
       "      <td>Film.com</td>\n",
       "      <td>Technically, Toy Story is nearly flawless.</td>\n",
       "      <td>2000-01-01</td>\n",
       "      <td>9559</td>\n",
       "      <td>Toy story</td>\n",
       "    </tr>\n",
       "    <tr>\n",
       "      <th>17</th>\n",
       "      <td>Rita Kempley</td>\n",
       "      <td>fresh</td>\n",
       "      <td>114709</td>\n",
       "      <td>Washington Post</td>\n",
       "      <td>It's a nice change of pace to see the studio d...</td>\n",
       "      <td>2000-01-01</td>\n",
       "      <td>9559</td>\n",
       "      <td>Toy story</td>\n",
       "    </tr>\n",
       "    <tr>\n",
       "      <th>18</th>\n",
       "      <td>NaN</td>\n",
       "      <td>fresh</td>\n",
       "      <td>114709</td>\n",
       "      <td>Entertainment Weekly</td>\n",
       "      <td>I can hardly imagine having more fun at the mo...</td>\n",
       "      <td>1995-11-22</td>\n",
       "      <td>9559</td>\n",
       "      <td>Toy story</td>\n",
       "    </tr>\n",
       "    <tr>\n",
       "      <th>19</th>\n",
       "      <td>Roger Moore</td>\n",
       "      <td>fresh</td>\n",
       "      <td>114709</td>\n",
       "      <td>Orlando Sentinel</td>\n",
       "      <td>The great voice acting, the visual puns, all a...</td>\n",
       "      <td>1995-11-22</td>\n",
       "      <td>9559</td>\n",
       "      <td>Toy story</td>\n",
       "    </tr>\n",
       "    <tr>\n",
       "      <th>30</th>\n",
       "      <td>Roger Ebert</td>\n",
       "      <td>rotten</td>\n",
       "      <td>113497</td>\n",
       "      <td>Chicago Sun-Times</td>\n",
       "      <td>A gloomy special-effects extravaganza filled w...</td>\n",
       "      <td>2000-01-01</td>\n",
       "      <td>12436</td>\n",
       "      <td>Jumanji</td>\n",
       "    </tr>\n",
       "    <tr>\n",
       "      <th>32</th>\n",
       "      <td>NaN</td>\n",
       "      <td>fresh</td>\n",
       "      <td>113497</td>\n",
       "      <td>USA Today</td>\n",
       "      <td>A calculated but very entertaining special eff...</td>\n",
       "      <td>2000-01-01</td>\n",
       "      <td>12436</td>\n",
       "      <td>Jumanji</td>\n",
       "    </tr>\n",
       "    <tr>\n",
       "      <th>36</th>\n",
       "      <td>Richard Schickel</td>\n",
       "      <td>fresh</td>\n",
       "      <td>107050</td>\n",
       "      <td>TIME Magazine</td>\n",
       "      <td>Walter Matthau and Jack Lemmon are awfully goo...</td>\n",
       "      <td>2008-08-24</td>\n",
       "      <td>10498</td>\n",
       "      <td>Grumpy Old Men</td>\n",
       "    </tr>\n",
       "    <tr>\n",
       "      <th>37</th>\n",
       "      <td>Derek Adams</td>\n",
       "      <td>rotten</td>\n",
       "      <td>107050</td>\n",
       "      <td>Time Out</td>\n",
       "      <td>Mediocre, regrettably.</td>\n",
       "      <td>2006-06-24</td>\n",
       "      <td>10498</td>\n",
       "      <td>Grumpy Old Men</td>\n",
       "    </tr>\n",
       "    <tr>\n",
       "      <th>38</th>\n",
       "      <td>Caryn James</td>\n",
       "      <td>fresh</td>\n",
       "      <td>107050</td>\n",
       "      <td>New York Times</td>\n",
       "      <td>Just don't expect their bickering to be on the...</td>\n",
       "      <td>2003-05-20</td>\n",
       "      <td>10498</td>\n",
       "      <td>Grumpy Old Men</td>\n",
       "    </tr>\n",
       "    <tr>\n",
       "      <th>39</th>\n",
       "      <td>James Berardinelli</td>\n",
       "      <td>fresh</td>\n",
       "      <td>107050</td>\n",
       "      <td>ReelViews</td>\n",
       "      <td>While it won't come close to my top 10 best li...</td>\n",
       "      <td>2000-01-01</td>\n",
       "      <td>10498</td>\n",
       "      <td>Grumpy Old Men</td>\n",
       "    </tr>\n",
       "    <tr>\n",
       "      <th>40</th>\n",
       "      <td>Roger Ebert</td>\n",
       "      <td>rotten</td>\n",
       "      <td>107050</td>\n",
       "      <td>Chicago Sun-Times</td>\n",
       "      <td>The movie is too pat and practiced to really b...</td>\n",
       "      <td>2000-01-01</td>\n",
       "      <td>10498</td>\n",
       "      <td>Grumpy Old Men</td>\n",
       "    </tr>\n",
       "    <tr>\n",
       "      <th>41</th>\n",
       "      <td>Desson Thomson</td>\n",
       "      <td>fresh</td>\n",
       "      <td>107050</td>\n",
       "      <td>Washington Post</td>\n",
       "      <td>If you poke through Grumpy's cheap sentimental...</td>\n",
       "      <td>2000-01-01</td>\n",
       "      <td>10498</td>\n",
       "      <td>Grumpy Old Men</td>\n",
       "    </tr>\n",
       "    <tr>\n",
       "      <th>47</th>\n",
       "      <td>Liam Lacey</td>\n",
       "      <td>rotten</td>\n",
       "      <td>114885</td>\n",
       "      <td>Globe and Mail</td>\n",
       "      <td>Never escapes the queasy aura of Melrose Place...</td>\n",
       "      <td>2002-04-12</td>\n",
       "      <td>16697</td>\n",
       "      <td>Waiting to Exhale</td>\n",
       "    </tr>\n",
       "    <tr>\n",
       "      <th>48</th>\n",
       "      <td>Kenneth Turan</td>\n",
       "      <td>fresh</td>\n",
       "      <td>114885</td>\n",
       "      <td>Los Angeles Times</td>\n",
       "      <td>A pleasant if undemanding piece of work that i...</td>\n",
       "      <td>2001-02-13</td>\n",
       "      <td>16697</td>\n",
       "      <td>Waiting to Exhale</td>\n",
       "    </tr>\n",
       "    <tr>\n",
       "      <th>49</th>\n",
       "      <td>Edward Guthmann</td>\n",
       "      <td>rotten</td>\n",
       "      <td>114885</td>\n",
       "      <td>San Francisco Chronicle</td>\n",
       "      <td>You want the movie to stomp and rejoice and cr...</td>\n",
       "      <td>2000-01-01</td>\n",
       "      <td>16697</td>\n",
       "      <td>Waiting to Exhale</td>\n",
       "    </tr>\n",
       "    <tr>\n",
       "      <th>...</th>\n",
       "      <td>...</td>\n",
       "      <td>...</td>\n",
       "      <td>...</td>\n",
       "      <td>...</td>\n",
       "      <td>...</td>\n",
       "      <td>...</td>\n",
       "      <td>...</td>\n",
       "      <td>...</td>\n",
       "    </tr>\n",
       "    <tr>\n",
       "      <th>27560</th>\n",
       "      <td>Jonathan Rosenbaum</td>\n",
       "      <td>fresh</td>\n",
       "      <td>94347</td>\n",
       "      <td>Chicago Reader</td>\n",
       "      <td>Although most of this is rather familiar stuff...</td>\n",
       "      <td>2000-01-01</td>\n",
       "      <td>770674061</td>\n",
       "      <td>The Year My Voice Broke</td>\n",
       "    </tr>\n",
       "    <tr>\n",
       "      <th>27561</th>\n",
       "      <td>Hal Hinson</td>\n",
       "      <td>fresh</td>\n",
       "      <td>94347</td>\n",
       "      <td>Washington Post</td>\n",
       "      <td>This isn't an adolescent wish-fulfillment fant...</td>\n",
       "      <td>2000-01-01</td>\n",
       "      <td>770674061</td>\n",
       "      <td>The Year My Voice Broke</td>\n",
       "    </tr>\n",
       "    <tr>\n",
       "      <th>27563</th>\n",
       "      <td>NaN</td>\n",
       "      <td>rotten</td>\n",
       "      <td>55471</td>\n",
       "      <td>Time Out</td>\n",
       "      <td>A complicated film that never really successfu...</td>\n",
       "      <td>2006-02-09</td>\n",
       "      <td>18436</td>\n",
       "      <td>Splendor in the Grass</td>\n",
       "    </tr>\n",
       "    <tr>\n",
       "      <th>27566</th>\n",
       "      <td>Pat Graham</td>\n",
       "      <td>rotten</td>\n",
       "      <td>63185</td>\n",
       "      <td>Chicago Reader</td>\n",
       "      <td>Robert Aldrich's \"daring\" 1968 mating of lesbi...</td>\n",
       "      <td>2009-04-24</td>\n",
       "      <td>747403171</td>\n",
       "      <td>The Killing of Sister George</td>\n",
       "    </tr>\n",
       "    <tr>\n",
       "      <th>27570</th>\n",
       "      <td>Dave Kehr</td>\n",
       "      <td>fresh</td>\n",
       "      <td>40506</td>\n",
       "      <td>Chicago Reader</td>\n",
       "      <td>A little windy and rhetorical for my taste, bu...</td>\n",
       "      <td>2008-04-08</td>\n",
       "      <td>18375</td>\n",
       "      <td>Key Largo</td>\n",
       "    </tr>\n",
       "    <tr>\n",
       "      <th>27571</th>\n",
       "      <td>Variety Staff</td>\n",
       "      <td>fresh</td>\n",
       "      <td>40506</td>\n",
       "      <td>Variety</td>\n",
       "      <td>Emphasis is on tension in the telling, and eff...</td>\n",
       "      <td>2008-04-08</td>\n",
       "      <td>18375</td>\n",
       "      <td>Key Largo</td>\n",
       "    </tr>\n",
       "    <tr>\n",
       "      <th>27572</th>\n",
       "      <td>Tom Milne</td>\n",
       "      <td>fresh</td>\n",
       "      <td>40506</td>\n",
       "      <td>Time Out</td>\n",
       "      <td>Although the characters are basically stereoty...</td>\n",
       "      <td>2006-06-24</td>\n",
       "      <td>18375</td>\n",
       "      <td>Key Largo</td>\n",
       "    </tr>\n",
       "    <tr>\n",
       "      <th>27573</th>\n",
       "      <td>Bosley Crowther</td>\n",
       "      <td>rotten</td>\n",
       "      <td>40506</td>\n",
       "      <td>New York Times</td>\n",
       "      <td>The script prepared by Mr. Huston and Richard ...</td>\n",
       "      <td>2006-03-25</td>\n",
       "      <td>18375</td>\n",
       "      <td>Key Largo</td>\n",
       "    </tr>\n",
       "    <tr>\n",
       "      <th>27574</th>\n",
       "      <td>Bob Longino</td>\n",
       "      <td>fresh</td>\n",
       "      <td>364435</td>\n",
       "      <td>Atlanta Journal-Constitution</td>\n",
       "      <td>Disturbing and affecting.</td>\n",
       "      <td>2006-08-31</td>\n",
       "      <td>748169836</td>\n",
       "      <td>Jailbait</td>\n",
       "    </tr>\n",
       "    <tr>\n",
       "      <th>27575</th>\n",
       "      <td>Carrie Rickey</td>\n",
       "      <td>rotten</td>\n",
       "      <td>364435</td>\n",
       "      <td>Philadelphia Inquirer</td>\n",
       "      <td>Claustrophobic and overwrought, Jailbait is an...</td>\n",
       "      <td>2006-08-18</td>\n",
       "      <td>748169836</td>\n",
       "      <td>Jailbait</td>\n",
       "    </tr>\n",
       "    <tr>\n",
       "      <th>27576</th>\n",
       "      <td>Frank Scheck</td>\n",
       "      <td>rotten</td>\n",
       "      <td>364435</td>\n",
       "      <td>Hollywood Reporter</td>\n",
       "      <td>While the stars deliver highly committed perfo...</td>\n",
       "      <td>2006-08-17</td>\n",
       "      <td>748169836</td>\n",
       "      <td>Jailbait</td>\n",
       "    </tr>\n",
       "    <tr>\n",
       "      <th>27577</th>\n",
       "      <td>Laura Kern</td>\n",
       "      <td>rotten</td>\n",
       "      <td>364435</td>\n",
       "      <td>New York Times</td>\n",
       "      <td>A stagy, only mildly compelling prison drama t...</td>\n",
       "      <td>2006-08-04</td>\n",
       "      <td>748169836</td>\n",
       "      <td>Jailbait</td>\n",
       "    </tr>\n",
       "    <tr>\n",
       "      <th>27578</th>\n",
       "      <td>Lou Lumenick</td>\n",
       "      <td>rotten</td>\n",
       "      <td>364435</td>\n",
       "      <td>New York Post</td>\n",
       "      <td>I wouldn't have thought it was possible to mak...</td>\n",
       "      <td>2006-08-04</td>\n",
       "      <td>748169836</td>\n",
       "      <td>Jailbait</td>\n",
       "    </tr>\n",
       "    <tr>\n",
       "      <th>27579</th>\n",
       "      <td>Jack Mathews</td>\n",
       "      <td>rotten</td>\n",
       "      <td>364435</td>\n",
       "      <td>New York Daily News</td>\n",
       "      <td>The cruelty of the law has been better demonst...</td>\n",
       "      <td>2006-08-04</td>\n",
       "      <td>748169836</td>\n",
       "      <td>Jailbait</td>\n",
       "    </tr>\n",
       "    <tr>\n",
       "      <th>27580</th>\n",
       "      <td>Jim Ridley</td>\n",
       "      <td>rotten</td>\n",
       "      <td>364435</td>\n",
       "      <td>Village Voice</td>\n",
       "      <td>... the umpteenth prison drama to focus on the...</td>\n",
       "      <td>2006-08-02</td>\n",
       "      <td>748169836</td>\n",
       "      <td>Jailbait</td>\n",
       "    </tr>\n",
       "    <tr>\n",
       "      <th>27593</th>\n",
       "      <td>Vincent Canby</td>\n",
       "      <td>rotten</td>\n",
       "      <td>74695</td>\n",
       "      <td>New York Times</td>\n",
       "      <td>Mr. Peckinpah's least interesting, least perso...</td>\n",
       "      <td>2005-05-09</td>\n",
       "      <td>13694</td>\n",
       "      <td>Cross of Iron</td>\n",
       "    </tr>\n",
       "    <tr>\n",
       "      <th>27595</th>\n",
       "      <td>Dave Kehr</td>\n",
       "      <td>rotten</td>\n",
       "      <td>42276</td>\n",
       "      <td>Chicago Reader</td>\n",
       "      <td>George Cukor directed, a little impersonally f...</td>\n",
       "      <td>2008-01-11</td>\n",
       "      <td>18781</td>\n",
       "      <td>Born Yesterday</td>\n",
       "    </tr>\n",
       "    <tr>\n",
       "      <th>27596</th>\n",
       "      <td>NaN</td>\n",
       "      <td>fresh</td>\n",
       "      <td>42276</td>\n",
       "      <td>Time Out</td>\n",
       "      <td>Magic.</td>\n",
       "      <td>2006-06-24</td>\n",
       "      <td>18781</td>\n",
       "      <td>Born Yesterday</td>\n",
       "    </tr>\n",
       "    <tr>\n",
       "      <th>27597</th>\n",
       "      <td>Bosley Crowther</td>\n",
       "      <td>fresh</td>\n",
       "      <td>42276</td>\n",
       "      <td>New York Times</td>\n",
       "      <td>More firm in its social implications than ever...</td>\n",
       "      <td>2003-05-20</td>\n",
       "      <td>18781</td>\n",
       "      <td>Born Yesterday</td>\n",
       "    </tr>\n",
       "    <tr>\n",
       "      <th>27598</th>\n",
       "      <td>Variety Staff</td>\n",
       "      <td>rotten</td>\n",
       "      <td>86969</td>\n",
       "      <td>Variety</td>\n",
       "      <td>Belying the lightheartedness of its title, Bir...</td>\n",
       "      <td>2008-09-16</td>\n",
       "      <td>15889</td>\n",
       "      <td>Birdy</td>\n",
       "    </tr>\n",
       "    <tr>\n",
       "      <th>27599</th>\n",
       "      <td>NaN</td>\n",
       "      <td>fresh</td>\n",
       "      <td>86969</td>\n",
       "      <td>Time Out</td>\n",
       "      <td>A trifle self-indulgent -- well, it is directe...</td>\n",
       "      <td>2006-02-09</td>\n",
       "      <td>15889</td>\n",
       "      <td>Birdy</td>\n",
       "    </tr>\n",
       "    <tr>\n",
       "      <th>27600</th>\n",
       "      <td>Roger Ebert</td>\n",
       "      <td>fresh</td>\n",
       "      <td>86969</td>\n",
       "      <td>Chicago Sun-Times</td>\n",
       "      <td>A very strange and beautiful movie.</td>\n",
       "      <td>2004-10-23</td>\n",
       "      <td>15889</td>\n",
       "      <td>Birdy</td>\n",
       "    </tr>\n",
       "    <tr>\n",
       "      <th>27601</th>\n",
       "      <td>Janet Maslin</td>\n",
       "      <td>fresh</td>\n",
       "      <td>86969</td>\n",
       "      <td>New York Times</td>\n",
       "      <td>Most of Birdy is enchanting.</td>\n",
       "      <td>2003-05-20</td>\n",
       "      <td>15889</td>\n",
       "      <td>Birdy</td>\n",
       "    </tr>\n",
       "    <tr>\n",
       "      <th>27603</th>\n",
       "      <td>Bosley Crowther</td>\n",
       "      <td>rotten</td>\n",
       "      <td>49189</td>\n",
       "      <td>New York Times</td>\n",
       "      <td>We can't recommend this little item as a sampl...</td>\n",
       "      <td>2006-10-30</td>\n",
       "      <td>11854</td>\n",
       "      <td>Et Dieu... créa la femme</td>\n",
       "    </tr>\n",
       "    <tr>\n",
       "      <th>27605</th>\n",
       "      <td>Richard Schickel</td>\n",
       "      <td>fresh</td>\n",
       "      <td>86005</td>\n",
       "      <td>TIME Magazine</td>\n",
       "      <td>Ballard and his masterly crew of film makers h...</td>\n",
       "      <td>2009-03-09</td>\n",
       "      <td>12606</td>\n",
       "      <td>Never Cry Wolf</td>\n",
       "    </tr>\n",
       "    <tr>\n",
       "      <th>27606</th>\n",
       "      <td>Ronald Holloway</td>\n",
       "      <td>fresh</td>\n",
       "      <td>86005</td>\n",
       "      <td>Variety</td>\n",
       "      <td>Measures up to the promise Ballard amply provi...</td>\n",
       "      <td>2008-07-23</td>\n",
       "      <td>12606</td>\n",
       "      <td>Never Cry Wolf</td>\n",
       "    </tr>\n",
       "    <tr>\n",
       "      <th>27607</th>\n",
       "      <td>NaN</td>\n",
       "      <td>fresh</td>\n",
       "      <td>86005</td>\n",
       "      <td>Time Out</td>\n",
       "      <td>For the most part very absorbing, the film suf...</td>\n",
       "      <td>2006-01-26</td>\n",
       "      <td>12606</td>\n",
       "      <td>Never Cry Wolf</td>\n",
       "    </tr>\n",
       "    <tr>\n",
       "      <th>27608</th>\n",
       "      <td>Vincent Canby</td>\n",
       "      <td>fresh</td>\n",
       "      <td>86005</td>\n",
       "      <td>New York Times</td>\n",
       "      <td>Perhaps the best thing about the film is that ...</td>\n",
       "      <td>2004-08-30</td>\n",
       "      <td>12606</td>\n",
       "      <td>Never Cry Wolf</td>\n",
       "    </tr>\n",
       "    <tr>\n",
       "      <th>27609</th>\n",
       "      <td>Dave Kehr</td>\n",
       "      <td>fresh</td>\n",
       "      <td>86005</td>\n",
       "      <td>Chicago Reader</td>\n",
       "      <td>The film is still memorable for its compassion...</td>\n",
       "      <td>2000-01-01</td>\n",
       "      <td>12606</td>\n",
       "      <td>Never Cry Wolf</td>\n",
       "    </tr>\n",
       "    <tr>\n",
       "      <th>27616</th>\n",
       "      <td>Don Druker</td>\n",
       "      <td>fresh</td>\n",
       "      <td>55353</td>\n",
       "      <td>Chicago Reader</td>\n",
       "      <td>It does have enough gritty insights and (for t...</td>\n",
       "      <td>2007-11-13</td>\n",
       "      <td>18541</td>\n",
       "      <td>A Raisin in the Sun</td>\n",
       "    </tr>\n",
       "  </tbody>\n",
       "</table>\n",
       "<p>15561 rows × 8 columns</p>\n",
       "</div>"
      ],
      "text/plain": [
       "                   critic   fresh    imdb                   publication                                              quote review_date       rtid                         title\n",
       "1             Derek Adams   fresh  114709                      Time Out  So ingenious in concept, design and execution ...  2009-10-04       9559                     Toy story\n",
       "2         Richard Corliss   fresh  114709                 TIME Magazine                  The year's most inventive comedy.  2008-08-31       9559                     Toy story\n",
       "3             David Ansen   fresh  114709                      Newsweek  A winning animated feature that has something ...  2008-08-18       9559                     Toy story\n",
       "4           Leonard Klady   fresh  114709                       Variety  The film sports a provocative and appealing st...  2008-06-09       9559                     Toy story\n",
       "5      Jonathan Rosenbaum   fresh  114709                Chicago Reader  An entertaining computer-generated, hyperreali...  2008-03-10       9559                     Toy story\n",
       "6           Michael Booth   fresh  114709                   Denver Post  As Lion King did before it, Toy Story revived ...  2007-05-03       9559                     Toy story\n",
       "7            Geoff Andrew   fresh  114709                      Time Out  The film will probably be more fully appreciat...  2006-06-24       9559                     Toy story\n",
       "8            Janet Maslin   fresh  114709                New York Times  Children will enjoy a new take on the irresist...  2003-05-20       9559                     Toy story\n",
       "9           Kenneth Turan   fresh  114709             Los Angeles Times  Although its computer-generated imagery is imp...  2001-02-13       9559                     Toy story\n",
       "10       Susan Wloszczyna   fresh  114709                     USA Today  How perfect that two of the most popular funny...  2000-01-01       9559                     Toy story\n",
       "11            Roger Ebert   fresh  114709             Chicago Sun-Times  The result is a visionary roller-coaster ride ...  2000-01-01       9559                     Toy story\n",
       "12             John Hartl   fresh  114709                      Film.com  Disney's witty, wondrously imaginative, all-co...  2000-01-01       9559                     Toy story\n",
       "13            Susan Stark   fresh  114709                  Detroit News  Disney's first computer-made animated feature ...  2000-01-01       9559                     Toy story\n",
       "14            Peter Stack   fresh  114709       San Francisco Chronicle  The script, by Lasseter, Pete Docter, Andrew S...  2000-01-01       9559                     Toy story\n",
       "15     James Berardinelli   fresh  114709                     ReelViews  The one big negative about Toy Story involves ...  2000-01-01       9559                     Toy story\n",
       "16             Sean Means   fresh  114709                      Film.com         Technically, Toy Story is nearly flawless.  2000-01-01       9559                     Toy story\n",
       "17           Rita Kempley   fresh  114709               Washington Post  It's a nice change of pace to see the studio d...  2000-01-01       9559                     Toy story\n",
       "18                    NaN   fresh  114709          Entertainment Weekly  I can hardly imagine having more fun at the mo...  1995-11-22       9559                     Toy story\n",
       "19            Roger Moore   fresh  114709              Orlando Sentinel  The great voice acting, the visual puns, all a...  1995-11-22       9559                     Toy story\n",
       "30            Roger Ebert  rotten  113497             Chicago Sun-Times  A gloomy special-effects extravaganza filled w...  2000-01-01      12436                       Jumanji\n",
       "32                    NaN   fresh  113497                     USA Today  A calculated but very entertaining special eff...  2000-01-01      12436                       Jumanji\n",
       "36       Richard Schickel   fresh  107050                 TIME Magazine  Walter Matthau and Jack Lemmon are awfully goo...  2008-08-24      10498                Grumpy Old Men\n",
       "37            Derek Adams  rotten  107050                      Time Out                             Mediocre, regrettably.  2006-06-24      10498                Grumpy Old Men\n",
       "38            Caryn James   fresh  107050                New York Times  Just don't expect their bickering to be on the...  2003-05-20      10498                Grumpy Old Men\n",
       "39     James Berardinelli   fresh  107050                     ReelViews  While it won't come close to my top 10 best li...  2000-01-01      10498                Grumpy Old Men\n",
       "40            Roger Ebert  rotten  107050             Chicago Sun-Times  The movie is too pat and practiced to really b...  2000-01-01      10498                Grumpy Old Men\n",
       "41         Desson Thomson   fresh  107050               Washington Post  If you poke through Grumpy's cheap sentimental...  2000-01-01      10498                Grumpy Old Men\n",
       "47             Liam Lacey  rotten  114885                Globe and Mail  Never escapes the queasy aura of Melrose Place...  2002-04-12      16697             Waiting to Exhale\n",
       "48          Kenneth Turan   fresh  114885             Los Angeles Times  A pleasant if undemanding piece of work that i...  2001-02-13      16697             Waiting to Exhale\n",
       "49        Edward Guthmann  rotten  114885       San Francisco Chronicle  You want the movie to stomp and rejoice and cr...  2000-01-01      16697             Waiting to Exhale\n",
       "...                   ...     ...     ...                           ...                                                ...         ...        ...                           ...\n",
       "27560  Jonathan Rosenbaum   fresh   94347                Chicago Reader  Although most of this is rather familiar stuff...  2000-01-01  770674061       The Year My Voice Broke\n",
       "27561          Hal Hinson   fresh   94347               Washington Post  This isn't an adolescent wish-fulfillment fant...  2000-01-01  770674061       The Year My Voice Broke\n",
       "27563                 NaN  rotten   55471                      Time Out  A complicated film that never really successfu...  2006-02-09      18436         Splendor in the Grass\n",
       "27566          Pat Graham  rotten   63185                Chicago Reader  Robert Aldrich's \"daring\" 1968 mating of lesbi...  2009-04-24  747403171  The Killing of Sister George\n",
       "27570           Dave Kehr   fresh   40506                Chicago Reader  A little windy and rhetorical for my taste, bu...  2008-04-08      18375                     Key Largo\n",
       "27571       Variety Staff   fresh   40506                       Variety  Emphasis is on tension in the telling, and eff...  2008-04-08      18375                     Key Largo\n",
       "27572           Tom Milne   fresh   40506                      Time Out  Although the characters are basically stereoty...  2006-06-24      18375                     Key Largo\n",
       "27573     Bosley Crowther  rotten   40506                New York Times  The script prepared by Mr. Huston and Richard ...  2006-03-25      18375                     Key Largo\n",
       "27574         Bob Longino   fresh  364435  Atlanta Journal-Constitution                          Disturbing and affecting.  2006-08-31  748169836                      Jailbait\n",
       "27575       Carrie Rickey  rotten  364435         Philadelphia Inquirer  Claustrophobic and overwrought, Jailbait is an...  2006-08-18  748169836                      Jailbait\n",
       "27576        Frank Scheck  rotten  364435            Hollywood Reporter  While the stars deliver highly committed perfo...  2006-08-17  748169836                      Jailbait\n",
       "27577          Laura Kern  rotten  364435                New York Times  A stagy, only mildly compelling prison drama t...  2006-08-04  748169836                      Jailbait\n",
       "27578        Lou Lumenick  rotten  364435                 New York Post  I wouldn't have thought it was possible to mak...  2006-08-04  748169836                      Jailbait\n",
       "27579        Jack Mathews  rotten  364435           New York Daily News  The cruelty of the law has been better demonst...  2006-08-04  748169836                      Jailbait\n",
       "27580          Jim Ridley  rotten  364435                 Village Voice  ... the umpteenth prison drama to focus on the...  2006-08-02  748169836                      Jailbait\n",
       "27593       Vincent Canby  rotten   74695                New York Times  Mr. Peckinpah's least interesting, least perso...  2005-05-09      13694                 Cross of Iron\n",
       "27595           Dave Kehr  rotten   42276                Chicago Reader  George Cukor directed, a little impersonally f...  2008-01-11      18781                Born Yesterday\n",
       "27596                 NaN   fresh   42276                      Time Out                                             Magic.  2006-06-24      18781                Born Yesterday\n",
       "27597     Bosley Crowther   fresh   42276                New York Times  More firm in its social implications than ever...  2003-05-20      18781                Born Yesterday\n",
       "27598       Variety Staff  rotten   86969                       Variety  Belying the lightheartedness of its title, Bir...  2008-09-16      15889                         Birdy\n",
       "27599                 NaN   fresh   86969                      Time Out  A trifle self-indulgent -- well, it is directe...  2006-02-09      15889                         Birdy\n",
       "27600         Roger Ebert   fresh   86969             Chicago Sun-Times                A very strange and beautiful movie.  2004-10-23      15889                         Birdy\n",
       "27601        Janet Maslin   fresh   86969                New York Times                       Most of Birdy is enchanting.  2003-05-20      15889                         Birdy\n",
       "27603     Bosley Crowther  rotten   49189                New York Times  We can't recommend this little item as a sampl...  2006-10-30      11854      Et Dieu... créa la femme\n",
       "27605    Richard Schickel   fresh   86005                 TIME Magazine  Ballard and his masterly crew of film makers h...  2009-03-09      12606                Never Cry Wolf\n",
       "27606     Ronald Holloway   fresh   86005                       Variety  Measures up to the promise Ballard amply provi...  2008-07-23      12606                Never Cry Wolf\n",
       "27607                 NaN   fresh   86005                      Time Out  For the most part very absorbing, the film suf...  2006-01-26      12606                Never Cry Wolf\n",
       "27608       Vincent Canby   fresh   86005                New York Times  Perhaps the best thing about the film is that ...  2004-08-30      12606                Never Cry Wolf\n",
       "27609           Dave Kehr   fresh   86005                Chicago Reader  The film is still memorable for its compassion...  2000-01-01      12606                Never Cry Wolf\n",
       "27616          Don Druker   fresh   55353                Chicago Reader  It does have enough gritty insights and (for t...  2007-11-13      18541           A Raisin in the Sun\n",
       "\n",
       "[15561 rows x 8 columns]"
      ]
     },
     "execution_count": 10,
     "metadata": {},
     "output_type": "execute_result"
    }
   ],
   "source": [
    "critics"
   ]
  },
  {
   "cell_type": "markdown",
   "metadata": {},
   "source": [
    "## Naive Bayes"
   ]
  },
  {
   "cell_type": "markdown",
   "metadata": {},
   "source": [
    "From Bayes' Theorem, we have that\n",
    "\n",
    "$$P(c \\vert f) = \\frac{P(c \\cap f)}{P(f)}$$\n",
    "\n",
    "where $c$ represents a *class* or category, and $f$ represents a feature vector, such as $\\bar V(d)$ as above. **We are computing the probability that a document (or whatever we are classifying) belongs to category *c* given the features in the document.** $P(f)$ is really just a normalization constant, so the literature usually writes Bayes' Theorem in context of Naive Bayes as\n",
    "\n",
    "$$P(c \\vert f) \\propto P(f \\vert c) P(c) $$\n",
    "\n",
    "$P(c)$ is called the *prior* and is simply the probability of seeing class $c$. But what is $P(f \\vert c)$? This is the probability that we see feature set $f$ given that this document is actually in class $c$. This is called the *likelihood* and comes from the data. One of the major assumptions of the Naive Bayes model is that the features are *conditionally independent* given the class. While the presence of a particular discriminative word may uniquely identify the document as being part of class $c$ and thus violate general feature independence, conditional independence means that the presence of that term is independent of all the other words that appear *within that class*. This is a very important distinction. Recall that if two events are independent, then:\n",
    "\n",
    "$$P(A \\cap B) = P(A) \\cdot P(B)$$\n",
    "\n",
    "Thus, conditional independence implies\n",
    "\n",
    "$$P(f \\vert c)  = \\prod_i P(f_i | c) $$\n",
    "\n",
    "where $f_i$ is an individual feature (a word in this example).\n",
    "\n",
    "To make a classification, we then choose the class $c$ such that $P(c \\vert f)$ is maximal.\n",
    "\n",
    "There is a small caveat when computing these probabilities. For [floating point underflow](http://nlp.stanford.edu/IR-book/html/htmledition/naive-bayes-text-classification-1.html) we change the product into a sum by going into log space. This is called the LogSumExp trick. So:\n",
    "\n",
    "$$\\log P(f \\vert c)  = \\sum_i \\log P(f_i \\vert c) $$\n",
    "\n",
    "There is another caveat. What if we see a term that didn't exist in the training data? This means that $P(f_i \\vert c) = 0$ for that term, and thus $P(f \\vert c)  = \\prod_i P(f_i | c) = 0$, which doesn't help us at all. Instead of using zeros, we add a small negligible value called $\\alpha$ to each count. This is called Laplace Smoothing.\n",
    "\n",
    "$$P(f_i \\vert c) = \\frac{N_{ic}+\\alpha}{N_c + \\alpha N_i}$$\n",
    "\n",
    "where $N_{ic}$ is the number of times feature $i$ was seen in class $c$, $N_c$ is the number of times class $c$ was seen and $N_i$ is the number of times feature $i$ was seen globally. $\\alpha$ is sometimes called a regularization parameter."
   ]
  },
  {
   "cell_type": "markdown",
   "metadata": {},
   "source": [
    "### Multinomial Naive Bayes and Other Likelihood Functions\n",
    "\n",
    "Since we are modeling word counts, we are using variation of Naive Bayes called Multinomial Naive Bayes. This is because the likelihood function actually takes the form of the multinomial distribution.\n",
    "\n",
    "$$P(f \\vert c) = \\frac{\\left( \\sum_i f_i \\right)!}{\\prod_i f_i!} \\prod_{f_i} P(f_i \\vert c)^{f_i} \\propto \\prod_{i} P(f_i \\vert c)$$\n",
    "\n",
    "where the nasty term out front is absorbed as a normalization constant such that probabilities sum to 1.\n",
    "\n",
    "There are many other variations of Naive Bayes, all which depend on what type of value $f_i$ takes. If $f_i$ is continuous, we may be able to use *Gaussian Naive Bayes*. First compute the mean and variance for each class $c$. Then the likelihood, $P(f \\vert c)$ is given as follows\n",
    "\n",
    "$$P(f_i = v \\vert c) = \\frac{1}{\\sqrt{2\\pi \\sigma^2_c}} e^{- \\frac{\\left( v - \\mu_c \\right)^2}{2 \\sigma^2_c}}$$"
   ]
  },
  {
   "cell_type": "markdown",
   "metadata": {},
   "source": [
    "<div class=\"span5 alert alert-info\">\n",
    "<h3>Exercise Set II</h3>\n",
    "\n",
    "<p><b>Exercise:</b> Implement a simple Naive Bayes classifier:</p>\n",
    "\n",
    "<ol>\n",
    "<li> split the data set into a training and test set\n",
    "<li> Use `scikit-learn`'s `MultinomialNB()` classifier with default parameters.\n",
    "<li> train the classifier over the training set and test on the test set\n",
    "<li> print the accuracy scores for both the training and the test sets\n",
    "</ol>\n",
    "\n",
    "What do you notice? Is this a good classifier? If not, why not?\n",
    "</div>"
   ]
  },
  {
   "cell_type": "code",
   "execution_count": 11,
   "metadata": {
    "collapsed": true
   },
   "outputs": [],
   "source": [
    "from sklearn.model_selection import train_test_split\n",
    "from sklearn.naive_bayes import MultinomialNB"
   ]
  },
  {
   "cell_type": "code",
   "execution_count": 12,
   "metadata": {},
   "outputs": [
    {
     "name": "stdout",
     "output_type": "stream",
     "text": [
      "0.92499081895\n",
      "0.774469907903\n"
     ]
    },
    {
     "name": "stderr",
     "output_type": "stream",
     "text": [
      "C:\\Python34\\lib\\site-packages\\sklearn\\model_selection\\_split.py:2010: FutureWarning: From version 0.21, test_size will always complement train_size unless both are specified.\n",
      "  FutureWarning)\n"
     ]
    }
   ],
   "source": [
    "Xtrain, Xtest, ytrain, ytest = train_test_split(X,y,train_size = 0.7)\n",
    "clf = MultinomialNB()\n",
    "clf.fit(Xtrain,ytrain)\n",
    "\n",
    "print(clf.score(Xtrain,ytrain))\n",
    "print(clf.score(Xtest,ytest))"
   ]
  },
  {
   "cell_type": "markdown",
   "metadata": {},
   "source": [
    "I would say that that this isn't a good classifier, and may be overfitted. The training data seems to fit very well, but the test data gives us a very different result. This could mean that on the surface our model seems good, but it doesn't generalize well."
   ]
  },
  {
   "cell_type": "markdown",
   "metadata": {},
   "source": [
    "### Picking Hyperparameters for Naive Bayes and Text Maintenance"
   ]
  },
  {
   "cell_type": "markdown",
   "metadata": {},
   "source": [
    "We need to know what value to use for $\\alpha$, and we also need to know which words to include in the vocabulary. As mentioned earlier, some words are obvious stopwords. Other words appear so infrequently that they serve as noise, and other words in addition to stopwords appear so frequently that they may also serve as noise."
   ]
  },
  {
   "cell_type": "markdown",
   "metadata": {},
   "source": [
    "First, let's find an appropriate value for `min_df` for the `CountVectorizer`. `min_df` can be either an integer or a float/decimal. If it is an integer, `min_df` represents the minimum number of documents a word must appear in for it to be included in the vocabulary. If it is a float, it represents the minimum *percentage* of documents a word must appear in to be included in the vocabulary. From the documentation:"
   ]
  },
  {
   "cell_type": "markdown",
   "metadata": {},
   "source": [
    ">min_df: When building the vocabulary ignore terms that have a document frequency strictly lower than the given threshold. This value is also called cut-off in the literature. If float, the parameter represents a proportion of documents, integer absolute counts. This parameter is ignored if vocabulary is not None."
   ]
  },
  {
   "cell_type": "markdown",
   "metadata": {},
   "source": [
    "<div class=\"span5 alert alert-info\">\n",
    "<h3>Exercise Set III</h3>\n",
    "\n",
    "<p><b>Exercise:</b> Construct the cumulative distribution of document frequencies (df). The $x$-axis is a document count $x_i$ and the $y$-axis is the percentage of words that appear less than $x_i$ times. For example, at $x=5$, plot a point representing the percentage or number of words that appear in 5 or fewer documents.</p>\n",
    "\n",
    "<p><b>Exercise:</b> Look for the point at which the curve begins climbing steeply. This may be a good value for `min_df`. If we were interested in also picking `max_df`, we would likely pick the value where the curve starts to plateau. What value did you choose?</p>\n",
    "</div>"
   ]
  },
  {
   "cell_type": "code",
   "execution_count": 13,
   "metadata": {},
   "outputs": [
    {
     "data": {
      "text/plain": [
       "<15561x22417 sparse matrix of type '<class 'numpy.int64'>'\n",
       "\twith 272265 stored elements in Compressed Sparse Column format>"
      ]
     },
     "execution_count": 13,
     "metadata": {},
     "output_type": "execute_result"
    }
   ],
   "source": [
    "# First, get a feel for the data\n",
    "X"
   ]
  },
  {
   "cell_type": "markdown",
   "metadata": {},
   "source": [
    "The data are in a sparse matrix in compressed sparse column format, meaning that in this case, there are 15,561 documents, and 22,417 words. Next, let's count how many documents each word appears in, so that we can plot the CDF."
   ]
  },
  {
   "cell_type": "code",
   "execution_count": 14,
   "metadata": {
    "scrolled": true
   },
   "outputs": [
    {
     "data": {
      "text/plain": [
       "23"
      ]
     },
     "execution_count": 14,
     "metadata": {},
     "output_type": "execute_result"
    }
   ],
   "source": [
    "wordFrequencies = []\n",
    "for i in range(15561):\n",
    "    wordFrequencies.append(len(X[i].data))\n",
    "wordFrequencies[0]"
   ]
  },
  {
   "cell_type": "code",
   "execution_count": 15,
   "metadata": {
    "scrolled": false
   },
   "outputs": [
    {
     "data": {
      "image/png": "[encoded data removed]",
      "text/plain": [
       "<matplotlib.figure.Figure at 0xb2b2ac8>"
      ]
     },
     "metadata": {},
     "output_type": "display_data"
    }
   ],
   "source": [
    "#first we want to get the theoretical cdf\n",
    "n = 15561\n",
    "Z = np.random.normal(size=n)\n",
    "H,X1 = np.histogram(wordFrequencies,normed=True)\n",
    "dx = X1[1] - X1[0]\n",
    "F1 = np.cumsum(H)*dx\n",
    "\n",
    "#now the actual data\n",
    "X2 = np.sort(wordFrequencies)\n",
    "F2 = np.array(range(n))/n\n",
    "plt.figure(figsize=(8,10))\n",
    "plt.plot(X1[1:],F1)\n",
    "plt.plot(X2,F2)\n",
    "plt.xlabel(\"# of Documents a Word Appears in\")\n",
    "plt.ylabel(\"CDF\")\n",
    "plt.show()"
   ]
  },
  {
   "cell_type": "markdown",
   "metadata": {},
   "source": [
    "The CDF begins climbing steeply around 5 words. This should be used as our min_df. The curve begins to plateau around 28-32 words, so a number in this range would be appropriate for max_df."
   ]
  },
  {
   "cell_type": "markdown",
   "metadata": {},
   "source": [
    "The parameter $\\alpha$ is chosen to be a small value that simply avoids having zeros in the probability computations. This value can sometimes be chosen arbitrarily with domain expertise, but we will use K-fold cross validation. In K-fold cross-validation, we divide the data into $K$ non-overlapping parts. We train on $K-1$ of the folds and test on the remaining fold. We then iterate, so that each fold serves as the test fold exactly once. The function `cv_score` performs the K-fold cross-validation algorithm for us, but we need to pass a function that measures the performance of the algorithm on each fold. "
   ]
  },
  {
   "cell_type": "code",
   "execution_count": 16,
   "metadata": {
    "collapsed": true
   },
   "outputs": [],
   "source": [
    "from sklearn.model_selection import KFold\n",
    "def cv_score(clf, X, y, scorefunc):\n",
    "    result = 0.\n",
    "    nfold = 5\n",
    "    for train, test in KFold(nfold).split(X): # split data into train/test groups, 5 times\n",
    "        clf.fit(X[train], y[train]) # fit the classifier, passed is as clf.\n",
    "        result += scorefunc(clf, X[test], y[test]) # evaluate score function on held-out data\n",
    "    return result / nfold # average"
   ]
  },
  {
   "cell_type": "markdown",
   "metadata": {},
   "source": [
    "We use the log-likelihood as the score here in `scorefunc`. The higher the log-likelihood, the better. Indeed, what we do in `cv_score` above is to implement the cross-validation part of `GridSearchCV`.\n",
    "\n",
    "The custom scoring function `scorefunc` allows us to use different metrics depending on the decision risk we care about (precision, accuracy, profit etc.) directly on the validation set. You will often find people using `roc_auc`, precision, recall, or `F1-score` as the scoring function."
   ]
  },
  {
   "cell_type": "code",
   "execution_count": 17,
   "metadata": {
    "collapsed": true
   },
   "outputs": [],
   "source": [
    "def log_likelihood(clf, x, y):\n",
    "    prob = clf.predict_log_proba(x)\n",
    "    rotten = y == 0\n",
    "    fresh = ~rotten\n",
    "    return prob[rotten, 0].sum() + prob[fresh, 1].sum()"
   ]
  },
  {
   "cell_type": "markdown",
   "metadata": {},
   "source": [
    "We'll cross-validate over the regularization parameter $\\alpha$."
   ]
  },
  {
   "cell_type": "markdown",
   "metadata": {},
   "source": [
    "Let's set up the train and test masks first, and then we can run the cross-validation procedure."
   ]
  },
  {
   "cell_type": "code",
   "execution_count": 18,
   "metadata": {
    "collapsed": true
   },
   "outputs": [],
   "source": [
    "from sklearn.model_selection import train_test_split\n",
    "_, itest = train_test_split(range(critics.shape[0]), train_size=0.7)\n",
    "mask = np.zeros(critics.shape[0], dtype=np.bool)\n",
    "mask[itest] = True"
   ]
  },
  {
   "cell_type": "markdown",
   "metadata": {},
   "source": [
    "<div class=\"span5 alert alert-info\">\n",
    "<h3>Exercise Set IV</h3>\n",
    "\n",
    "<p><b>Exercise:</b> What does using the function `log_likelihood` as the score mean? What are we trying to optimize for?</p>\n",
    "\n",
    "<p><b>Exercise:</b> Without writing any code, what do you think would happen if you choose a value of $\\alpha$ that is too high?</p>\n",
    "\n",
    "<p><b>Exercise:</b> Using the skeleton code below, find the best values of the parameter `alpha`, and use the value of `min_df` you chose in the previous exercise set. Use the `cv_score` function above with the `log_likelihood` function for scoring.</p>\n",
    "</div>"
   ]
  },
  {
   "cell_type": "markdown",
   "metadata": {},
   "source": [
    "\"The log likelihood function as the score\" means that we are using that function to predict the outcome for our training samples. Once CV is performed, we get an average score across all folds based on how our classifier performs using log_likelihood to predict the class. We are trying to optimize for $\\alpha$. Having an $\\alpha$ that is too high cause the estimator to approach zero, since $\\alpha$ is a multiplier in the denominator, and additive in the numerator of the estimator."
   ]
  },
  {
   "cell_type": "code",
   "execution_count": 19,
   "metadata": {
    "collapsed": true
   },
   "outputs": [],
   "source": [
    "from sklearn.naive_bayes import MultinomialNB\n",
    "\n",
    "#the grid of parameters to search over\n",
    "alphas = [.1, 1, 5, 10, 50]\n",
    "best_min_df = 5\n",
    "\n",
    "#Find the best value for alpha and min_df, and the best classifier\n",
    "best_alpha = None\n",
    "maxscore=-np.inf\n",
    "for alpha in alphas:        \n",
    "    vectorizer = CountVectorizer(min_df=best_min_df)       \n",
    "    Xthis, ythis = make_xy(critics, vectorizer)\n",
    "    Xtrainthis = Xthis[mask]\n",
    "    ytrainthis = ythis[mask]\n",
    "    score = cv_score(MultinomialNB(alpha=alpha), X, y, log_likelihood)\n",
    "    if score > maxscore:\n",
    "        maxscore = score\n",
    "        best_alpha = alpha"
   ]
  },
  {
   "cell_type": "code",
   "execution_count": 20,
   "metadata": {},
   "outputs": [
    {
     "name": "stdout",
     "output_type": "stream",
     "text": [
      "alpha: 1\n"
     ]
    }
   ],
   "source": [
    "print(\"alpha: {}\".format(best_alpha))"
   ]
  },
  {
   "cell_type": "markdown",
   "metadata": {},
   "source": [
    "<div class=\"span5 alert alert-info\">\n",
    "<h3>Exercise Set V: Working with the Best Parameters</h3>\n",
    "\n",
    "<p><b>Exercise:</b> Using the best value of  `alpha` you just found, calculate the accuracy on the training and test sets. Is this classifier better? Why (not)?</p>\n",
    "\n",
    "</div>"
   ]
  },
  {
   "cell_type": "code",
   "execution_count": 21,
   "metadata": {},
   "outputs": [
    {
     "name": "stdout",
     "output_type": "stream",
     "text": [
      "Accuracy on training data: 0.906190\n",
      "Accuracy on test data:     0.742839\n"
     ]
    }
   ],
   "source": [
    "vectorizer = CountVectorizer(min_df=best_min_df)\n",
    "X, y = make_xy(critics, vectorizer)\n",
    "xtrain=X[mask]\n",
    "ytrain=y[mask]\n",
    "xtest=X[~mask]\n",
    "ytest=y[~mask]\n",
    "\n",
    "clf = MultinomialNB(alpha=best_alpha).fit(xtrain, ytrain)\n",
    "\n",
    "#your turn. Print the accuracy on the test and training dataset\n",
    "training_accuracy = clf.score(xtrain, ytrain)\n",
    "test_accuracy = clf.score(xtest, ytest)\n",
    "\n",
    "print(\"Accuracy on training data: {:2f}\".format(training_accuracy))\n",
    "print(\"Accuracy on test data:     {:2f}\".format(test_accuracy))"
   ]
  },
  {
   "cell_type": "code",
   "execution_count": 22,
   "metadata": {},
   "outputs": [
    {
     "name": "stdout",
     "output_type": "stream",
     "text": [
      "[[2654 1604]\n",
      " [1197 5437]]\n"
     ]
    }
   ],
   "source": [
    "from sklearn.metrics import confusion_matrix\n",
    "print(confusion_matrix(ytest, clf.predict(xtest)))"
   ]
  },
  {
   "cell_type": "markdown",
   "metadata": {},
   "source": [
    "This classifier is not better than our classifier from earlier, but it's close. Perhaps we have the wrong combination of alpha and best_df. We could also have a lot of noise in our data still, and may have more work to do to get a better model."
   ]
  },
  {
   "cell_type": "markdown",
   "metadata": {},
   "source": [
    "## Interpretation"
   ]
  },
  {
   "cell_type": "markdown",
   "metadata": {},
   "source": [
    "### What are the strongly predictive features?\n",
    "\n",
    "We use a neat trick to identify strongly predictive features (i.e. words). \n",
    "\n",
    "* first, create a data set such that each row has exactly one feature. This is represented by the identity matrix.\n",
    "* use the trained classifier to make predictions on this matrix\n",
    "* sort the rows by predicted probabilities, and pick the top and bottom $K$ rows"
   ]
  },
  {
   "cell_type": "code",
   "execution_count": 23,
   "metadata": {},
   "outputs": [
    {
     "name": "stdout",
     "output_type": "stream",
     "text": [
      "Good words\t     P(fresh | word)\n",
      "            portrait 0.96\n",
      "            touching 0.95\n",
      "         beautifully 0.95\n",
      "            dazzling 0.94\n",
      "          remarkable 0.94\n",
      "         documentary 0.94\n",
      "       extraordinary 0.94\n",
      "            ensemble 0.94\n",
      "            hypnotic 0.94\n",
      "             kubrick 0.94\n",
      "Bad words\t     P(fresh | word)\n",
      "       unfortunately 0.12\n",
      "           obnoxious 0.12\n",
      "           pointless 0.10\n",
      "          unpleasant 0.10\n",
      "          uninspired 0.10\n",
      "                 ten 0.10\n",
      "             witless 0.09\n",
      "             unfunny 0.08\n",
      "                dull 0.08\n",
      "            supposed 0.08\n"
     ]
    }
   ],
   "source": [
    "words = np.array(vectorizer.get_feature_names())\n",
    "\n",
    "x = np.eye(xtest.shape[1])\n",
    "probs = clf.predict_log_proba(x)[:, 0]\n",
    "ind = np.argsort(probs)\n",
    "\n",
    "good_words = words[ind[:10]]\n",
    "bad_words = words[ind[-10:]]\n",
    "\n",
    "good_prob = probs[ind[:10]]\n",
    "bad_prob = probs[ind[-10:]]\n",
    "\n",
    "print(\"Good words\\t     P(fresh | word)\")\n",
    "for w, p in zip(good_words, good_prob):\n",
    "    print(\"{:>20}\".format(w), \"{:.2f}\".format(1 - np.exp(p)))\n",
    "    \n",
    "print(\"Bad words\\t     P(fresh | word)\")\n",
    "for w, p in zip(bad_words, bad_prob):\n",
    "    print(\"{:>20}\".format(w), \"{:.2f}\".format(1 - np.exp(p)))"
   ]
  },
  {
   "cell_type": "markdown",
   "metadata": {},
   "source": [
    "<div class=\"span5 alert alert-info\">\n",
    "<h3>Exercise Set VI</h3>\n",
    "\n",
    "<p><b>Exercise:</b> Why does this method work? What does the probability for each row in the identity matrix represent</p>\n",
    "\n",
    "</div>"
   ]
  },
  {
   "cell_type": "markdown",
   "metadata": {},
   "source": [
    "This method works because it takes the already trained classifier, and applies it to a single word to predict an outcome (in this case, whether or not a review is fresh). The probability that the word leads to a certain classification is calculated, and the words with the highest probabilities are the most predictive, based on the classifier."
   ]
  },
  {
   "cell_type": "markdown",
   "metadata": {},
   "source": [
    "The above exercise is an example of *feature selection*. There are many other feature selection methods. A list of feature selection methods available in `sklearn` is [here](http://scikit-learn.org/stable/modules/classes.html#module-sklearn.feature_selection). The most common feature selection technique for text mining is the chi-squared $\\left( \\chi^2 \\right)$ [method](http://nlp.stanford.edu/IR-book/html/htmledition/feature-selectionchi2-feature-selection-1.html)."
   ]
  },
  {
   "cell_type": "markdown",
   "metadata": {},
   "source": [
    "### Prediction Errors\n",
    "\n",
    "We can see mis-predictions as well."
   ]
  },
  {
   "cell_type": "code",
   "execution_count": 24,
   "metadata": {},
   "outputs": [
    {
     "name": "stdout",
     "output_type": "stream",
     "text": [
      "Mis-predicted Rotten quotes\n",
      "---------------------------\n",
      "As a depiction of a loving-turbulent relationship between a single mom (Susan Sarandon) and her rebellious teenage daughter (Natalie Portman), Wang's meller is nicely crafted but old-fashioned like Hollywood's weepies of yesteryear.\n",
      "\n",
      "With the exception of Miss Streep's performance, the pleasures of Out of Africa are all peripheral -- David Watkin's photography, the landscapes, the shots of animal life -all of which would fit neatly into a National Geographic layout.\n",
      "\n",
      "Can Mr. Smith Get to Washington Anymore? is an amusing case study in youthful enthusiasm for the electoral process, but this modest documentary skips the weighty issues posed by its namesake, the Frank Capra 1939 drama.\n",
      "\n",
      "Directed with composure, but no great fervour, the film's conspicuously uninterested in American football, and much concerned with testing the limits and the resilience of the American dream.\n",
      "\n",
      "An ambitious, serious but not particularly stimulating musical feature that unconvincingly attempts to graft warm and cuddly family-film motifs onto turbulent aspects of modern history and mythology.\n",
      "\n",
      "Mis-predicted Fresh quotes\n",
      "--------------------------\n",
      "Director Barry Levinson and writers Hilary Henkin and David Mamet (no less) have obviously known their share of Stanleys, and we have no trouble believing in him.\n",
      "\n",
      "More of a cinematic joke book than a real movie, Spy Hard hits you with gags faster than Henny Youngman on speed. Even when individual bits misfire, the unrelenting barrage of silliness can break down your resistance.\n",
      "\n",
      "The fence-straddling would be fatal if it weren't for Posey, who takes what's essentially a character sketch and turns it into a three-dimensional mess in a dress.\n",
      "\n",
      "Although it doesn't have Kate Beckinsale, her guns ablazin', vamped out in the latest vampire-slaying couture, Night Watch is vastly more fun than the similar-themed Underworld pics.\n",
      "\n",
      "Mr. Raimi is limited by a sketch mentality, which means his jokes tend to be over long before his films end. But his tastes for visual mischief and crazy, ill-advised homage can still make for sly, sporadic fun.\n",
      "\n"
     ]
    }
   ],
   "source": [
    "x, y = make_xy(critics, vectorizer)\n",
    "\n",
    "prob = clf.predict_proba(x)[:, 0]\n",
    "predict = clf.predict(x)\n",
    "\n",
    "bad_rotten = np.argsort(prob[y == 0])[:5]\n",
    "bad_fresh = np.argsort(prob[y == 1])[-5:]\n",
    "\n",
    "print(\"Mis-predicted Rotten quotes\")\n",
    "print('---------------------------')\n",
    "for row in bad_rotten:\n",
    "    print(critics[y == 0].quote.iloc[row])\n",
    "    print(\"\")\n",
    "\n",
    "print(\"Mis-predicted Fresh quotes\")\n",
    "print('--------------------------')\n",
    "for row in bad_fresh:\n",
    "    print(critics[y == 1].quote.iloc[row])\n",
    "    print(\"\")"
   ]
  },
  {
   "cell_type": "markdown",
   "metadata": {},
   "source": [
    "<div class=\"span5 alert alert-info\">\n",
    "<h3>Exercise Set VII: Predicting the Freshness for a New Review</h3>\n",
    "<br/>\n",
    "<div>\n",
    "<b>Exercise:</b>\n",
    "<ul>\n",
    "<li> Using your best trained classifier, predict the freshness of the following sentence: *'This movie is not remarkable, touching, or superb in any way'*\n",
    "<li> Is the result what you'd expect? Why (not)?\n",
    "</ul>\n",
    "</div>\n",
    "</div>"
   ]
  },
  {
   "cell_type": "code",
   "execution_count": 25,
   "metadata": {},
   "outputs": [
    {
     "data": {
      "text/plain": [
       "array([1])"
      ]
     },
     "execution_count": 25,
     "metadata": {},
     "output_type": "execute_result"
    }
   ],
   "source": [
    "review = 'This movie is not remarkable, touching, or superb in any way'\n",
    "\n",
    "vecReview = vectorizer.transform([review])\n",
    "\n",
    "\n",
    "clf.predict(vecReview)"
   ]
  },
  {
   "cell_type": "markdown",
   "metadata": {},
   "source": [
    "As seen above, the classifier predicted that this movie review would be \"Fresh\", but it doesn't seem like the review is meant to be a fresh rating. It is what I expected, as this classifier didn't pick up the keyword \"not\" in the sentence, which throws it for a loop. The review most likely has some predictive words in it, but they are negated by the \"not\". "
   ]
  },
  {
   "cell_type": "markdown",
   "metadata": {},
   "source": [
    "### Aside: TF-IDF Weighting for Term Importance\n",
    "\n",
    "TF-IDF stands for \n",
    "\n",
    "`Term-Frequency X Inverse Document Frequency`.\n",
    "\n",
    "In the standard `CountVectorizer` model above, we used just the term frequency in a document of words in our vocabulary. In TF-IDF, we weight this term frequency by the inverse of its popularity in all documents. For example, if the word \"movie\" showed up in all the documents, it would not have much predictive value. It could actually be considered a stopword. By weighing its counts by 1 divided by its overall frequency, we downweight it. We can then use this TF-IDF weighted features as inputs to any classifier. **TF-IDF is essentially a measure of term importance, and of how discriminative a word is in a corpus.** There are a variety of nuances involved in computing TF-IDF, mainly involving where to add the smoothing term to avoid division by 0, or log of 0 errors. The formula for TF-IDF in `scikit-learn` differs from that of most textbooks: \n",
    "\n",
    "$$\\mbox{TF-IDF}(t, d) = \\mbox{TF}(t, d)\\times \\mbox{IDF}(t) = n_{td} \\log{\\left( \\frac{\\vert D \\vert}{\\vert d : t \\in d \\vert} + 1 \\right)}$$\n",
    "\n",
    "where $n_{td}$ is the number of times term $t$ occurs in document $d$, $\\vert D \\vert$ is the number of documents, and $\\vert d : t \\in d \\vert$ is the number of documents that contain $t$"
   ]
  },
  {
   "cell_type": "code",
   "execution_count": 26,
   "metadata": {
    "collapsed": true
   },
   "outputs": [],
   "source": [
    "# http://scikit-learn.org/dev/modules/feature_extraction.html#text-feature-extraction\n",
    "# http://scikit-learn.org/dev/modules/classes.html#text-feature-extraction-ref\n",
    "from sklearn.feature_extraction.text import TfidfVectorizer\n",
    "tfidfvectorizer = TfidfVectorizer(min_df=1, stop_words='english')\n",
    "Xtfidf=tfidfvectorizer.fit_transform(critics.quote)"
   ]
  },
  {
   "cell_type": "markdown",
   "metadata": {},
   "source": [
    "<div class=\"span5 alert alert-info\">\n",
    "<h3>Exercise Set VIII: Enrichment <b>(Optional)</b></h3>\n",
    "\n",
    "<p>\n",
    "There are several additional things we could try. Try some of these as exercises:\n",
    "<ol>\n",
    "<li> Build a Naive Bayes model where the features are n-grams instead of words. N-grams are phrases containing n words next to each other: a bigram contains 2 words, a trigram contains 3 words, and 6-gram contains 6 words. This is useful because \"not good\" and \"so good\" mean very different things. On the other hand, as n increases, the model does not scale well since the feature set becomes more sparse.\n",
    "<li> Try a model besides Naive Bayes, one that would allow for interactions between words -- for example, a Random Forest classifier.\n",
    "<li> Try adding supplemental features -- information about genre, director, cast, etc.\n",
    "<li> Use word2vec or [Latent Dirichlet Allocation](https://en.wikipedia.org/wiki/Latent_Dirichlet_allocation) to group words into topics and use those topics for prediction.\n",
    "<li> Use TF-IDF weighting instead of word counts.\n",
    "</ol>\n",
    "</p>\n",
    "\n",
    "<b>Exercise:</b> Try at least one of these ideas to improve the model (or any other ideas of your own). Implement here and report on the result. \n",
    "</div>"
   ]
  },
  {
   "cell_type": "code",
   "execution_count": 27,
   "metadata": {
    "collapsed": true
   },
   "outputs": [],
   "source": [
    "from sklearn.ensemble import RandomForestClassifier"
   ]
  },
  {
   "cell_type": "code",
   "execution_count": 28,
   "metadata": {},
   "outputs": [
    {
     "name": "stdout",
     "output_type": "stream",
     "text": [
      "0.990451707675\n",
      "0.688584279289\n"
     ]
    }
   ],
   "source": [
    "X, y = make_xy(critics, vectorizer)\n",
    "\n",
    "Xtrain, Xtest, ytrain, ytest = train_test_split(X,y,train_size = 0.7)\n",
    "clf = RandomForestClassifier()\n",
    "clf.fit(Xtrain,ytrain)\n",
    "\n",
    "print(clf.score(Xtrain,ytrain))\n",
    "print(clf.score(Xtest,ytest))\n",
    "\n"
   ]
  },
  {
   "cell_type": "markdown",
   "metadata": {
    "collapsed": true
   },
   "source": [
    "The random forest classifier is most definitely overfitted. It appears as though the splits that lead to pure predictions do not generalize well."
   ]
  }
 ],
 "metadata": {
  "kernelspec": {
   "display_name": "Python 3",
   "language": "python",
   "name": "python3"
  },
  "language_info": {
   "codemirror_mode": {
    "name": "ipython",
    "version": 3
   },
   "file_extension": ".py",
   "mimetype": "text/x-python",
   "name": "python",
   "nbconvert_exporter": "python",
   "pygments_lexer": "ipython3",
   "version": "3.4.0"
  }
 },
 "nbformat": 4,
 "nbformat_minor": 1
}
