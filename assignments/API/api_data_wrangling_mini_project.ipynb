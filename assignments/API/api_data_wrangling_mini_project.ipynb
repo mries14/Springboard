{
 "cells": [
  {
   "cell_type": "markdown",
   "metadata": {},
   "source": [
    "This exercise will require you to pull some data from the Qunadl API. Qaundl is currently the most widely used aggregator of financial market data."
   ]
  },
  {
   "cell_type": "markdown",
   "metadata": {},
   "source": [
    "As a first step, you will need to register a free account on the http://www.quandl.com website."
   ]
  },
  {
   "cell_type": "markdown",
   "metadata": {},
   "source": [
    "After you register, you will be provided with a unique API key, that you should store:"
   ]
  },
  {
   "cell_type": "code",
   "execution_count": 1,
   "metadata": {
    "collapsed": true
   },
   "outputs": [],
   "source": [
    "# Store the API key as a string - according to PEP8, constants are always named in all upper case\n",
    "API_KEY = #API_KEY goes here - removed for privacy purposes"
   ]
  },
  {
   "cell_type": "markdown",
   "metadata": {},
   "source": [
    "Qaundl has a large number of data sources, but, unfortunately, most of them require a Premium subscription. Still, there are also a good number of free datasets."
   ]
  },
  {
   "cell_type": "markdown",
   "metadata": {},
   "source": [
    "For this mini project, we will focus on equities data from the Frankfurt Stock Exhange (FSE), which is available for free. We'll try and analyze the stock prices of a company called Carl Zeiss Meditec, which manufactures tools for eye examinations, as well as medical lasers for laser eye surgery: https://www.zeiss.com/meditec/int/home.html. The company is listed under the stock ticker AFX_X."
   ]
  },
  {
   "cell_type": "markdown",
   "metadata": {},
   "source": [
    "You can find the detailed Quandl API instructions here: https://docs.quandl.com/docs/time-series"
   ]
  },
  {
   "cell_type": "markdown",
   "metadata": {},
   "source": [
    "While there is a dedicated Python package for connecting to the Quandl API, we would prefer that you use the *requests* package, which can be easily downloaded using *pip* or *conda*. You can find the documentation for the package here: http://docs.python-requests.org/en/master/ "
   ]
  },
  {
   "cell_type": "markdown",
   "metadata": {},
   "source": [
    "Finally, apart from the *requests* package, you are encouraged to not use any third party Python packages, such as *pandas*, and instead focus on what's available in the Python Standard Library (the *collections* module might come in handy: https://pymotw.com/3/collections/ ).\n",
    "Also, since you won't have access to DataFrames, you are encouraged to use Python's native data structures - preferably dictionaries, though some questions can also be answered using lists.\n",
    "You can read more on these data structures here: https://docs.python.org/3/tutorial/datastructures.html"
   ]
  },
  {
   "cell_type": "markdown",
   "metadata": {},
   "source": [
    "Keep in mind that the JSON responses you will be getting from the API map almost one-to-one to Python's dictionaries. Unfortunately, they can be very nested, so make sure you read up on indexing dictionaries in the documentation provided above."
   ]
  },
  {
   "cell_type": "code",
   "execution_count": 2,
   "metadata": {
    "collapsed": true
   },
   "outputs": [],
   "source": [
    "# First, import the relevant modules\n",
    "import requests\n",
    "import collections\n",
    "from datetime import datetime\n",
    "from datetime import timedelta"
   ]
  },
  {
   "cell_type": "code",
   "execution_count": 3,
   "metadata": {},
   "outputs": [],
   "source": [
    "# Now, call the Quandl API and pull out a small sample of the data (only one day) to get a glimpse\n",
    "# into the JSON structure that will be returned\n",
    "oneday = requests.get('https://www.quandl.com/api/v3/datasets/FSE/AFX_X.json?start_date=2019-03-12&end_date=2019-03-12&api_key='#API_KEY goes here)"
   ]
  },
  {
   "cell_type": "code",
   "execution_count": 4,
   "metadata": {},
   "outputs": [
    {
     "name": "stdout",
     "output_type": "stream",
     "text": [
      "{'dataset': {'type': 'Time Series', 'refreshed_at': '2019-03-21T22:31:02.374Z', 'newest_available_date': '2019-03-21', 'end_date': '2019-03-12', 'column_names': ['Date', 'Open', 'High', 'Low', 'Close', 'Change', 'Traded Volume', 'Turnover', 'Last Price of the Day', 'Daily Traded Units', 'Daily Turnover'], 'database_code': 'FSE', 'premium': False, 'frequency': 'daily', 'column_index': None, 'database_id': 6129, 'collapse': None, 'dataset_code': 'AFX_X', 'oldest_available_date': '2000-06-07', 'transform': None, 'start_date': '2019-03-12', 'data': [['2019-03-12', None, 78.45, 77.45, 77.5, None, 67232.0, 5225497.0, None, None, None]], 'description': 'Stock Prices for Carl Zeiss Meditec (AFX) from the Frankfurt Stock Exchange.<br><br>Trading System: Xetra<br><br>ISIN: DE0005313704', 'id': 10095370, 'limit': None, 'order': None, 'name': 'Carl Zeiss Meditec (AFX_X)'}}\n"
     ]
    }
   ],
   "source": [
    "# Inspect the JSON structure of the object you created, and take note of how nested it is,\n",
    "# as well as the overall structure\n",
    "print(oneday.json())"
   ]
  },
  {
   "cell_type": "markdown",
   "metadata": {},
   "source": [
    "These are your tasks for this mini project:\n",
    "\n",
    "1. Collect data from the Franfurt Stock Exchange, for the ticker AFX_X, for the whole year 2017 (keep in mind that the date format is YYYY-MM-DD).\n",
    "2. Convert the returned JSON object into a Python dictionary.\n",
    "3. Calculate what the highest and lowest opening prices were for the stock in this period.\n",
    "4. What was the largest change in any one day (based on High and Low price)?\n",
    "5. What was the largest change between any two days (based on Closing Price)?\n",
    "6. What was the average daily trading volume during this year?\n",
    "7. (Optional) What was the median trading volume during this year. (Note: you may need to implement your own function for calculating the median.)"
   ]
  },
  {
   "cell_type": "code",
   "execution_count": 5,
   "metadata": {
    "collapsed": true
   },
   "outputs": [],
   "source": [
    "#Problem 1\n",
    "data2017 = requests.get('https://www.quandl.com/api/v3/datasets/FSE/AFX_X.json?start_date=2017-01-01&end_date=2017-12-31&api_key='#API_KEY goes here)"
   ]
  },
  {
   "cell_type": "code",
   "execution_count": 6,
   "metadata": {},
   "outputs": [
    {
     "name": "stdout",
     "output_type": "stream",
     "text": [
      "<class 'dict'>\n"
     ]
    }
   ],
   "source": [
    "#Problem 2\n",
    "dict2017 = dict(data2017.json())\n",
    "print(type(dict2017))"
   ]
  },
  {
   "cell_type": "code",
   "execution_count": 7,
   "metadata": {},
   "outputs": [],
   "source": [
    "#Problem 3\n",
    "#first, pick out each day from the dataset and put into a list: days\n",
    "days = [day for day in dict2017['dataset']['data']]"
   ]
  },
  {
   "cell_type": "code",
   "execution_count": 8,
   "metadata": {},
   "outputs": [
    {
     "name": "stdout",
     "output_type": "stream",
     "text": [
      "53.11\n",
      "34.0\n"
     ]
    }
   ],
   "source": [
    "#next, iterate through the days and collect \n",
    "#all opening prices (don't collect missing values)\n",
    "openprices = []\n",
    "for day in days:\n",
    "    if day[1] != None:\n",
    "        openprices.append(day[1])\n",
    "\n",
    "#print the max and min of openprices. High first, then the low second:\n",
    "high = max(openprices)\n",
    "low = min(openprices)\n",
    "print(high)\n",
    "print(low)"
   ]
  },
  {
   "cell_type": "code",
   "execution_count": 9,
   "metadata": {},
   "outputs": [
    {
     "name": "stdout",
     "output_type": "stream",
     "text": [
      "{'Close': 41.34, 'Low': 41.16, 'Daily Traded Units': None, 'Change': None, 'Traded Volume': 90109.0, 'Turnover': 3734232.0, 'High': 41.59, 'Last Price of the Day': None, 'Daily Turnover': None, 'Open': 41.47, 'Date': '2017-03-17'}\n"
     ]
    }
   ],
   "source": [
    "#Problem 4\n",
    "\n",
    "#First, we create a new dictionary with our dataset that\n",
    "#uses a different index for each day:\n",
    "newDict2017 = dict(enumerate(data2017.json()['dataset']['data']))\n",
    "#need to zip together the data from each datapoint \n",
    "#to column names to make our final dictionary using dict comprehension\n",
    "column_names = [\"Date\",\"Open\",\"High\",\"Low\",\"Close\",\"Change\",\"Traded Volume\",\"Turnover\",\"Last Price of the Day\",\"Daily Traded Units\",\"Daily Turnover\"]\n",
    "finalDict2017 = {i:dict(zip(column_names,newDict2017[i])) for i in range(len(newDict2017))}\n",
    "\n",
    "#show first key of final dictionary\n",
    "print(finalDict2017[200])"
   ]
  },
  {
   "cell_type": "code",
   "execution_count": 10,
   "metadata": {},
   "outputs": [
    {
     "name": "stdout",
     "output_type": "stream",
     "text": [
      "2.8100000000000023\n"
     ]
    }
   ],
   "source": [
    "#now we iterate through each dictionary key and find \n",
    "#which date had the biggest difference based on high/low price\n",
    "#we also need an empty list to hold the 'change' values for each date\n",
    "\n",
    "changes = []\n",
    "\n",
    "for k,v in finalDict2017.items():\n",
    "    changes.append(v[\"High\"] - v['Low'])\n",
    "    \n",
    "#now print what the maximum change was for a single day:\n",
    "print(max(changes))"
   ]
  },
  {
   "cell_type": "code",
   "execution_count": 11,
   "metadata": {},
   "outputs": [
    {
     "name": "stdout",
     "output_type": "stream",
     "text": [
      "2017-03-01 00:00:00\n"
     ]
    }
   ],
   "source": [
    "#Problem 5\n",
    "#First we want to convert our dates into datetime objects\n",
    "\n",
    "for k,v in finalDict2017.items():\n",
    "    v['Date'] = datetime.strptime(v['Date'], '%Y-%m-%d')\n",
    "    #v['Date'] = datetime.strftime(v['Date'], '%Y/%m/%d')\n",
    "    #v['Date'] = datetime.strptime(v['Date'], '%Y/%m/%d')\n",
    "    #print(type(v['Date']))\n",
    "    \n",
    "print(finalDict2017[212]['Date'])\n"
   ]
  },
  {
   "cell_type": "code",
   "execution_count": 12,
   "metadata": {},
   "outputs": [
    {
     "name": "stdout",
     "output_type": "stream",
     "text": [
      "2017-02-28\n",
      "2017-03-01\n"
     ]
    }
   ],
   "source": [
    "#next, set a timedelta = to 1 day so we can be sure that each comparison is one day\n",
    "#apart and find a true maximum change between two concurrent days\n",
    "d = timedelta(days = 1)\n",
    "\n",
    "#print example data point to ensure it works:\n",
    "print(datetime.date(finalDict2017[213]['Date']))\n",
    "print(d+datetime.date(finalDict2017[213]['Date']))"
   ]
  },
  {
   "cell_type": "code",
   "execution_count": 13,
   "metadata": {},
   "outputs": [
    {
     "name": "stdout",
     "output_type": "stream",
     "text": [
      "2.559999999999995\n"
     ]
    }
   ],
   "source": [
    "#Now iterate through our dictionary and collect the differences in every true 2-day interval\n",
    "\n",
    "#define an empty list to collect changes within 2-day intervals: dayChanges\n",
    "dayChanges = []\n",
    "\n",
    "for k,v in finalDict2017.items():\n",
    "    #we will set a variable = to the following item in our iteration so we can compare the current\n",
    "    #date to the following date. This will ensure that we are collecting only two-day intervals\n",
    "    dayBefore = k + 1\n",
    "    \n",
    "    if k < len(finalDict2017)-1:\n",
    "        #if the two dates are a true 2-day interval, then collect the difference in closing prices\n",
    "        if finalDict2017[dayBefore]['Date'] + d == finalDict2017[k]['Date']:\n",
    "            #need to make sure we don't collect None values for close values\n",
    "            if (finalDict2017[dayBefore]['Close'] != None) and (finalDict2017[k]['Close'] != None):\n",
    "                #take the maximum of (close for day1 - close for day 2) and (close for day2 - close for day 1)\n",
    "                #to ensure we get the true biggest change, whether negative or positive\n",
    "                dayChanges.append(max((finalDict2017[dayBefore]['Close'] - finalDict2017[k]['Close']),(finalDict2017[k]['Close'] - finalDict2017[dayBefore]['Close'])))\n",
    "\n",
    "#now print the maximum of the closing prices tht are one day apart (in other words, over a 2-day interval):\n",
    "print(max(dayChanges))"
   ]
  },
  {
   "cell_type": "code",
   "execution_count": 14,
   "metadata": {},
   "outputs": [
    {
     "name": "stdout",
     "output_type": "stream",
     "text": [
      "89124.33725490196\n"
     ]
    }
   ],
   "source": [
    "#Problem 6\n",
    "\n",
    "#first we need to collect all trading volume values within our dataset\n",
    "#set up and empty list to collect the values of volume: volumeVals\n",
    "volumeVals = []\n",
    "\n",
    "#iterate through the dictionary and collect the volume values that do not = None\n",
    "for k,v in finalDict2017.items():\n",
    "    if v['Traded Volume'] != None:\n",
    "        volumeVals.append(v['Traded Volume'])\n",
    "        \n",
    "#compute the average of the values in volumeVals by taking the sum\n",
    "#of all the values and dividing it by the number of entries in the list: avgVolume\n",
    "\n",
    "avgVolume = sum(volumeVals)/len(volumeVals)\n",
    "print(avgVolume)"
   ]
  },
  {
   "cell_type": "code",
   "execution_count": null,
   "metadata": {
    "collapsed": true
   },
   "outputs": [],
   "source": []
  },
  {
   "cell_type": "code",
   "execution_count": null,
   "metadata": {
    "collapsed": true
   },
   "outputs": [],
   "source": []
  },
  {
   "cell_type": "code",
   "execution_count": null,
   "metadata": {
    "collapsed": true
   },
   "outputs": [],
   "source": []
  },
  {
   "cell_type": "code",
   "execution_count": null,
   "metadata": {
    "collapsed": true
   },
   "outputs": [],
   "source": []
  }
 ],
 "metadata": {
  "kernelspec": {
   "display_name": "Python 3",
   "language": "python",
   "name": "python3"
  },
  "language_info": {
   "codemirror_mode": {
    "name": "ipython",
    "version": 3
   },
   "file_extension": ".py",
   "mimetype": "text/x-python",
   "name": "python",
   "nbconvert_exporter": "python",
   "pygments_lexer": "ipython3",
   "version": "3.4.0"
  }
 },
 "nbformat": 4,
 "nbformat_minor": 2
}
