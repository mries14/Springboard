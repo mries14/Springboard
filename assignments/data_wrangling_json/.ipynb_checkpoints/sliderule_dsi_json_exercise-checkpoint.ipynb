{
 "cells": [
  {
   "cell_type": "markdown",
   "metadata": {},
   "source": [
    "# JSON examples and exercise\n",
    "****\n",
    "+ get familiar with packages for dealing with JSON\n",
    "+ study examples with JSON strings and files \n",
    "+ work on exercise to be completed and submitted \n",
    "****\n",
    "+ reference: http://pandas.pydata.org/pandas-docs/stable/io.html#io-json-reader\n",
    "+ data source: http://jsonstudio.com/resources/\n",
    "****"
   ]
  },
  {
   "cell_type": "code",
   "execution_count": 1,
   "metadata": {
    "collapsed": true
   },
   "outputs": [],
   "source": [
    "import pandas as pd"
   ]
  },
  {
   "cell_type": "markdown",
   "metadata": {},
   "source": [
    "## imports for Python, Pandas"
   ]
  },
  {
   "cell_type": "code",
   "execution_count": 2,
   "metadata": {
    "collapsed": true
   },
   "outputs": [],
   "source": [
    "import json\n",
    "from pandas.io.json import json_normalize"
   ]
  },
  {
   "cell_type": "markdown",
   "metadata": {},
   "source": [
    "****\n",
    "## JSON exercise\n",
    "\n",
    "Using data in file 'data/world_bank_projects.json' and the techniques demonstrated above,\n",
    "1. Find the 10 countries with most projects\n",
    "2. Find the top 10 major project themes (using column 'mjtheme_namecode')\n",
    "3. In 2. above you will notice that some entries have only the code and the name is missing. Create a dataframe with the missing names filled in."
   ]
  },
  {
   "cell_type": "code",
   "execution_count": 3,
   "metadata": {
    "collapsed": true
   },
   "outputs": [],
   "source": [
    "#First, we use pd.read_json to put the data into a DataFrame\n",
    "json_df = pd.read_json('data/world_bank_projects.json')\n"
   ]
  },
  {
   "cell_type": "code",
   "execution_count": 4,
   "metadata": {},
   "outputs": [
    {
     "data": {
      "text/plain": [
       "Republic of Indonesia              19\n",
       "People's Republic of China         19\n",
       "Socialist Republic of Vietnam      17\n",
       "Republic of India                  16\n",
       "Republic of Yemen                  13\n",
       "Kingdom of Morocco                 12\n",
       "People's Republic of Bangladesh    12\n",
       "Nepal                              12\n",
       "Africa                             11\n",
       "Republic of Mozambique             11\n",
       "Name: countryname, dtype: int64"
      ]
     },
     "execution_count": 4,
     "metadata": {},
     "output_type": "execute_result"
    }
   ],
   "source": [
    "#Next, we use the value_counts() method on the 'countryname' column to see which countries are the most represented within\n",
    "#the data frame. We chain this with .head(10) to show the top 10\n",
    "json_df['countryname'].value_counts().head(10)"
   ]
  },
  {
   "cell_type": "code",
   "execution_count": 5,
   "metadata": {},
   "outputs": [
    {
     "data": {
      "text/plain": [
       "[{'code': '8', 'name': 'Human development'}, {'code': '11', 'name': ''}]"
      ]
     },
     "execution_count": 5,
     "metadata": {},
     "output_type": "execute_result"
    }
   ],
   "source": [
    "#Moving on the exercise #2, we check out what kind of data we are dealing with in the 'mjtheme_namecode' column\n",
    "json_df['mjtheme_namecode'][0]"
   ]
  },
  {
   "cell_type": "code",
   "execution_count": 6,
   "metadata": {
    "collapsed": true
   },
   "outputs": [],
   "source": [
    "#create an empty dictionary to store theme names and keep count of the number of instances for each theme name\n",
    "theme_count = {}\n",
    "\n",
    "#extract column of interest from our DF\n",
    "col = json_df['mjtheme_namecode']\n",
    "\n",
    "#iterate over mjtheme_namecode column\n",
    "for entry in col:\n",
    "    for theme in entry:\n",
    "        #if the theme is already in our 'theme_count' dictionary, add 1 to the count\n",
    "        if theme['name'] in theme_count.keys():\n",
    "            theme_count[theme['name']] += 1\n",
    "        #otherwise, add the newly discovered theme to the dictionary and set its value to 1\n",
    "        else:\n",
    "            theme_count[theme['name']] = 1"
   ]
  },
  {
   "cell_type": "code",
   "execution_count": 7,
   "metadata": {},
   "outputs": [
    {
     "name": "stdout",
     "output_type": "stream",
     "text": [
      "Environment and natural resources management 223\n",
      "Rural development 202\n",
      "Human development 197\n",
      "Public sector governance 184\n",
      "Social protection and risk management 158\n",
      "Financial and private sector development 130\n",
      " 122\n",
      "Social dev/gender/inclusion 119\n",
      "Trade and integration 72\n",
      "Urban development 47\n",
      "Economic management 33\n",
      "Rule of law 12\n"
     ]
    }
   ],
   "source": [
    "#now sort our dictionary values in descending order so we can see which themes are the most popular\n",
    "for value in sorted(theme_count, key=theme_count.get, reverse=True):\n",
    "  print(value, theme_count[value])"
   ]
  },
  {
   "cell_type": "code",
   "execution_count": 8,
   "metadata": {
    "collapsed": true
   },
   "outputs": [],
   "source": [
    "#Now we shift to problem 3\n",
    "#iterate over mjtheme_namecode column\n",
    "for entry in col:\n",
    "    for theme in entry:\n",
    "        #if the theme name is '', then fill with 'Missing Name'\n",
    "        if theme['name'] == '':\n",
    "            theme['name'] = 'Missing Name'\n",
    "            \n"
   ]
  },
  {
   "cell_type": "code",
   "execution_count": 9,
   "metadata": {},
   "outputs": [
    {
     "data": {
      "text/plain": [
       "[{'code': '10', 'name': 'Rural development'},\n",
       " {'code': '2', 'name': 'Missing Name'}]"
      ]
     },
     "execution_count": 9,
     "metadata": {},
     "output_type": "execute_result"
    }
   ],
   "source": [
    "#check random entry to see if it worked\n",
    "json_df['mjtheme_namecode'][10]"
   ]
  }
 ],
 "metadata": {
  "kernelspec": {
   "display_name": "Python 3",
   "language": "python",
   "name": "python3"
  },
  "language_info": {
   "codemirror_mode": {
    "name": "ipython",
    "version": 3
   },
   "file_extension": ".py",
   "mimetype": "text/x-python",
   "name": "python",
   "nbconvert_exporter": "python",
   "pygments_lexer": "ipython3",
   "version": "3.4.0"
  }
 },
 "nbformat": 4,
 "nbformat_minor": 1
}
